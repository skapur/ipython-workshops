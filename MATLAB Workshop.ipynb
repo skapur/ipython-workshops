{
 "cells": [
  {
   "cell_type": "markdown",
   "metadata": {
    "slideshow": {
     "slide_type": "slide"
    }
   },
   "source": [
    "<center><h2>Introdução ao MATLAB</h2></center>\n",
    "<center><img src=\"http://matlab.enge.vt.edu/Images/MATLAB.png\" alt=\"\" width=\"800\" height=\"83\"/></center>\n",
    "<h4>Vítor Vieira</h4>\n",
    "<h4>jose.vieira153@gmail.com</h4>\n",
    "<h4>NEBIUM</h4>\n",
    "<h4>April 10, 2017</h4>"
   ]
  },
  {
   "cell_type": "markdown",
   "metadata": {
    "slideshow": {
     "slide_type": "slide"
    }
   },
   "source": [
    "## O que é o MATLAB?\n",
    "\n",
    "* MATLAB = **MAT**rix **LAB**oratory\n",
    "* Ferramenta de computação numérica com inúmeras aplicações nas engenharias, ciências e economia\n",
    "* Começou a ser desenvolvida nos anos 70, na Universidade do Novo México, para permitir aos alunos utilizar software avançado de álgebra linear (LINPACK) escrito em FORTRAN sem a necessidade de aprender a linguagem\n",
    "* Inclui uma linguagem de programação que permite manipular matrizes, gerar gráficos e implementar algorítmos novos.\n",
    "\n",
    "\n",
    "\n",
    "\n",
    "\n"
   ]
  },
  {
   "cell_type": "markdown",
   "metadata": {
    "slideshow": {
     "slide_type": "slide"
    }
   },
   "source": [
    "## Ambiente MATLAB\n",
    "\n",
    "<img src=\"MATLAB1.jpg\" alt=\"\" width=\"1920\" height=\"1080\"/>\n",
    "\n"
   ]
  },
  {
   "cell_type": "markdown",
   "metadata": {
    "slideshow": {
     "slide_type": "slide"
    }
   },
   "source": [
    "## Comandos básicos\n",
    "\n",
    "| Comando | Descrição |\n",
    "|------|-----|\n",
    "| load | Guardar variáveis no ambiente de trabalho de ficheiro |\n",
    "| save | Guardar variáveis do ambiente de trabalho para ficheiro |\n",
    "| who / whos | Listar variáveis no ambiente de trabalho |\n",
    "| clear <nome de variáveis> | Eliminar variável |\n",
    "| clc |\tLimpar linha de comandos |\n",
    "| dir ou ls | Listagem dos ficheiro na diretoria de trabalho |\n",
    "| type <M-file> | Expôr ficheiro na linha de comandos |\n",
    "| delete <M-file> |\tEliminar ficheiro |\n",
    "| cd <dir> ou chdir <dir> |\tMudar diretoria de trabalho |\n",
    "| pwd |\tMostrar diretoria de trabalho |\n"
   ]
  },
  {
   "cell_type": "markdown",
   "metadata": {
    "slideshow": {
     "slide_type": "slide"
    }
   },
   "source": [
    "## Variáveis\n",
    "\n",
    "* A grande maioria das variáveis no MATLAB são matrizes\n",
    "* Um vector é uma variável com apenas uma coluna ou linha\n",
    "* Um número (escalar) é uma variável com apenas uma coluna e uma linha\n",
    "* Uma variável é definida com o sinal de igual (=), por exemplo\n",
    "\n",
    "``` matlab\n",
    "a = 0\n",
    "piq = pi^2\n",
    "```\n"
   ]
  },
  {
   "cell_type": "code",
   "execution_count": 1,
   "metadata": {
    "scrolled": true,
    "slideshow": {
     "slide_type": "subslide"
    }
   },
   "outputs": [
    {
     "name": "stdout",
     "output_type": "stream",
     "text": [
      "\n",
      "a =\n",
      "\n",
      "     1\n",
      "\n",
      "\n",
      "b =\n",
      "\n",
      "     2\n",
      "\n",
      "\n",
      "c =\n",
      "\n",
      "     3\n",
      "\n",
      "\n"
     ]
    }
   ],
   "source": [
    "% Isto é um comentário! Não tem efeito nenhum quando executado\n",
    "a = 1\n",
    "b = 2\n",
    "c = a + b"
   ]
  },
  {
   "cell_type": "code",
   "execution_count": 2,
   "metadata": {
    "slideshow": {
     "slide_type": "subslide"
    }
   },
   "outputs": [
    {
     "name": "stdout",
     "output_type": "stream",
     "text": [
      "\n",
      "seq1 =\n",
      "\n",
      "     1     2     3     4     5\n",
      "\n",
      "\n",
      "seq2 =\n",
      "\n",
      "     1     3     5\n",
      "\n",
      "\n"
     ]
    }
   ],
   "source": [
    "% Sequências\n",
    "\n",
    "% Sequência de 1 a 5\n",
    "seq1 = 1:5\n",
    "\n",
    "% Sequência de 1 a 5 (de 2 em 2 elementos)\n",
    "seq2 = 1:2:5"
   ]
  },
  {
   "cell_type": "code",
   "execution_count": 3,
   "metadata": {
    "slideshow": {
     "slide_type": "subslide"
    }
   },
   "outputs": [
    {
     "name": "stdout",
     "output_type": "stream",
     "text": [
      "\n",
      "ans =\n",
      "\n",
      "    3.1416\n",
      "\n",
      "\n",
      "ans =\n",
      "\n",
      "   NaN\n",
      "\n",
      "\n",
      "ans =\n",
      "\n",
      "   0.0000 + 1.0000i\n",
      "\n",
      "\n"
     ]
    }
   ],
   "source": [
    "pi\n",
    "\n",
    "nan\n",
    "\n",
    "i"
   ]
  },
  {
   "cell_type": "code",
   "execution_count": 4,
   "metadata": {
    "slideshow": {
     "slide_type": "subslide"
    }
   },
   "outputs": [
    {
     "name": "stdout",
     "output_type": "stream",
     "text": [
      "\n",
      "frase =\n",
      "\n",
      "    'Isto é uma frase'\n",
      "\n",
      "\n",
      "ans =\n",
      "\n",
      "    'Isto'\n",
      "\n",
      "\n",
      "frase =\n",
      "\n",
      "    'Nada é uma frase'\n",
      "\n",
      "\n"
     ]
    }
   ],
   "source": [
    "% Vectores de caracteres (definidos com plicas - ')\n",
    "frase = 'Isto é uma frase'\n",
    "\n",
    "frase(1:4)\n",
    "\n",
    "frase(1:4) = 'Nada'"
   ]
  },
  {
   "cell_type": "code",
   "execution_count": 5,
   "metadata": {
    "scrolled": true,
    "slideshow": {
     "slide_type": "subslide"
    }
   },
   "outputs": [
    {
     "name": "stdout",
     "output_type": "stream",
     "text": [
      "\n",
      "V_virgula =\n",
      "\n",
      "     0     1     2     3\n",
      "\n",
      "\n",
      "V_sem_virgula =\n",
      "\n",
      "     0     1     2     3\n",
      "\n",
      "\n"
     ]
    }
   ],
   "source": [
    "% Como definir um vector em MATLAB?\n",
    "\n",
    "V_virgula = [0, 1, 2, 3]\n",
    "V_sem_virgula = [0 1 2 3]\n",
    "\n",
    "% Podemos omitir o output com um ponto e vírgula\n",
    "V_ponto_virgula = [0; 1; 2; 3];"
   ]
  },
  {
   "cell_type": "markdown",
   "metadata": {
    "slideshow": {
     "slide_type": "subslide"
    }
   },
   "source": [
    "## Operadores aritméticos\n",
    "\n",
    "* O MATLAB suporta uma gama variada de operações aritméticas\n",
    "* Os operadores mais comuns são os de adição (+), subtracção (-), multiplicação (\\*) e divisão (/)\n",
    "* Expoentes são simbolizados com "
   ]
  },
  {
   "cell_type": "code",
   "execution_count": 6,
   "metadata": {
    "scrolled": true
   },
   "outputs": [
    {
     "name": "stdout",
     "output_type": "stream",
     "text": [
      "\n",
      "oper_teste =\n",
      "\n",
      "    5.0000   -1.0000    6.0000    0.6667    4.0000\n",
      "\n",
      "\n"
     ]
    }
   ],
   "source": [
    "oper_teste = [2+3 2-3 2*3 2/3 2^2]"
   ]
  },
  {
   "cell_type": "markdown",
   "metadata": {
    "slideshow": {
     "slide_type": "subslide"
    }
   },
   "source": [
    "## Funções predefinidas e documentação\n",
    "\n",
    "* O MATLAB tem imensas funções já definidas para conveniência do utilizador, todas devidamente documentadas\n",
    "* log($n$) calcula o logarítmo natural de um número ou conjunto de números $n$\n",
    "* help(nome) dá informação sobre uma função através do seu nome"
   ]
  },
  {
   "cell_type": "code",
   "execution_count": 7,
   "metadata": {},
   "outputs": [
    {
     "name": "stdout",
     "output_type": "stream",
     "text": [
      " LOG    Natural logarithm.\n",
      "    LOG(X) is the natural logarithm of the elements of X.\n",
      "    Complex results are produced if X is not positive.\n",
      " \n",
      "    See also LOG1P, LOG2, LOG10, EXP, LOGM, REALLOG.\n",
      "\n",
      "    Reference page in Doc Center\n",
      "       doc log\n",
      "\n",
      "\n",
      "\n",
      "ans =\n",
      "\n",
      "         0    0.6931    1.0986    1.3863    1.6094\n",
      "\n",
      "\n"
     ]
    }
   ],
   "source": [
    "help('log')\n",
    "log([1,2,3,4,5])\n"
   ]
  },
  {
   "cell_type": "markdown",
   "metadata": {
    "slideshow": {
     "slide_type": "slide"
    }
   },
   "source": [
    "## Matrizes: conceitos básicos\n",
    "\n",
    "* Uma matriz é uma representação rectangular (linhas por colunas) de números, símbolos ou expressões.\n",
    "* É possível efectuar operações matemáticas sobre matrizes como adição ou multiplicação, dadas algumas regras essenciais.\n",
    "\n",
    "* Um elemento é normalmente identificado pelo número da linha e coluna\n",
    "\n",
    "$$A = \\left[ \\begin{array}{ccc}\n",
    "1 & 2 & 3 \\\\\n",
    "4 & 5 & 6 \\\\\n",
    "7 & 8 & 9 \\\\ \\end{array} \\right]$$ \n",
    "\n",
    "$$A_{1,2} = 2$$\n",
    "\n",
    "$$A_{2,1} = 4$$\n",
    "\n",
    "\n"
   ]
  },
  {
   "cell_type": "markdown",
   "metadata": {
    "collapsed": true,
    "slideshow": {
     "slide_type": "subslide"
    }
   },
   "source": [
    "## Matrizes: conceitos básicos\n",
    "\n",
    "Alguns tipos de matrizes importantes a ter em conta:\n",
    "\n",
    "* Matriz identidade (por exemplo, $I$): $I = \\left[ \\begin{array}{cccc}\n",
    "1 & 0 & 0 & 0 \\\\\n",
    "0 & 1 & 0 & 0 \\\\\n",
    "0 & 0 & 1 & 0 \\\\\n",
    "0 & 0 & 0 & 1 \\\\ \\end{array} \\right]$\n"
   ]
  },
  {
   "cell_type": "code",
   "execution_count": 8,
   "metadata": {},
   "outputs": [
    {
     "name": "stdout",
     "output_type": "stream",
     "text": [
      "\n",
      "ident4 =\n",
      "\n",
      "     1     0     0     0\n",
      "     0     1     0     0\n",
      "     0     0     1     0\n",
      "     0     0     0     1\n",
      "\n",
      "\n"
     ]
    }
   ],
   "source": [
    "ident4 = eye(4)"
   ]
  },
  {
   "cell_type": "markdown",
   "metadata": {
    "slideshow": {
     "slide_type": "subslide"
    }
   },
   "source": [
    "# Matrizes: conceitos básicos\n",
    "\n",
    "* Matriz nula: $Z_{ij} = 0$\n",
    "* Matriz unidade: $U_{ij} = 1$"
   ]
  },
  {
   "cell_type": "code",
   "execution_count": 9,
   "metadata": {},
   "outputs": [
    {
     "name": "stdout",
     "output_type": "stream",
     "text": [
      "\n",
      "Z =\n",
      "\n",
      "     0     0     0     0\n",
      "     0     0     0     0\n",
      "     0     0     0     0\n",
      "\n",
      "\n",
      "U =\n",
      "\n",
      "     1     1     1     1     1\n",
      "     1     1     1     1     1\n",
      "\n",
      "\n"
     ]
    }
   ],
   "source": [
    "Z = zeros(3,4)\n",
    "U = ones(2,5)"
   ]
  },
  {
   "cell_type": "code",
   "execution_count": 10,
   "metadata": {
    "scrolled": false,
    "slideshow": {
     "slide_type": "subslide"
    }
   },
   "outputs": [
    {
     "name": "stdout",
     "output_type": "stream",
     "text": [
      "\n",
      "M =\n",
      "\n",
      "     1     2     3\n",
      "     4     5     6\n",
      "     7     8     9\n",
      "\n",
      "\n",
      "T =\n",
      "\n",
      "     1     2     3\n",
      "     2     4     6\n",
      "     3     6     9\n",
      "     4     8    12\n",
      "\n",
      "\n"
     ]
    }
   ],
   "source": [
    "% Como definir uma matriz em MATLAB?\n",
    "\n",
    "M = [ [1 2 3]; [4 5 6]; [7 8 9] ]\n",
    "\n",
    "linha1 = [1 2 3];\n",
    "linha2 = [2 4 6];\n",
    "linha3 = [3 6 9];\n",
    "linha4 = [4 8 12];\n",
    "\n",
    "% Podemos utilizar vectores já construídos\n",
    "\n",
    "T = [linha1; linha2; linha3; linha4]"
   ]
  },
  {
   "cell_type": "code",
   "execution_count": 11,
   "metadata": {
    "slideshow": {
     "slide_type": "subslide"
    }
   },
   "outputs": [
    {
     "name": "stdout",
     "output_type": "stream",
     "text": [
      "\n",
      "t_tamanho =\n",
      "\n",
      "     4     3\n",
      "\n",
      "\n"
     ]
    }
   ],
   "source": [
    "% Determinar o tamanho de uma matriz\n",
    "\n",
    "t_tamanho = size(T) % 4 linhas, 3 colunas"
   ]
  },
  {
   "cell_type": "markdown",
   "metadata": {
    "slideshow": {
     "slide_type": "slide"
    }
   },
   "source": [
    "# Matrizes: conceitos básicos\n",
    "\n",
    "* Matriz transposta ($X_T$  ou $X^{'}$): $X^{'}_{i,j} = X_{j,i}$"
   ]
  },
  {
   "cell_type": "code",
   "execution_count": 12,
   "metadata": {
    "scrolled": true
   },
   "outputs": [
    {
     "name": "stdout",
     "output_type": "stream",
     "text": [
      "\n",
      "X =\n",
      "\n",
      "     0     1\n",
      "     2     3\n",
      "\n",
      "\n",
      "ans =\n",
      "\n",
      "     0     2\n",
      "     1     3\n",
      "\n",
      "\n",
      "ans =\n",
      "\n",
      "   -1.5000    0.5000\n",
      "    1.0000         0\n",
      "\n",
      "\n"
     ]
    }
   ],
   "source": [
    "X = [[0 1]; [2 3]]\n",
    "X'\n",
    "inv(X)"
   ]
  },
  {
   "cell_type": "markdown",
   "metadata": {
    "slideshow": {
     "slide_type": "subslide"
    }
   },
   "source": [
    "# Matrizes: conceitos básicos\n",
    "\n",
    "* Matriz simétrica ($S$): $S^{'} = S$ "
   ]
  },
  {
   "cell_type": "code",
   "execution_count": 13,
   "metadata": {
    "scrolled": true
   },
   "outputs": [
    {
     "name": "stdout",
     "output_type": "stream",
     "text": [
      "\n",
      "S =\n",
      "\n",
      "     1     0     2\n",
      "     0     3    -1\n",
      "     2    -1     5\n",
      "\n",
      "\n",
      "ans =\n",
      "\n",
      "     1     0     2\n",
      "     0     3    -1\n",
      "     2    -1     5\n",
      "\n",
      "\n"
     ]
    }
   ],
   "source": [
    "S = [[1 0 2]; [0 3 -1]; [2 -1 5]]\n",
    "S'"
   ]
  },
  {
   "cell_type": "code",
   "execution_count": 14,
   "metadata": {
    "slideshow": {
     "slide_type": "subslide"
    }
   },
   "outputs": [
    {
     "name": "stdout",
     "output_type": "stream",
     "text": [
      "\n",
      "t23 =\n",
      "\n",
      "     6\n",
      "\n",
      "\n",
      "t42 =\n",
      "\n",
      "     8\n",
      "\n",
      "\n",
      "t_linha4 =\n",
      "\n",
      "     4     8    12\n",
      "\n",
      "\n",
      "t_coluna2 =\n",
      "\n",
      "     2\n",
      "     4\n",
      "     6\n",
      "     8\n",
      "\n",
      "\n"
     ]
    }
   ],
   "source": [
    "% Aceder a elementos da matriz\n",
    "\n",
    "t23 = T(2,3)\n",
    "t42 = T(4,2)\n",
    "\n",
    "% Aceder a uma linha ou coluna da matriz\n",
    "\n",
    "t_linha4 = T(4,:)\n",
    "t_coluna2 = T(:,2)\n"
   ]
  },
  {
   "cell_type": "code",
   "execution_count": 15,
   "metadata": {
    "slideshow": {
     "slide_type": "subslide"
    }
   },
   "outputs": [
    {
     "name": "stdout",
     "output_type": "stream",
     "text": [
      "\n",
      "sub_T =\n",
      "\n",
      "     2     6\n",
      "     4    12\n",
      "\n",
      "\n",
      "ans =\n",
      "\n",
      "     2     4     6\n",
      "     4     8    12\n",
      "\n",
      "\n",
      "ans =\n",
      "\n",
      "     1     3\n",
      "     2     6\n",
      "     3     9\n",
      "     4    12\n",
      "\n",
      "\n"
     ]
    }
   ],
   "source": [
    "% Aceder a matrizes de formas mais complexas...\n",
    "\n",
    "colunas_desejadas = [1 3];\n",
    "linhas_desejadas = [2 4];\n",
    "sub_T = T(linhas_desejadas, colunas_desejadas)\n",
    "\n",
    "T(linhas_desejadas, :)\n",
    "T(:,colunas_desejadas)"
   ]
  },
  {
   "cell_type": "markdown",
   "metadata": {
    "slideshow": {
     "slide_type": "subslide"
    }
   },
   "source": [
    "## Operações com matrizes\n",
    "\n",
    "* Soma: $A + B$, onde $A$ e $B$ tem a mesma dimensão\n",
    "* Multiplicação: $A * B = C$ onde $A$ tem tantas colunas como $B$ tem linhas. $C$ tem tantas linhas como $A$ e tantas colunas como $B$"
   ]
  },
  {
   "cell_type": "code",
   "execution_count": 16,
   "metadata": {
    "scrolled": false
   },
   "outputs": [
    {
     "name": "stdout",
     "output_type": "stream",
     "text": [
      "\n",
      "soma =\n",
      "\n",
      "     6     2     4\n",
      "     8     2    10\n",
      "\n",
      "\n",
      "mult =\n",
      "\n",
      "    19    26\n",
      "    27    53\n",
      "\n",
      "\n"
     ]
    }
   ],
   "source": [
    "A = [[3 1 2]; [4 1 5]]; % matriz 2 por 3\n",
    "B = [[2 3]; [9 1]; [2 8]]; % matriz 3 por 2\n",
    "% A + B % Não funciona!\n",
    "soma = A + A\n",
    "mult = A*B"
   ]
  },
  {
   "cell_type": "markdown",
   "metadata": {
    "slideshow": {
     "slide_type": "subslide"
    }
   },
   "source": [
    "## Operações com matrizes\n",
    "\n",
    "* Operações por elemento em matrizes podem ser efectuadas com um ponto (.) antes do operador\n",
    "* Estas operações requerem que as matrizes sejam de iguais dimensões"
   ]
  },
  {
   "cell_type": "code",
   "execution_count": 17,
   "metadata": {},
   "outputs": [
    {
     "name": "stdout",
     "output_type": "stream",
     "text": [
      "\n",
      "ans =\n",
      "\n",
      "    19    26\n",
      "    27    53\n",
      "\n",
      "\n",
      "ans =\n",
      "\n",
      "    19     0\n",
      "     0    53\n",
      "\n",
      "\n"
     ]
    }
   ],
   "source": [
    "mult * eye(size(mult))\n",
    "\n",
    "mult .* eye(size(mult))\n"
   ]
  },
  {
   "cell_type": "markdown",
   "metadata": {
    "slideshow": {
     "slide_type": "slide"
    }
   },
   "source": [
    "## Exercício 1\n",
    "\n",
    "* Criar uma matriz com 10 linhas e 10 colunas que contenha a tabuada de 1 a 10\n",
    "* Dica: uma ou duas linhas é suficiente!"
   ]
  },
  {
   "cell_type": "code",
   "execution_count": 18,
   "metadata": {
    "slideshow": {
     "slide_type": "subslide"
    }
   },
   "outputs": [
    {
     "name": "stdout",
     "output_type": "stream",
     "text": [
      "\n",
      "valores =\n",
      "\n",
      "     1     2     3     4     5     6     7     8     9    10\n",
      "\n",
      "\n",
      "tabuada =\n",
      "\n",
      "     1     2     3     4     5     6     7     8     9    10\n",
      "     2     4     6     8    10    12    14    16    18    20\n",
      "     3     6     9    12    15    18    21    24    27    30\n",
      "     4     8    12    16    20    24    28    32    36    40\n",
      "     5    10    15    20    25    30    35    40    45    50\n",
      "     6    12    18    24    30    36    42    48    54    60\n",
      "     7    14    21    28    35    42    49    56    63    70\n",
      "     8    16    24    32    40    48    56    64    72    80\n",
      "     9    18    27    36    45    54    63    72    81    90\n",
      "    10    20    30    40    50    60    70    80    90   100\n",
      "\n",
      "\n"
     ]
    }
   ],
   "source": [
    "% Criar matriz com a tabuada de 1 até 10\n",
    "valores = 1:10\n",
    "tabuada = valores' * valores"
   ]
  },
  {
   "cell_type": "markdown",
   "metadata": {
    "slideshow": {
     "slide_type": "subslide"
    }
   },
   "source": [
    "## Exercício 1\n",
    "\n",
    "* A partir da matriz anterior, crie uma nova matriz em que sejam representadas os quadrados de 1 a 10 na sua diagonal, e 0 nas restantes posições\n",
    "* Isto significa que cada elemento na diagonal da nova matriz $A$ pode ser definido da seguinte forma: $A_{i,i} = i^{2},\\  i \\in \\{1,...,10\\}$"
   ]
  },
  {
   "cell_type": "code",
   "execution_count": 19,
   "metadata": {
    "scrolled": true,
    "slideshow": {
     "slide_type": "subslide"
    }
   },
   "outputs": [
    {
     "name": "stdout",
     "output_type": "stream",
     "text": [
      "\n",
      "A =\n",
      "\n",
      "     1     0     0     0     0     0     0     0     0     0\n",
      "     0     4     0     0     0     0     0     0     0     0\n",
      "     0     0     9     0     0     0     0     0     0     0\n",
      "     0     0     0    16     0     0     0     0     0     0\n",
      "     0     0     0     0    25     0     0     0     0     0\n",
      "     0     0     0     0     0    36     0     0     0     0\n",
      "     0     0     0     0     0     0    49     0     0     0\n",
      "     0     0     0     0     0     0     0    64     0     0\n",
      "     0     0     0     0     0     0     0     0    81     0\n",
      "     0     0     0     0     0     0     0     0     0   100\n",
      "\n",
      "\n"
     ]
    }
   ],
   "source": [
    "A = tabuada .* eye(10)"
   ]
  },
  {
   "cell_type": "markdown",
   "metadata": {
    "slideshow": {
     "slide_type": "slide"
    }
   },
   "source": [
    "## MATLAB: A linguagem de programação\n",
    "\n",
    "* O MATLAB não é apenas uma calculadora em linha de comandos!\n",
    "* É possível implementar algorítmos e até interfaces gráficas"
   ]
  },
  {
   "cell_type": "code",
   "execution_count": 20,
   "metadata": {
    "scrolled": true
   },
   "outputs": [
    {
     "name": "stdout",
     "output_type": "stream",
     "text": [
      "\n",
      "comparar_a_b =\n",
      "\n",
      "  1×6 logical array\n",
      "\n",
      "   0   1   0   1   0   1\n",
      "\n",
      "\n",
      "comparar_bits =\n",
      "\n",
      "  1×3 logical array\n",
      "\n",
      "   0   1   1\n",
      "\n",
      "\n"
     ]
    }
   ],
   "source": [
    "a = 1;\n",
    "b = 2;\n",
    "% Operadores lógicos\n",
    "\n",
    "% Igualdade/desigualdade: == ou ~=\n",
    "% Maior/menor que: > ou <\n",
    "% Menor ou igual: <=\n",
    "\n",
    "comparar_a_b = [a == b, a < b, a > b, a <= b, a >= b, a ~= b]\n",
    "\n",
    "% AND lógico: &\n",
    "% OR lógico: |\n",
    "% NOT lógico: ~\n",
    "comparar_bits = [1 & 0 ((1 > 2) | (1 < 3)) ~0]\n"
   ]
  },
  {
   "cell_type": "code",
   "execution_count": 21,
   "metadata": {},
   "outputs": [
    {
     "name": "stdout",
     "output_type": "stream",
     "text": [
      "\n",
      "ans =\n",
      "\n",
      "  1×2 logical array\n",
      "\n",
      "   0   0\n",
      "\n",
      "\n",
      "ans =\n",
      "\n",
      "  1×2 logical array\n",
      "\n",
      "   1   1\n",
      "\n",
      "\n",
      "ans =\n",
      "\n",
      "  1×2 logical array\n",
      "\n",
      "   0   0\n",
      "\n",
      "\n"
     ]
    }
   ],
   "source": [
    "% Operadores lógicos em arrays booleanos (1 e 0)\n",
    "any(zeros(2))\n",
    "all(ones(2))\n",
    "% rand cria uma matriz aleatória\n",
    "any(isinf(rand(2)))"
   ]
  },
  {
   "cell_type": "markdown",
   "metadata": {
    "slideshow": {
     "slide_type": "subslide"
    }
   },
   "source": [
    "## Execução condicional\n",
    "\n",
    "* Estruturas se (*if*), senão se (*elseif*) e senão (*else*)\n",
    "* Para cada *if* deve existir um *end* a terminar a condição"
   ]
  },
  {
   "cell_type": "code",
   "execution_count": 22,
   "metadata": {},
   "outputs": [
    {
     "name": "stdout",
     "output_type": "stream",
     "text": [
      "     1\n",
      "\n",
      "\n"
     ]
    }
   ],
   "source": [
    "% Execução condicional\n",
    "\n",
    "a = 1;\n",
    "if (a == 1) % se a é igual a 1:\n",
    "    disp(a) % mostrar a variável\n",
    "elseif (a == 2) % senão, se a é igual a 2:\n",
    "    disp(\"x\") % mostrar a string \"x\"\n",
    "else % se nenhuma das condições acima se verifica\n",
    "    disp(\"nem um nem dois\") % mostrar a string...\n",
    "end"
   ]
  },
  {
   "cell_type": "markdown",
   "metadata": {
    "slideshow": {
     "slide_type": "subslide"
    }
   },
   "source": [
    "## Loops\n",
    "\n",
    "* Loops *for* para iterar sobre um conjunto de valores\n",
    "* Loops *while* para iterar enquanto a condição desejada seja válida\n",
    "* É obrigatório adicionar um *end* depois do código contido no loop\n"
   ]
  },
  {
   "cell_type": "code",
   "execution_count": 23,
   "metadata": {
    "scrolled": false,
    "slideshow": {
     "slide_type": "subslide"
    }
   },
   "outputs": [
    {
     "name": "stdout",
     "output_type": "stream",
     "text": [
      "     1     2     3     4     5     6     7     8     9    10\n",
      "\n",
      "     2     4     6     8    10    12    14    16    18    20\n",
      "\n",
      "     3     6     9    12    15    18    21    24    27    30\n",
      "\n",
      "     4     8    12    16    20    24    28    32    36    40\n",
      "\n",
      "     5    10    15    20    25    30    35    40    45    50\n",
      "\n",
      "\n"
     ]
    }
   ],
   "source": [
    "% For loops\n",
    "for i=1:5\n",
    "    disp(i*[1:10])\n",
    "end"
   ]
  },
  {
   "cell_type": "code",
   "execution_count": 24,
   "metadata": {
    "scrolled": true,
    "slideshow": {
     "slide_type": "subslide"
    }
   },
   "outputs": [
    {
     "name": "stdout",
     "output_type": "stream",
     "text": [
      "     1     2     3     4     5     6     7     8     9    10\n",
      "\n",
      "     2     4     6     8    10    12    14    16    18    20\n",
      "\n",
      "     3     6     9    12    15    18    21    24    27    30\n",
      "\n",
      "     4     8    12    16    20    24    28    32    36    40\n",
      "\n",
      "     5    10    15    20    25    30    35    40    45    50\n",
      "\n",
      "\n"
     ]
    }
   ],
   "source": [
    "% While loops\n",
    "i = 1;\n",
    "while(i <= 5)\n",
    "    disp(i*[1:10])\n",
    "    i = i + 1;\n",
    "end"
   ]
  },
  {
   "cell_type": "markdown",
   "metadata": {
    "slideshow": {
     "slide_type": "subslide"
    }
   },
   "source": [
    "## Funções\n",
    "\n",
    "* O MATLAB permite definir funções, no entanto estas devem ser escritas em ficheiros *.m* separados com nome igual ao da função\n",
    "* Não é possível correr um script onde é definida uma função\n",
    "\n",
    "Exemplo: Função verificar_primo que aceita *num* como argumento e devolve o valor *x1*\n",
    "``` matlab\n",
    "function [x1] = verificar_primo(num)\n",
    "    if (num == 1)\n",
    "        x1 = true;\n",
    "    else\n",
    "        x1 = sum(mod(num,1:num) == 0) == 2;\n",
    "    end\n",
    "end\n",
    "```"
   ]
  },
  {
   "cell_type": "markdown",
   "metadata": {
    "slideshow": {
     "slide_type": "subslide"
    }
   },
   "source": [
    "## Funções"
   ]
  },
  {
   "cell_type": "code",
   "execution_count": 25,
   "metadata": {
    "scrolled": true
   },
   "outputs": [
    {
     "name": "stdout",
     "output_type": "stream",
     "text": [
      "\n",
      "primo_3 =\n",
      "\n",
      "  logical\n",
      "\n",
      "   1\n",
      "\n",
      "\n",
      "primos_200 =\n",
      "\n",
      "  1×100 logical array\n",
      "\n",
      "  Columns 1 through 34\n",
      "\n",
      "   1   1   1   0   1   0   1   0   0   0   1   0   1   0   0   0   1   0   1   0   0   0   1   0   0   0   0   0   1   0   1   0   0   0\n",
      "\n",
      "  Columns 35 through 68\n",
      "\n",
      "   0   0   1   0   0   0   1   0   1   0   0   0   1   0   0   0   0   0   1   0   0   0   0   0   1   0   1   0   0   0   0   0   1   0\n",
      "\n",
      "  Columns 69 through 100\n",
      "\n",
      "   0   0   1   0   1   0   0   0   0   0   1   0   0   0   1   0   0   0   0   0   1   0   0   0   0   0   0   0   1   0   0   0\n",
      "\n",
      "\n",
      "primos_200 =\n",
      "\n",
      "  Columns 1 through 22\n",
      "\n",
      "     1     2     3     5     7    11    13    17    19    23    29    31    37    41    43    47    53    59    61    67    71    73\n",
      "\n",
      "  Columns 23 through 26\n",
      "\n",
      "    79    83    89    97\n",
      "\n",
      "\n"
     ]
    }
   ],
   "source": [
    "% Chamar a função\n",
    "primo_3 = verificar_primo(3)\n",
    "\n",
    "% Aplicar a mesma função ao longo de um vector\n",
    "x = 1:100;\n",
    "primos_200 = arrayfun(@verificar_primo, x)\n",
    "primos_200 = x(arrayfun(@verificar_primo, x))"
   ]
  },
  {
   "cell_type": "markdown",
   "metadata": {
    "slideshow": {
     "slide_type": "subslide"
    }
   },
   "source": [
    "## Leitura e escrita de ficheiros\n",
    "\n",
    "Existem algumas funções que simplificam o processo de leitura de ficheiros no MATLAB: \n",
    "* A função *csvread* lê um ficheiro separado por vírgulas desde que o seu conteúdo seja numérico\n",
    "* Para outros tipos de ficheiros deve ser utilizada a função *textscan*\n",
    "* É possível gerar um script utilizando *textscan* a partir da interface gráfica (Home > Import Data > Generate Script)"
   ]
  },
  {
   "cell_type": "code",
   "execution_count": 26,
   "metadata": {
    "scrolled": true
   },
   "outputs": [
    {
     "name": "stdout",
     "output_type": "stream",
     "text": [
      "\n",
      "data =\n",
      "\n",
      "   1.0e+03 *\n",
      "\n",
      "    1.8800   -0.0002   -0.0001\n",
      "    1.8810   -0.0001   -0.0002\n",
      "    1.8820   -0.0001   -0.0002\n",
      "    1.8830   -0.0002   -0.0002\n",
      "    1.8840   -0.0003   -0.0002\n",
      "    1.8850   -0.0003   -0.0003\n",
      "    1.8860   -0.0003   -0.0003\n",
      "    1.8870   -0.0003   -0.0003\n",
      "    1.8880   -0.0002   -0.0003\n",
      "    1.8890   -0.0001   -0.0003\n",
      "    1.8900   -0.0004   -0.0003\n",
      "    1.8910   -0.0002   -0.0003\n",
      "    1.8920   -0.0003   -0.0003\n",
      "    1.8930   -0.0003   -0.0003\n",
      "    1.8940   -0.0003   -0.0002\n",
      "    1.8950   -0.0002   -0.0002\n",
      "    1.8960   -0.0001   -0.0002\n",
      "    1.8970   -0.0001   -0.0002\n",
      "    1.8980   -0.0003   -0.0002\n",
      "    1.8990   -0.0002   -0.0002\n",
      "    1.9000   -0.0001   -0.0002\n",
      "    1.9010   -0.0001   -0.0002\n",
      "    1.9020   -0.0003   -0.0003\n",
      "    1.9030   -0.0004   -0.0003\n",
      "    1.9040   -0.0004   -0.0003\n",
      "    1.9050   -0.0003   -0.0003\n",
      "    1.9060   -0.0002   -0.0004\n",
      "    1.9070   -0.0004   -0.0004\n",
      "    1.9080   -0.0004   -0.0004\n",
      "    1.9090   -0.0005   -0.0004\n",
      "    1.9100   -0.0004   -0.0004\n",
      "    1.9110   -0.0004   -0.0004\n",
      "    1.9120   -0.0004   -0.0003\n",
      "    1.9130   -0.0003   -0.0003\n",
      "    1.9140   -0.0002   -0.0003\n",
      "    1.9150   -0.0001   -0.0003\n",
      "    1.9160   -0.0003   -0.0003\n",
      "    1.9170   -0.0004   -0.0003\n",
      "    1.9180   -0.0003   -0.0003\n",
      "    1.9190   -0.0002   -0.0003\n",
      "    1.9200   -0.0003   -0.0003\n",
      "    1.9210   -0.0002   -0.0003\n",
      "    1.9220   -0.0003   -0.0003\n",
      "    1.9230   -0.0002   -0.0002\n",
      "    1.9240   -0.0003   -0.0002\n",
      "    1.9250   -0.0002   -0.0002\n",
      "    1.9260   -0.0001   -0.0002\n",
      "    1.9270   -0.0002   -0.0002\n",
      "    1.9280   -0.0002   -0.0002\n",
      "    1.9290   -0.0004   -0.0002\n",
      "    1.9300   -0.0001   -0.0002\n",
      "    1.9310   -0.0001   -0.0002\n",
      "    1.9320   -0.0002   -0.0002\n",
      "    1.9330   -0.0003   -0.0002\n",
      "    1.9340   -0.0001   -0.0002\n",
      "    1.9350   -0.0002   -0.0001\n",
      "    1.9360   -0.0001   -0.0001\n",
      "    1.9370   -0.0000   -0.0001\n",
      "    1.9380   -0.0000   -0.0000\n",
      "    1.9390   -0.0000    0.0000\n",
      "    1.9400    0.0001    0.0001\n",
      "    1.9410    0.0001    0.0001\n",
      "    1.9420    0.0001    0.0001\n",
      "    1.9430    0.0001    0.0001\n",
      "    1.9440    0.0003    0.0001\n",
      "    1.9450    0.0001    0.0001\n",
      "    1.9460   -0.0000    0.0000\n",
      "    1.9470   -0.0001   -0.0000\n",
      "    1.9480   -0.0001   -0.0001\n",
      "    1.9490   -0.0001   -0.0001\n",
      "    1.9500   -0.0002   -0.0001\n",
      "    1.9510   -0.0001   -0.0001\n",
      "    1.9520    0.0000   -0.0001\n",
      "    1.9530    0.0001   -0.0001\n",
      "    1.9540   -0.0001   -0.0001\n",
      "    1.9550   -0.0001   -0.0001\n",
      "    1.9560   -0.0002   -0.0001\n",
      "    1.9570    0.0000   -0.0000\n",
      "    1.9580    0.0001   -0.0000\n",
      "    1.9590    0.0000    0.0000\n",
      "    1.9600   -0.0000    0.0000\n",
      "    1.9610    0.0001    0.0000\n",
      "    1.9620    0.0000   -0.0000\n",
      "    1.9630    0.0001   -0.0000\n",
      "    1.9640   -0.0002   -0.0000\n",
      "    1.9650   -0.0001   -0.0000\n",
      "    1.9660   -0.0001   -0.0001\n",
      "    1.9670   -0.0000   -0.0000\n",
      "    1.9680   -0.0001   -0.0000\n",
      "    1.9690    0.0001   -0.0000\n",
      "    1.9700    0.0000         0\n",
      "    1.9710   -0.0001         0\n",
      "    1.9720    0.0000         0\n",
      "    1.9730    0.0001   -0.0000\n",
      "    1.9740   -0.0001         0\n",
      "    1.9750   -0.0000    0.0000\n",
      "    1.9760   -0.0001    0.0000\n",
      "    1.9770    0.0002    0.0001\n",
      "    1.9780    0.0001    0.0001\n",
      "    1.9790    0.0002    0.0002\n",
      "    1.9800    0.0003    0.0002\n",
      "    1.9810    0.0003    0.0002\n",
      "    1.9820    0.0001    0.0002\n",
      "    1.9830    0.0003    0.0002\n",
      "    1.9840    0.0001    0.0002\n",
      "    1.9850    0.0001    0.0002\n",
      "    1.9860    0.0002    0.0003\n",
      "    1.9870    0.0003    0.0003\n",
      "    1.9880    0.0004    0.0003\n",
      "    1.9890    0.0003    0.0003\n",
      "    1.9900    0.0004    0.0003\n",
      "    1.9910    0.0004    0.0003\n",
      "    1.9920    0.0002    0.0003\n",
      "    1.9930    0.0002    0.0003\n",
      "    1.9940    0.0003    0.0004\n",
      "    1.9950    0.0005    0.0004\n",
      "    1.9960    0.0004    0.0004\n",
      "    1.9970    0.0005    0.0004\n",
      "    1.9980    0.0006    0.0005\n",
      "    1.9990    0.0004    0.0005\n",
      "    2.0000    0.0004    0.0005\n",
      "    2.0010    0.0006    0.0005\n",
      "    2.0020    0.0006    0.0006\n",
      "    2.0030    0.0006    0.0006\n",
      "    2.0040    0.0006    0.0006\n",
      "    2.0050    0.0007    0.0006\n",
      "    2.0060    0.0006    0.0006\n",
      "    2.0070    0.0007    0.0006\n",
      "    2.0080    0.0005    0.0006\n",
      "    2.0090    0.0006    0.0006\n",
      "    2.0100    0.0007    0.0006\n",
      "    2.0110    0.0006    0.0006\n",
      "    2.0120    0.0006    0.0007\n",
      "    2.0130    0.0006    0.0007\n",
      "    2.0140    0.0007    0.0008\n",
      "    2.0150    0.0009    0.0008\n",
      "    2.0160    0.0010    0.0009\n",
      "\n",
      "\n"
     ]
    }
   ],
   "source": [
    "filename = '647_Global_Temperature_Data_File.txt';\n",
    "R = 1; % linha a ignorar (cabeçalho). O ficheiro é lido após esta linha\n",
    "data = csvread(filename, R)"
   ]
  },
  {
   "cell_type": "code",
   "execution_count": 27,
   "metadata": {
    "scrolled": true,
    "slideshow": {
     "slide_type": "subslide"
    }
   },
   "outputs": [
    {
     "name": "stdout",
     "output_type": "stream",
     "text": [
      "\n",
      "GlobalTemperatureDataFile =\n",
      "\n",
      "  137×3 table\n",
      "\n",
      "    Year    Annual    FiveYear\n",
      "    ____    ______    ________\n",
      "\n",
      "    1880     -0.2     -0.13   \n",
      "    1881    -0.12     -0.16   \n",
      "    1882     -0.1     -0.19   \n",
      "    1883    -0.21     -0.21   \n",
      "    1884    -0.28     -0.24   \n",
      "    1885    -0.32     -0.26   \n",
      "    1886    -0.31     -0.27   \n",
      "    1887    -0.33     -0.27   \n",
      "    1888     -0.2     -0.27   \n",
      "    1889    -0.12     -0.26   \n",
      "    1890    -0.37     -0.26   \n",
      "    1891    -0.24     -0.26   \n",
      "    1892    -0.27     -0.27   \n",
      "    1893     -0.3     -0.26   \n",
      "    1894    -0.31     -0.24   \n",
      "    1895    -0.21     -0.22   \n",
      "    1896    -0.15     -0.21   \n",
      "    1897    -0.11     -0.18   \n",
      "    1898    -0.28     -0.17   \n",
      "    1899    -0.16     -0.17   \n",
      "    1900    -0.09      -0.2   \n",
      "    1901    -0.15     -0.23   \n",
      "    1902    -0.27     -0.25   \n",
      "    1903    -0.35     -0.28   \n",
      "    1904    -0.44     -0.31   \n",
      "    1905    -0.28     -0.34   \n",
      "    1906    -0.23     -0.36   \n",
      "    1907     -0.4     -0.38   \n",
      "    1908    -0.43     -0.39   \n",
      "    1909    -0.47     -0.41   \n",
      "    1910    -0.42     -0.41   \n",
      "    1911    -0.44     -0.38   \n",
      "    1912    -0.35     -0.34   \n",
      "    1913    -0.34     -0.32   \n",
      "    1914    -0.16      -0.3   \n",
      "    1915    -0.11     -0.29   \n",
      "    1916    -0.34     -0.27   \n",
      "    1917     -0.4     -0.27   \n",
      "    1918    -0.26     -0.27   \n",
      "    1919    -0.22     -0.27   \n",
      "    1920    -0.27     -0.26   \n",
      "    1921    -0.21     -0.25   \n",
      "    1922    -0.28     -0.25   \n",
      "    1923    -0.24     -0.24   \n",
      "    1924    -0.28     -0.23   \n",
      "    1925    -0.21     -0.22   \n",
      "    1926     -0.1     -0.21   \n",
      "    1927    -0.21     -0.21   \n",
      "    1928    -0.21     -0.19   \n",
      "    1929    -0.36     -0.19   \n",
      "    1930    -0.15     -0.19   \n",
      "    1931    -0.09     -0.19   \n",
      "    1932    -0.17     -0.18   \n",
      "    1933    -0.28     -0.17   \n",
      "    1934    -0.14     -0.16   \n",
      "    1935     -0.2     -0.14   \n",
      "    1936    -0.15     -0.12   \n",
      "    1937    -0.03     -0.08   \n",
      "    1938    -0.03     -0.03   \n",
      "    1939    -0.03      0.01   \n",
      "    1940     0.08      0.05   \n",
      "    1941     0.12      0.08   \n",
      "    1942     0.09      0.11   \n",
      "    1943     0.13      0.11   \n",
      "    1944     0.25      0.09   \n",
      "    1945     0.12      0.06   \n",
      "    1946    -0.04      0.02   \n",
      "    1947    -0.05     -0.02   \n",
      "    1948    -0.09     -0.06   \n",
      "    1949    -0.09     -0.08   \n",
      "    1950    -0.18     -0.07   \n",
      "    1951    -0.07     -0.07   \n",
      "    1952     0.01     -0.07   \n",
      "    1953     0.08     -0.08   \n",
      "    1954    -0.13     -0.07   \n",
      "    1955    -0.15     -0.06   \n",
      "    1956     -0.2     -0.05   \n",
      "    1957     0.04     -0.04   \n",
      "    1958     0.07     -0.01   \n",
      "    1959     0.03      0.01   \n",
      "    1960    -0.02      0.03   \n",
      "    1961     0.05      0.02   \n",
      "    1962     0.03     -0.01   \n",
      "    1963     0.06     -0.02   \n",
      "    1964     -0.2     -0.03   \n",
      "    1965     -0.1     -0.04   \n",
      "    1966    -0.05     -0.05   \n",
      "    1967    -0.02     -0.04   \n",
      "    1968    -0.07     -0.03   \n",
      "    1969     0.07     -0.01   \n",
      "    1970     0.02         0   \n",
      "    1971    -0.09         0   \n",
      "    1972     0.01         0   \n",
      "    1973     0.15     -0.01   \n",
      "    1974    -0.07         0   \n",
      "    1975    -0.02      0.02   \n",
      "    1976    -0.11      0.04   \n",
      "    1977     0.18      0.07   \n",
      "    1978     0.07      0.12   \n",
      "    1979     0.17      0.17   \n",
      "    1980     0.27       0.2   \n",
      "    1981     0.33      0.21   \n",
      "    1982     0.13      0.21   \n",
      "    1983      0.3      0.21   \n",
      "    1984     0.15      0.21   \n",
      "    1985     0.12      0.22   \n",
      "    1986     0.19      0.25   \n",
      "    1987     0.33      0.28   \n",
      "    1988     0.41      0.32   \n",
      "    1989     0.28      0.34   \n",
      "    1990     0.44      0.34   \n",
      "    1991     0.43      0.34   \n",
      "    1992     0.23      0.34   \n",
      "    1993     0.24      0.34   \n",
      "    1994     0.32      0.35   \n",
      "    1995     0.46      0.38   \n",
      "    1996     0.35      0.41   \n",
      "    1997     0.48      0.44   \n",
      "    1998     0.64      0.46   \n",
      "    1999     0.42      0.49   \n",
      "    2000     0.42      0.52   \n",
      "    2001     0.55      0.54   \n",
      "    2002     0.63      0.56   \n",
      "    2003     0.62      0.59   \n",
      "    2004     0.55      0.61   \n",
      "    2005     0.69      0.62   \n",
      "    2006     0.63      0.62   \n",
      "    2007     0.66      0.63   \n",
      "    2008     0.54      0.63   \n",
      "    2009     0.64      0.63   \n",
      "    2010     0.71      0.63   \n",
      "    2011      0.6      0.65   \n",
      "    2012     0.63      0.68   \n",
      "    2013     0.65      0.74   \n",
      "    2014     0.74      0.79   \n",
      "    2015     0.87      0.85   \n",
      "    2016     0.99      0.91   \n",
      "\n",
      "\n"
     ]
    }
   ],
   "source": [
    "filename = '647_Global_Temperature_Data_File.txt';\n",
    "delimiter = ','; % Caracter que separa os dados\n",
    "startRow = 2; % Primeira linha de dados\n",
    "formatSpec = '%f%f%f%[^\\n\\r]'; % Formato dos dados - %f representa um número e [^\\n\\r] exclui o fim da linha (newline)\n",
    "fileID = fopen(filename,'r'); % Abrir o ficheiro para leitura ('r')\n",
    "dataArray = textscan(fileID, formatSpec, 'Delimiter', delimiter, 'TextType', 'string', 'HeaderLines' ,startRow-1, 'ReturnOnError', false, 'EndOfLine', '\\r\\n');\n",
    "% Ler o ficheiro e criar arrays\n",
    "% Em MATLAB, existem argumentos que podem ser passados da seguinte forma:\n",
    "% função('nome_do_argumento', argumento)\n",
    "fclose(fileID);\n",
    "GlobalTemperatureDataFile = table(dataArray{1:end-1}, 'VariableNames', {'Year','Annual','FiveYear'});\n",
    "GlobalTemperatureDataFile"
   ]
  },
  {
   "cell_type": "code",
   "execution_count": 28,
   "metadata": {
    "slideshow": {
     "slide_type": "subslide"
    }
   },
   "outputs": [
    {
     "name": "stdout",
     "output_type": "stream",
     "text": [
      "\n",
      "GlobalTemperatureDataFile =\n",
      "\n",
      "  137×4 table\n",
      "\n",
      "    Year    Annual    FiveYear    LogAnnual\n",
      "    ____    ______    ________    _________\n",
      "\n",
      "    1880     -0.2     -0.13        -0.22314\n",
      "    1881    -0.12     -0.16        -0.12783\n",
      "    1882     -0.1     -0.19        -0.10536\n",
      "    1883    -0.21     -0.21        -0.23572\n",
      "    1884    -0.28     -0.24         -0.3285\n",
      "    1885    -0.32     -0.26        -0.38566\n",
      "    1886    -0.31     -0.27        -0.37106\n",
      "    1887    -0.33     -0.27        -0.40048\n",
      "    1888     -0.2     -0.27        -0.22314\n",
      "    1889    -0.12     -0.26        -0.12783\n",
      "    1890    -0.37     -0.26        -0.46204\n",
      "    1891    -0.24     -0.26        -0.27444\n",
      "    1892    -0.27     -0.27        -0.31471\n",
      "    1893     -0.3     -0.26        -0.35667\n",
      "    1894    -0.31     -0.24        -0.37106\n",
      "    1895    -0.21     -0.22        -0.23572\n",
      "    1896    -0.15     -0.21        -0.16252\n",
      "    1897    -0.11     -0.18        -0.11653\n",
      "    1898    -0.28     -0.17         -0.3285\n",
      "    1899    -0.16     -0.17        -0.17435\n",
      "    1900    -0.09      -0.2       -0.094311\n",
      "    1901    -0.15     -0.23        -0.16252\n",
      "    1902    -0.27     -0.25        -0.31471\n",
      "    1903    -0.35     -0.28        -0.43078\n",
      "    1904    -0.44     -0.31        -0.57982\n",
      "    1905    -0.28     -0.34         -0.3285\n",
      "    1906    -0.23     -0.36        -0.26136\n",
      "    1907     -0.4     -0.38        -0.51083\n",
      "    1908    -0.43     -0.39        -0.56212\n",
      "    1909    -0.47     -0.41        -0.63488\n",
      "    1910    -0.42     -0.41        -0.54473\n",
      "    1911    -0.44     -0.38        -0.57982\n",
      "    1912    -0.35     -0.34        -0.43078\n",
      "    1913    -0.34     -0.32        -0.41552\n",
      "    1914    -0.16      -0.3        -0.17435\n",
      "    1915    -0.11     -0.29        -0.11653\n",
      "    1916    -0.34     -0.27        -0.41552\n",
      "    1917     -0.4     -0.27        -0.51083\n",
      "    1918    -0.26     -0.27        -0.30111\n",
      "    1919    -0.22     -0.27        -0.24846\n",
      "    1920    -0.27     -0.26        -0.31471\n",
      "    1921    -0.21     -0.25        -0.23572\n",
      "    1922    -0.28     -0.25         -0.3285\n",
      "    1923    -0.24     -0.24        -0.27444\n",
      "    1924    -0.28     -0.23         -0.3285\n",
      "    1925    -0.21     -0.22        -0.23572\n",
      "    1926     -0.1     -0.21        -0.10536\n",
      "    1927    -0.21     -0.21        -0.23572\n",
      "    1928    -0.21     -0.19        -0.23572\n",
      "    1929    -0.36     -0.19        -0.44629\n",
      "    1930    -0.15     -0.19        -0.16252\n",
      "    1931    -0.09     -0.19       -0.094311\n",
      "    1932    -0.17     -0.18        -0.18633\n",
      "    1933    -0.28     -0.17         -0.3285\n",
      "    1934    -0.14     -0.16        -0.15082\n",
      "    1935     -0.2     -0.14        -0.22314\n",
      "    1936    -0.15     -0.12        -0.16252\n",
      "    1937    -0.03     -0.08       -0.030459\n",
      "    1938    -0.03     -0.03       -0.030459\n",
      "    1939    -0.03      0.01       -0.030459\n",
      "    1940     0.08      0.05        0.076961\n",
      "    1941     0.12      0.08         0.11333\n",
      "    1942     0.09      0.11        0.086178\n",
      "    1943     0.13      0.11         0.12222\n",
      "    1944     0.25      0.09         0.22314\n",
      "    1945     0.12      0.06         0.11333\n",
      "    1946    -0.04      0.02       -0.040822\n",
      "    1947    -0.05     -0.02       -0.051293\n",
      "    1948    -0.09     -0.06       -0.094311\n",
      "    1949    -0.09     -0.08       -0.094311\n",
      "    1950    -0.18     -0.07        -0.19845\n",
      "    1951    -0.07     -0.07       -0.072571\n",
      "    1952     0.01     -0.07       0.0099503\n",
      "    1953     0.08     -0.08        0.076961\n",
      "    1954    -0.13     -0.07        -0.13926\n",
      "    1955    -0.15     -0.06        -0.16252\n",
      "    1956     -0.2     -0.05        -0.22314\n",
      "    1957     0.04     -0.04        0.039221\n",
      "    1958     0.07     -0.01        0.067659\n",
      "    1959     0.03      0.01        0.029559\n",
      "    1960    -0.02      0.03       -0.020203\n",
      "    1961     0.05      0.02         0.04879\n",
      "    1962     0.03     -0.01        0.029559\n",
      "    1963     0.06     -0.02        0.058269\n",
      "    1964     -0.2     -0.03        -0.22314\n",
      "    1965     -0.1     -0.04        -0.10536\n",
      "    1966    -0.05     -0.05       -0.051293\n",
      "    1967    -0.02     -0.04       -0.020203\n",
      "    1968    -0.07     -0.03       -0.072571\n",
      "    1969     0.07     -0.01        0.067659\n",
      "    1970     0.02         0        0.019803\n",
      "    1971    -0.09         0       -0.094311\n",
      "    1972     0.01         0       0.0099503\n",
      "    1973     0.15     -0.01         0.13976\n",
      "    1974    -0.07         0       -0.072571\n",
      "    1975    -0.02      0.02       -0.020203\n",
      "    1976    -0.11      0.04        -0.11653\n",
      "    1977     0.18      0.07         0.16551\n",
      "    1978     0.07      0.12        0.067659\n",
      "    1979     0.17      0.17           0.157\n",
      "    1980     0.27       0.2         0.23902\n",
      "    1981     0.33      0.21         0.28518\n",
      "    1982     0.13      0.21         0.12222\n",
      "    1983      0.3      0.21         0.26236\n",
      "    1984     0.15      0.21         0.13976\n",
      "    1985     0.12      0.22         0.11333\n",
      "    1986     0.19      0.25         0.17395\n",
      "    1987     0.33      0.28         0.28518\n",
      "    1988     0.41      0.32         0.34359\n",
      "    1989     0.28      0.34         0.24686\n",
      "    1990     0.44      0.34         0.36464\n",
      "    1991     0.43      0.34         0.35767\n",
      "    1992     0.23      0.34         0.20701\n",
      "    1993     0.24      0.34         0.21511\n",
      "    1994     0.32      0.35         0.27763\n",
      "    1995     0.46      0.38         0.37844\n",
      "    1996     0.35      0.41          0.3001\n",
      "    1997     0.48      0.44         0.39204\n",
      "    1998     0.64      0.46          0.4947\n",
      "    1999     0.42      0.49         0.35066\n",
      "    2000     0.42      0.52         0.35066\n",
      "    2001     0.55      0.54         0.43825\n",
      "    2002     0.63      0.56         0.48858\n",
      "    2003     0.62      0.59         0.48243\n",
      "    2004     0.55      0.61         0.43825\n",
      "    2005     0.69      0.62         0.52473\n",
      "    2006     0.63      0.62         0.48858\n",
      "    2007     0.66      0.63         0.50682\n",
      "    2008     0.54      0.63         0.43178\n",
      "    2009     0.64      0.63          0.4947\n",
      "    2010     0.71      0.63         0.53649\n",
      "    2011      0.6      0.65            0.47\n",
      "    2012     0.63      0.68         0.48858\n",
      "    2013     0.65      0.74         0.50078\n",
      "    2014     0.74      0.79         0.55389\n",
      "    2015     0.87      0.85         0.62594\n",
      "    2016     0.99      0.91         0.68813\n",
      "\n",
      "\n"
     ]
    }
   ],
   "source": [
    "% Obter a coluna 'Annual' da tabela\n",
    "annual_table = GlobalTemperatureDataFile(:,'Annual');\n",
    "annual = table2array(annual_table);\n",
    "\n",
    "% Somar 1 a cada valor e calcular logarítmo \n",
    "annual_log = log(annual + 1);\n",
    "GlobalTemperatureDataFile(:,'LogAnnual') = array2table(annual_log);\n",
    "GlobalTemperatureDataFile"
   ]
  },
  {
   "cell_type": "code",
   "execution_count": 29,
   "metadata": {
    "slideshow": {
     "slide_type": "subslide"
    }
   },
   "outputs": [
    {
     "name": "stdout",
     "output_type": "stream",
     "text": [
      "\n",
      "dataRep =\n",
      "\n",
      "    '%f,%f,%f,%f,'\n",
      "\n",
      "\n",
      "dataRep =\n",
      "\n",
      "    '%f,%f,%f,%f'\n",
      "\n",
      "\n",
      "dataFormatSpec =\n",
      "\n",
      "    '%f,%f,%f,%f\\n'\n",
      "\n",
      "\n"
     ]
    }
   ],
   "source": [
    "%Guardar num ficheiro novo T.csv\n",
    "writetable(GlobalTemperatureDataFile)\n",
    "\n",
    "%Preparar para guardar com fprintf\n",
    "\n",
    "varNames = GlobalTemperatureDataFile.Properties.VariableNames; % Obter nomes das variáveis\n",
    "headerString = strjoin(varNames,','); % Gerar uma string com os nomes separados por vírgulas\n",
    "\n",
    "% String de formatação para os dados\n",
    "dataRep = repmat('%f,', 1, size(varNames,2)) % Repetir '%f,' quatro vezes (número de variáveis)\n",
    "dataRep = dataRep(1,1:size(dataRep,2)-1) % Remover o último caracter (a última vírgula)\n",
    "dataFormatSpec = strcat(dataRep, '\\n') % Juntar a string com o símbolo para uma linha nova"
   ]
  },
  {
   "cell_type": "code",
   "execution_count": 30,
   "metadata": {
    "scrolled": true,
    "slideshow": {
     "slide_type": "subslide"
    }
   },
   "outputs": [
    {
     "name": "stdout",
     "output_type": "stream",
     "text": [
      "\n"
     ]
    }
   ],
   "source": [
    "% Abrir o ficheiro em modo de escrita ('w')\n",
    "fileID = fopen('logdata.csv','w');\n",
    "\n",
    "% Converter a tabela em array (necessário!)\n",
    "dataArray = table2array(GlobalTemperatureDataFile);\n",
    "\n",
    "% Escrever o cabeçalho\n",
    "fprintf(fileID,\"%s\\n\",headerString);\n",
    "% Escrever os dados\n",
    "fprintf(fileID,dataFormatSpec,dataArray);\n",
    "\n",
    "% Fechar\n",
    "fclose(fileID);"
   ]
  },
  {
   "cell_type": "markdown",
   "metadata": {
    "slideshow": {
     "slide_type": "slide"
    }
   },
   "source": [
    "## Gráficos\n",
    "\n",
    "* O MATLAB tem ferramentas para gerar gráficos 2D e 3D fácilmente\n",
    "* Estes também podem ser gerados através da interface gráfica\n",
    "* O comando principal é a função *plot*"
   ]
  },
  {
   "cell_type": "code",
   "execution_count": 31,
   "metadata": {
    "slideshow": {
     "slide_type": "-"
    }
   },
   "outputs": [
    {
     "name": "stdout",
     "output_type": "stream",
     "text": [
      "\n"
     ]
    },
    {
     "data": {
      "image/png": "[encoded data removed]",
      "text/plain": [
       "<IPython.core.display.Image object>"
      ]
     },
     "metadata": {},
     "output_type": "display_data"
    }
   ],
   "source": [
    "x = -20:0.1:20;\n",
    "y = sin(x); % seno\n",
    "\n",
    "plot(x,y)"
   ]
  },
  {
   "cell_type": "code",
   "execution_count": 32,
   "metadata": {
    "slideshow": {
     "slide_type": "subslide"
    }
   },
   "outputs": [
    {
     "name": "stdout",
     "output_type": "stream",
     "text": [
      "\n"
     ]
    },
    {
     "data": {
      "image/png": "[encoded data removed]",
      "text/plain": [
       "<IPython.core.display.Image object>"
      ]
     },
     "metadata": {},
     "output_type": "display_data"
    }
   ],
   "source": [
    "\n",
    "x = -5:0.01:5;\n",
    "y2 = x .^ 2;\n",
    "y3 = x .^ 3;\n",
    "\n",
    "plot(x,y2,x,y3) % Plot de duas linhas\n",
    "\n",
    "grid on % Mostrar grelha\n",
    "xlabel('X') % Nome a mostrar no eixo X\n",
    "ylabel('Valor da função') % Nome a mostrar no eixo Y\n",
    "title('Quadrados e cubos') % Título\n",
    "xlim([-1, 1]) % Limite do eixo X\n",
    "ylim([-1, 1]) % Limite do eixo Y\n",
    "legend('show')\n",
    "legend('quadrados','cubos')"
   ]
  },
  {
   "cell_type": "code",
   "execution_count": 33,
   "metadata": {
    "scrolled": false
   },
   "outputs": [
    {
     "name": "stdout",
     "output_type": "stream",
     "text": [
      "\n"
     ]
    },
    {
     "data": {
      "image/png": "[encoded data removed]",
      "text/plain": [
       "<IPython.core.display.Image object>"
      ]
     },
     "metadata": {},
     "output_type": "display_data"
    }
   ],
   "source": [
    "% Plot de vários conjuntos de pontos chamando a função mais do que uma vez\n",
    "x = -10:0.1:10;\n",
    "sen_x = sin(x);\n",
    "cos_x = cos(x);\n",
    "tan_x = tan(x);\n",
    "\n",
    "% As strings à direita dos argumentos x e y controlam o aspecto da linha/pontos\n",
    "plot(x,sen_x, 'g-'); hold on; % Plot do seno em função de x; Mantêm o mesmo gráfico activo\n",
    "plot(x,cos_x,'b.--'); hold on; % Plot do coseno em função de x; Mantêm o mesmo gráfico activo\n",
    "plot(x,tan_x, 'ro-'); % Plot da tangente em função de x;\n",
    "ylim([-1 1])"
   ]
  },
  {
   "cell_type": "code",
   "execution_count": 34,
   "metadata": {},
   "outputs": [
    {
     "name": "stdout",
     "output_type": "stream",
     "text": [
      "\n"
     ]
    },
    {
     "data": {
      "image/png": "[encoded data removed]",
      "text/plain": [
       "<IPython.core.display.Image object>"
      ]
     },
     "metadata": {},
     "output_type": "display_data"
    }
   ],
   "source": [
    "% Subplots: vários gráficos na mesma figura\n",
    "\n",
    "% subplot(número de linhas, número de colunas, gráfico a utilizar)\n",
    "subplot(1,3,1)\n",
    "plot(x, sen_x)\n",
    "ylim([-1.5 1.5])\n",
    "\n",
    "subplot(1,3,2)\n",
    "plot(x, cos_x)\n",
    "\n",
    "\n",
    "subplot(1,3,3)\n",
    "plot(x, tan_x)"
   ]
  },
  {
   "cell_type": "code",
   "execution_count": 35,
   "metadata": {},
   "outputs": [
    {
     "name": "stdout",
     "output_type": "stream",
     "text": [
      "\n"
     ]
    },
    {
     "data": {
      "image/png": "[encoded data removed]",
      "text/plain": [
       "<IPython.core.display.Image object>"
      ]
     },
     "metadata": {},
     "output_type": "display_data"
    }
   ],
   "source": [
    "% Plot 3D\n",
    "\n",
    "[x,y] = meshgrid(-2:0.1:2); % Criar uma grelha 2D de -2 a 2 com intervalos de 0.1\n",
    "\n",
    "z = x .^ 2 .* y .^ 2; % Calcular os valores para o terceiro eixo\n",
    "size(x);\n",
    "size(y);\n",
    "surf(x,y,z) % Plot 3D dos eixos x, y e z\n",
    "\n"
   ]
  },
  {
   "cell_type": "markdown",
   "metadata": {
    "slideshow": {
     "slide_type": "slide"
    }
   },
   "source": [
    "## Exercício 2\n",
    "\n",
    "* Neste exercício pretende-se criar um plot com vários subplots (12 para ser preciso!)\n",
    "* Os subplots podem estar organizados de qualquer forma, desde que seja válida (5x4, 2x20, etc...)\n",
    "* Para isso, vamos criar um script que faz plot de várias séries de dados, independentemente do tamanho\n",
    "* Como dados, podemos utilizar uma matriz aleatória, com 10 linhas e 12 colunas\n",
    "* Considera-se o eixo X como sendo uma sequência de 1 até 10 (uma linha por valor de X)"
   ]
  },
  {
   "cell_type": "markdown",
   "metadata": {
    "slideshow": {
     "slide_type": "subslide"
    }
   },
   "source": [
    "## Exercício 2\n",
    "\n",
    "O código seguinte não resolve o nosso problema!"
   ]
  },
  {
   "cell_type": "code",
   "execution_count": 36,
   "metadata": {},
   "outputs": [
    {
     "name": "stdout",
     "output_type": "stream",
     "text": [
      "\n"
     ]
    },
    {
     "data": {
      "image/png": "[encoded data removed]",
      "text/plain": [
       "<IPython.core.display.Image object>"
      ]
     },
     "metadata": {},
     "output_type": "display_data"
    }
   ],
   "source": [
    "dados = rand(5, 20);\n",
    "plot(1:5, dados)\n",
    "legend('show')"
   ]
  },
  {
   "cell_type": "code",
   "execution_count": 37,
   "metadata": {
    "scrolled": true,
    "slideshow": {
     "slide_type": "subslide"
    }
   },
   "outputs": [
    {
     "name": "stdout",
     "output_type": "stream",
     "text": [
      "\n"
     ]
    },
    {
     "data": {
      "image/png": "[encoded data removed]",
      "text/plain": [
       "<IPython.core.display.Image object>"
      ]
     },
     "metadata": {},
     "output_type": "display_data"
    }
   ],
   "source": [
    "% Uma (de várias...) maneiras de resolver o problema\n",
    "\n",
    "dim_dados = [15,20];\n",
    "dados = rand(dim_dados);\n",
    "sp_linhas = 5;\n",
    "sp_colunas = 4;\n",
    "\n",
    "for i=1:dim_dados(2)\n",
    "    subplot(sp_linhas, sp_colunas, i);\n",
    "    plot(dados(:,i)); \n",
    "    xlim([-15 15])\n",
    "    title(i)\n",
    "    hold on;\n",
    "\n",
    "end\n"
   ]
  },
  {
   "cell_type": "markdown",
   "metadata": {
    "slideshow": {
     "slide_type": "slide"
    }
   },
   "source": [
    "## Optimização de (in)equações lineares no MATLAB\n",
    "\n",
    "* As matrizes são importantes para representar sistemas de equações e inequações lineares\n",
    "* Cada linha representa uma única equação e cada coluna uma incógnita\n",
    "* A última coluna representa os termos independentes de cada equação\n",
    "* Os valores de cada elemento representam o coeficiente\n",
    "* Nem todos os sistemas tem uma única solução: podemos recorrer a optimizadores para encontrar uma solução possível, dado um objectivo"
   ]
  },
  {
   "cell_type": "markdown",
   "metadata": {
    "collapsed": true,
    "slideshow": {
     "slide_type": "subslide"
    }
   },
   "source": [
    "**Sistema linear**\n",
    "\n",
    "$\\Bigg\\{\\begin{array}{c} \n",
    " x + 2y - 4z = 5 \\\\ \n",
    " 2x + y - 6z = 8 \\\\ \n",
    " 4x - y - 12z = 13 \n",
    "\\end{array}$\n",
    "\n",
    "**Matriz**\n",
    "\n",
    "$\\left[ \\begin{array}{ccc|c}\n",
    "1 & 2 & -4 & 5\\\\\n",
    "2 & 1 & -6 & 8\\\\\n",
    "4 & -1 & -12 & 13\\\\ \\end{array} \\right]$"
   ]
  },
  {
   "cell_type": "markdown",
   "metadata": {},
   "source": [
    "## Programação linear: formular um problema\n",
    "\n",
    "Linprog: função em MATLAB para optimizar sistemas de (in)equações lineares.\n",
    "Esta função resolve problemas da seguinte forma:\n",
    "\n",
    "$ \n",
    "\\begin{array}{l}\n",
    "\\text{minimizar}\\ f'x \\ s.a. \\\\\n",
    "\\\\\n",
    "A \\cdot x \\leq b \\\\\n",
    "Aeq \\cdot x = beq \\\\\n",
    "lb \\leq x \\leq ub\n",
    "\\end{array}\n",
    "$\n",
    "\n",
    "Em que $A$ e $Aeq$ são matrizes com os coeficientes de cada incógnita (colunas) para cada equação ou inequação (linhas) "
   ]
  },
  {
   "cell_type": "markdown",
   "metadata": {
    "collapsed": true,
    "slideshow": {
     "slide_type": "slide"
    }
   },
   "source": [
    "## Programação linear: exemplo\n",
    "\n",
    "Uma empresa recém-estabelecida pretende construir computadores portáteis com o mínimo de despesas possível. Para tal, exploraram três formas de os construir e determinaram quanto tempo de trabalho qualificado, não qualificado e de montagem é necessário, respectivamente: \n",
    "* Produção manual ($c_1$): 1 minuto qualificado, 40 minutes não qualificado, 3 minutos para montagem. Custa 70€\n",
    "* Produção semi-automática ($c_2$): 4 minuto qualificado, 30 minutes não qualificado, 2 minutos para montagem. Custa 80€\n",
    "* Produção automática ($c_3$): 8 minuto qualificado, 20 minutes não qualificado, 4 minutos para montagem. Custa 85€\n",
    "\n",
    "A empresa dispõe de 4500 minutos de trabalho qualificado, 36000 minutos de trabalho não-qualificado e 2700 de trabalho de montagem por mês. Para atingir os objectivos da empresa, são necessários também 1000 computadores construídos por mês\n",
    "\n",
    "Incógnitas: Número de computadores construído através de cada método ($c_1, c_2, c_3$)"
   ]
  },
  {
   "cell_type": "markdown",
   "metadata": {
    "slideshow": {
     "slide_type": "subslide"
    }
   },
   "source": [
    "## Programação linear: formular um problema\n",
    "\n",
    "$ \n",
    "\\begin{array}{l}\n",
    "\\text{minimizar}\\ f(c) = 70c_1 + 80c_2 + 85c_3 \\ s.a. \\\\\n",
    "\\\\\n",
    "c_1 + c_2 + c_3 = 1000 \\\\\n",
    "c_1 + 4c_2 + 8c_3 \\leq 4500 \\\\\n",
    "40c_1 + 30c_2 + 20c_3 \\leq 36000 \\\\\n",
    "3c_1 + 2c_2 + 4c_3 \\leq 2700 \\\\\n",
    "c > 0\n",
    "\\end{array}\n",
    "$"
   ]
  },
  {
   "cell_type": "markdown",
   "metadata": {},
   "source": [
    "## Programação linear: formular um problema\n",
    "\n",
    "$A,b = \\left[ \\begin{array}{ccc|c}\n",
    "1 & 4 & 8 & 4500\\\\\n",
    "40 & 30 & 20 & 36000\\\\\n",
    "3 & 2 & 4 & 2700\\\\ \\end{array} \\right]$\n",
    "\n",
    "$Aeq,beq = \\left[ \\begin{array}{ccc|c}\n",
    "1 & 1 & 1 & 1000\\\\\n",
    "\\end{array} \\right]$\n",
    "\n",
    "f = $\\left[ \\begin{array}{ccc}\n",
    "70 & 80 & 85\\\\\n",
    "\\end{array} \\right]$"
   ]
  },
  {
   "cell_type": "code",
   "execution_count": 38,
   "metadata": {},
   "outputs": [
    {
     "name": "stdout",
     "output_type": "stream",
     "text": [
      "\n",
      "A =\n",
      "\n",
      "     1     4     8\n",
      "    40    30    20\n",
      "     3     2     4\n",
      "\n",
      "\n",
      "b =\n",
      "\n",
      "        4500        3600        2700\n",
      "\n",
      "\n",
      "Aeq =\n",
      "\n",
      "     1     1     1\n",
      "\n",
      "\n",
      "beq =\n",
      "\n",
      "        1000\n",
      "\n",
      "\n",
      "f =\n",
      "\n",
      "    70    80    85\n",
      "\n",
      "\n"
     ]
    }
   ],
   "source": [
    "% Exemplo linprog\n",
    "\n",
    "A = [[1 4 8];[40 30 20];[3 2 4]]\n",
    "b = [4500 3600 2700]\n",
    "\n",
    "Aeq = [1 1 1]\n",
    "beq = [1000]\n",
    "\n",
    "f = [70 80 85]\n",
    "\n",
    "%[x, fval] = linprog(f, A, b, Aeq, beq,[],[])\n",
    "%x\n",
    "%fval"
   ]
  },
  {
   "cell_type": "code",
   "execution_count": null,
   "metadata": {
    "collapsed": true
   },
   "outputs": [],
   "source": []
  }
 ],
 "metadata": {
  "celltoolbar": "Slideshow",
  "kernelspec": {
   "display_name": "Matlab",
   "language": "matlab",
   "name": "matlab"
  },
  "language_info": {
   "codemirror_mode": "octave",
   "file_extension": ".m",
   "help_links": [
    {
     "text": "MetaKernel Magics",
     "url": "https://github.com/calysto/metakernel/blob/master/metakernel/magics/README.md"
    }
   ],
   "mimetype": "text/x-octave",
   "name": "matlab",
   "version": "0.15.0"
  }
 },
 "nbformat": 4,
 "nbformat_minor": 2
}
