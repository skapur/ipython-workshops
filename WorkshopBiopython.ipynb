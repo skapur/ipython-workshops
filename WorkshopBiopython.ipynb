{
 "cells": [
  {
   "cell_type": "markdown",
   "metadata": {
    "nbpresent": {
     "id": "fea982d2-190e-461e-a876-4a2a825b421c"
    },
    "slideshow": {
     "slide_type": "slide"
    }
   },
   "source": [
    "<center><h2>Python for Bioinformatics</h2></center>\n",
    "<img src=\"https://ee5817f8e2e9a2e34042-3365e7f0719651e5b8d0979bce83c558.ssl.cf5.rackcdn.com/python.png\" alt=\"\" width=\"400\" height=\"83\"/>\n",
    "<h4>Vítor Vieira</h4>\n",
    "<h4>jose.vieira153@gmail.com</h4>\n",
    "<h4>NEBIUM</h4>\n",
    "<h4>April 10, 2017</h4>"
   ]
  },
  {
   "cell_type": "markdown",
   "metadata": {
    "nbpresent": {
     "id": "f64b99e3-c806-4368-a85b-cffac79e6c67"
    },
    "slideshow": {
     "slide_type": "slide"
    }
   },
   "source": [
    "# Scientific computing\n",
    "\n",
    "Why should we use programming?\n",
    "* Computers do exactly what you tell them to!\n",
    "* Human errors can be completely avoided with programming\n",
    "\n",
    "Why Python?\n",
    "* Human-readable syntax makes it easy to develop simple programs\n",
    "* Large amount of packages for all sorts of applications\n",
    "* Widely used in the scientific community (including bioinformatics)\n"
   ]
  },
  {
   "cell_type": "markdown",
   "metadata": {
    "slideshow": {
     "slide_type": "slide"
    }
   },
   "source": [
    "# Installing Python\n",
    "\n",
    "Standard Python installation:\n",
    "* Windows/OSX: <a href=https://www.python.org/downloads/>Download Python</a> and install\n",
    "* Linux comes pre-installed with Python\n",
    "\n",
    "Recommended (<a href=https://conda.io/miniconda.html>Download Miniconda</a>):\n",
    "* Windows: Install using the executable\n",
    "* Linux/OSX: Execute .sh file from command line (<i>sh file.sh</i>)"
   ]
  },
  {
   "cell_type": "markdown",
   "metadata": {
    "collapsed": true,
    "nbpresent": {
     "id": "41422408-63eb-43e7-8176-e02c824b356c"
    },
    "slideshow": {
     "slide_type": "subslide"
    }
   },
   "source": [
    "# Setting up a programming environment\n",
    "\n",
    "Python can be used in many ways:\n",
    "* <b>Interactive console</b>: Directly type commands one at a time\n",
    "* <b>.py files</b>: Files containing various commands that run sequentially\n",
    "\n",
    "Recommended:\n",
    "* Use an IDE (integrated development environment)\n",
    "* Write your commands in a file\n",
    "* Test blocks of code as you develop your programs\n",
    "\n",
    "\n"
   ]
  },
  {
   "cell_type": "markdown",
   "metadata": {
    "slideshow": {
     "slide_type": "subslide"
    }
   },
   "source": [
    "# Setting up a programming environment\n",
    "\n",
    "IDE options:\n",
    "* <a href=https://www.jetbrains.com/pycharm/> PyCharm </a>\n",
    "* <a href=https://pythonhosted.org/spyder/installation.html> Spyder </a>\n",
    "* <a href=https://www.eclipse.org/downloads/> Eclipse </a> + <a href=http://www.pydev.org/download.html> PyDev </a>\n",
    "* <a href=https://atom.io/> Atom </a> + <a href=https://atom.io/packages/hydrogen> Hydrogen package </a>"
   ]
  },
  {
   "cell_type": "markdown",
   "metadata": {
    "nbpresent": {
     "id": "844eb4bd-2dfe-4bc2-88eb-7ee70690a4c9"
    },
    "slideshow": {
     "slide_type": "slide"
    }
   },
   "source": [
    "# Python basics: Hello, world!\n",
    "\n",
    "Open a Python interactive console:\n",
    "* If everything is set correctly, type <i>python</i> in your operating system's command line.\n",
    "\n",
    "You can show outputs on the screen using the print command\n",
    "\n",
    "You can also add comments to your code using the hash sign (#)"
   ]
  },
  {
   "cell_type": "code",
   "execution_count": 2,
   "metadata": {
    "collapsed": false,
    "nbpresent": {
     "id": "b6b056d9-1919-4a68-8117-2d1532ba9568"
    },
    "slideshow": {
     "slide_type": "subslide"
    }
   },
   "outputs": [
    {
     "name": "stdout",
     "output_type": "stream",
     "text": [
      "Hello, world!\n"
     ]
    }
   ],
   "source": [
    "print \"Hello, world!\" # this is a comment\n",
    "# comments are ignored when running code"
   ]
  },
  {
   "cell_type": "markdown",
   "metadata": {
    "nbpresent": {
     "id": "823e8601-8c0c-479f-abf5-5d386a47d482"
    },
    "slideshow": {
     "slide_type": "slide"
    }
   },
   "source": [
    "# Python basics: variables\n",
    "\n",
    "A variable is a reference to some value we want to store.\n",
    "* Variables are assigned with the equal (=) sign\n",
    "* Variables can be named using alphanumerical characters but not if they start with a number\n",
    "\n",
    "Variables can be deleted with the del command\n",
    "\n",
    "\n",
    "\n",
    "\n"
   ]
  },
  {
   "cell_type": "code",
   "execution_count": 3,
   "metadata": {
    "collapsed": false,
    "nbpresent": {
     "id": "de714f8c-2e94-457d-bcf2-836d3202373f"
    },
    "slideshow": {
     "slide_type": "subslide"
    }
   },
   "outputs": [
    {
     "name": "stdout",
     "output_type": "stream",
     "text": [
      "6\n",
      "9\n"
     ]
    }
   ],
   "source": [
    "a = 6 # a now stores the value 6\n",
    "b = 9 # b now stores the value 9\n",
    "\n",
    "print a\n",
    "print b\n",
    "\n",
    "del a # deletes the variable"
   ]
  },
  {
   "cell_type": "markdown",
   "metadata": {
    "slideshow": {
     "slide_type": "slide"
    }
   },
   "source": [
    "# Python basics: basic math\n",
    "\n",
    "Basic math operations can be made with simple expressions.\n",
    "* You can also use variables inside them\n",
    "* Examples: sum (+), subtraction (-), multiplication (*), division(/)\n",
    "\n",
    "Do you notice the hash (#) in front of the code?\n",
    "* Anything to the right of the hash is ignored\n",
    "* Useful for adding comments"
   ]
  },
  {
   "cell_type": "code",
   "execution_count": 4,
   "metadata": {
    "collapsed": false,
    "nbpresent": {
     "id": "c5a30f75-7f9a-4d55-b3c6-91600f0db17b"
    },
    "slideshow": {
     "slide_type": "subslide"
    }
   },
   "outputs": [
    {
     "name": "stdout",
     "output_type": "stream",
     "text": [
      "6 9\n",
      "15 -3\n"
     ]
    }
   ],
   "source": [
    "a = 6 # a now stores the value 6\n",
    "b = 9 # b now stores the value 9\n",
    "\n",
    "c = a + b # a and b remain unchanged!\n",
    "d = a - b\n",
    "\n",
    "print a,b\n",
    "print c,d"
   ]
  },
  {
   "cell_type": "markdown",
   "metadata": {
    "collapsed": true,
    "slideshow": {
     "slide_type": "slide"
    }
   },
   "source": [
    "# Python basics: number types\n",
    "\n",
    "Python contains built-in types to represent data:\n",
    "* Integer: numbers without decimals\n",
    "* Long: long integers\n",
    "* Float: real values (with decimals)\n",
    "* Complex numbers\n",
    "\n",
    "Pay attention to number types when performing math operations!\n"
   ]
  },
  {
   "cell_type": "code",
   "execution_count": 5,
   "metadata": {
    "collapsed": false,
    "slideshow": {
     "slide_type": "subslide"
    }
   },
   "outputs": [
    {
     "name": "stdout",
     "output_type": "stream",
     "text": [
      "1\n",
      "1.33333333333\n"
     ]
    }
   ],
   "source": [
    "number = 20\n",
    "intnumber = int(number)\n",
    "floatnumber = float(number)\n",
    "print intnumber/15 # integer divided by an integer = another integer\n",
    "print floatnumber/15 # float divided by any number = a float"
   ]
  },
  {
   "cell_type": "markdown",
   "metadata": {
    "collapsed": true,
    "slideshow": {
     "slide_type": "slide"
    }
   },
   "source": [
    "# Python basics: strings\n",
    "\n",
    "Python can do more than just handle numbers.\n",
    "<b>Strings</b> represent groups of characters:\n",
    "* A string can be created by enclosing a word within quotation marks (\"\")\n",
    "* Anything can be converted to a string by using the command <b>str</b>()"
   ]
  },
  {
   "cell_type": "code",
   "execution_count": 6,
   "metadata": {
    "collapsed": false,
    "slideshow": {
     "slide_type": "subslide"
    }
   },
   "outputs": [
    {
     "name": "stdout",
     "output_type": "stream",
     "text": [
      "<type 'str'> <type 'int'>\n",
      "<type 'str'>\n"
     ]
    }
   ],
   "source": [
    "string = \"this is a string\"\n",
    "number = 4763\n",
    "print type(string),type(number) # returns the type of data contained in the variable\n",
    "anotherstring = str(number)\n",
    "print type(anotherstring)"
   ]
  },
  {
   "cell_type": "markdown",
   "metadata": {
    "slideshow": {
     "slide_type": "slide"
    }
   },
   "source": [
    "# Python basics: working with strings\n",
    "\n",
    "Some math operations work with strings:\n",
    "* Adding strings (concatenation)\n",
    "* Multiplying strings (string * number)\n",
    "\n",
    "You can access parts of the string by <b> indexing </b>:\n",
    "* [i] : the character in the i-th position\n",
    "* [:i] : characters up to position i\n",
    "* [-i] : i-th character from the end\n",
    "* [i:j] : characters from position i to position j\n",
    "\n",
    "<b>Important note:</b> The first position is 0!"
   ]
  },
  {
   "cell_type": "code",
   "execution_count": 7,
   "metadata": {
    "collapsed": false,
    "scrolled": true,
    "slideshow": {
     "slide_type": "subslide"
    }
   },
   "outputs": [
    {
     "name": "stdout",
     "output_type": "stream",
     "text": [
      "ACGTGCTGAGTGATGCTG\n",
      "ACGTGCTGAACGTGCTGAACGTGCTGA\n",
      "C is the second base of gene1.\n",
      "ATG is the second codon of gene2.\n",
      "CTG is the last codon of gene2.\n"
     ]
    }
   ],
   "source": [
    "gene1 = \"ACGTGCTGA\"\n",
    "gene2 = \"GTGATGCTG\"\n",
    "\n",
    "print gene1+gene2 # adding two strings\n",
    "print gene1*3 # multiplying strings\n",
    "print gene1[1] + \" is the second base of gene1.\"\n",
    "print gene2[3:(3+3)] + \" is the second codon of gene2.\"\n",
    "print gene2[-3:] + \" is the last codon of gene2.\""
   ]
  },
  {
   "cell_type": "markdown",
   "metadata": {
    "slideshow": {
     "slide_type": "slide"
    }
   },
   "source": [
    "# Python basics: string operations\n",
    "\n",
    "Strings (and other Python structures) are objects:\n",
    "* Objects are relatively complex so we'll skip some details\n",
    "* For now, think about objects as data that can have operations of their own\n",
    "\n",
    "Here are some examples of commands that work on strings:\n",
    "* \"abc\".upper() gives you \"ABC\"\n",
    "* \"ABC\".lower() gives you \"abc\"\n",
    "\n"
   ]
  },
  {
   "cell_type": "code",
   "execution_count": 8,
   "metadata": {
    "collapsed": false,
    "slideshow": {
     "slide_type": "subslide"
    }
   },
   "outputs": [
    {
     "name": "stdout",
     "output_type": "stream",
     "text": [
      "ABC\n",
      "abc\n",
      "  ABC  \n",
      "ABC\n"
     ]
    }
   ],
   "source": [
    "print \"abc\".upper()\n",
    "print \"ABC\".lower()\n",
    "print \"  ABC  \"\n",
    "print \"  ABC  \".strip()"
   ]
  },
  {
   "cell_type": "markdown",
   "metadata": {
    "slideshow": {
     "slide_type": "slide"
    }
   },
   "source": [
    "# Python basics: lists and tuples\n",
    "\n",
    "Lists and tuples allow you to store multiple values and work with them:\n",
    "* Lists are defined by enclosing items within square brackets []\n",
    "* Tuples are defined by enclosing items within parenthesis ()\n",
    "* Items must be separated by commas (,)\n",
    "* Indexing and math operations can be done in the same way as strings\n",
    "* Items can be added to lists using the <b>append</b> command\n",
    "* Item types do not need to be the same"
   ]
  },
  {
   "cell_type": "code",
   "execution_count": 9,
   "metadata": {
    "collapsed": false,
    "slideshow": {
     "slide_type": "subslide"
    }
   },
   "outputs": [
    {
     "name": "stdout",
     "output_type": "stream",
     "text": [
      "[1, 2, 3, 5, 8]\n",
      "[2, 3, 5]\n",
      "[1, 2, 3, 5, 8, 1, 2, 3, 5, 8, 1, 2, 3, 5, 8]\n",
      "[1, 2, 3, 5, 8, 1, 2, 3, 5, 8, 1, 2, 3, 5, 8]\n",
      "[1, 2, 3, 5, 8, 'A']\n"
     ]
    }
   ],
   "source": [
    "l = [1,2,3,5,8] # this is a list\n",
    "print l\n",
    "print l[1:4]\n",
    "print l*3\n",
    "print l + l + l\n",
    "l.append(\"A\")\n",
    "print l"
   ]
  },
  {
   "cell_type": "markdown",
   "metadata": {
    "slideshow": {
     "slide_type": "slide"
    }
   },
   "source": [
    "# Python basics: lists and tuples\n",
    "\n",
    "Why are tuples different than lists?\n",
    "* Lists are mutable (can be changed)\n",
    "* Tuples are immutable\n",
    "\n",
    "Indexation can be used to change values...\n",
    "* ... but not on tuples! (yields an error)\n",
    "\n",
    "Convert between list/tuple using:\n",
    "* <b>tuple</b>(list)\n",
    "* <b>list</b>(tuple)\n"
   ]
  },
  {
   "cell_type": "code",
   "execution_count": 11,
   "metadata": {
    "collapsed": false,
    "slideshow": {
     "slide_type": "subslide"
    }
   },
   "outputs": [
    {
     "name": "stdout",
     "output_type": "stream",
     "text": [
      "(1, 'item', 3, 5, 8, 'A')\n",
      "item\n"
     ]
    }
   ],
   "source": [
    "l[1] = \"item\" # changes the value on the second position\n",
    "t = tuple(l) # creates a tuple t with the same contents as the list l\n",
    "print t\n",
    "print t[1]\n",
    "# t[1] = \"value\" # will not work!"
   ]
  },
  {
   "cell_type": "markdown",
   "metadata": {
    "slideshow": {
     "slide_type": "slide"
    }
   },
   "source": [
    "# Python basics: dictionaries\n",
    "\n",
    "Dictionaries are used to store values so you can access them using a key instead of knowing their exact position:\n",
    "* Dictionaries are sets of keys each pointing to a certain value\n",
    "* If you want to access a value, simply index your dictionary using a key\n",
    "* They can be defined using curly brackets: {}"
   ]
  },
  {
   "cell_type": "code",
   "execution_count": 12,
   "metadata": {
    "collapsed": false,
    "slideshow": {
     "slide_type": "subslide"
    }
   },
   "outputs": [
    {
     "name": "stdout",
     "output_type": "stream",
     "text": [
      "a\n",
      "3\n"
     ]
    }
   ],
   "source": [
    "# creating a dictionary\n",
    "abc = {\"A\":1, \"B\":2}\n",
    "\n",
    "# this dictionary contains two key-value pairs\n",
    "# each pair is separated by commas\n",
    "# a pair is defined as key:value\n",
    "\n",
    "abc[\"C\"] = 3 # adding a key-value pair - \"C\":3\n",
    "abc[\"A\"] = \"a\" # modifying the value for key \"A\"\n",
    "print abc[\"A\"]\n",
    "print abc[\"C\"]"
   ]
  },
  {
   "cell_type": "markdown",
   "metadata": {
    "slideshow": {
     "slide_type": "slide"
    }
   },
   "source": [
    "# Python basics: conditional statements\n",
    "\n",
    "Boolean values indicate whether something is True or False:\n",
    "* You can make expressions to compare two or more values\n",
    "* The two values must be comparable\n",
    "\n",
    "Basic comparisons:\n",
    "* <b>a == b</b>  - Is a equal to b?\n",
    "* <b>a > b</b> - Is a greater than b?\n",
    "* Other operators include <=, >=\n",
    "\n",
    "Other comparisons:\n",
    "* <b> a in b </b> if a is contained in b (useful for lists or strings)\n",
    "* <b> not (expression) </b> to negate the value \n",
    "* <b> and </b>, <b> or </b> logical expressions"
   ]
  },
  {
   "cell_type": "code",
   "execution_count": 13,
   "metadata": {
    "collapsed": false,
    "slideshow": {
     "slide_type": "subslide"
    }
   },
   "outputs": [
    {
     "name": "stdout",
     "output_type": "stream",
     "text": [
      "True\n",
      "False\n",
      "True\n",
      "True\n",
      "False\n",
      "True\n"
     ]
    }
   ],
   "source": [
    "print 3 == 3 # is 3 equal to 3?\n",
    "print 3 < 2 # is 3 smaller than \n",
    "print 3 <= 3\n",
    "print \"tuga\" in \"Portugal\"\n",
    "print not(1 in [1,2,3,4])\n",
    "print (\"tuga\" in \"Portugal\") and (\"boa\" in \"Lisboa\")"
   ]
  },
  {
   "cell_type": "markdown",
   "metadata": {
    "slideshow": {
     "slide_type": "slide"
    }
   },
   "source": [
    "# Python basics: Flow control (conditional)\n",
    "\n",
    "Allows you to control when a block of code should be run:\n",
    "* They work a bit like checkpoints\n",
    "* if, else, elif statements\n",
    "* Each one requires an expression or boolean value to evaluate\n",
    "\n",
    "Important:\n",
    "* The code you run under each flow control statement needs to be indented!\n",
    "* Indenting just means adding a tab"
   ]
  },
  {
   "cell_type": "code",
   "execution_count": 14,
   "metadata": {
    "collapsed": false,
    "slideshow": {
     "slide_type": "subslide"
    }
   },
   "outputs": [
    {
     "name": "stdout",
     "output_type": "stream",
     "text": [
      "Gene 1 does not contain an adenine but contains a guanine\n"
     ]
    }
   ],
   "source": [
    "gene1 = \"GTGTGTG\"\n",
    "# Note: code below an if is indented\n",
    "# Code that is not indented will not be run inside the if statement\n",
    "\n",
    "if (\"A\" in gene1): # the if statement is checked first\n",
    "    print \"Gene 1 contains an adenine.\"\n",
    "elif (\"G\" in gene1): # if \"A\" is not on gene1, this condition is checked\n",
    "    print \"Gene 1 does not contain an adenine but contains a guanine\"\n",
    "elif (\"T\" in gene1): # if \"G\" is not on gene1, it moves to this condition\n",
    "    print \"Gene 1 does not contain an adenine or guanine, but contains a thymine\"\n",
    "else: # if none of the above are True, this is run as default\n",
    "    print \"Gene 1 does not contain an adenine, guanine or thymine\"\n",
    "    "
   ]
  },
  {
   "cell_type": "markdown",
   "metadata": {
    "slideshow": {
     "slide_type": "slide"
    }
   },
   "source": [
    "# Python basics: flow control statements (loops)\n",
    "\n",
    "Allows you to repeat instructions for as long as you like:\n",
    "* <b> For </b> statements specify exactly when you start and stop looping\n",
    "* <b> While </b> statements need a condition to fulfill. When it becomes false, the loop stops (dangerous!)\n",
    "\n",
    "Useful tips:\n",
    "* Use <b>len</b>(something) to get the amount of things it contains\n",
    "* Use <b>xrange</b>(i) to get all numbers from 0 to i-1\n",
    "\n",
    "Note:\n",
    "* xrange is not actually a list but works like one\n",
    "* You can convert it into a list using <b>list</b>(<b>xrange</b>(<i>number</i>))\n",
    "\n"
   ]
  },
  {
   "cell_type": "code",
   "execution_count": 15,
   "metadata": {
    "collapsed": false,
    "slideshow": {
     "slide_type": "subslide"
    }
   },
   "outputs": [
    {
     "name": "stdout",
     "output_type": "stream",
     "text": [
      "AGTGA\n",
      "ACTGC\n",
      "TAT\n",
      "GGTAAA\n",
      "--------------------\n",
      "4\n",
      "--------------------\n",
      "AGTGA\n",
      "ACTGC\n",
      "TAT\n",
      "GGTAAA\n"
     ]
    }
   ],
   "source": [
    "motifs = [\"AGTGA\",\"ACTGC\",\"TAT\",\"GGTAAA\"]\n",
    "\n",
    "# Two cycles to do exactly the same\n",
    "\n",
    "for mot in motifs: # for each item (we will call it mot) in the motifs list...\n",
    "    # mot is now a variable you can use inside this loop\n",
    "    print mot # print the item mot\n",
    "    \n",
    "print \"-\"*20\n",
    "print len(motifs)\n",
    "print \"-\"*20\n",
    "\n",
    "for i in xrange(len(motifs)):\n",
    "    print motifs[i]"
   ]
  },
  {
   "cell_type": "code",
   "execution_count": 16,
   "metadata": {
    "collapsed": false,
    "slideshow": {
     "slide_type": "subslide"
    }
   },
   "outputs": [
    {
     "name": "stdout",
     "output_type": "stream",
     "text": [
      "AGTGA\n",
      "ACTGC\n",
      "TAT\n",
      "GGTAAA\n"
     ]
    }
   ],
   "source": [
    "i = 0\n",
    "while(i < len(motifs)):\n",
    "    print motifs[i]\n",
    "    i = i + 1"
   ]
  },
  {
   "cell_type": "markdown",
   "metadata": {
    "collapsed": true,
    "slideshow": {
     "slide_type": "slide"
    }
   },
   "source": [
    "# Python basics: functions\n",
    "\n",
    "We have used functions along this workshop. Here is an example:\n",
    "* len(something) is a function that takes something (a string, for example)...\n",
    "* ... and returns its length\n",
    "\n",
    "Functions are blocks of code what perform some sort of task\n",
    "They're useful when something needs to be repeated multiple times\n",
    "\n",
    "What makes up a function?:\n",
    "* It must have a name!\n",
    "* It can have one or many inputs (called arguments)\n",
    "* It can return something\n"
   ]
  },
  {
   "cell_type": "code",
   "execution_count": 17,
   "metadata": {
    "collapsed": false,
    "slideshow": {
     "slide_type": "subslide"
    }
   },
   "outputs": [
    {
     "data": {
      "text/plain": [
       "2"
      ]
     },
     "execution_count": 17,
     "metadata": {},
     "output_type": "execute_result"
    }
   ],
   "source": [
    "# defining a function to count the number of\n",
    "# adenines in a given sequence (string)\n",
    "\n",
    "# you need to run the code defining the\n",
    "# function so you can use it\n",
    "\n",
    "# define function \"countAdenines\" which takes \n",
    "# a single argument named \"sequences\"\n",
    "\n",
    "def countAdenines(sequence):\n",
    "    counter = 0 # create a counter variable to store the result\n",
    "    for base in sequence: # for each letter in the string (base in the sequence)\n",
    "        if base == \"A\": # if the base equals the letter \"A\"\n",
    "            counter = counter + 1 # we add 1 to our counter\n",
    "    # once the cycle is over, we've counted all \"A\"s\n",
    "    return counter # return means this function has an output (counter)\n",
    "\n",
    "# calling the function\n",
    "countAdenines(\"ACGATGC\")\n"
   ]
  },
  {
   "cell_type": "markdown",
   "metadata": {
    "slideshow": {
     "slide_type": "slide"
    }
   },
   "source": [
    "# Python basics: practical example\n",
    "\n",
    "Let's apply this knowledge to solve a simple problem\n",
    "\n",
    "Determining GC content in oligonucleotides:\n",
    "* Assume we have a dictionary with names associated to primers\n",
    "* Make a function to calculate GC content for one primer\n",
    "* Print out the names of the primers and their GC content\n"
   ]
  },
  {
   "cell_type": "code",
   "execution_count": null,
   "metadata": {
    "collapsed": true
   },
   "outputs": [],
   "source": [
    "# A sample dictionary with primers\n",
    "\n",
    "a = {}\n",
    "a[\"primer1\"] = \"AGTGCTAAATTGGCT\"\n",
    "a[\"primer2\"] = \"GATGAGTGTTGCGTA\"\n",
    "a[\"primer3\"] = \"GTGAAAAATGATGAA\""
   ]
  },
  {
   "cell_type": "markdown",
   "metadata": {
    "slideshow": {
     "slide_type": "slide"
    }
   },
   "source": [
    "# Python basics: handling files\n",
    "\n",
    "You will often need to save your results for later use. Important file operations:\n",
    "* Open a file using the <b>open</b> command and assign it to a variable (f)\n",
    "* Write to a file using <b>f.write</b>(string), where string is your data\n",
    "* Read from a file using <b>f.read</b>() or <b>f.readlines</b>()\n",
    "* Close the file using <b>f.close</b>() "
   ]
  },
  {
   "cell_type": "code",
   "execution_count": 19,
   "metadata": {
    "collapsed": true,
    "slideshow": {
     "slide_type": "subslide"
    }
   },
   "outputs": [],
   "source": [
    "# open a file named myfile.txt in append mode\n",
    "f = open(\"myfile.txt\",\"a\")\n",
    "\n",
    "# create an empty list\n",
    "lines = []\n",
    "for key in a:\n",
    "    string = key+\"=\"+str(GCcontent(a[key])*100)+\"%\"\n",
    "    lines.append(string)\n",
    "# our empty list contains one string for each primer we have analyzed\n",
    "\n",
    "filecontent = '\\n'.join(lines)\n",
    "# \\n means \"go to the next line\n",
    "# join is a function that takes a list of strings\n",
    "# and joins them separated by \\n\n",
    "\n",
    "f.write(filecontent)\n",
    "f.close()\n",
    "\n",
    "# write the string we built to the file\n",
    "# close the file so it can't be modified\n"
   ]
  },
  {
   "cell_type": "markdown",
   "metadata": {
    "slideshow": {
     "slide_type": "slide"
    }
   },
   "source": [
    "# Useful resources\n",
    "\n",
    "* <b><a href=https://docs.python.org/>Official Python documentation</a></b>\n",
    "* <b><a href=http://pythontutor.com/visualize.html#mode=edit>Python visualizer</a></b>: Watch what's happening as you run your code\n",
    "* <b><a href=https://www.codecademy.com/learn/python> A more complete Python course </b>\n",
    "* Google is your friend!\n"
   ]
  },
  {
   "cell_type": "markdown",
   "metadata": {
    "slideshow": {
     "slide_type": "slide"
    }
   },
   "source": [
    "# Biopython\n",
    "\n",
    "Computational molecular biology tool for Python:\n",
    "* Able to deal with many formats of data from relevant bioinformatics platforms\n",
    "* Can be used to retrieve data from online services\n",
    "* Freely available!\n",
    "\n",
    "Check their <a href=http://biopython.org/wiki/Biopython>website</a> for further info"
   ]
  },
  {
   "cell_type": "markdown",
   "metadata": {},
   "source": [
    "# Installing Biopython\n",
    "\n",
    "Easiest, (mostly) trouble-free ways:\n",
    "* Have <a href=https://pip.pypa.io/en/stable/installing/#upgrading-pip>pip</a> installed and type <i>pip install biopython</i> on your terminal/command-line\n",
    "* With Miniconda: <i>conda install biopython</i>"
   ]
  },
  {
   "cell_type": "markdown",
   "metadata": {
    "slideshow": {
     "slide_type": "slide"
    }
   },
   "source": [
    "# Using Biopython: Python packages\n",
    "\n",
    "Any Python library that is (properly) installed can be accessed using the import command:\n",
    "* <b>import</b> ModuleName to import a module\n",
    "* <b>from</b> ModuleName <b>import</b> FunctionName to import a component from a function\n",
    "\n",
    "Useful information at the <a href=http://biopython.org/DIST/docs/api/Bio-module.html>Biopython documentation website</a>"
   ]
  },
  {
   "cell_type": "code",
   "execution_count": 20,
   "metadata": {
    "collapsed": false,
    "slideshow": {
     "slide_type": "subslide"
    }
   },
   "outputs": [
    {
     "name": "stdout",
     "output_type": "stream",
     "text": [
      "<module 'Bio' from 'C:\\Users\\Vitor Vieira\\Miniconda2\\lib\\site-packages\\Bio\\__init__.pyc'>\n"
     ]
    }
   ],
   "source": [
    "import Bio\n",
    "\n",
    "print Bio"
   ]
  },
  {
   "cell_type": "markdown",
   "metadata": {
    "slideshow": {
     "slide_type": "slide"
    }
   },
   "source": [
    "# Biopython basics: Creating sequences\n",
    "\n",
    "The most important part of Biopython is the Seq object:\n",
    "* Similarly to strings, Seq objects have functions (called methods) of their own\n",
    "* These functions are defined within the Biopython code\n",
    "\n",
    "We can perform basic operations on this object:\n",
    "* Complement sequence: .complement()\n",
    "* Reverse complement: .reverse_complement()\n",
    "* Transcribe, translate, etc..."
   ]
  },
  {
   "cell_type": "code",
   "execution_count": 21,
   "metadata": {
    "collapsed": false,
    "slideshow": {
     "slide_type": "subslide"
    }
   },
   "outputs": [
    {
     "name": "stdout",
     "output_type": "stream",
     "text": [
      "Complement sequence: TCACGACCG\n",
      "Reverse complement: GCCAGCACT\n",
      "Transcription: AGUGCUGGC\n",
      "Translation: SAG\n",
      "A = 1\n",
      "C = 2\n",
      "T = 2\n",
      "G = 4\n"
     ]
    }
   ],
   "source": [
    "from Bio.Seq import Seq #import the Seq object\n",
    "\n",
    "sequence = Seq(\"AGTGCTGGC\")\n",
    "\n",
    "print \"Complement sequence:\",sequence.complement()\n",
    "print \"Reverse complement:\",sequence.reverse_complement()\n",
    "print \"Transcription:\",sequence.transcribe()\n",
    "print \"Translation:\",sequence.translate()\n",
    "\n",
    "for base in \"ACTG\":\n",
    "    print base,\"=\",sequence.count(base)"
   ]
  },
  {
   "cell_type": "markdown",
   "metadata": {
    "slideshow": {
     "slide_type": "slide"
    }
   },
   "source": [
    "# Biopython basics: Reading sequence files\n",
    "\n",
    "Copying and pasting sequences is boring work! \n",
    "\n",
    "The SeqIO module helps you read FASTA and other sequence files:\n",
    "* The <b>parse</b> method reads what is in the files\n",
    "* You must specify the filename and the format it is written in\n",
    "* You can only access the data inside through a loop\n",
    "\n",
    "Each sequence read from a file is included in a SeqRecord object:\n",
    "* These objects contain the sequence (Seq)\n",
    "* Additionally, they store relevant information from the file\n",
    "* Fields: description, features, format, id, name, seq...\n",
    "\n"
   ]
  },
  {
   "cell_type": "code",
   "execution_count": 22,
   "metadata": {
    "collapsed": false,
    "slideshow": {
     "slide_type": "subslide"
    }
   },
   "outputs": [
    {
     "name": "stdout",
     "output_type": "stream",
     "text": [
      "JF917085.1\n",
      "TTCAGTTCTAGCCAACATTGAAGAAGTCAACAAACAAGTTGCAGCAGCCAAAAGCAAGAAGGAATATTATGTCATTTTTAATGGACCCATGAAAGGAATCTATGACGAATGGCATAAAGCAGCACCACATATTCAAGGACAATCCAGCATCATTCACAAGAAATATCCAAACATTGACGAAGCAAAAAAGGCTCTTGGAGGAAGCTATGCAGCAATCACTAATGCACCAGCATCACCCAGAGATACAAAAGTATTATTGGGAAGATTTAAAGTCCCTTCAGCACCAACAATTGATTCAATCCAAACTATTGAGTCAAAAATGAAAGCATTAAAAGTTACTCAGAAGAAATATAATGATTATATGGAGATCCTCTACAACTACAAGGATCAACATAAATTATTACATTTCTACCCTAAGTACCGAGATACAATTGGATACAAAGCAATAATCTTGCCCGAAGCATCAGCATTAACCACTTATGAATTGTTCAAAAATGGATTA\n"
     ]
    }
   ],
   "source": [
    "from Bio import SeqIO # import the SeqIO module\n",
    "seqfile = \"sequences.fasta\" # the name of our fasta file\n",
    "\n",
    "\n",
    "def seqRecList(seqfile, ftype):\n",
    "    sequences = SeqIO.parse(seqfile, ftype) # read the file\n",
    "    seqlist = list(sequences) # create a list with the entries\n",
    "    return seqlist\n",
    "\n",
    "seqlist = seqRecList(seqfile, \"fasta\")\n",
    "seqrec = seqlist[0]\n",
    "print seqrec.name\n",
    "print seqrec.seq"
   ]
  },
  {
   "cell_type": "markdown",
   "metadata": {
    "slideshow": {
     "slide_type": "slide"
    }
   },
   "source": [
    "# Biopython basics: Genbank and alphabets\n",
    "\n",
    "Some formats include more detailed annotations and alphabets:\n",
    "* Alphabets are ways to define what letters are allowed in sequences\n",
    "* Note that FASTA does not specify alphabets (unlike Genbank)\n",
    "\n",
    "Alphabets can be set on Seq objects by importing them:\n",
    "* There are various IUPAC alphabets to choose from\n",
    "* They can be found on the Bio.Alphabet.IUPAC module\n"
   ]
  },
  {
   "cell_type": "code",
   "execution_count": 23,
   "metadata": {
    "collapsed": false,
    "slideshow": {
     "slide_type": "subslide"
    }
   },
   "outputs": [
    {
     "name": "stdout",
     "output_type": "stream",
     "text": [
      "ID: JF917085.1\n",
      "Name: JF917085.1\n",
      "Description: JF917085.1 Blueberry red ringspot virus isolate UF1586 putative translational transactivator gene, partial cds\n",
      "Number of features: 0\n",
      "Seq('TTCAGTTCTAGCCAACATTGAAGAAGTCAACAAACAAGTTGCAGCAGCCAAAAG...TTA', SingleLetterAlphabet())\n",
      "****************************************************************************************************\n",
      "ID: JF917085.1\n",
      "Name: JF917085\n",
      "Description: Blueberry red ringspot virus isolate UF1586 putative translational transactivator gene, partial cds.\n",
      "Number of features: 2\n",
      "/source=Blueberry red ringspot virus\n",
      "/taxonomy=['Viruses', 'Retro-transcribing viruses', 'Caulimoviridae', 'Soymovirus']\n",
      "/keywords=['']\n",
      "/references=[Reference(title='First report of Blueberry red ringspot virus on southern highbush blueberry in Florida', ...), Reference(title='Direct Submission', ...)]\n",
      "/accessions=['JF917085']\n",
      "/data_file_division=VRL\n",
      "/date=25-JUL-2016\n",
      "/organism=Blueberry red ringspot virus\n",
      "/sequence_version=1\n",
      "/topology=linear\n",
      "Seq('TTCAGTTCTAGCCAACATTGAAGAAGTCAACAAACAAGTTGCAGCAGCCAAAAG...TTA', IUPACAmbiguousDNA())\n"
     ]
    }
   ],
   "source": [
    "from Bio import SeqIO # import the SeqIO module\n",
    "\n",
    "gbfile = \"sequence.gb\" # name of our genbank file\n",
    "gblist = seqRecList(gbfile,\"genbank\")\n",
    "gbrec = gblist[0]\n",
    "\n",
    "print seqrec\n",
    "print \"*\"*100\n",
    "print gbrec"
   ]
  },
  {
   "cell_type": "markdown",
   "metadata": {
    "slideshow": {
     "slide_type": "slide"
    }
   },
   "source": [
    "# Biopython basics: Manipulating and writing sequences\n",
    "\n",
    "Seq objects are immutable. Biopython allows you to change sequences with the MutableSeq object:\n",
    "* You can create new mutable sequences by using MutableSeq(sequence)\n",
    "* Or you can convert existing ones with the <b>tomutable</b>() method.\n",
    "\n",
    "We can write these (or any sequences) to a file:\n",
    "* The <b>write</b> function from SeqIO takes three arguments:\n",
    "    * A list of sequences\n",
    "    * An open file\n",
    "    * The desired format\n",
    "* Remember to close your file after writing!"
   ]
  },
  {
   "cell_type": "code",
   "execution_count": 24,
   "metadata": {
    "collapsed": false,
    "slideshow": {
     "slide_type": "subslide"
    }
   },
   "outputs": [],
   "source": [
    "from Bio.Seq import MutableSeq\n",
    "# gbrec.seq gets the Seq object from our SeqRecord\n",
    "# .tomutable() converts it to a mutable sequence\n",
    "seq = gbrec.seq.tomutable()\n",
    "# the first base is replaced by a G\n",
    "seq[0] = \"G\"\n",
    "# we must assign gbrec's Seq object to the one we manipulated\n",
    "gbrec.seq = seq\n",
    "\n",
    "# now we open a new file\n",
    "f = open(\"mygenbankfile.gb\",\"w\")\n",
    "SeqIO.write(gblist, f, \"genbank\")\n",
    "f.close()\n"
   ]
  },
  {
   "cell_type": "markdown",
   "metadata": {
    "slideshow": {
     "slide_type": "slide"
    }
   },
   "source": [
    "# Biopython basics: BLASTing sequences\n",
    "\n",
    "BLAST is an amazing tool to match sequences with huge databases...\n",
    "* ... but your results can get quite big\n",
    "* ... and the online interface is only useful for a few sequences\n",
    "\n",
    "Biopython includes tools to use both online and local BLAST:\n",
    "* You can automate your queries\n",
    "* Results can be automatically downloaded in whatever format\n",
    "* You can automatically filter what results you want"
   ]
  },
  {
   "cell_type": "code",
   "execution_count": 25,
   "metadata": {
    "collapsed": false,
    "slideshow": {
     "slide_type": "subslide"
    }
   },
   "outputs": [],
   "source": [
    "# we will use a function from Bio.Blast.NCBIWWW\n",
    "from Bio.Blast.NCBIWWW import qblast\n",
    "# qblast takes 3 arguments\n",
    "# (<blast program>, <database>, <sequence>)\n",
    "# we will search for protein sequences (\"blastp\")\n",
    "# on the non-redundant database (\"nr\")\n",
    "# for a protein with the \"P09327\" id\n",
    "\n",
    "from Bio.Blast import NCBIXML\n",
    "\n",
    "\n",
    "# BLAST calls might take a while...\n",
    "result = qblast(\"blastp\",\"nr\",\"P09327\")\n",
    "\n",
    "# Then we must read our result to a Blast\n",
    "# object with the read method from NCBIXML\n",
    "record = NCBIXML.read(result)\n",
    "\n",
    "# Reading only works ONCE! Do not run this command again"
   ]
  },
  {
   "cell_type": "code",
   "execution_count": 26,
   "metadata": {
    "collapsed": false,
    "slideshow": {
     "slide_type": "subslide"
    }
   },
   "outputs": [
    {
     "name": "stdout",
     "output_type": "stream",
     "text": [
      "gi|194394237|ref|NP_009058.2| villin-1 [Homo sapiens] >gi|224471905|sp|P09327.4|VILI_HUMAN RecName: Full=Villin-1 >gi|119591026|gb|EAW70620.1| villin 1, isoform CRA_b [Homo sapiens]\n",
      "E-value = 0.0\n",
      "Identity = 827\n",
      "Score =  4468.0\n",
      "gi|189053947|dbj|BAG36454.1| unnamed protein product [Homo sapiens]\n",
      "E-value = 0.0\n",
      "Identity = 826\n",
      "Score =  4462.0\n",
      "gi|62898357|dbj|BAD97118.1| villin 1 variant, partial [Homo sapiens]\n",
      "E-value = 0.0\n",
      "Identity = 826\n",
      "Score =  4461.0\n",
      "gi|37843|emb|CAA31386.1| unnamed protein product [Homo sapiens]\n",
      "E-value = 0.0\n",
      "Identity = 825\n",
      "Score =  4455.0\n",
      "gi|397495652|ref|XP_003818661.1| PREDICTED: villin-1 [Pan paniscus]\n",
      "E-value = 0.0\n",
      "Identity = 824\n",
      "Score =  4452.0\n",
      "gi|1034151853|ref|XP_001157250.3| PREDICTED: villin-1 [Pan troglodytes]\n",
      "E-value = 0.0\n",
      "Identity = 823\n",
      "Score =  4449.0\n",
      "gi|426338579|ref|XP_004033253.1| PREDICTED: villin-1 [Gorilla gorilla gorilla]\n",
      "E-value = 0.0\n",
      "Identity = 820\n",
      "Score =  4425.0\n",
      "gi|297669427|ref|XP_002812896.1| PREDICTED: villin-1 [Pongo abelii]\n",
      "E-value = 0.0\n",
      "Identity = 817\n",
      "Score =  4419.0\n",
      "gi|332246530|ref|XP_003272406.1| PREDICTED: villin-1 [Nomascus leucogenys]\n",
      "E-value = 0.0\n",
      "Identity = 811\n",
      "Score =  4408.0\n",
      "gi|635060720|ref|XP_007964468.1| PREDICTED: villin-1 isoform X2 [Chlorocebus sabaeus]\n",
      "E-value = 0.0\n",
      "Identity = 810\n",
      "Score =  4381.0\n",
      "gi|635060718|ref|XP_007964467.1| PREDICTED: villin-1 isoform X1 [Chlorocebus sabaeus]\n",
      "E-value = 0.0\n",
      "Identity = 810\n",
      "Score =  4377.0\n",
      "gi|355750838|gb|EHH55165.1| hypothetical protein EGM_04317 [Macaca fascicularis]\n",
      "E-value = 0.0\n",
      "Identity = 809\n",
      "Score =  4374.0\n",
      "gi|795647684|ref|XP_011738919.1| PREDICTED: villin-1 [Macaca nemestrina]\n",
      "E-value = 0.0\n",
      "Identity = 808\n",
      "Score =  4371.0\n",
      "gi|795611607|ref|XP_011918316.1| PREDICTED: villin-1 isoform X2 [Cercocebus atys]\n",
      "E-value = 0.0\n",
      "Identity = 807\n",
      "Score =  4368.0\n",
      "gi|544477666|ref|XP_005574339.1| PREDICTED: villin-1 [Macaca fascicularis]\n",
      "E-value = 0.0\n",
      "Identity = 808\n",
      "Score =  4368.0\n",
      "gi|109100978|ref|XP_001090524.1| PREDICTED: villin-1 [Macaca mulatta] >gi|355565182|gb|EHH21671.1| hypothetical protein EGK_04794 [Macaca mulatta]\n",
      "E-value = 0.0\n",
      "Identity = 808\n",
      "Score =  4366.0\n",
      "gi|795369761|ref|XP_011787655.1| PREDICTED: villin-1 [Colobus angolensis palliatus]\n",
      "E-value = 0.0\n",
      "Identity = 803\n",
      "Score =  4345.0\n",
      "gi|795611603|ref|XP_011918315.1| PREDICTED: villin-1 isoform X1 [Cercocebus atys]\n",
      "E-value = 0.0\n",
      "Identity = 807\n",
      "Score =  4334.0\n",
      "gi|724809644|ref|XP_010358535.1| PREDICTED: villin-1 [Rhinopithecus roxellana]\n",
      "E-value = 0.0\n",
      "Identity = 799\n",
      "Score =  4329.0\n",
      "gi|1059120948|ref|XP_017712302.1| PREDICTED: villin-1 [Rhinopithecus bieti]\n",
      "E-value = 0.0\n",
      "Identity = 798\n",
      "Score =  4327.0\n",
      "gi|817353191|ref|XP_012301489.1| PREDICTED: villin-1 [Aotus nancymaae] >gi|817353194|ref|XP_012301490.1| PREDICTED: villin-1 [Aotus nancymaae]\n",
      "E-value = 0.0\n",
      "Identity = 785\n",
      "Score =  4274.0\n",
      "gi|795280443|ref|XP_011820079.1| PREDICTED: villin-1 [Mandrillus leucophaeus]\n",
      "E-value = 0.0\n",
      "Identity = 787\n",
      "Score =  4223.0\n",
      "gi|403266870|ref|XP_003925583.1| PREDICTED: villin-1 [Saimiri boliviensis boliviensis]\n",
      "E-value = 0.0\n",
      "Identity = 783\n",
      "Score =  4221.0\n",
      "gi|402889399|ref|XP_003908004.1| PREDICTED: villin-1 [Papio anubis]\n",
      "E-value = 0.0\n",
      "Identity = 788\n",
      "Score =  4221.0\n",
      "gi|532089659|ref|XP_005330525.1| PREDICTED: villin-1 [Ictidomys tridecemlineatus]\n",
      "E-value = 0.0\n",
      "Identity = 766\n",
      "Score =  4185.0\n",
      "gi|640801491|ref|XP_008057037.1| PREDICTED: villin-1 [Carlito syrichta]\n",
      "E-value = 0.0\n",
      "Identity = 763\n",
      "Score =  4166.0\n",
      "gi|984091735|ref|XP_015336863.1| PREDICTED: villin-1 isoform X2 [Marmota marmota marmota]\n",
      "E-value = 0.0\n",
      "Identity = 764\n",
      "Score =  4164.0\n",
      "gi|560969916|ref|XP_006207324.1| PREDICTED: villin-1 [Vicugna pacos]\n",
      "E-value = 0.0\n",
      "Identity = 754\n",
      "Score =  4146.0\n",
      "gi|311273061|ref|XP_001925202.2| PREDICTED: villin-1 isoform X1 [Sus scrofa]\n",
      "E-value = 0.0\n",
      "Identity = 757\n",
      "Score =  4141.0\n",
      "gi|556747657|ref|XP_005969280.1| PREDICTED: villin-1 [Pantholops hodgsonii]\n",
      "E-value = 0.0\n",
      "Identity = 755\n",
      "Score =  4138.0\n",
      "gi|667265393|ref|XP_008568965.1| PREDICTED: villin-1 isoform X1 [Galeopterus variegatus]\n",
      "E-value = 0.0\n",
      "Identity = 758\n",
      "Score =  4135.0\n",
      "gi|332278130|sp|Q29261.2|VILI_PIG RecName: Full=Villin-1\n",
      "E-value = 0.0\n",
      "Identity = 755\n",
      "Score =  4134.0\n",
      "gi|554584056|ref|XP_005883485.1| PREDICTED: villin-1 [Myotis brandtii] >gi|554584058|ref|XP_005883486.1| PREDICTED: villin-1 [Myotis brandtii] >gi|946803141|ref|XP_014386539.1| PREDICTED: villin-1 [Myotis brandtii] >gi|521036651|gb|EPQ18429.1| Villin-1 [Myotis brandtii]\n",
      "E-value = 0.0\n",
      "Identity = 757\n",
      "Score =  4131.0\n",
      "gi|829929417|ref|XP_012595696.1| villin-1 isoform X2 [Microcebus murinus]\n",
      "E-value = 0.0\n",
      "Identity = 754\n",
      "Score =  4130.0\n",
      "gi|667265396|ref|XP_008568966.1| PREDICTED: villin-1 isoform X2 [Galeopterus variegatus]\n",
      "E-value = 0.0\n",
      "Identity = 758\n",
      "Score =  4130.0\n",
      "gi|803217553|ref|XP_011969133.1| PREDICTED: villin-1 [Ovis aries musimon]\n",
      "E-value = 0.0\n",
      "Identity = 752\n",
      "Score =  4125.0\n",
      "gi|1147246143|ref|XP_020026990.1| villin-1 [Castor canadensis]\n",
      "E-value = 0.0\n",
      "Identity = 757\n",
      "Score =  4123.0\n",
      "gi|1062921834|ref|XP_017914978.1| PREDICTED: villin-1 [Capra hircus]\n",
      "E-value = 0.0\n",
      "Identity = 752\n",
      "Score =  4123.0\n",
      "gi|947338518|ref|XP_006167044.2| PREDICTED: villin-1 [Tupaia chinensis]\n",
      "E-value = 0.0\n",
      "Identity = 756\n",
      "Score =  4116.0\n",
      "gi|744589340|ref|XP_010986627.1| PREDICTED: villin-1 [Camelus dromedarius]\n",
      "E-value = 0.0\n",
      "Identity = 751\n",
      "Score =  4112.0\n",
      "gi|1016646208|ref|XP_016052387.1| PREDICTED: villin-1 [Miniopterus natalensis]\n",
      "E-value = 0.0\n",
      "Identity = 752\n",
      "Score =  4110.0\n",
      "gi|560921375|ref|XP_006186896.1| PREDICTED: villin-1 [Camelus ferus] >gi|743707435|ref|XP_010947071.1| PREDICTED: villin-1 [Camelus bactrianus]\n",
      "E-value = 0.0\n",
      "Identity = 750\n",
      "Score =  4110.0\n",
      "gi|584087444|ref|XP_006763393.1| PREDICTED: villin-1 [Myotis davidii] >gi|584087446|ref|XP_006763394.1| PREDICTED: villin-1 [Myotis davidii] >gi|432103408|gb|ELK30513.1| Villin-1 [Myotis davidii]\n",
      "E-value = 0.0\n",
      "Identity = 752\n",
      "Score =  4110.0\n",
      "gi|1121773641|ref|XP_019493766.1| PREDICTED: villin-1 [Hipposideros armiger]\n",
      "E-value = 0.0\n",
      "Identity = 752\n",
      "Score =  4108.0\n",
      "gi|852727526|ref|XP_012867640.1| PREDICTED: villin-1 [Dipodomys ordii]\n",
      "E-value = 0.0\n",
      "Identity = 749\n",
      "Score =  4101.0\n",
      "gi|670995587|ref|XP_008688693.1| PREDICTED: villin-1 [Ursus maritimus]\n",
      "E-value = 0.0\n",
      "Identity = 751\n",
      "Score =  4100.0\n",
      "gi|301755756|ref|XP_002913713.1| PREDICTED: villin-1 [Ailuropoda melanoleuca]\n",
      "E-value = 0.0\n",
      "Identity = 752\n",
      "Score =  4097.0\n",
      "gi|641708673|ref|XP_008143393.1| PREDICTED: villin-1 [Eptesicus fuscus]\n",
      "E-value = 0.0\n",
      "Identity = 750\n",
      "Score =  4092.0\n",
      "gi|831217759|ref|XP_012657669.1| PREDICTED: villin-1 [Otolemur garnettii]\n",
      "E-value = 0.0\n",
      "Identity = 762\n",
      "Score =  4092.0\n",
      "gi|1048463111|ref|XP_017501105.1| PREDICTED: villin-1 [Manis javanica]\n",
      "E-value = 0.0\n",
      "Identity = 747\n",
      "Score =  4087.0\n"
     ]
    }
   ],
   "source": [
    "# for each alignment in our Blast record\n",
    "for alignment in record.alignments:\n",
    "    \n",
    "    # print out the title\n",
    "    print alignment.title\n",
    "    \n",
    "    # for each HSP in the alignment\n",
    "    # An HSP is a region in which two proteins match\n",
    "    for hsp in alignment.hsps:\n",
    "        print \"E-value =\",hsp.expect\n",
    "        print \"Identity =\",hsp.identities\n",
    "        print \"Score = \",hsp.score"
   ]
  },
  {
   "cell_type": "markdown",
   "metadata": {},
   "source": [
    "# Practical exercise\n",
    "\n",
    "Assume we have the sequence for a given protein but don't know which organism it resembles the most.\n",
    "\n",
    "We can use BLAST to find similar proteins on other organisms (blastp).\n",
    "\n",
    "Additionally:\n",
    "* Only consider BLAST entries with an E-value below 0.0001.\n",
    "* Search on the RefSeq database\n",
    "\n",
    "\n",
    "\n"
   ]
  },
  {
   "cell_type": "code",
   "execution_count": null,
   "metadata": {
    "collapsed": true
   },
   "outputs": [],
   "source": [
    "# Basic setup\n",
    "\n",
    "from Bio.Seq import Seq\n",
    "from Bio.SeqIO import parse\n",
    "\n",
    "from Bio.Blast.NCBIWWW import qblast\n",
    "from Bio.Blast import NCBIXML\n",
    "\n",
    "protein = parse(\"pseq0001.fasta\",\"fasta\").next()\n",
    "result = qblast(\"blastp\",\"nr\", protein)\n",
    "rec = NCBIXML.read(result)\n"
   ]
  }
 ],
 "metadata": {
  "celltoolbar": "Slideshow",
  "kernelspec": {
   "display_name": "Python 2",
   "language": "python",
   "name": "python2"
  },
  "language_info": {
   "codemirror_mode": {
    "name": "ipython",
    "version": 2
   },
   "file_extension": ".py",
   "mimetype": "text/x-python",
   "name": "python",
   "nbconvert_exporter": "python",
   "pygments_lexer": "ipython2",
   "version": "2.7.13"
  },
  "nbpresent": {
   "slides": {
    "0fbcbe0e-f832-4eef-8ca3-c1e73f93b82d": {
     "id": "0fbcbe0e-f832-4eef-8ca3-c1e73f93b82d",
     "layout": "grid",
     "prev": "2a9c4a3e-52d4-4723-8e75-25d2c9d0c680",
     "regions": {
      "64f8dabf-f66e-4e8f-9018-b3d9b04c025c": {
       "attrs": {
        "height": 1,
        "pad": 0.01,
        "width": 1,
        "x": 0,
        "y": 0
       },
       "content": {
        "cell": "f64b99e3-c806-4368-a85b-cffac79e6c67",
        "part": "whole"
       },
       "id": "64f8dabf-f66e-4e8f-9018-b3d9b04c025c"
      }
     }
    },
    "2a9c4a3e-52d4-4723-8e75-25d2c9d0c680": {
     "id": "2a9c4a3e-52d4-4723-8e75-25d2c9d0c680",
     "prev": null,
     "regions": {
      "17e3d2ff-42ae-4fdd-a2c1-97fee3bd209a": {
       "attrs": {
        "height": 1,
        "width": 1,
        "x": 0,
        "y": 0
       },
       "content": {
        "cell": "fea982d2-190e-461e-a876-4a2a825b421c",
        "part": "whole"
       },
       "id": "17e3d2ff-42ae-4fdd-a2c1-97fee3bd209a"
      }
     }
    }
   },
   "themes": {
    "default": "e04c4d55-3f2e-4116-a6b0-8196a13f3acd",
    "theme": {
     "2821e28d-221e-4b66-9759-3d880ecb0360": {
      "id": "2821e28d-221e-4b66-9759-3d880ecb0360",
      "palette": {
       "19cc588f-0593-49c9-9f4b-e4d7cc113b1c": {
        "id": "19cc588f-0593-49c9-9f4b-e4d7cc113b1c",
        "rgb": [
         252,
         252,
         252
        ]
       },
       "31af15d2-7e15-44c5-ab5e-e04b16a89eff": {
        "id": "31af15d2-7e15-44c5-ab5e-e04b16a89eff",
        "rgb": [
         68,
         68,
         68
        ]
       },
       "50f92c45-a630-455b-aec3-788680ec7410": {
        "id": "50f92c45-a630-455b-aec3-788680ec7410",
        "rgb": [
         155,
         177,
         192
        ]
       },
       "c5cc3653-2ee1-402a-aba2-7caae1da4f6c": {
        "id": "c5cc3653-2ee1-402a-aba2-7caae1da4f6c",
        "rgb": [
         43,
         126,
         184
        ]
       },
       "efa7f048-9acb-414c-8b04-a26811511a21": {
        "id": "efa7f048-9acb-414c-8b04-a26811511a21",
        "rgb": [
         25.118061674008803,
         73.60176211453744,
         107.4819383259912
        ]
       }
      },
      "rules": {
       "blockquote": {
        "color": "50f92c45-a630-455b-aec3-788680ec7410"
       },
       "code": {
        "font-family": "Anonymous Pro"
       },
       "h1": {
        "color": "c5cc3653-2ee1-402a-aba2-7caae1da4f6c",
        "font-family": "Lato",
        "font-size": 8
       },
       "h2": {
        "color": "c5cc3653-2ee1-402a-aba2-7caae1da4f6c",
        "font-family": "Lato",
        "font-size": 6
       },
       "h3": {
        "color": "50f92c45-a630-455b-aec3-788680ec7410",
        "font-family": "Lato",
        "font-size": 5.5
       },
       "h4": {
        "color": "c5cc3653-2ee1-402a-aba2-7caae1da4f6c",
        "font-family": "Lato",
        "font-size": 5
       },
       "h5": {
        "font-family": "Lato"
       },
       "h6": {
        "font-family": "Lato"
       },
       "h7": {
        "font-family": "Lato"
       },
       "pre": {
        "font-family": "Anonymous Pro",
        "font-size": 4
       }
      },
      "text-base": {
       "font-family": "Merriweather",
       "font-size": 4
      }
     },
     "c31421a5-a77c-4178-bfe4-2cca01391220": {
      "backgrounds": {
       "backgroundColor": {
        "background-color": "backgroundColor",
        "id": "backgroundColor"
       }
      },
      "id": "c31421a5-a77c-4178-bfe4-2cca01391220",
      "palette": {
       "backgroundColor": {
        "id": "backgroundColor",
        "rgb": [
         0,
         43,
         54
        ]
       },
       "headingColor": {
        "id": "headingColor",
        "rgb": [
         238,
         232,
         213
        ]
       },
       "linkColor": {
        "id": "linkColor",
        "rgb": [
         38,
         139,
         210
        ]
       },
       "mainColor": {
        "id": "mainColor",
        "rgb": [
         147,
         161,
         161
        ]
       }
      },
      "rules": {
       "a": {
        "color": "linkColor"
       },
       "h1": {
        "color": "headingColor",
        "font-family": "Oswald",
        "font-size": 7
       },
       "h2": {
        "color": "headingColor",
        "font-family": "Oswald",
        "font-size": 5
       },
       "h3": {
        "color": "headingColor",
        "font-family": "Oswald",
        "font-size": 3.75
       },
       "h4": {
        "color": "headingColor",
        "font-family": "Oswald",
        "font-size": 3
       },
       "h5": {
        "color": "headingColor",
        "font-family": "Oswald"
       },
       "h6": {
        "color": "headingColor",
        "font-family": "Oswald"
       },
       "h7": {
        "color": "headingColor",
        "font-family": "Oswald"
       },
       "li": {
        "color": "mainColor",
        "font-family": "Lato",
        "font-size": 5
       },
       "p": {
        "color": "mainColor",
        "font-family": "Lato",
        "font-size": 5
       }
      },
      "text-base": {
       "color": "mainColor",
       "font-family": "Lato",
       "font-size": 5
      }
     },
     "e04c4d55-3f2e-4116-a6b0-8196a13f3acd": {
      "backgrounds": {
       "backgroundColor": {
        "background-color": "backgroundColor",
        "id": "backgroundColor"
       }
      },
      "id": "e04c4d55-3f2e-4116-a6b0-8196a13f3acd",
      "palette": {
       "backgroundColor": {
        "id": "backgroundColor",
        "rgb": [
         240,
         241,
         235
        ]
       },
       "headingColor": {
        "id": "headingColor",
        "rgb": [
         56,
         61,
         61
        ]
       },
       "linkColor": {
        "id": "linkColor",
        "rgb": [
         81,
         72,
         61
        ]
       },
       "mainColor": {
        "id": "mainColor",
        "rgb": [
         0,
         0,
         0
        ]
       }
      },
      "rules": {
       "a": {
        "color": "linkColor"
       },
       "h1": {
        "color": "headingColor",
        "font-family": "EB Garamond",
        "font-size": 7
       },
       "h2": {
        "color": "headingColor",
        "font-family": "EB Garamond",
        "font-size": 5
       },
       "h3": {
        "color": "headingColor",
        "font-family": "EB Garamond",
        "font-size": 3.75
       },
       "h4": {
        "color": "headingColor",
        "font-family": "EB Garamond",
        "font-size": 3
       },
       "h5": {
        "color": "headingColor",
        "font-family": "EB Garamond"
       },
       "h6": {
        "color": "headingColor",
        "font-family": "EB Garamond"
       },
       "h7": {
        "color": "headingColor",
        "font-family": "EB Garamond"
       },
       "li": {
        "color": "mainColor",
        "font-family": "EB Garamond",
        "font-size": 5
       },
       "p": {
        "color": "mainColor",
        "font-family": "EB Garamond",
        "font-size": 5
       }
      },
      "text-base": {
       "color": "mainColor",
       "font-family": "EB Garamond",
       "font-size": 5
      }
     },
     "f8f2b7e6-4d04-473a-a3bb-387c1be55f71": {
      "id": "f8f2b7e6-4d04-473a-a3bb-387c1be55f71",
      "palette": {
       "19cc588f-0593-49c9-9f4b-e4d7cc113b1c": {
        "id": "19cc588f-0593-49c9-9f4b-e4d7cc113b1c",
        "rgb": [
         252,
         252,
         252
        ]
       },
       "31af15d2-7e15-44c5-ab5e-e04b16a89eff": {
        "id": "31af15d2-7e15-44c5-ab5e-e04b16a89eff",
        "rgb": [
         68,
         68,
         68
        ]
       },
       "50f92c45-a630-455b-aec3-788680ec7410": {
        "id": "50f92c45-a630-455b-aec3-788680ec7410",
        "rgb": [
         155,
         177,
         192
        ]
       },
       "c5cc3653-2ee1-402a-aba2-7caae1da4f6c": {
        "id": "c5cc3653-2ee1-402a-aba2-7caae1da4f6c",
        "rgb": [
         43,
         126,
         184
        ]
       },
       "efa7f048-9acb-414c-8b04-a26811511a21": {
        "id": "efa7f048-9acb-414c-8b04-a26811511a21",
        "rgb": [
         25.118061674008803,
         73.60176211453744,
         107.4819383259912
        ]
       }
      },
      "rules": {
       "blockquote": {
        "color": "50f92c45-a630-455b-aec3-788680ec7410"
       },
       "code": {
        "font-family": "Anonymous Pro"
       },
       "h1": {
        "color": "c5cc3653-2ee1-402a-aba2-7caae1da4f6c",
        "font-family": "Lato",
        "font-size": 8
       },
       "h2": {
        "color": "c5cc3653-2ee1-402a-aba2-7caae1da4f6c",
        "font-family": "Lato",
        "font-size": 6
       },
       "h3": {
        "color": "50f92c45-a630-455b-aec3-788680ec7410",
        "font-family": "Lato",
        "font-size": 5.5
       },
       "h4": {
        "color": "c5cc3653-2ee1-402a-aba2-7caae1da4f6c",
        "font-family": "Lato",
        "font-size": 5
       },
       "h5": {
        "font-family": "Lato"
       },
       "h6": {
        "font-family": "Lato"
       },
       "h7": {
        "font-family": "Lato"
       },
       "pre": {
        "font-family": "Anonymous Pro",
        "font-size": 4
       }
      },
      "text-base": {
       "font-family": "Merriweather",
       "font-size": 4
      }
     }
    }
   }
  }
 },
 "nbformat": 4,
 "nbformat_minor": 2
}
