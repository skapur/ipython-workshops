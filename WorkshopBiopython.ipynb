{
 "cells": [
  {
   "cell_type": "markdown",
   "metadata": {
    "nbpresent": {
     "id": "fea982d2-190e-461e-a876-4a2a825b421c"
    },
    "slideshow": {
     "slide_type": "slide"
    }
   },
   "source": [
    "<center><h2>Python for Bioinformatics</h2></center>\n",
    "<img src=\"https://ee5817f8e2e9a2e34042-3365e7f0719651e5b8d0979bce83c558.ssl.cf5.rackcdn.com/python.png\" alt=\"\" width=\"400\" height=\"83\"/>\n",
    "<h4>Vítor Vieira</h4>\n",
    "<h4>jose.vieira153@gmail.com</h4>\n",
    "<h4>NEBIUM</h4>\n",
    "<h4>April 10, 2017</h4>"
   ]
  },
  {
   "cell_type": "markdown",
   "metadata": {
    "nbpresent": {
     "id": "f64b99e3-c806-4368-a85b-cffac79e6c67"
    },
    "slideshow": {
     "slide_type": "slide"
    }
   },
   "source": [
    "# Scientific computing\n",
    "\n",
    "Why should we use programming?\n",
    "* Computers do exactly what you tell them to!\n",
    "* Human errors can be completely avoided with programming\n",
    "\n",
    "Why Python?\n",
    "* Human-readable syntax makes it easy to develop simple programs\n",
    "* Large amount of packages for all sorts of applications\n",
    "* Widely used in the scientific community (including bioinformatics)\n"
   ]
  },
  {
   "cell_type": "markdown",
   "metadata": {
    "slideshow": {
     "slide_type": "slide"
    }
   },
   "source": [
    "# Installing Python\n",
    "\n",
    "Standard Python installation:\n",
    "* Windows/OSX: <a href=https://www.python.org/downloads/>Download Python</a> and install\n",
    "* Linux comes pre-installed with Python\n",
    "\n",
    "Recommended (<a href=https://conda.io/miniconda.html>Download Miniconda</a>):\n",
    "* Windows: Install using the executable\n",
    "* Linux/OSX: Execute .sh file from command line (<i>sh file.sh</i>)"
   ]
  },
  {
   "cell_type": "markdown",
   "metadata": {
    "collapsed": true,
    "nbpresent": {
     "id": "41422408-63eb-43e7-8176-e02c824b356c"
    },
    "slideshow": {
     "slide_type": "subslide"
    }
   },
   "source": [
    "# Setting up a programming environment\n",
    "\n",
    "Python can be used in many ways:\n",
    "* <b>Interactive console</b>: Directly type commands one at a time\n",
    "* <b>.py files</b>: Files containing various commands that run sequentially\n",
    "\n",
    "Recommended:\n",
    "* Use an IDE (integrated development environment)\n",
    "* Write your commands in a file\n",
    "* Test blocks of code as you develop your programs\n",
    "\n",
    "\n"
   ]
  },
  {
   "cell_type": "markdown",
   "metadata": {
    "slideshow": {
     "slide_type": "subslide"
    }
   },
   "source": [
    "# Setting up a programming environment\n",
    "\n",
    "IDE options:\n",
    "* <a href=https://www.jetbrains.com/pycharm/> PyCharm </a>\n",
    "* <a href=https://pythonhosted.org/spyder/installation.html> Spyder </a>\n",
    "* <a href=https://www.eclipse.org/downloads/> Eclipse </a> + <a href=http://www.pydev.org/download.html> PyDev </a>\n",
    "* <a href=https://atom.io/> Atom </a> + <a href=https://atom.io/packages/hydrogen> Hydrogen package </a>"
   ]
  },
  {
   "cell_type": "markdown",
   "metadata": {
    "nbpresent": {
     "id": "844eb4bd-2dfe-4bc2-88eb-7ee70690a4c9"
    },
    "slideshow": {
     "slide_type": "slide"
    }
   },
   "source": [
    "# Python basics: Hello, world!\n",
    "\n",
    "Open a Python interactive console:\n",
    "* If everything is set correctly, type <i>python</i> in your operating system's command line.\n",
    "\n",
    "You can show outputs on the screen using the print command\n",
    "\n",
    "You can also add comments to your code using the hash sign (#)"
   ]
  },
  {
   "cell_type": "code",
   "execution_count": 2,
   "metadata": {
    "collapsed": false,
    "nbpresent": {
     "id": "b6b056d9-1919-4a68-8117-2d1532ba9568"
    },
    "slideshow": {
     "slide_type": "subslide"
    }
   },
   "outputs": [
    {
     "name": "stdout",
     "output_type": "stream",
     "text": [
      "Hello, world!\n"
     ]
    }
   ],
   "source": [
    "print \"Hello, world!\" # this is a comment\n",
    "# comments are ignored when running code"
   ]
  },
  {
   "cell_type": "markdown",
   "metadata": {
    "nbpresent": {
     "id": "823e8601-8c0c-479f-abf5-5d386a47d482"
    },
    "slideshow": {
     "slide_type": "slide"
    }
   },
   "source": [
    "# Python basics: variables\n",
    "\n",
    "A variable is a reference to some value we want to store.\n",
    "* Variables are assigned with the equal (=) sign\n",
    "* Variables can be named using alphanumerical characters but not if they start with a number\n",
    "\n",
    "Variables can be deleted with the del command\n",
    "\n",
    "\n",
    "\n",
    "\n"
   ]
  },
  {
   "cell_type": "code",
   "execution_count": 3,
   "metadata": {
    "collapsed": false,
    "nbpresent": {
     "id": "de714f8c-2e94-457d-bcf2-836d3202373f"
    },
    "slideshow": {
     "slide_type": "subslide"
    }
   },
   "outputs": [
    {
     "name": "stdout",
     "output_type": "stream",
     "text": [
      "6\n",
      "9\n"
     ]
    }
   ],
   "source": [
    "a = 6 # a now stores the value 6\n",
    "b = 9 # b now stores the value 9\n",
    "\n",
    "print a\n",
    "print b\n",
    "\n",
    "del a # deletes the variable"
   ]
  },
  {
   "cell_type": "markdown",
   "metadata": {
    "slideshow": {
     "slide_type": "slide"
    }
   },
   "source": [
    "# Python basics: basic math\n",
    "\n",
    "Basic math operations can be made with simple expressions.\n",
    "* You can also use variables inside them\n",
    "* Examples: sum (+), subtraction (-), multiplication (*), division(/)\n",
    "\n",
    "Do you notice the hash (#) in front of the code?\n",
    "* Anything to the right of the hash is ignored\n",
    "* Useful for adding comments"
   ]
  },
  {
   "cell_type": "code",
   "execution_count": 4,
   "metadata": {
    "collapsed": false,
    "nbpresent": {
     "id": "c5a30f75-7f9a-4d55-b3c6-91600f0db17b"
    },
    "slideshow": {
     "slide_type": "subslide"
    }
   },
   "outputs": [
    {
     "name": "stdout",
     "output_type": "stream",
     "text": [
      "6 9\n",
      "15 -3\n"
     ]
    }
   ],
   "source": [
    "a = 6 # a now stores the value 6\n",
    "b = 9 # b now stores the value 9\n",
    "\n",
    "c = a + b # a and b remain unchanged!\n",
    "d = a - b\n",
    "\n",
    "print a,b\n",
    "print c,d"
   ]
  },
  {
   "cell_type": "markdown",
   "metadata": {
    "collapsed": true,
    "slideshow": {
     "slide_type": "slide"
    }
   },
   "source": [
    "# Python basics: number types\n",
    "\n",
    "Python contains built-in types to represent data:\n",
    "* Integer: numbers without decimals\n",
    "* Long: long integers\n",
    "* Float: real values (with decimals)\n",
    "* Complex numbers\n",
    "\n",
    "Pay attention to number types when performing math operations!\n"
   ]
  },
  {
   "cell_type": "code",
   "execution_count": 5,
   "metadata": {
    "collapsed": false,
    "slideshow": {
     "slide_type": "subslide"
    }
   },
   "outputs": [
    {
     "name": "stdout",
     "output_type": "stream",
     "text": [
      "1\n",
      "1.33333333333\n"
     ]
    }
   ],
   "source": [
    "number = 20\n",
    "intnumber = int(number)\n",
    "floatnumber = float(number)\n",
    "print intnumber/15 # integer divided by an integer = another integer\n",
    "print floatnumber/15 # float divided by any number = a float"
   ]
  },
  {
   "cell_type": "markdown",
   "metadata": {
    "collapsed": true,
    "slideshow": {
     "slide_type": "slide"
    }
   },
   "source": [
    "# Python basics: strings\n",
    "\n",
    "Python can do more than just handle numbers.\n",
    "<b>Strings</b> represent groups of characters:\n",
    "* A string can be created by enclosing a word within quotation marks (\"\")\n",
    "* Anything can be converted to a string by using the command <b>str</b>()"
   ]
  },
  {
   "cell_type": "code",
   "execution_count": 6,
   "metadata": {
    "collapsed": false,
    "slideshow": {
     "slide_type": "subslide"
    }
   },
   "outputs": [
    {
     "name": "stdout",
     "output_type": "stream",
     "text": [
      "<type 'str'> <type 'int'>\n",
      "<type 'str'>\n"
     ]
    }
   ],
   "source": [
    "string = \"this is a string\"\n",
    "number = 4763\n",
    "print type(string),type(number) # returns the type of data contained in the variable\n",
    "anotherstring = str(number)\n",
    "print type(anotherstring)"
   ]
  },
  {
   "cell_type": "markdown",
   "metadata": {
    "slideshow": {
     "slide_type": "slide"
    }
   },
   "source": [
    "# Python basics: working with strings\n",
    "\n",
    "Some math operations work with strings:\n",
    "* Adding strings (concatenation)\n",
    "* Multiplying strings (string * number)\n",
    "\n",
    "You can access parts of the string by <b> indexing </b>:\n",
    "* [i] : the character in the i-th position\n",
    "* [:i] : characters up to position i\n",
    "* [-i] : i-th character from the end\n",
    "* [i:j] : characters from position i to position j\n",
    "\n",
    "<b>Important note:</b> The first position is 0!"
   ]
  },
  {
   "cell_type": "code",
   "execution_count": 7,
   "metadata": {
    "collapsed": false,
    "scrolled": true,
    "slideshow": {
     "slide_type": "subslide"
    }
   },
   "outputs": [
    {
     "name": "stdout",
     "output_type": "stream",
     "text": [
      "ACGTGCTGAGTGATGCTG\n",
      "ACGTGCTGAACGTGCTGAACGTGCTGA\n",
      "C is the second base of gene1.\n",
      "ATG is the second codon of gene2.\n",
      "CTG is the last codon of gene2.\n"
     ]
    }
   ],
   "source": [
    "gene1 = \"ACGTGCTGA\"\n",
    "gene2 = \"GTGATGCTG\"\n",
    "\n",
    "print gene1+gene2 # adding two strings\n",
    "print gene1*3 # multiplying strings\n",
    "print gene1[1] + \" is the second base of gene1.\"\n",
    "print gene2[3:(3+3)] + \" is the second codon of gene2.\"\n",
    "print gene2[-3:] + \" is the last codon of gene2.\""
   ]
  },
  {
   "cell_type": "markdown",
   "metadata": {
    "slideshow": {
     "slide_type": "slide"
    }
   },
   "source": [
    "# Python basics: string operations\n",
    "\n",
    "Strings (and other Python structures) are objects:\n",
    "* Objects are relatively complex so we'll skip some details\n",
    "* For now, think about objects as data that can have operations of their own\n",
    "\n",
    "Here are some examples of commands that work on strings:\n",
    "* \"abc\".upper() gives you \"ABC\"\n",
    "* \"ABC\".lower() gives you \"abc\"\n",
    "\n"
   ]
  },
  {
   "cell_type": "code",
   "execution_count": 8,
   "metadata": {
    "collapsed": false,
    "slideshow": {
     "slide_type": "subslide"
    }
   },
   "outputs": [
    {
     "name": "stdout",
     "output_type": "stream",
     "text": [
      "ABC\n",
      "abc\n",
      "  ABC  \n",
      "ABC\n"
     ]
    }
   ],
   "source": [
    "print \"abc\".upper()\n",
    "print \"ABC\".lower()\n",
    "print \"  ABC  \"\n",
    "print \"  ABC  \".strip()"
   ]
  },
  {
   "cell_type": "markdown",
   "metadata": {
    "slideshow": {
     "slide_type": "slide"
    }
   },
   "source": [
    "# Python basics: lists and tuples\n",
    "\n",
    "Lists and tuples allow you to store multiple values and work with them:\n",
    "* Lists are defined by enclosing items within square brackets []\n",
    "* Tuples are defined by enclosing items within parenthesis ()\n",
    "* Items must be separated by commas (,)\n",
    "* Indexing and math operations can be done in the same way as strings\n",
    "* Items can be added to lists using the <b>append</b> command\n",
    "* Item types do not need to be the same"
   ]
  },
  {
   "cell_type": "code",
   "execution_count": 9,
   "metadata": {
    "collapsed": false,
    "slideshow": {
     "slide_type": "subslide"
    }
   },
   "outputs": [
    {
     "name": "stdout",
     "output_type": "stream",
     "text": [
      "[1, 2, 3, 5, 8]\n",
      "[2, 3, 5]\n",
      "[1, 2, 3, 5, 8, 1, 2, 3, 5, 8, 1, 2, 3, 5, 8]\n",
      "[1, 2, 3, 5, 8, 1, 2, 3, 5, 8, 1, 2, 3, 5, 8]\n",
      "[1, 2, 3, 5, 8, 'A']\n"
     ]
    }
   ],
   "source": [
    "l = [1,2,3,5,8] # this is a list\n",
    "print l\n",
    "print l[1:4]\n",
    "print l*3\n",
    "print l + l + l\n",
    "l.append(\"A\")\n",
    "print l"
   ]
  },
  {
   "cell_type": "markdown",
   "metadata": {
    "slideshow": {
     "slide_type": "slide"
    }
   },
   "source": [
    "# Python basics: lists and tuples\n",
    "\n",
    "Why are tuples different than lists?\n",
    "* Lists are mutable (can be changed)\n",
    "* Tuples are immutable\n",
    "\n",
    "Indexation can be used to change values...\n",
    "* ... but not on tuples! (yields an error)\n",
    "\n",
    "Convert between list/tuple using:\n",
    "* <b>tuple</b>(list)\n",
    "* <b>list</b>(tuple)\n"
   ]
  },
  {
   "cell_type": "code",
   "execution_count": 11,
   "metadata": {
    "collapsed": false,
    "slideshow": {
     "slide_type": "subslide"
    }
   },
   "outputs": [
    {
     "name": "stdout",
     "output_type": "stream",
     "text": [
      "(1, 'item', 3, 5, 8, 'A')\n",
      "item\n"
     ]
    }
   ],
   "source": [
    "l[1] = \"item\" # changes the value on the second position\n",
    "t = tuple(l) # creates a tuple t with the same contents as the list l\n",
    "print t\n",
    "print t[1]\n",
    "# t[1] = \"value\" # will not work!"
   ]
  },
  {
   "cell_type": "markdown",
   "metadata": {
    "slideshow": {
     "slide_type": "slide"
    }
   },
   "source": [
    "# Python basics: dictionaries\n",
    "\n",
    "Dictionaries are used to store values so you can access them using a key instead of knowing their exact position:\n",
    "* Dictionaries are sets of keys each pointing to a certain value\n",
    "* If you want to access a value, simply index your dictionary using a key\n",
    "* They can be defined using curly brackets: {}"
   ]
  },
  {
   "cell_type": "code",
   "execution_count": 12,
   "metadata": {
    "collapsed": false,
    "slideshow": {
     "slide_type": "subslide"
    }
   },
   "outputs": [
    {
     "name": "stdout",
     "output_type": "stream",
     "text": [
      "a\n",
      "3\n"
     ]
    }
   ],
   "source": [
    "# creating a dictionary\n",
    "abc = {\"A\":1, \"B\":2}\n",
    "\n",
    "# this dictionary contains two key-value pairs\n",
    "# each pair is separated by commas\n",
    "# a pair is defined as key:value\n",
    "\n",
    "abc[\"C\"] = 3 # adding a key-value pair - \"C\":3\n",
    "abc[\"A\"] = \"a\" # modifying the value for key \"A\"\n",
    "print abc[\"A\"]\n",
    "print abc[\"C\"]"
   ]
  },
  {
   "cell_type": "markdown",
   "metadata": {
    "slideshow": {
     "slide_type": "slide"
    }
   },
   "source": [
    "# Python basics: conditional statements\n",
    "\n",
    "Boolean values indicate whether something is True or False:\n",
    "* You can make expressions to compare two or more values\n",
    "* The two values must be comparable\n",
    "\n",
    "Basic comparisons:\n",
    "* <b>a == b</b>  - Is a equal to b?\n",
    "* <b>a > b</b> - Is a greater than b?\n",
    "* Other operators include <=, >=\n",
    "\n",
    "Other comparisons:\n",
    "* <b> a in b </b> if a is contained in b (useful for lists or strings)\n",
    "* <b> not (expression) </b> to negate the value \n",
    "* <b> and </b>, <b> or </b> logical expressions"
   ]
  },
  {
   "cell_type": "code",
   "execution_count": 13,
   "metadata": {
    "collapsed": false,
    "slideshow": {
     "slide_type": "subslide"
    }
   },
   "outputs": [
    {
     "name": "stdout",
     "output_type": "stream",
     "text": [
      "True\n",
      "False\n",
      "True\n",
      "True\n",
      "False\n",
      "True\n"
     ]
    }
   ],
   "source": [
    "print 3 == 3 # is 3 equal to 3?\n",
    "print 3 < 2 # is 3 smaller than \n",
    "print 3 <= 3\n",
    "print \"tuga\" in \"Portugal\"\n",
    "print not(1 in [1,2,3,4])\n",
    "print (\"tuga\" in \"Portugal\") and (\"boa\" in \"Lisboa\")"
   ]
  },
  {
   "cell_type": "markdown",
   "metadata": {
    "slideshow": {
     "slide_type": "slide"
    }
   },
   "source": [
    "# Python basics: Flow control (conditional)\n",
    "\n",
    "Allows you to control when a block of code should be run:\n",
    "* They work a bit like checkpoints\n",
    "* if, else, elif statements\n",
    "* Each one requires an expression or boolean value to evaluate\n",
    "\n",
    "Important:\n",
    "* The code you run under each flow control statement needs to be indented!\n",
    "* Indenting just means adding a tab"
   ]
  },
  {
   "cell_type": "code",
   "execution_count": 14,
   "metadata": {
    "collapsed": false,
    "slideshow": {
     "slide_type": "subslide"
    }
   },
   "outputs": [
    {
     "name": "stdout",
     "output_type": "stream",
     "text": [
      "Gene 1 does not contain an adenine but contains a guanine\n"
     ]
    }
   ],
   "source": [
    "gene1 = \"GTGTGTG\"\n",
    "# Note: code below an if is indented\n",
    "# Code that is not indented will not be run inside the if statement\n",
    "\n",
    "if (\"A\" in gene1): # the if statement is checked first\n",
    "    print \"Gene 1 contains an adenine.\"\n",
    "elif (\"G\" in gene1): # if \"A\" is not on gene1, this condition is checked\n",
    "    print \"Gene 1 does not contain an adenine but contains a guanine\"\n",
    "elif (\"T\" in gene1): # if \"G\" is not on gene1, it moves to this condition\n",
    "    print \"Gene 1 does not contain an adenine or guanine, but contains a thymine\"\n",
    "else: # if none of the above are True, this is run as default\n",
    "    print \"Gene 1 does not contain an adenine, guanine or thymine\"\n",
    "    "
   ]
  },
  {
   "cell_type": "markdown",
   "metadata": {
    "slideshow": {
     "slide_type": "slide"
    }
   },
   "source": [
    "# Python basics: flow control statements (loops)\n",
    "\n",
    "Allows you to repeat instructions for as long as you like:\n",
    "* <b> For </b> statements specify exactly when you start and stop looping\n",
    "* <b> While </b> statements need a condition to fulfill. When it becomes false, the loop stops (dangerous!)\n",
    "\n",
    "Useful tips:\n",
    "* Use <b>len</b>(something) to get the amount of things it contains\n",
    "* Use <b>xrange</b>(i) to get all numbers from 0 to i-1\n",
    "\n",
    "Note:\n",
    "* xrange is not actually a list but works like one\n",
    "* You can convert it into a list using <b>list</b>(<b>xrange</b>(<i>number</i>))\n",
    "\n"
   ]
  },
  {
   "cell_type": "code",
   "execution_count": 15,
   "metadata": {
    "collapsed": false,
    "slideshow": {
     "slide_type": "subslide"
    }
   },
   "outputs": [
    {
     "name": "stdout",
     "output_type": "stream",
     "text": [
      "AGTGA\n",
      "ACTGC\n",
      "TAT\n",
      "GGTAAA\n",
      "--------------------\n",
      "4\n",
      "--------------------\n",
      "AGTGA\n",
      "ACTGC\n",
      "TAT\n",
      "GGTAAA\n"
     ]
    }
   ],
   "source": [
    "motifs = [\"AGTGA\",\"ACTGC\",\"TAT\",\"GGTAAA\"]\n",
    "\n",
    "# Two cycles to do exactly the same\n",
    "\n",
    "for mot in motifs: # for each item (we will call it mot) in the motifs list...\n",
    "    # mot is now a variable you can use inside this loop\n",
    "    print mot # print the item mot\n",
    "    \n",
    "print \"-\"*20\n",
    "print len(motifs)\n",
    "print \"-\"*20\n",
    "\n",
    "for i in xrange(len(motifs)):\n",
    "    print motifs[i]"
   ]
  },
  {
   "cell_type": "code",
   "execution_count": 16,
   "metadata": {
    "collapsed": false,
    "slideshow": {
     "slide_type": "subslide"
    }
   },
   "outputs": [
    {
     "name": "stdout",
     "output_type": "stream",
     "text": [
      "AGTGA\n",
      "ACTGC\n",
      "TAT\n",
      "GGTAAA\n"
     ]
    }
   ],
   "source": [
    "i = 0\n",
    "while(i < len(motifs)):\n",
    "    print motifs[i]\n",
    "    i = i + 1"
   ]
  },
  {
   "cell_type": "markdown",
   "metadata": {
    "collapsed": true,
    "slideshow": {
     "slide_type": "slide"
    }
   },
   "source": [
    "# Python basics: functions\n",
    "\n",
    "We have used functions along this workshop. Here is an example:\n",
    "* len(something) is a function that takes something (a string, for example)...\n",
    "* ... and returns its length\n",
    "\n",
    "Functions are blocks of code what perform some sort of task\n",
    "They're useful when something needs to be repeated multiple times\n",
    "\n",
    "What makes up a function?:\n",
    "* It must have a name!\n",
    "* It can have one or many inputs (called arguments)\n",
    "* It can return something\n"
   ]
  },
  {
   "cell_type": "code",
   "execution_count": 17,
   "metadata": {
    "collapsed": false,
    "slideshow": {
     "slide_type": "subslide"
    }
   },
   "outputs": [
    {
     "data": {
      "text/plain": [
       "2"
      ]
     },
     "execution_count": 17,
     "metadata": {},
     "output_type": "execute_result"
    }
   ],
   "source": [
    "# defining a function to count the number of\n",
    "# adenines in a given sequence (string)\n",
    "\n",
    "# you need to run the code defining the\n",
    "# function so you can use it\n",
    "\n",
    "# define function \"countAdenines\" which takes \n",
    "# a single argument named \"sequences\"\n",
    "\n",
    "def countAdenines(sequence):\n",
    "    counter = 0 # create a counter variable to store the result\n",
    "    for base in sequence: # for each letter in the string (base in the sequence)\n",
    "        if base == \"A\": # if the base equals the letter \"A\"\n",
    "            counter = counter + 1 # we add 1 to our counter\n",
    "    # once the cycle is over, we've counted all \"A\"s\n",
    "    return counter # return means this function has an output (counter)\n",
    "\n",
    "# calling the function\n",
    "countAdenines(\"ACGATGC\")\n"
   ]
  },
  {
   "cell_type": "markdown",
   "metadata": {
    "slideshow": {
     "slide_type": "slide"
    }
   },
   "source": [
    "# Python basics: practical example\n",
    "\n",
    "Let's apply this knowledge to solve a simple problem\n",
    "\n",
    "Determining GC content in oligonucleotides:\n",
    "* Assume we have a dictionary with names associated to primers\n",
    "* Make a function to calculate GC content for one primer\n",
    "* Print out the names of the primers and their GC content\n"
   ]
  },
  {
   "cell_type": "code",
   "execution_count": null,
   "metadata": {
    "collapsed": true
   },
   "outputs": [],
   "source": [
    "# A sample dictionary with primers\n",
    "\n",
    "a = {}\n",
    "a[\"primer1\"] = \"AGTGCTAAATTGGCT\"\n",
    "a[\"primer2\"] = \"GATGAGTGTTGCGTA\"\n",
    "a[\"primer3\"] = \"GTGAAAAATGATGAA\""
   ]
  },
  {
   "cell_type": "markdown",
   "metadata": {
    "slideshow": {
     "slide_type": "slide"
    }
   },
   "source": [
    "# Python basics: handling files\n",
    "\n",
    "You will often need to save your results for later use. Important file operations:\n",
    "* Open a file using the <b>open</b> command and assign it to a variable (f)\n",
    "* Write to a file using <b>f.write</b>(string), where string is your data\n",
    "* Read from a file using <b>f.read</b>() or <b>f.readlines</b>()\n",
    "* Close the file using <b>f.close</b>() "
   ]
  },
  {
   "cell_type": "code",
   "execution_count": 19,
   "metadata": {
    "collapsed": true,
    "slideshow": {
     "slide_type": "subslide"
    }
   },
   "outputs": [],
   "source": [
    "# open a file named myfile.txt in append mode\n",
    "f = open(\"myfile.txt\",\"a\")\n",
    "\n",
    "# create an empty list\n",
    "lines = []\n",
    "for key in a:\n",
    "    string = key+\"=\"+str(GCcontent(a[key])*100)+\"%\"\n",
    "    lines.append(string)\n",
    "# our empty list contains one string for each primer we have analyzed\n",
    "\n",
    "filecontent = '\\n'.join(lines)\n",
    "# \\n means \"go to the next line\n",
    "# join is a function that takes a list of strings\n",
    "# and joins them separated by \\n\n",
    "\n",
    "f.write(filecontent)\n",
    "f.close()\n",
    "\n",
    "# write the string we built to the file\n",
    "# close the file so it can't be modified\n"
   ]
  },
  {
   "cell_type": "markdown",
   "metadata": {
    "slideshow": {
     "slide_type": "slide"
    }
   },
   "source": [
    "# Useful resources\n",
    "\n",
    "* <b><a href=https://docs.python.org/>Official Python documentation</a></b>\n",
    "* <b><a href=http://pythontutor.com/visualize.html#mode=edit>Python visualizer</a></b>: Watch what's happening as you run your code\n",
    "* <b><a href=https://www.codecademy.com/learn/python> A more complete Python course </b>\n",
    "* Google is your friend!\n"
   ]
  },
  {
   "cell_type": "markdown",
   "metadata": {
    "slideshow": {
     "slide_type": "slide"
    }
   },
   "source": [
    "# Biopython\n",
    "\n",
    "Computational molecular biology tool for Python:\n",
    "* Able to deal with many formats of data from relevant bioinformatics platforms\n",
    "* Can be used to retrieve data from online services\n",
    "* Freely available!\n",
    "\n",
    "Check their <a href=http://biopython.org/wiki/Biopython>website</a> for further info"
   ]
  },
  {
   "cell_type": "markdown",
   "metadata": {},
   "source": [
    "# Installing Biopython\n",
    "\n",
    "Easiest, (mostly) trouble-free ways:\n",
    "* Have <a href=https://pip.pypa.io/en/stable/installing/#upgrading-pip>pip</a> installed and type <i>pip install biopython</i> on your terminal/command-line\n",
    "* With Miniconda: <i>conda install biopython</i>"
   ]
  },
  {
   "cell_type": "markdown",
   "metadata": {
    "slideshow": {
     "slide_type": "slide"
    }
   },
   "source": [
    "# Using Biopython: Python packages\n",
    "\n",
    "Any Python library that is (properly) installed can be accessed using the import command:\n",
    "* <b>import</b> ModuleName to import a module\n",
    "* <b>from</b> ModuleName <b>import</b> FunctionName to import a component from a function\n",
    "\n",
    "Useful information at the <a href=http://biopython.org/DIST/docs/api/Bio-module.html>Biopython documentation website</a>"
   ]
  },
  {
   "cell_type": "code",
   "execution_count": 20,
   "metadata": {
    "collapsed": false,
    "slideshow": {
     "slide_type": "subslide"
    }
   },
   "outputs": [
    {
     "name": "stdout",
     "output_type": "stream",
     "text": [
      "<module 'Bio' from 'C:\\Users\\Vitor Vieira\\Miniconda2\\lib\\site-packages\\Bio\\__init__.pyc'>\n"
     ]
    }
   ],
   "source": [
    "import Bio\n",
    "\n",
    "print Bio"
   ]
  },
  {
   "cell_type": "markdown",
   "metadata": {
    "slideshow": {
     "slide_type": "slide"
    }
   },
   "source": [
    "# Biopython basics: Creating sequences\n",
    "\n",
    "The most important part of Biopython is the Seq object:\n",
    "* Similarly to strings, Seq objects have functions (called methods) of their own\n",
    "* These functions are defined within the Biopython code\n",
    "\n",
    "We can perform basic operations on this object:\n",
    "* Complement sequence: .complement()\n",
    "* Reverse complement: .reverse_complement()\n",
    "* Transcribe, translate, etc..."
   ]
  },
  {
   "cell_type": "code",
   "execution_count": 21,
   "metadata": {
    "collapsed": false,
    "slideshow": {
     "slide_type": "subslide"
    }
   },
   "outputs": [
    {
     "name": "stdout",
     "output_type": "stream",
     "text": [
      "Complement sequence: TCACGACCG\n",
      "Reverse complement: GCCAGCACT\n",
      "Transcription: AGUGCUGGC\n",
      "Translation: SAG\n",
      "A = 1\n",
      "C = 2\n",
      "T = 2\n",
      "G = 4\n"
     ]
    }
   ],
   "source": [
    "from Bio.Seq import Seq #import the Seq object\n",
    "\n",
    "sequence = Seq(\"AGTGCTGGC\")\n",
    "\n",
    "print \"Complement sequence:\",sequence.complement()\n",
    "print \"Reverse complement:\",sequence.reverse_complement()\n",
    "print \"Transcription:\",sequence.transcribe()\n",
    "print \"Translation:\",sequence.translate()\n",
    "\n",
    "for base in \"ACTG\":\n",
    "    print base,\"=\",sequence.count(base)"
   ]
  },
  {
   "cell_type": "markdown",
   "metadata": {
    "slideshow": {
     "slide_type": "slide"
    }
   },
   "source": [
    "# Biopython basics: Reading sequence files\n",
    "\n",
    "Copying and pasting sequences is boring work! \n",
    "\n",
    "The SeqIO module helps you read FASTA and other sequence files:\n",
    "* The <b>parse</b> method reads what is in the files\n",
    "* You must specify the filename and the format it is written in\n",
    "* You can only access the data inside through a loop\n",
    "\n",
    "Each sequence read from a file is included in a SeqRecord object:\n",
    "* These objects contain the sequence (Seq)\n",
    "* Additionally, they store relevant information from the file\n",
    "* Fields: description, features, format, id, name, seq...\n",
    "\n"
   ]
  },
  {
   "cell_type": "code",
   "execution_count": 22,
   "metadata": {
    "collapsed": false,
    "slideshow": {
     "slide_type": "subslide"
    }
   },
   "outputs": [
    {
     "name": "stdout",
     "output_type": "stream",
     "text": [
      "JF917085.1\n",
      "TTCAGTTCTAGCCAACATTGAAGAAGTCAACAAACAAGTTGCAGCAGCCAAAAGCAAGAAGGAATATTATGTCATTTTTAATGGACCCATGAAAGGAATCTATGACGAATGGCATAAAGCAGCACCACATATTCAAGGACAATCCAGCATCATTCACAAGAAATATCCAAACATTGACGAAGCAAAAAAGGCTCTTGGAGGAAGCTATGCAGCAATCACTAATGCACCAGCATCACCCAGAGATACAAAAGTATTATTGGGAAGATTTAAAGTCCCTTCAGCACCAACAATTGATTCAATCCAAACTATTGAGTCAAAAATGAAAGCATTAAAAGTTACTCAGAAGAAATATAATGATTATATGGAGATCCTCTACAACTACAAGGATCAACATAAATTATTACATTTCTACCCTAAGTACCGAGATACAATTGGATACAAAGCAATAATCTTGCCCGAAGCATCAGCATTAACCACTTATGAATTGTTCAAAAATGGATTA\n"
     ]
    }
   ],
   "source": [
    "from Bio import SeqIO # import the SeqIO module\n",
    "seqfile = \"sequences.fasta\" # the name of our fasta file\n",
    "\n",
    "\n",
    "def seqRecList(seqfile, ftype):\n",
    "    sequences = SeqIO.parse(seqfile, ftype) # read the file\n",
    "    seqlist = list(sequences) # create a list with the entries\n",
    "    return seqlist\n",
    "\n",
    "seqlist = seqRecList(seqfile, \"fasta\")\n",
    "seqrec = seqlist[0]\n",
    "print seqrec.name\n",
    "print seqrec.seq"
   ]
  },
  {
   "cell_type": "markdown",
   "metadata": {
    "slideshow": {
     "slide_type": "slide"
    }
   },
   "source": [
    "# Biopython basics: Genbank and alphabets\n",
    "\n",
    "Some formats include more detailed annotations and alphabets:\n",
    "* Alphabets are ways to define what letters are allowed in sequences\n",
    "* Note that FASTA does not specify alphabets (unlike Genbank)\n",
    "\n",
    "Alphabets can be set on Seq objects by importing them:\n",
    "* There are various IUPAC alphabets to choose from\n",
    "* They can be found on the Bio.Alphabet.IUPAC module\n"
   ]
  },
  {
   "cell_type": "code",
   "execution_count": 23,
   "metadata": {
    "collapsed": false,
    "slideshow": {
     "slide_type": "subslide"
    }
   },
   "outputs": [
    {
     "name": "stdout",
     "output_type": "stream",
     "text": [
      "ID: JF917085.1\n",
      "Name: JF917085.1\n",
      "Description: JF917085.1 Blueberry red ringspot virus isolate UF1586 putative translational transactivator gene, partial cds\n",
      "Number of features: 0\n",
      "Seq('TTCAGTTCTAGCCAACATTGAAGAAGTCAACAAACAAGTTGCAGCAGCCAAAAG...TTA', SingleLetterAlphabet())\n",
      "****************************************************************************************************\n",
      "ID: JF917085.1\n",
      "Name: JF917085\n",
      "Description: Blueberry red ringspot virus isolate UF1586 putative translational transactivator gene, partial cds.\n",
      "Number of features: 2\n",
      "/source=Blueberry red ringspot virus\n",
      "/taxonomy=['Viruses', 'Retro-transcribing viruses', 'Caulimoviridae', 'Soymovirus']\n",
      "/keywords=['']\n",
      "/references=[Reference(title='First report of Blueberry red ringspot virus on southern highbush blueberry in Florida', ...), Reference(title='Direct Submission', ...)]\n",
      "/accessions=['JF917085']\n",
      "/data_file_division=VRL\n",
      "/date=25-JUL-2016\n",
      "/organism=Blueberry red ringspot virus\n",
      "/sequence_version=1\n",
      "/topology=linear\n",
      "Seq('TTCAGTTCTAGCCAACATTGAAGAAGTCAACAAACAAGTTGCAGCAGCCAAAAG...TTA', IUPACAmbiguousDNA())\n"
     ]
    }
   ],
   "source": [
    "from Bio import SeqIO # import the SeqIO module\n",
    "\n",
    "gbfile = \"sequence.gb\" # name of our genbank file\n",
    "gblist = seqRecList(gbfile,\"genbank\")\n",
    "gbrec = gblist[0]\n",
    "\n",
    "print seqrec\n",
    "print \"*\"*100\n",
    "print gbrec"
   ]
  },
  {
   "cell_type": "markdown",
   "metadata": {
    "slideshow": {
     "slide_type": "slide"
    }
   },
   "source": [
    "# Biopython basics: Manipulating and writing sequences\n",
    "\n",
    "Seq objects are immutable. Biopython allows you to change sequences with the MutableSeq object:\n",
    "* You can create new mutable sequences by using MutableSeq(sequence)\n",
    "* Or you can convert existing ones with the <b>tomutable</b>() method.\n",
    "\n",
    "We can write these (or any sequences) to a file:\n",
    "* The <b>write</b> function from SeqIO takes three arguments:\n",
    "    * A list of sequences\n",
    "    * An open file\n",
    "    * The desired format\n",
    "* Remember to close your file after writing!"
   ]
  },
  {
   "cell_type": "code",
   "execution_count": 24,
   "metadata": {
    "collapsed": false,
    "slideshow": {
     "slide_type": "subslide"
    }
   },
   "outputs": [],
   "source": [
    "from Bio.Seq import MutableSeq\n",
    "# gbrec.seq gets the Seq object from our SeqRecord\n",
    "# .tomutable() converts it to a mutable sequence\n",
    "seq = gbrec.seq.tomutable()\n",
    "# the first base is replaced by a G\n",
    "seq[0] = \"G\"\n",
    "# we must assign gbrec's Seq object to the one we manipulated\n",
    "gbrec.seq = seq\n",
    "\n",
    "# now we open a new file\n",
    "f = open(\"mygenbankfile.gb\",\"w\")\n",
    "SeqIO.write(gblist, f, \"genbank\")\n",
    "f.close()\n"
   ]
  },
  {
   "cell_type": "markdown",
   "metadata": {
    "slideshow": {
     "slide_type": "slide"
    }
   },
   "source": [
    "# Biopython basics: BLASTing sequences\n",
    "\n",
    "BLAST is an amazing tool to match sequences with huge databases...\n",
    "* ... but your results can get quite big\n",
    "* ... and the online interface is only useful for a few sequences\n",
    "\n",
    "Biopython includes tools to use both online and local BLAST:\n",
    "* You can automate your queries\n",
    "* Results can be automatically downloaded in whatever format\n",
    "* You can automatically filter what results you want"
   ]
  },
  {
   "cell_type": "code",
   "execution_count": 25,
   "metadata": {
    "collapsed": false,
    "slideshow": {
     "slide_type": "subslide"
    }
   },
   "outputs": [],
   "source": [
    "# we will use a function from Bio.Blast.NCBIWWW\n",
    "from Bio.Blast.NCBIWWW import qblast\n",
    "# qblast takes 3 arguments\n",
    "# (<blast program>, <database>, <sequence>)\n",
    "# we will search for protein sequences (\"blastp\")\n",
    "# on the non-redundant database (\"nr\")\n",
    "# for a protein with the \"P09327\" id\n",
    "\n",
    "from Bio.Blast import NCBIXML\n",
    "\n",
    "\n",
    "# BLAST calls might take a while...\n",
    "result = qblast(\"blastp\",\"nr\",\"P09327\")\n",
    "\n",
    "# Then we must read our result to a Blast\n",
    "# object with the read method from NCBIXML\n",
    "record = NCBIXML.read(result)\n",
    "\n",
    "# Reading only works ONCE! Do not run this command again"
   ]
  },
  {
   "cell_type": "code",
   "execution_count": 26,
   "metadata": {
    "collapsed": false,
    "slideshow": {
     "slide_type": "subslide"
    }
   },
   "outputs": [
    {
     "name": "stdout",
     "output_type": "stream",
     "text": [
      "gi|194394237|ref|NP_009058.2| villin-1 [Homo sapiens] >gi|224471905|sp|P09327.4|VILI_HUMAN RecName: Full=Villin-1 >gi|119591026|gb|EAW70620.1| villin 1, isoform CRA_b [Homo sapiens]\n",
      "E-value = 0.0\n",
      "Identity = 827\n",
      "Score =  4468.0\n",
      "gi|189053947|dbj|BAG36454.1| unnamed protein product [Homo sapiens]\n",
      "E-value = 0.0\n",
      "Identity = 826\n",
      "Score =  4462.0\n",
      "gi|62898357|dbj|BAD97118.1| villin 1 variant, partial [Homo sapiens]\n",
      "E-value = 0.0\n",
      "Identity = 826\n",
      "Score =  4461.0\n",
      "gi|37843|emb|CAA31386.1| unnamed protein product [Homo sapiens]\n",
      "E-value = 0.0\n",
      "Identity = 825\n",
      "Score =  4455.0\n",
      "gi|397495652|ref|XP_003818661.1| PREDICTED: villin-1 [Pan paniscus]\n",
      "E-value = 0.0\n",
      "Identity = 824\n",
      "Score =  4452.0\n",
      "gi|1034151853|ref|XP_001157250.3| PREDICTED: villin-1 [Pan troglodytes]\n",
      "E-value = 0.0\n",
      "Identity = 823\n",
      "Score =  4449.0\n",
      "gi|426338579|ref|XP_004033253.1| PREDICTED: villin-1 [Gorilla gorilla gorilla]\n",
      "E-value = 0.0\n",
      "Identity = 820\n",
      "Score =  4425.0\n",
      "gi|297669427|ref|XP_002812896.1| PREDICTED: villin-1 [Pongo abelii]\n",
      "E-value = 0.0\n",
      "Identity = 817\n",
      "Score =  4419.0\n",
      "gi|332246530|ref|XP_003272406.1| PREDICTED: villin-1 [Nomascus leucogenys]\n",
      "E-value = 0.0\n",
      "Identity = 811\n",
      "Score =  4408.0\n",
      "gi|635060720|ref|XP_007964468.1| PREDICTED: villin-1 isoform X2 [Chlorocebus sabaeus]\n",
      "E-value = 0.0\n",
      "Identity = 810\n",
      "Score =  4381.0\n",
      "gi|635060718|ref|XP_007964467.1| PREDICTED: villin-1 isoform X1 [Chlorocebus sabaeus]\n",
      "E-value = 0.0\n",
      "Identity = 810\n",
      "Score =  4377.0\n",
      "gi|355750838|gb|EHH55165.1| hypothetical protein EGM_04317 [Macaca fascicularis]\n",
      "E-value = 0.0\n",
      "Identity = 809\n",
      "Score =  4374.0\n",
      "gi|795647684|ref|XP_011738919.1| PREDICTED: villin-1 [Macaca nemestrina]\n",
      "E-value = 0.0\n",
      "Identity = 808\n",
      "Score =  4371.0\n",
      "gi|795611607|ref|XP_011918316.1| PREDICTED: villin-1 isoform X2 [Cercocebus atys]\n",
      "E-value = 0.0\n",
      "Identity = 807\n",
      "Score =  4368.0\n",
      "gi|544477666|ref|XP_005574339.1| PREDICTED: villin-1 [Macaca fascicularis]\n",
      "E-value = 0.0\n",
      "Identity = 808\n",
      "Score =  4368.0\n",
      "gi|109100978|ref|XP_001090524.1| PREDICTED: villin-1 [Macaca mulatta] >gi|355565182|gb|EHH21671.1| hypothetical protein EGK_04794 [Macaca mulatta]\n",
      "E-value = 0.0\n",
      "Identity = 808\n",
      "Score =  4366.0\n",
      "gi|795369761|ref|XP_011787655.1| PREDICTED: villin-1 [Colobus angolensis palliatus]\n",
      "E-value = 0.0\n",
      "Identity = 803\n",
      "Score =  4345.0\n",
      "gi|795611603|ref|XP_011918315.1| PREDICTED: villin-1 isoform X1 [Cercocebus atys]\n",
      "E-value = 0.0\n",
      "Identity = 807\n",
      "Score =  4334.0\n",
      "gi|724809644|ref|XP_010358535.1| PREDICTED: villin-1 [Rhinopithecus roxellana]\n",
      "E-value = 0.0\n",
      "Identity = 799\n",
      "Score =  4329.0\n",
      "gi|1059120948|ref|XP_017712302.1| PREDICTED: villin-1 [Rhinopithecus bieti]\n",
      "E-value = 0.0\n",
      "Identity = 798\n",
      "Score =  4327.0\n",
      "gi|817353191|ref|XP_012301489.1| PREDICTED: villin-1 [Aotus nancymaae] >gi|817353194|ref|XP_012301490.1| PREDICTED: villin-1 [Aotus nancymaae]\n",
      "E-value = 0.0\n",
      "Identity = 785\n",
      "Score =  4274.0\n",
      "gi|795280443|ref|XP_011820079.1| PREDICTED: villin-1 [Mandrillus leucophaeus]\n",
      "E-value = 0.0\n",
      "Identity = 787\n",
      "Score =  4223.0\n",
      "gi|403266870|ref|XP_003925583.1| PREDICTED: villin-1 [Saimiri boliviensis boliviensis]\n",
      "E-value = 0.0\n",
      "Identity = 783\n",
      "Score =  4221.0\n",
      "gi|402889399|ref|XP_003908004.1| PREDICTED: villin-1 [Papio anubis]\n",
      "E-value = 0.0\n",
      "Identity = 788\n",
      "Score =  4221.0\n",
      "gi|532089659|ref|XP_005330525.1| PREDICTED: villin-1 [Ictidomys tridecemlineatus]\n",
      "E-value = 0.0\n",
      "Identity = 766\n",
      "Score =  4185.0\n",
      "gi|640801491|ref|XP_008057037.1| PREDICTED: villin-1 [Carlito syrichta]\n",
      "E-value = 0.0\n",
      "Identity = 763\n",
      "Score =  4166.0\n",
      "gi|984091735|ref|XP_015336863.1| PREDICTED: villin-1 isoform X2 [Marmota marmota marmota]\n",
      "E-value = 0.0\n",
      "Identity = 764\n",
      "Score =  4164.0\n",
      "gi|560969916|ref|XP_006207324.1| PREDICTED: villin-1 [Vicugna pacos]\n",
      "E-value = 0.0\n",
      "Identity = 754\n",
      "Score =  4146.0\n",
      "gi|311273061|ref|XP_001925202.2| PREDICTED: villin-1 isoform X1 [Sus scrofa]\n",
      "E-value = 0.0\n",
      "Identity = 757\n",
      "Score =  4141.0\n",
      "gi|556747657|ref|XP_005969280.1| PREDICTED: villin-1 [Pantholops hodgsonii]\n",
      "E-value = 0.0\n",
      "Identity = 755\n",
      "Score =  4138.0\n",
      "gi|667265393|ref|XP_008568965.1| PREDICTED: villin-1 isoform X1 [Galeopterus variegatus]\n",
      "E-value = 0.0\n",
      "Identity = 758\n",
      "Score =  4135.0\n",
      "gi|332278130|sp|Q29261.2|VILI_PIG RecName: Full=Villin-1\n",
      "E-value = 0.0\n",
      "Identity = 755\n",
      "Score =  4134.0\n",
      "gi|554584056|ref|XP_005883485.1| PREDICTED: villin-1 [Myotis brandtii] >gi|554584058|ref|XP_005883486.1| PREDICTED: villin-1 [Myotis brandtii] >gi|946803141|ref|XP_014386539.1| PREDICTED: villin-1 [Myotis brandtii] >gi|521036651|gb|EPQ18429.1| Villin-1 [Myotis brandtii]\n",
      "E-value = 0.0\n",
      "Identity = 757\n",
      "Score =  4131.0\n",
      "gi|829929417|ref|XP_012595696.1| villin-1 isoform X2 [Microcebus murinus]\n",
      "E-value = 0.0\n",
      "Identity = 754\n",
      "Score =  4130.0\n",
      "gi|667265396|ref|XP_008568966.1| PREDICTED: villin-1 isoform X2 [Galeopterus variegatus]\n",
      "E-value = 0.0\n",
      "Identity = 758\n",
      "Score =  4130.0\n",
      "gi|803217553|ref|XP_011969133.1| PREDICTED: villin-1 [Ovis aries musimon]\n",
      "E-value = 0.0\n",
      "Identity = 752\n",
      "Score =  4125.0\n",
      "gi|1147246143|ref|XP_020026990.1| villin-1 [Castor canadensis]\n",
      "E-value = 0.0\n",
      "Identity = 757\n",
      "Score =  4123.0\n",
      "gi|1062921834|ref|XP_017914978.1| PREDICTED: villin-1 [Capra hircus]\n",
      "E-value = 0.0\n",
      "Identity = 752\n",
      "Score =  4123.0\n",
      "gi|947338518|ref|XP_006167044.2| PREDICTED: villin-1 [Tupaia chinensis]\n",
      "E-value = 0.0\n",
      "Identity = 756\n",
      "Score =  4116.0\n",
      "gi|744589340|ref|XP_010986627.1| PREDICTED: villin-1 [Camelus dromedarius]\n",
      "E-value = 0.0\n",
      "Identity = 751\n",
      "Score =  4112.0\n",
      "gi|1016646208|ref|XP_016052387.1| PREDICTED: villin-1 [Miniopterus natalensis]\n",
      "E-value = 0.0\n",
      "Identity = 752\n",
      "Score =  4110.0\n",
      "gi|560921375|ref|XP_006186896.1| PREDICTED: villin-1 [Camelus ferus] >gi|743707435|ref|XP_010947071.1| PREDICTED: villin-1 [Camelus bactrianus]\n",
      "E-value = 0.0\n",
      "Identity = 750\n",
      "Score =  4110.0\n",
      "gi|584087444|ref|XP_006763393.1| PREDICTED: villin-1 [Myotis davidii] >gi|584087446|ref|XP_006763394.1| PREDICTED: villin-1 [Myotis davidii] >gi|432103408|gb|ELK30513.1| Villin-1 [Myotis davidii]\n",
      "E-value = 0.0\n",
      "Identity = 752\n",
      "Score =  4110.0\n",
      "gi|1121773641|ref|XP_019493766.1| PREDICTED: villin-1 [Hipposideros armiger]\n",
      "E-value = 0.0\n",
      "Identity = 752\n",
      "Score =  4108.0\n",
      "gi|852727526|ref|XP_012867640.1| PREDICTED: villin-1 [Dipodomys ordii]\n",
      "E-value = 0.0\n",
      "Identity = 749\n",
      "Score =  4101.0\n",
      "gi|670995587|ref|XP_008688693.1| PREDICTED: villin-1 [Ursus maritimus]\n",
      "E-value = 0.0\n",
      "Identity = 751\n",
      "Score =  4100.0\n",
      "gi|301755756|ref|XP_002913713.1| PREDICTED: villin-1 [Ailuropoda melanoleuca]\n",
      "E-value = 0.0\n",
      "Identity = 752\n",
      "Score =  4097.0\n",
      "gi|641708673|ref|XP_008143393.1| PREDICTED: villin-1 [Eptesicus fuscus]\n",
      "E-value = 0.0\n",
      "Identity = 750\n",
      "Score =  4092.0\n",
      "gi|831217759|ref|XP_012657669.1| PREDICTED: villin-1 [Otolemur garnettii]\n",
      "E-value = 0.0\n",
      "Identity = 762\n",
      "Score =  4092.0\n",
      "gi|1048463111|ref|XP_017501105.1| PREDICTED: villin-1 [Manis javanica]\n",
      "E-value = 0.0\n",
      "Identity = 747\n",
      "Score =  4087.0\n"
     ]
    }
   ],
   "source": [
    "# for each alignment in our Blast record\n",
    "for alignment in record.alignments:\n",
    "    \n",
    "    # print out the title\n",
    "    print alignment.title\n",
    "    \n",
    "    # for each HSP in the alignment\n",
    "    # An HSP is a region in which two proteins match\n",
    "    for hsp in alignment.hsps:\n",
    "        print \"E-value =\",hsp.expect\n",
    "        print \"Identity =\",hsp.identities\n",
    "        print \"Score = \",hsp.score"
   ]
  },
  {
   "cell_type": "markdown",
   "metadata": {},
   "source": [
    "# Practical exercise\n",
    "\n",
    "Assume we have the sequence for a given protein but don't know which organism it resembles the most.\n",
    "\n",
    "We can use BLAST to find similar proteins on other organisms (blastp).\n",
    "\n",
    "Additionally:\n",
    "* Only consider BLAST entries with an E-value below 0.0001.\n",
    "* Search on the RefSeq database\n",
    "\n",
    "\n"
   ]
  },
  {
   "cell_type": "code",
   "execution_count": null,
   "metadata": {
    "collapsed": true
   },
   "outputs": [],
   "source": []
  },
  {
   "cell_type": "code",
   "execution_count": 36,
   "metadata": {
    "collapsed": false
   },
   "outputs": [],
   "source": [
    "from Bio.Seq import Seq\n",
    "from Bio.SeqIO import parse\n",
    "\n",
    "from Bio.Blast.NCBIWWW import qblast\n",
    "from Bio.Blast import NCBIXML\n",
    "\n",
    "protein = parse(\"pseq0001.fasta\",\"fasta\").next()\n",
    "result = qblast(\"blastp\",\"nr\", protein)\n",
    "rec = NCBIXML.read(result)"
   ]
  },
  {
   "cell_type": "code",
   "execution_count": 58,
   "metadata": {
    "collapsed": false
   },
   "outputs": [
    {
     "name": "stdout",
     "output_type": "stream",
     "text": [
      "gi|997417617|emb|CXX13434.1| peptidase M48 family protein [Staphylococcus aureus]\n",
      "gi|800833944|emb|CFO46540.1| peptidase M48 family protein [Staphylococcus aureus]\n",
      "gi|1152391584|ref|WP_078259047.1| hypothetical protein [Staphylococcus aureus] >gi|1029692678|emb|SAO56942.1| peptidase M48 family protein [Staphylococcus aureus] >gi|1029795313|emb|SBE18214.1| peptidase M48 family protein [Staphylococcus aureus]\n",
      "gi|1151119019|ref|WP_078090959.1| hypothetical protein [Staphylococcus aureus] >gi|582391314|gb|EVW85929.1| methicillin resistance mecR1 protein [Staphylococcus aureus T62848]\n",
      "gi|581794808|gb|EVR97908.1| methicillin resistance mecR1 protein, partial [Staphylococcus aureus M1338]\n",
      "gi|587457708|gb|EWX37972.1| methicillin resistance mecR1 protein [Staphylococcus aureus F92119_080312] >gi|600240429|gb|EYL42044.1| methicillin resistance mecR1 protein [Staphylococcus aureus F92121]\n",
      "gi|580553129|gb|EVF77559.1| methicillin resistance mecR1 protein [Staphylococcus aureus MISS6027] >gi|586437598|gb|EWS39107.1| methicillin resistance mecR1 protein [Staphylococcus aureus MISS6103]\n",
      "gi|1072551510|emb|SCR56053.1| peptidase M48 family protein [Staphylococcus aureus] >gi|1072575311|emb|SCR26406.1| peptidase M48 family protein [Staphylococcus aureus]\n",
      "gi|1151090290|ref|WP_078068248.1| methicillin resistance protein, partial [Staphylococcus aureus] >gi|577287656|gb|EUF03735.1| methicillin resistance mecR1 protein, partial [Staphylococcus aureus M0706]\n",
      "gi|600516657|gb|EYN10403.1| methicillin resistance mecR1 protein [Staphylococcus aureus DAR3587] >gi|600523214|gb|EYN16930.1| methicillin resistance mecR1 protein [Staphylococcus aureus DAR3590]\n",
      "gi|1151327648|ref|WP_078097648.1| methicillin resistance protein, partial [Staphylococcus aureus] >gi|599624730|gb|EYF55266.1| methicillin resistance mecR1 protein, partial [Staphylococcus aureus W45755_111412]\n",
      "gi|600901299|gb|EYQ92220.1| methicillin resistance mecR1 protein [Staphylococcus aureus DAR3156] >gi|600901557|gb|EYQ92474.1| methicillin resistance mecR1 protein [Staphylococcus aureus DAR3157] >gi|600909033|gb|EYQ99895.1| methicillin resistance mecR1 protein [Staphylococcus aureus DAR3166]\n",
      "gi|113927248|emb|CAL22892.1| truncated methicillin resistance regulator protein MecR1, partial [Staphylococcus aureus]\n",
      "gi|686443239|ref|WP_031925030.1| beta-lactam sensor/signal transducer MecR1 [Staphylococcus aureus] >gi|580264552|gb|EVC91737.1| methicillin resistance mecR1 protein [Staphylococcus aureus WAMC6013]\n",
      "gi|600599918|gb|EYN93032.1| methicillin resistance mecR1 protein [Staphylococcus aureus DAR3794]\n",
      "gi|1006155308|ref|WP_061734334.1| methicillin resistance protein [Staphylococcus aureus] >gi|997894607|emb|CYD11579.1| peptidase M48 family protein [Staphylococcus aureus]\n",
      "gi|896462600|ref|WP_049386685.1| beta-lactam sensor/signal transducer MecR1 [Staphylococcus epidermidis]\n",
      "gi|488423808|ref|WP_002493193.1| beta-lactam sensor/signal transducer MecR1, partial [Staphylococcus epidermidis] >gi|374410713|gb|EHQ81451.1| peptidase, M56 family, partial [Staphylococcus epidermidis VCU081]\n",
      "gi|920636664|ref|WP_053032304.1| beta-lactam sensor/signal transducer MecR1 [Staphylococcus haemolyticus] >gi|205825370|dbj|BAG71461.1| truncated signal transducer protein MecR1 [Staphylococcus aureus]\n",
      "gi|950823930|ref|WP_057521930.1| beta-lactam sensor/signal transducer MecR1 [Staphylococcus aureus] >gi|800827969|emb|CFN92154.1| peptidase M48 family protein [Staphylococcus aureus]\n",
      "gi|757463495|ref|WP_042744636.1| beta-lactam sensor/signal transducer MecR1 [Staphylococcus aureus] >gi|586343330|gb|EWR45332.1| methicillin resistance mecR1 protein [Staphylococcus aureus HBHO6021]\n",
      "gi|872482487|ref|WP_048520971.1| beta-lactam sensor/signal transducer MecR1 [Staphylococcus aureus] >gi|861793811|gb|KMR09247.1| methicillin resistance protein [Staphylococcus aureus]\n",
      "gi|686170044|ref|WP_031795113.1| beta-lactam sensor/signal transducer MecR1 [Staphylococcus aureus] >gi|612932566|gb|EZV43780.1| methicillin resistance mecR1 protein [Staphylococcus aureus 18439-62] >gi|613006132|gb|EZW16115.1| methicillin resistance mecR1 protein [Staphylococcus aureus 27999-3]\n",
      "gi|686149086|ref|WP_031783216.1| beta-lactam sensor/signal transducer MecR1 [Staphylococcus aureus] >gi|600688535|gb|EYO80961.1| methicillin resistance mecR1 protein [Staphylococcus aureus DAR5880]\n",
      "gi|835455874|ref|WP_047511997.1| beta-lactam sensor/signal transducer MecR1 [Staphylococcus epidermidis] >gi|694232995|gb|KGJ24119.1| methicillin resistance protein [Staphylococcus epidermidis]\n",
      "gi|486201760|ref|WP_001549960.1| MULTISPECIES: beta-lactam sensor/signal transducer MecR1 [Staphylococcus] >gi|1408063|gb|AAB03636.1| methicillin-resistance protein [Staphylococcus aureus subsp. aureus COL] >gi|21203196|dbj|BAB93897.1| truncated methicillin resistance protein MecR1 [Staphylococcus aureus subsp. aureus MW2] >gi|29539371|dbj|BAC67567.1| signal transducer protein MecR1 [Staphylococcus aureus] >gi|57285327|gb|AAW37421.1| methicillin-resistance MecR1 regulatory protein [Staphylococcus aureus subsp. aureus COL] >gi|62815939|emb|CAH17593.1| truncated signal transducer protein MecR1 [Staphylococcus aureus] >gi|73537131|gb|AAZ76237.1| truncated signal transducer protein MecR1 [Staphylococcus aureus] >gi|87128278|gb|ABD22792.1| methicillin-resistance MecR1 regulatory protein [Staphylococcus aureus subsp. aureus USA300_FPR3757] >gi|98986174|dbj|BAE94472.1| signal transducer protein MecR1 [Staphylococcus aureus] >gi|98986193|dbj|BAE94490.1| signal transducer protein MecR1 [Staphylococcus aureus] >gi|110624436|dbj|BAE98223.1| truncated sensor-transducer protein MecR1 [Staphylococcus aureus] >gi|110624452|dbj|BAE98238.1| truncated sensor-transducer protein MecR1 [Staphylococcus aureus] >gi|197267600|dbj|BAG69163.1| truncated sensor-transducer protein MecR1 [Staphylococcus aureus] >gi|213019981|dbj|BAG84188.1| truncated methicillin resistance protein MecR1 [Staphylococcus aureus] >gi|213020001|dbj|BAG84207.1| truncated methicillin resistance protein MecR1 [Staphylococcus aureus] >gi|238773826|dbj|BAH66390.1| truncated signal transducer protein MecR1 [Staphylococcus aureus] >gi|242233318|gb|EES35630.1| peptidase, M56 family [Staphylococcus epidermidis W23144] >gi|282324002|gb|EFB54318.1| signal transducer protein MecR1 [Staphylococcus aureus subsp. aureus WBG10049] >gi|282326128|gb|EFB56433.1| signal transducer protein MecR1 [Staphylococcus aureus subsp. aureus WW2703/97] >gi|282592101|gb|EFB97125.1| methicillin-resistance MecR1 regulatory protein [Staphylococcus aureus A9765] >gi|283789112|gb|EFC27939.1| methicillin-resistance MecR1 regulatory protein [Staphylococcus aureus subsp. aureus A017934/97] >gi|294822369|gb|EFG38821.1| methicillin resistance protein [Staphylococcus aureus A9754] >gi|300887621|gb|EFK82817.1| peptidase, M56 family [Staphylococcus aureus subsp. aureus TCH70] >gi|302182343|gb|ADK98570.1| Mec regulator [Staphylococcus epidermidis] >gi|302182364|gb|ADK98590.1| Mec regulator [Staphylococcus epidermidis] >gi|302182384|gb|ADK98609.1| Mec regulator [Staphylococcus epidermidis] >gi|302331804|gb|ADL21997.1| methicillin-resistance regulatory protein MecR1 [Staphylococcus aureus subsp. aureus JKD6159] >gi|312436825|gb|ADQ75896.1| peptidase, M56 family [Staphylococcus aureus subsp. aureus TCH60] >gi|315195887|gb|EFU26253.1| methicillin-resistance MecR1 regulatory protein [Staphylococcus aureus subsp. aureus CGS01] >gi|329734009|gb|EGG70329.1| peptidase, M56 family [Staphylococcus epidermidis VCU045] >gi|329734478|gb|EGG70790.1| peptidase, M56 family [Staphylococcus epidermidis VCU028] >gi|356871549|emb|CCE57888.1| methicillin resistance protein MecR (fragment) [Staphylococcus argenteus] >gi|357527272|dbj|BAL14875.1| truncated methicillin resistance protein MecR1 [Staphylococcus aureus] >gi|364521319|gb|AEW64069.1| peptidase M48 family protein [Staphylococcus aureus subsp. aureus 11819-97] >gi|365172129|gb|EHM62860.1| peptidase, M56 family [Staphylococcus aureus subsp. aureus 21209] >gi|371981494|gb|EHO98670.1| peptidase, M56 family [Staphylococcus aureus subsp. aureus 21333] >gi|374399471|gb|EHQ70612.1| peptidase, M56 family [Staphylococcus aureus subsp. aureus 21343] >gi|374821491|gb|EHR85549.1| peptidase, M56 family [Staphylococcus epidermidis VCU117] >gi|374828434|gb|EHR92268.1| peptidase, M56 family [Staphylococcus epidermidis VCU126] >gi|375019316|gb|EHS12872.1| peptidase, M56 family [Staphylococcus aureus subsp. aureus IS-24] >gi|375024484|gb|EHS17910.1| peptidase, M56 family [Staphylococcus aureus subsp. aureus IS-55] >gi|375028307|gb|EHS21656.1| peptidase, M56 family [Staphylococcus aureus subsp. aureus IS-91] >gi|375028855|gb|EHS22188.1| peptidase, M56 family [Staphylococcus aureus subsp. aureus IS-88] >gi|375034589|gb|EHS27747.1| peptidase, M56 family [Staphylococcus aureus subsp. aureus IS-105] >gi|375039101|gb|EHS32044.1| peptidase, M56 family [Staphylococcus aureus subsp. aureus IS-111] >gi|375369898|gb|EHS73756.1| peptidase, M56 family [Staphylococcus aureus subsp. aureus IS-160] >gi|377699922|gb|EHT24268.1| peptidase M48 family protein [Staphylococcus aureus subsp. aureus CIG1114] >gi|377721110|gb|EHT45252.1| peptidase M48 family protein [Staphylococcus aureus subsp. aureus CIG1835] >gi|377728429|gb|EHT52529.1| peptidase M48 family protein [Staphylococcus aureus subsp. aureus CIG1150] >gi|377739988|gb|EHT63987.1| peptidase M48 family protein [Staphylococcus aureus subsp. aureus CIG1612] >gi|377745762|gb|EHT69738.1| peptidase M48 family protein [Staphylococcus aureus subsp. aureus CIG1770] >gi|377747690|gb|EHT71654.1| peptidase M48 family protein [Staphylococcus aureus subsp. aureus CIG2018] >gi|377756578|gb|EHT80475.1| peptidase M48 family protein [Staphylococcus aureus subsp. aureus CIG1524] >gi|377759364|gb|EHT83245.1| peptidase M48 family protein [Staphylococcus aureus subsp. aureus CIGC340D] >gi|377773216|gb|EHT96962.1| peptidase M48 family protein [Staphylococcus aureus subsp. aureus CIGC128] >gi|383359143|gb|EID36576.1| peptidase, M56 family [Staphylococcus epidermidis IS-250] >gi|383363486|gb|EID40819.1| peptidase, M56 family [Staphylococcus epidermidis IS-K] >gi|383971143|gb|EID87228.1| peptidase, M56 family [Staphylococcus aureus subsp. aureus CO-23] >gi|387721847|gb|EIK09697.1| methicillin resistance mecR1 protein [Staphylococcus aureus subsp. aureus VRS3a] >gi|394240984|gb|EJD86405.1| methicillin-resistance MecR1 regulatory protein [Staphylococcus epidermidis NIHLM061] >gi|394250973|gb|EJD96101.1| methicillin-resistance MecR1 regulatory protein [Staphylococcus epidermidis NIHLM049] >gi|394288594|gb|EJE32501.1| peptidase, M56 family [Staphylococcus epidermidis NIH08001] >gi|394294558|gb|EJE38233.1| peptidase, M56 family [Staphylococcus epidermidis NIH06004] >gi|394296442|gb|EJE40069.1| peptidase, M56 family [Staphylococcus epidermidis NIH04003] >gi|394302595|gb|EJE46038.1| peptidase, M56 family [Staphylococcus epidermidis NIH051475] >gi|476600397|gb|EMZ08118.1| methicillin resistance mecR1 protein [Staphylococcus aureus M1228] >gi|477610311|gb|ENI27023.1| methicillin resistance mecR1 protein [Staphylococcus aureus HI010] >gi|477614327|gb|ENI31017.1| methicillin resistance mecR1 protein [Staphylococcus aureus HI010B] >gi|477616888|gb|ENI33564.1| methicillin resistance mecR1 protein [Staphylococcus aureus HI049B] >gi|477619197|gb|ENI35863.1| methicillin resistance mecR1 protein [Staphylococcus aureus HI013] >gi|477625233|gb|ENI41876.1| methicillin resistance mecR1 protein [Staphylococcus aureus HI049] >gi|477627455|gb|ENI44097.1| methicillin resistance mecR1 protein [Staphylococcus aureus HI111] >gi|477627569|gb|ENI44208.1| methicillin resistance mecR1 protein [Staphylococcus aureus HI049C] >gi|477634973|gb|ENI51563.1| methicillin resistance mecR1 protein [Staphylococcus aureus HI168] >gi|477646784|gb|ENI63264.1| methicillin resistance mecR1 protein [Staphylococcus aureus M0055] >gi|477709304|gb|ENJ24889.1| methicillin resistance mecR1 protein [Staphylococcus aureus M0221] >gi|477742037|gb|ENJ57299.1| methicillin resistance mecR1 protein [Staphylococcus aureus M0312] >gi|477760026|gb|ENJ75137.1| methicillin resistance mecR1 protein [Staphylococcus aureus M0340] >gi|477800337|gb|ENK15081.1| methicillin resistance mecR1 protein [Staphylococcus aureus M0424] >gi|477815282|gb|ENK29884.1| methicillin resistance mecR1 protein [Staphylococcus aureus M0468] >gi|477873274|gb|ENK87376.1| methicillin resistance mecR1 protein [Staphylococcus aureus M0633] >gi|477922691|gb|ENL36334.1| methicillin resistance mecR1 protein [Staphylococcus aureus M0831] >gi|477931166|gb|ENL44735.1| methicillin resistance mecR1 protein [Staphylococcus epidermidis M0881] >gi|477933080|gb|ENL46613.1| methicillin resistance mecR1 protein [Staphylococcus aureus M0877] >gi|477999859|gb|ENM12671.1| methicillin resistance mecR1 protein [Staphylococcus aureus M1064] >gi|478037995|gb|ENM50630.1| methicillin resistance mecR1 protein [Staphylococcus aureus M1223] >gi|478049403|gb|ENM61958.1| methicillin resistance mecR1 protein [Staphylococcus aureus M1256] >gi|478098029|gb|ENN10136.1| methicillin resistance mecR1 protein [Staphylococcus aureus M1462] >gi|479274887|emb|CCW20408.1| Methicillin resistance regulatory sensor-transducer MecR1 [Staphylococcus aureus M1] >gi|523405938|gb|EPR25013.1| methicillin resistance protein [Staphylococcus aureus SA_ST125_MupR] >gi|528849102|gb|EPZ04554.1| methicillin resistance protein [Staphylococcus aureus S130] >gi|537389553|gb|AGU60176.1| Beta-lactamase regulator protein [Staphylococcus aureus subsp. aureus CN1] >gi|545583001|gb|AGW35082.1| methicillin resistance regulatory sensor-transducer MecR1 [Staphylococcus aureus subsp. aureus SA40] >gi|557439147|gb|ESR29100.1| Signaltransducer protein MecR1 [Staphylococcus aureus subsp. aureus PSP1996] >gi|568815754|gb|AHE38041.1| Methicillin resistance regulatory sensor-transducer MecR1 [Staphylococcus aureus] >gi|568815795|gb|AHE38081.1| Methicillin resistance regulatory sensor-transducer MecR1 [Staphylococcus aureus] >gi|568815836|gb|AHE38121.1| Methicillin resistance regulatory sensor-transducer MecR1 [Staphylococcus aureus] >gi|568815877|gb|AHE38161.1| Methicillin resistance regulatory sensor-transducer MecR1 [Staphylococcus aureus] >gi|568816650|gb|AHE38610.1| truncated methicillin resistance regulatory protein MecR1 [Staphylococcus aureus] >gi|570298113|gb|ETO53022.1| methicillin resistance protein [Staphylococcus aureus MUM270] >gi|577163933|gb|EUD78064.1| methicillin resistance mecR1 protein [Staphylococcus aureus M0630] >gi|577174997|gb|EUD88921.1| methicillin resistance mecR1 protein [Staphylococcus aureus M0636] >gi|577175405|gb|EUD89310.1| methicillin resistance mecR1 protein [Staphylococcus aureus M0636] >gi|577189179|gb|EUE02848.1| methicillin resistance mecR1 protein [Staphylococcus aureus M0645] >gi|577208491|gb|EUE21721.1| methicillin resistance mecR1 protein [Staphylococcus aureus M0658] >gi|577208542|gb|EUE21768.1| methicillin resistance mecR1 protein [Staphylococcus aureus M0658] >gi|577219625|gb|EUE33103.1| methicillin resistance mecR1 protein [Staphylococcus aureus M0668] >gi|577231194|gb|EUE48383.1| methicillin resistance mecR1 protein [Staphylococcus aureus M0671] >gi|577232620|gb|EUE49779.1| methicillin resistance mecR1 protein [Staphylococcus aureus M0671] >gi|577299283|gb|EUF15129.1| methicillin resistance mecR1 protein [Staphylococcus aureus M0709] >gi|577329883|gb|EUF45093.1| methicillin resistance mecR1 protein [Staphylococcus aureus M0729] >gi|577330173|gb|EUF45365.1| methicillin resistance mecR1 protein [Staphylococcus aureus M0729] >gi|577332397|gb|EUF47518.1| methicillin resistance mecR1 protein [Staphylococcus aureus M0730] >gi|577377935|gb|EUF92359.1| methicillin resistance mecR1 protein [Staphylococcus aureus M0511] >gi|577385197|gb|EUF99542.1| methicillin resistance mecR1 protein [Staphylococcus aureus M0524] >gi|577440001|gb|EUG53762.1| methicillin resistance mecR1 protein [Staphylococcus aureus M0284] >gi|577452923|gb|EUG66515.1| methicillin resistance mecR1 protein [Staphylococcus aureus M0352] >gi|577488130|gb|EUH01354.1| methicillin resistance mecR1 protein [Staphylococcus aureus M0002] >gi|577496556|gb|EUH09663.1| methicillin resistance mecR1 protein [Staphylococcus aureus M0047] >gi|577500064|gb|EUH13122.1| methicillin resistance mecR1 protein [Staphylococcus aureus M0059] >gi|577504656|gb|EUH17641.1| methicillin resistance mecR1 protein [Staphylococcus aureus M0088] >gi|577511912|gb|EUH24811.1| methicillin resistance mecR1 protein [Staphylococcus aureus M0113] >gi|577587675|gb|EUH99745.1| methicillin resistance mecR1 protein [Staphylococcus aureus M1375] >gi|577606997|gb|EUI18887.1| methicillin resistance mecR1 protein [Staphylococcus aureus M1427] >gi|577642513|gb|EUI53983.1| methicillin resistance mecR1 protein [Staphylococcus aureus M1183] >gi|577659417|gb|EUI70727.1| methicillin resistance mecR1 protein [Staphylococcus aureus M1294] >gi|577674008|gb|EUI85144.1| methicillin resistance mecR1 protein [Staphylococcus aureus M1346] >gi|577788254|gb|EUJ48704.1| methicillin resistance mecR1 protein [Staphylococcus aureus DAR948] >gi|577811636|gb|EUJ71862.1| methicillin resistance mecR1 protein [Staphylococcus aureus DAR3165] >gi|577811694|gb|EUJ71918.1| methicillin resistance mecR1 protein [Staphylococcus aureus DAR5898] >gi|577812906|gb|EUJ73115.1| methicillin resistance mecR1 protein [Staphylococcus aureus DAR5897] >gi|577819700|gb|EUJ79875.1| methicillin resistance mecR1 protein [Staphylococcus aureus DAR5896] >gi|577822374|gb|EUJ82500.1| methicillin resistance mecR1 protein [Staphylococcus aureus DAR5895] >gi|577822602|gb|EUJ82722.1| methicillin resistance mecR1 protein [Staphylococcus aureus DAR5894] >gi|577825262|gb|EUJ85362.1| methicillin resistance mecR1 protein [Staphylococcus aureus DAR5893] >gi|577830353|gb|EUJ90400.1| methicillin resistance mecR1 protein [Staphylococcus aureus DAR5892] >gi|577831449|gb|EUJ91480.1| methicillin resistance mecR1 protein [Staphylococcus aureus DAR5891] >gi|577831963|gb|EUJ91986.1| methicillin resistance mecR1 protein [Staphylococcus aureus DAR5882] >gi|577839197|gb|EUJ99153.1| methicillin resistance mecR1 protein [Staphylococcus aureus DAR5883] >gi|577839248|gb|EUJ99203.1| methicillin resistance mecR1 protein [Staphylococcus aureus DAR5876] >gi|577841686|gb|EUK01620.1| methicillin resistance mecR1 protein [Staphylococcus aureus DAR5866] >gi|577846380|gb|EUK06270.1| methicillin resistance mecR1 protein [Staphylococcus aureus DAR5860] >gi|577847655|gb|EUK07534.1| methicillin resistance mecR1 protein [Staphylococcus aureus DAR5844] >gi|577852740|gb|EUK12569.1| methicillin resistance mecR1 protein [Staphylococcus aureus DAR5842] >gi|577853919|gb|EUK13736.1| methicillin resistance mecR1 protein [Staphylococcus aureus DAR5810] >gi|578499122|gb|EUN36206.1| methicillin resistance protein [Staphylococcus aureus subsp. aureus 300-169] >gi|578499196|gb|EUN36278.1| methicillin resistance protein [Staphylococcus aureus subsp. aureus 301-188] >gi|578898292|gb|EUP42415.1| methicillin resistance mecR1 protein [Staphylococcus aureus GGMC6057] >gi|578905361|gb|EUP49444.1| methicillin resistance mecR1 protein [Staphylococcus aureus PLAC6058] >gi|578909728|gb|EUP53783.1| methicillin resistance mecR1 protein [Staphylococcus aureus WAMC6081] >gi|578910085|gb|EUP54137.1| methicillin resistance mecR1 protein [Staphylococcus aureus UCIM6146] >gi|578911234|gb|EUP55278.1| methicillin resistance mecR1 protein [Staphylococcus aureus KINW6062] >gi|578915960|gb|EUP59982.1| methicillin resistance mecR1 protein [Staphylococcus aureus KINW6061] >gi|578918381|gb|EUP62385.1| methicillin resistance mecR1 protein [Staphylococcus aureus WMCA6123] >gi|578921898|gb|EUP65892.1| methicillin resistance mecR1 protein [Staphylococcus aureus FVRH6138] >gi|578925828|gb|EUP69787.1| methicillin resistance mecR1 protein [Staphylococcus aureus WMCA6100] >gi|578940376|gb|EUP84229.1| methicillin resistance mecR1 protein [Staphylococcus aureus UCIM6134] >gi|578940419|gb|EUP84271.1| methicillin resistance mecR1 protein [Staphylococcus aureus WMCA6091] >gi|578942593|gb|EUP86430.1| methicillin resistance mecR1 protein [Staphylococcus aureus WAMC6108] >gi|578943695|gb|EUP87528.1| methicillin resistance mecR1 protein [Staphylococcus aureus UCIM6126] >gi|578950469|gb|EUP94271.1| methicillin resistance mecR1 protein [Staphylococcus aureus WMCA6084] >gi|578951560|gb|EUP95350.1| methicillin resistance mecR1 protein [Staphylococcus aureus COAS6095] >gi|578958668|gb|EUQ02427.1| methicillin resistance mecR1 protein [Staphylococcus aureus WMCA6180] >gi|578960126|gb|EUQ03868.1| methicillin resistance mecR1 protein [Staphylococcus aureus FVRH6076] >gi|578960169|gb|EUQ03910.1| methicillin resistance mecR1 protein [Staphylococcus aureus LAMC6094] >gi|578965847|gb|EUQ09570.1| methicillin resistance mecR1 protein [Staphylococcus aureus UCIM6085] >gi|578967309|gb|EUQ11020.1| methicillin resistance mecR1 protein [Staphylococcus aureus SJOS6139] >gi|578972153|gb|EUQ15839.1| methicillin resistance mecR1 protein [Staphylococcus aureus KINB6009] >gi|578974386|gb|EUQ18043.1| methicillin resistance mecR1 protein [Staphylococcus aureus LAMC6066] >gi|578978607|gb|EUQ22233.1| methicillin resistance mecR1 protein [Staphylococcus aureus OCMM6065] >gi|578978650|gb|EUQ22275.1| methicillin resistance mecR1 protein [Staphylococcus aureus SJUD6114] >gi|578985817|gb|EUQ29409.1| methicillin resistance mecR1 protein [Staphylococcus aureus HSOU6002] >gi|578987064|gb|EUQ30642.1| methicillin resistance mecR1 protein [Staphylococcus aureus SMMC6087] >gi|578994190|gb|EUQ37730.1| methicillin resistance mecR1 protein [Staphylococcus aureus UCIM6057] >gi|579002041|gb|EUQ45534.1| methicillin resistance mecR1 protein [Staphylococcus aureus SJUD6022] >gi|579009328|gb|EUQ52761.1| methicillin resistance mecR1 protein [Staphylococcus aureus AGEN6010] >gi|579014417|gb|EUQ57801.1| methicillin resistance mecR1 protein [Staphylococcus aureus SCLE6005] >gi|579020299|gb|EUQ63629.1| methicillin resistance mecR1 protein [Staphylococcus aureus COAS6001] >gi|579036888|gb|EUQ80070.1| methicillin resistance mecR1 protein [Staphylococcus aureus SJOS6098] >gi|579044121|gb|EUQ87258.1| methicillin resistance mecR1 protein [Staphylococcus aureus COAS6039] >gi|579045560|gb|EUQ88692.1| methicillin resistance mecR1 protein [Staphylococcus aureus CHOC6045] >gi|579050210|gb|EUQ93316.1| methicillin resistance mecR1 protein [Staphylococcus aureus TUSH6001] >gi|579050278|gb|EUQ93383.1| methicillin resistance mecR1 protein [Staphylococcus aureus UCIM6019] >gi|579056831|gb|EUQ99900.1| methicillin resistance mecR1 protein [Staphylococcus aureus MISS6007] >gi|579056899|gb|EUQ99967.1| methicillin resistance mecR1 protein [Staphylococcus aureus HOAG6059] >gi|579069082|gb|EUR12058.1| methicillin resistance mecR1 protein [Staphylococcus aureus LAMC0037] >gi|579069347|gb|EUR12320.1| methicillin resistance mecR1 protein [Staphylococcus aureus SCOA6012] >gi|579074387|gb|EUR17322.1| methicillin resistance mecR1 protein [Staphylococcus aureus SJUD6056] >gi|579077713|gb|EUR20641.1| methicillin resistance mecR1 protein [Staphylococcus aureus SJUD6064] >gi|579080373|gb|EUR23291.1| methicillin resistance mecR1 protein [Staphylococcus aureus SMMC6007] >gi|579085384|gb|EUR28283.1| methicillin resistance mecR1 protein [Staphylococcus aureus COAS6025] >gi|579087439|gb|EUR30312.1| methicillin resistance mecR1 protein [Staphylococcus aureus SJOS6061] >gi|579087813|gb|EUR30682.1| methicillin resistance mecR1 protein [Staphylococcus aureus GGMC6008] >gi|579094922|gb|EUR37764.1| methicillin resistance mecR1 protein [Staphylococcus aureus SJOS6051] >gi|579104908|gb|EUR53880.1| methicillin resistance mecR1 protein [Staphylococcus aureus M0007] >gi|579108220|gb|EUR57065.1| methicillin resistance mecR1 protein [Staphylococcus aureus M0008] >gi|579148558|gb|EUR96730.1| methicillin resistance mecR1 protein [Staphylococcus epidermidis M0026] >gi|579237091|gb|EUS83446.1| methicillin resistance mecR1 protein [Staphylococcus aureus M0080] >gi|579273332|gb|EUT19295.1| methicillin resistance mecR1 protein [Staphylococcus aureus M0097] >gi|579281824|gb|EUT31012.1| methicillin resistance mecR1 protein [Staphylococcus aureus M0100] >gi|579282859|gb|EUT32927.1| methicillin resistance mecR1 protein [Staphylococcus aureus M0101] >gi|579284410|gb|EUT35304.1| methicillin resistance mecR1 protein [Staphylococcus aureus M0107] >gi|579292679|gb|EUT44203.1| methicillin resistance mecR1 protein [Staphylococcus aureus M0109] >gi|579293886|gb|EUT45389.1| methicillin resistance mecR1 protein [Staphylococcus aureus M0111] >gi|579321546|gb|EUT72652.1| methicillin resistance mecR1 protein [Staphylococcus aureus M0123] >gi|579360688|gb|EUU11079.1| methicillin resistance mecR1 protein [Staphylococcus aureus M0141] >gi|579452899|gb|EUV01364.1| methicillin resistance mecR1 protein [Staphylococcus aureus M0186] >gi|579697388|gb|EUX41222.1| methicillin resistance mecR1 protein [Staphylococcus aureus M0337] >gi|579726771|gb|EUX70025.1| methicillin resistance mecR1 protein [Staphylococcus aureus M0353] >gi|579890266|gb|EUZ28736.1| methicillin resistance mecR1 protein [Staphylococcus aureus M0453] >gi|579891686|gb|EUZ30125.1| methicillin resistance mecR1 protein [Staphylococcus aureus M0454] >gi|579898740|gb|EUZ36986.1| methicillin resistance mecR1 protein [Staphylococcus aureus M0457] >gi|579918962|gb|EUZ56508.1| methicillin resistance mecR1 protein [Staphylococcus aureus M0469] >gi|579999409|gb|EVA34074.1| methicillin resistance mecR1 protein [Staphylococcus aureus M0527] >gi|580024620|gb|EVA58460.1| methicillin resistance mecR1 protein [Staphylococcus aureus M0542] >gi|580024717|gb|EVA58553.1| methicillin resistance mecR1 protein [Staphylococcus aureus M0542] >gi|580065535|gb|EVA97988.1| methicillin resistance mecR1 protein [Staphylococcus aureus M0563] >gi|580065795|gb|EVA98236.1| methicillin resistance mecR1 protein [Staphylococcus aureus M0563] >gi|580067592|gb|EVA99986.1| methicillin resistance mecR1 protein [Staphylococcus aureus M0564] >gi|580067688|gb|EVB00077.1| methicillin resistance mecR1 protein [Staphylococcus aureus M0564] >gi|580076556|gb|EVB08627.1| methicillin resistance mecR1 protein [Staphylococcus aureus M0567] >gi|580087655|gb|EVB19359.1| methicillin resistance mecR1 protein [Staphylococcus aureus M0577] >gi|580121847|gb|EVB52436.1| methicillin resistance mecR1 protein [Staphylococcus aureus M0593] >gi|580162185|gb|EVB91508.1| methicillin resistance mecR1 protein [Staphylococcus aureus M0615] >gi|580164153|gb|EVB93404.1| methicillin resistance mecR1 protein [Staphylococcus aureus M0615] >gi|580186472|gb|EVC14367.1| methicillin resistance mecR1 protein [Staphylococcus aureus LAMC0024] >gi|580193832|gb|EVC21656.1| methicillin resistance mecR1 protein [Staphylococcus aureus SJOS6050] >gi|580194726|gb|EVC22528.1| methicillin resistance mecR1 protein [Staphylococcus aureus AMMC6040] >gi|580203212|gb|EVC30937.1| methicillin resistance mecR1 protein [Staphylococcus aureus AMMC6051] >gi|580221367|gb|EVC48869.1| methicillin resistance mecR1 protein [Staphylococcus aureus WMCA6041] >gi|580225911|gb|EVC53402.1| methicillin resistance mecR1 protein [Staphylococcus aureus SMMC0005] >gi|580230658|gb|EVC58102.1| methicillin resistance mecR1 protein [Staphylococcus aureus WAMC6010] >gi|580234926|gb|EVC62343.1| methicillin resistance mecR1 protein [Staphylococcus aureus MISS6017] >gi|580253157|gb|EVC80424.1| methicillin resistance mecR1 protein [Staphylococcus aureus SJOS6076] >gi|580253893|gb|EVC81159.1| methicillin resistance mecR1 protein [Staphylococcus aureus OCMM6035] >gi|580257122|gb|EVC84353.1| methicillin resistance mecR1 protein [Staphylococcus aureus SCOA6011] >gi|580258464|gb|EVC85690.1| methicillin resistance mecR1 protein [Staphylococcus aureus OCMM6037] >gi|580276127|gb|EVD03181.1| methicillin resistance mecR1 protein [Staphylococcus aureus UCIM6018] >gi|580281640|gb|EVD08645.1| methicillin resistance mecR1 protein [Staphylococcus aureus WMCS6019] >gi|580285520|gb|EVD12498.1| methicillin resistance mecR1 protein [Staphylococcus aureus SJUD6086] >gi|580285890|gb|EVD12863.1| methicillin resistance mecR1 protein [Staphylococcus aureus PLAC6017] >gi|580288990|gb|EVD15943.1| methicillin resistance mecR1 protein [Staphylococcus aureus CHOC6056] >gi|580294312|gb|EVD21209.1| methicillin resistance mecR1 protein [Staphylococcus aureus SJUD6087] >gi|580295380|gb|EVD22271.1| methicillin resistance mecR1 protein [Staphylococcus aureus COAS6038] >gi|580311538|gb|EVD38274.1| methicillin resistance mecR1 protein [Staphylococcus aureus SJOS6100] >gi|580316032|gb|EVD42745.1| methicillin resistance mecR1 protein [Staphylococcus aureus WMCS6039] >gi|580318407|gb|EVD45115.1| methicillin resistance mecR1 protein [Staphylococcus aureus LPIH6021] >gi|580320496|gb|EVD47142.1| methicillin resistance mecR1 protein [Staphylococcus aureus OCMM6045] >gi|580326239|gb|EVD52842.1| methicillin resistance mecR1 protein [Staphylococcus aureus OCMM6048] >gi|580329605|gb|EVD56176.1| methicillin resistance mecR1 protein [Staphylococcus aureus AMMC6071] >gi|580333569|gb|EVD60127.1| methicillin resistance mecR1 protein [Staphylococcus aureus AMMC6070] >gi|580335392|gb|EVD61939.1| methicillin resistance mecR1 protein [Staphylococcus aureus AMMC6072] >gi|580336889|gb|EVD63413.1| methicillin resistance mecR1 protein [Staphylococcus aureus AMMC6075] >gi|580342810|gb|EVD69293.1| methicillin resistance mecR1 protein [Staphylococcus aureus MISS6110] >gi|580346627|gb|EVD73084.1| methicillin resistance mecR1 protein [Staphylococcus aureus LAMC0050] >gi|580366223|gb|EVD92525.1| methicillin resistance mecR1 protein [Staphylococcus aureus LAMC6065] >gi|580366910|gb|EVD93207.1| methicillin resistance mecR1 protein [Staphylococcus aureus HOAG6084] >gi|580379163|gb|EVE05324.1| methicillin resistance mecR1 protein [Staphylococcus aureus SJOS6001] >gi|580383926|gb|EVE10014.1| methicillin resistance mecR1 protein [Staphylococcus aureus AMMC6002] >gi|580387800|gb|EVE13868.1| methicillin resistance mecR1 protein [Staphylococcus aureus SJOS6004] >gi|580391220|gb|EVE17243.1| methicillin resistance mecR1 protein [Staphylococcus aureus AMMC6003] >gi|580391499|gb|EVE17513.1| methicillin resistance mecR1 protein [Staphylococcus aureus AMMC6011] >gi|580398126|gb|EVE24075.1| methicillin resistance mecR1 protein [Staphylococcus aureus AMMC6008] >gi|580403226|gb|EVE29125.1| methicillin resistance mecR1 protein [Staphylococcus aureus LAMC0001] >gi|580425315|gb|EVE50999.1| methicillin resistance mecR1 protein [Staphylococcus aureus SJUD6015] >gi|580431539|gb|EVE57146.1| methicillin resistance mecR1 protein [Staphylococcus aureus HOAG6017] >gi|580440906|gb|EVE66403.1| methicillin resistance mecR1 protein [Staphylococcus aureus LAMC0013] >gi|580442292|gb|EVE67771.1| methicillin resistance mecR1 protein [Staphylococcus aureus AMMC6015] >gi|580456271|gb|EVE81651.1| methicillin resistance mecR1 protein [Staphylococcus aureus HBHO6002] >gi|580459212|gb|EVE84556.1| methicillin resistance mecR1 protein [Staphylococcus aureus LPIH6001] >gi|580475433|gb|EVF00608.1| methicillin resistance mecR1 protein [Staphylococcus aureus UCIM6009] >gi|580482807|gb|EVF07903.1| methicillin resistance mecR1 protein [Staphylococcus aureus SCOA6006] >gi|580498866|gb|EVF23835.1| methicillin resistance mecR1 protein [Staphylococcus aureus KINW6003] >gi|580498958|gb|EVF23919.1| methicillin resistance mecR1 protein [Staphylococcus aureus COAS6049] >gi|580518325|gb|EVF43103.1| methicillin resistance mecR1 protein [Staphylococcus aureus MISS6033] >gi|580520819|gb|EVF45552.1| methicillin resistance mecR1 protein [Staphylococcus aureus COLL6021] >gi|580525941|gb|EVF50624.1| methicillin resistance mecR1 protein [Staphylococcus aureus SJUD6040] >gi|580533527|gb|EVF58138.1| methicillin resistance mecR1 protein [Staphylococcus aureus LPIH6011] >gi|580542300|gb|EVF66823.1| methicillin resistance mecR1 protein [Staphylococcus aureus PLAC6004] >gi|580544482|gb|EVF68985.1| methicillin resistance mecR1 protein [Staphylococcus aureus SCLE6011] >gi|580556550|gb|EVF80941.1| methicillin resistance mecR1 protein [Staphylococcus aureus COAS6020] >gi|580558647|gb|EVF83011.1| methicillin resistance mecR1 protein [Staphylococcus aureus OCMM6057] >gi|580561409|gb|EVF85743.1| methicillin resistance mecR1 protein [Staphylococcus aureus MISS6125] >gi|580566209|gb|EVF90515.1| methicillin resistance mecR1 protein [Staphylococcus aureus UCIM6056] >gi|580577932|gb|EVG02145.1| methicillin resistance mecR1 protein [Staphylococcus aureus SCOA6048] >gi|580581587|gb|EVG05762.1| methicillin resistance mecR1 protein [Staphylococcus aureus COAS6052] >gi|580598390|gb|EVG22426.1| methicillin resistance mecR1 protein [Staphylococcus aureus SJUD6111] >gi|580599551|gb|EVG23577.1| methicillin resistance mecR1 protein [Staphylococcus aureus SJUD6110] >gi|580612240|gb|EVG36147.1| methicillin resistance mecR1 protein [Staphylococcus aureus MISS6119] >gi|580616421|gb|EVG40294.1| methicillin resistance mecR1 protein [Staphylococcus aureus COAS6055] >gi|580621599|gb|EVG45418.1| methicillin resistance mecR1 protein [Staphylococcus aureus COAS6059] >gi|580628493|gb|EVG52270.1| methicillin resistance mecR1 protein [Staphylococcus aureus WMCS6055] >gi|580631798|gb|EVG55540.1| methicillin resistance mecR1 protein [Staphylococcus aureus GGMC6049] >gi|580634595|gb|EVG58314.1| methicillin resistance mecR1 protein [Staphylococcus aureus OCMM6067] >gi|580637191|gb|EVG60860.1| methicillin resistance mecR1 protein [Staphylococcus aureus OCMM6066] >gi|580643742|gb|EVG67325.1| methicillin resistance mecR1 protein [Staphylococcus aureus UCIM6065] >gi|580657688|gb|EVG81125.1| methicillin resistance mecR1 protein [Staphylococcus aureus FVRH6021] >gi|580669414|gb|EVG92727.1| methicillin resistance mecR1 protein [Staphylococcus aureus OCMM6071] >gi|580672048|gb|EVG95350.1| methicillin resistance mecR1 protein [Staphylococcus aureus UCIM6075] >gi|580681172|gb|EVH04377.1| methicillin resistance mecR1 protein [Staphylococcus aureus WMCA6015] >gi|580686462|gb|EVH09632.1| methicillin resistance mecR1 protein [Staphylococcus aureus UCIM6080] >gi|580697124|gb|EVH20184.1| methicillin resistance mecR1 protein [Staphylococcus aureus WMCA6025] >gi|580738957|gb|EVH61541.1| methicillin resistance mecR1 protein [Staphylococcus aureus FVRH6052] >gi|580749943|gb|EVH72427.1| methicillin resistance mecR1 protein [Staphylococcus aureus MISS6057] >gi|580754005|gb|EVH76461.1| methicillin resistance mecR1 protein [Staphylococcus aureus SCLE6029] >gi|580756741|gb|EVH79184.1| methicillin resistance mecR1 protein [Staphylococcus aureus WMCS6079] >gi|580761321|gb|EVH83748.1| methicillin resistance mecR1 protein [Staphylococcus aureus TUSH6007] >gi|580770600|gb|EVH92958.1| methicillin resistance mecR1 protein [Staphylococcus aureus FVRH6067] >gi|580771671|gb|EVH94018.1| methicillin resistance mecR1 protein [Staphylococcus aureus FVRH6074] >gi|580775319|gb|EVH97657.1| methicillin resistance mecR1 protein [Staphylococcus aureus UCIM6101] >gi|580777916|gb|EVI00229.1| methicillin resistance mecR1 protein [Staphylococcus aureus OCMM6095] >gi|580778630|gb|EVI00925.1| methicillin resistance mecR1 protein [Staphylococcus aureus GGMC6018] >gi|580784389|gb|EVI06633.1| methicillin resistance mecR1 protein [Staphylococcus aureus SCLE6035] >gi|580785158|gb|EVI07392.1| methicillin resistance mecR1 protein [Staphylococcus aureus COAS6087] >gi|580811831|gb|EVI33820.1| methicillin resistance mecR1 protein [Staphylococcus aureus WAMC6043] >gi|580818615|gb|EVI40567.1| methicillin resistance mecR1 protein [Staphylococcus aureus OCMM6102] >gi|580837269|gb|EVI58977.1| methicillin resistance mecR1 protein [Staphylococcus aureus UCIM6123] >gi|580848455|gb|EVI70055.1| methicillin resistance mecR1 protein [Staphylococcus aureus WMCA6092] >gi|580856521|gb|EVI78058.1| methicillin resistance mecR1 protein [Staphylococcus aureus GGMC6027] >gi|580857234|gb|EVI78760.1| methicillin resistance mecR1 protein [Staphylococcus aureus LAMC6115] >gi|580863327|gb|EVI84811.1| methicillin resistance mecR1 protein [Staphylococcus aureus OCMM6124] >gi|580865055|gb|EVI86531.1| methicillin resistance mecR1 protein [Staphylococcus aureus PLAC6043] >gi|580870882|gb|EVI92285.1| methicillin resistance mecR1 protein [Staphylococcus aureus FVRH6130] >gi|580870989|gb|EVI92391.1| methicillin resistance mecR1 protein [Staphylococcus aureus FVRH6131] >gi|580877609|gb|EVI98958.1| methicillin resistance mecR1 protein [Staphylococcus aureus COAS6112] >gi|580884867|gb|EVJ06176.1| methicillin resistance mecR1 protein [Staphylococcus aureus FVRH6132] >gi|580885486|gb|EVJ06789.1| methicillin resistance mecR1 protein [Staphylococcus aureus OCMM6137] >gi|580886221|gb|EVJ07521.1| methicillin resistance mecR1 protein [Staphylococcus aureus COAS6114] >gi|580891697|gb|EVJ12974.1| methicillin resistance mecR1 protein [Staphylococcus aureus OCMM6140] >gi|580892817|gb|EVJ14088.1| methicillin resistance mecR1 protein [Staphylococcus aureus WAMC6060] >gi|580898097|gb|EVJ19344.1| methicillin resistance mecR1 protein [Staphylococcus aureus GGMC6036] >gi|580903818|gb|EVJ25030.1| methicillin resistance mecR1 protein [Staphylococcus aureus CHAP6035] >gi|580910888|gb|EVJ32060.1| methicillin resistance mecR1 protein [Staphylococcus aureus HBHO6022] >gi|580921348|gb|EVJ42390.1| methicillin resistance mecR1 protein [Staphylococcus aureus UCIM6145] >gi|580921616|gb|EVJ42657.1| methicillin resistance mecR1 protein [Staphylococcus aureus UCIM6144] >gi|580928481|gb|EVJ49462.1| methicillin resistance mecR1 protein [Staphylococcus aureus UCIM6147] >gi|580937064|gb|EVJ57960.1| methicillin resistance mecR1 protein [Staphylococcus aureus WAMC6080] >gi|580946617|gb|EVJ67410.1| methicillin resistance mecR1 protein [Staphylococcus aureus OCMM6129] >gi|580946660|gb|EVJ67452.1| methicillin resistance mecR1 protein [Staphylococcus aureus FVRH6118] >gi|580950219|gb|EVJ70998.1| methicillin resistance mecR1 protein [Staphylococcus aureus CHAP6022] >gi|581024949|gb|EVK42634.1| methicillin resistance mecR1 protein [Staphylococcus aureus M0800] >gi|581027093|gb|EVK44712.1| methicillin resistance mecR1 protein [Staphylococcus aureus M0801] >gi|581028995|gb|EVK46558.1| methicillin resistance mecR1 protein [Staphylococcus aureus M0801] >gi|581080401|gb|EVK96931.1| methicillin resistance mecR1 protein [Staphylococcus aureus M0833] >gi|581082636|gb|EVK99108.1| methicillin resistance mecR1 protein [Staphylococcus aureus M0833] >gi|581120755|gb|EVL36460.1| methicillin resistance mecR1 protein [Staphylococcus aureus M0853] >gi|581121230|gb|EVL36914.1| methicillin resistance mecR1 protein [Staphylococcus aureus M0853] >gi|581125706|gb|EVL41315.1| methicillin resistance mecR1 protein [Staphylococcus aureus M0858] >gi|581180712|gb|EVL95581.1| methicillin resistance mecR1 protein [Staphylococcus aureus M0893] >gi|581181529|gb|EVL96363.1| methicillin resistance mecR1 protein [Staphylococcus aureus M0894] >gi|581181657|gb|EVL96486.1| methicillin resistance mecR1 protein [Staphylococcus aureus M0893] >gi|581181858|gb|EVL96680.1| methicillin resistance mecR1 protein [Staphylococcus aureus M0894] >gi|581209582|gb|EVM23945.1| methicillin resistance mecR1 protein [Staphylococcus aureus M0910] >gi|581271191|gb|EVM84391.1| methicillin resistance mecR1 protein [Staphylococcus aureus M0945] >gi|581332469|gb|EVN44509.1| methicillin resistance mecR1 protein [Staphylococcus aureus M0982] >gi|581381421|gb|EVN92566.1| methicillin resistance mecR1 protein [Staphylococcus aureus M1017] >gi|581408982|gb|EVO19511.1| methicillin resistance mecR1 protein [Staphylococcus aureus M1035] >gi|581440735|gb|EVO50676.1| methicillin resistance mecR1 protein [Staphylococcus aureus M1056] >gi|581496965|gb|EVP05739.1| methicillin resistance mecR1 protein [Staphylococcus aureus M1094] >gi|581498852|gb|EVP07564.1| methicillin resistance mecR1 protein [Staphylococcus aureus M1101] >gi|581562546|gb|EVP70084.1| methicillin resistance mecR1 protein [Staphylococcus aureus M0760] >gi|581577393|gb|EVP84549.1| methicillin resistance mecR1 protein [Staphylococcus aureus M0766] >gi|581585809|gb|EVP92754.1| methicillin resistance mecR1 protein [Staphylococcus aureus M0771] >gi|581641638|gb|EVQ47610.1| methicillin resistance mecR1 protein [Staphylococcus aureus M1400] >gi|581653181|gb|EVQ58927.1| methicillin resistance mecR1 protein [Staphylococcus aureus M1408] >gi|581721155|gb|EVR25865.1| methicillin resistance mecR1 protein [Staphylococcus aureus M1436] >gi|581740725|gb|EVR44900.1| methicillin resistance mecR1 protein [Staphylococcus aureus M1447] >gi|581753478|gb|EVR57356.1| methicillin resistance mecR1 protein [Staphylococcus aureus M1453] >gi|581813885|gb|EVS16628.1| methicillin resistance mecR1 protein [Staphylococcus aureus M1348] >gi|581817203|gb|EVS19866.1| methicillin resistance mecR1 protein [Staphylococcus aureus M1351] >gi|582122758|gb|EVU21968.1| methicillin resistance mecR1 protein [Staphylococcus aureus M81490] >gi|582123720|gb|EVU22907.1| methicillin resistance mecR1 protein [Staphylococcus aureus W25097] >gi|582130684|gb|EVU29751.1| methicillin resistance mecR1 protein [Staphylococcus aureus W28469] >gi|582132034|gb|EVU31063.1| methicillin resistance mecR1 protein [Staphylococcus aureus T45974] >gi|582137187|gb|EVU36142.1| methicillin resistance mecR1 protein [Staphylococcus aureus F41886] >gi|582145126|gb|EVU43939.1| methicillin resistance mecR1 protein [Staphylococcus aureus F41882] >gi|582146893|gb|EVU45673.1| methicillin resistance mecR1 protein [Staphylococcus aureus M85201] >gi|582161141|gb|EVU59581.1| methicillin resistance mecR1 protein [Staphylococcus aureus F45300] >gi|582177986|gb|EVU76103.1| methicillin resistance mecR1 protein [Staphylococcus aureus M92086] >gi|582183316|gb|EVU81354.1| methicillin resistance mecR1 protein [Staphylococcus aureus T56203] >gi|582185611|gb|EVU83618.1| methicillin resistance mecR1 protein [Staphylococcus aureus W38597] >gi|582192199|gb|EVU90114.1| methicillin resistance mecR1 protein [Staphylococcus aureus M13316] >gi|582192722|gb|EVU90633.1| methicillin resistance mecR1 protein [Staphylococcus aureus M13384] >gi|582193013|gb|EVU90920.1| methicillin resistance mecR1 protein [Staphylococcus aureus M13403] >gi|582200163|gb|EVU97973.1| methicillin resistance mecR1 protein [Staphylococcus aureus W35356] >gi|582207326|gb|EVV05003.1| methicillin resistance mecR1 protein [Staphylococcus aureus H19520] >gi|582217488|gb|EVV14931.1| methicillin resistance mecR1 protein [Staphylococcus aureus F54461] >gi|582232458|gb|EVV29626.1| methicillin resistance mecR1 protein [Staphylococcus aureus M52055] >gi|582236440|gb|EVV33574.1| methicillin resistance mecR1 protein [Staphylococcus aureus W85047] >gi|582236988|gb|EVV34117.1| methicillin resistance mecR1 protein [Staphylococcus aureus H60145] >gi|582240940|gb|EVV37966.1| methicillin resistance mecR1 protein [Staphylococcus aureus T62328] >gi|582248046|gb|EVV44976.1| methicillin resistance mecR1 protein [Staphylococcus aureus M20676] >gi|582249202|gb|EVV46112.1| methicillin resistance mecR1 protein [Staphylococcus aureus T66282] >gi|582251782|gb|EVV48669.1| methicillin resistance mecR1 protein [Staphylococcus aureus T66286] >gi|582256437|gb|EVV53311.1| methicillin resistance mecR1 protein [Staphylococcus aureus W48872] >gi|582258313|gb|EVV55168.1| methicillin resistance mecR1 protein [Staphylococcus aureus M45245] >gi|582259579|gb|EVV56406.1| methicillin resistance mecR1 protein [Staphylococcus aureus F90608] >gi|582272456|gb|EVV69058.1| methicillin resistance mecR1 protein [Staphylococcus aureus M64164] >gi|582272848|gb|EVV69445.1| methicillin resistance mecR1 protein [Staphylococcus aureus M67290] >gi|582280701|gb|EVV77196.1| methicillin resistance mecR1 protein [Staphylococcus aureus H75198] >gi|582285309|gb|EVV81782.1| methicillin resistance mecR1 protein [Staphylococcus aureus M64191] >gi|582288576|gb|EVV84982.1| methicillin resistance mecR1 protein [Staphylococcus aureus M70590] >gi|582290260|gb|EVV86646.1| methicillin resistance mecR1 protein [Staphylococcus aureus T34696] >gi|582293044|gb|EVV89404.1| methicillin resistance mecR1 protein [Staphylococcus aureus T34703] >gi|582296808|gb|EVV93101.1| methicillin resistance mecR1 protein [Staphylococcus aureus W21472] >gi|582301224|gb|EVV97444.1| methicillin resistance mecR1 protein [Staphylococcus aureus W24216] >gi|582303307|gb|EVV99521.1| methicillin resistance mecR1 protein [Staphylococcus aureus H81437] >gi|582317610|gb|EVW13587.1| methicillin resistance mecR1 protein [Staphylococcus aureus H84492] >gi|582320544|gb|EVW16459.1| methicillin resistance mecR1 protein [Staphylococcus aureus H84507] >gi|582329811|gb|EVW25601.1| methicillin resistance mecR1 protein [Staphylococcus aureus F43676] >gi|582330937|gb|EVW26706.1| methicillin resistance mecR1 protein [Staphylococcus aureus T47181] >gi|582333721|gb|EVW29477.1| methicillin resistance mecR1 protein [Staphylococcus aureus W33796] >gi|582337317|gb|EVW32989.1| methicillin resistance mecR1 protein [Staphylococcus aureus F46632] >gi|582347041|gb|EVW42474.1| methicillin resistance mecR1 protein [Staphylococcus aureus F52748] >gi|582355891|gb|EVW51102.1| methicillin resistance mecR1 protein [Staphylococcus aureus W42929] >gi|582361027|gb|EVW56186.1| methicillin resistance mecR1 protein [Staphylococcus aureus W42932] >gi|582380270|gb|EVW75028.1| methicillin resistance mecR1 protein [Staphylococcus aureus H21935] >gi|582382249|gb|EVW77001.1| methicillin resistance mecR1 protein [Staphylococcus aureus H21924] >gi|582385072|gb|EVW79790.1| methicillin resistance mecR1 protein [Staphylococcus aureus F59156] >gi|582389461|gb|EVW84113.1| methicillin resistance mecR1 protein [Staphylococcus aureus W48906] >gi|582395452|gb|EVW90002.1| methicillin resistance mecR1 protein [Staphylococcus aureus H24884] >gi|582409987|gb|EVX04244.1| methicillin resistance mecR1 protein [Staphylococcus aureus W51776] >gi|582416416|gb|EVX10533.1| methicillin resistance mecR1 protein [Staphylococcus aureus H27761] >gi|582418975|gb|EVX13048.1| methicillin resistance mecR1 protein [Staphylococcus aureus H27777] >gi|582424346|gb|EVX18345.1| methicillin resistance mecR1 protein [Staphylococcus aureus M24400] >gi|582434239|gb|EVX28047.1| methicillin resistance mecR1 protein [Staphylococcus aureus T71868] >gi|582434712|gb|EVX28517.1| methicillin resistance mecR1 protein [Staphylococcus aureus M27449] >gi|582439004|gb|EVX32714.1| methicillin resistance mecR1 protein [Staphylococcus aureus T71872] >gi|582440953|gb|EVX34632.1| methicillin resistance mecR1 protein [Staphylococcus aureus H33602] >gi|582445402|gb|EVX39032.1| methicillin resistance mecR1 protein [Staphylococcus aureus H33636] >gi|582449195|gb|EVX42758.1| methicillin resistance mecR1 protein [Staphylococcus aureus F70893] >gi|582452093|gb|EVX45580.1| methicillin resistance mecR1 protein [Staphylococcus aureus W60774] >gi|582458959|gb|EVX52323.1| methicillin resistance mecR1 protein [Staphylococcus aureus W60801] >gi|582463702|gb|EVX57017.1| methicillin resistance mecR1 protein [Staphylococcus aureus F74139] >gi|582474279|gb|EVX67331.1| methicillin resistance mecR1 protein [Staphylococcus aureus F77047] >gi|582478322|gb|EVX71270.1| methicillin resistance mecR1 protein [Staphylococcus aureus F76996] >gi|582483079|gb|EVX75896.1| methicillin resistance mecR1 protein [Staphylococcus aureus H42737] >gi|582490609|gb|EVX83302.1| methicillin resistance mecR1 protein [Staphylococcus aureus H42759] >gi|582494113|gb|EVX86729.1| methicillin resistance mecR1 protein [Staphylococcus aureus F80381] >gi|582512008|gb|EVY04272.1| methicillin resistance mecR1 protein [Staphylococcus aureus H45755] >gi|582513264|gb|EVY05511.1| methicillin resistance mecR1 protein [Staphylococcus aureus H45765] >gi|582522894|gb|EVY14966.1| methicillin resistance mecR1 protein [Staphylococcus aureus F83272] >gi|582530846|gb|EVY22882.1| methicillin resistance mecR1 protein [Staphylococcus aureus T87526] >gi|582532435|gb|EVY24439.1| methicillin resistance mecR1 protein [Staphylococcus aureus W73060] >gi|582533907|gb|EVY25855.1| methicillin resistance mecR1 protein [Staphylococcus aureus H48646] >gi|582540768|gb|EVY32457.1| methicillin resistance mecR1 protein [Staphylococcus aureus T87965] >gi|582548851|gb|EVY40343.1| methicillin resistance mecR1 protein [Staphylococcus aureus T12923] >gi|582563072|gb|EVY54287.1| methicillin resistance mecR1 protein [Staphylococcus aureus F92765] >gi|582567614|gb|EVY58727.1| methicillin resistance mecR1 protein [Staphylococcus aureus W82303] >gi|582573836|gb|EVY64842.1| methicillin resistance mecR1 protein [Staphylococcus aureus W76127] >gi|582575463|gb|EVY66430.1| methicillin resistance mecR1 protein [Staphylococcus aureus H71785] >gi|582581451|gb|EVY72353.1| methicillin resistance mecR1 protein [Staphylococcus aureus H71781] >gi|582583516|gb|EVY74367.1| methicillin resistance mecR1 protein [Staphylococcus aureus T45945] >gi|582588856|gb|EVY79599.1| methicillin resistance mecR1 protein [Staphylococcus aureus H79477] >gi|582592717|gb|EVY83387.1| methicillin resistance mecR1 protein [Staphylococcus aureus H23829] >gi|582598078|gb|EVY88691.1| methicillin resistance mecR1 protein [Staphylococcus aureus H23830] >gi|582610357|gb|EVZ00671.1| methicillin resistance mecR1 protein [Staphylococcus aureus H37776] >gi|582615023|gb|EVZ05271.1| methicillin resistance mecR1 protein [Staphylococcus aureus H37781] >gi|582620925|gb|EVZ11081.1| methicillin resistance mecR1 protein [Staphylococcus aureus H48052] >gi|582621064|gb|EVZ11213.1| methicillin resistance mecR1 protein [Staphylococcus aureus F77710] >gi|582622818|gb|EVZ12944.1| methicillin resistance mecR1 protein [Staphylococcus aureus H48054] >gi|582624426|gb|EVZ14509.1| methicillin resistance mecR1 protein [Staphylococcus aureus S39407] >gi|582632839|gb|EVZ22838.1| methicillin resistance mecR1 protein [Staphylococcus aureus F81035] >gi|582633101|gb|EVZ23091.1| methicillin resistance mecR1 protein [Staphylococcus aureus T12805] >gi|582636583|gb|EVZ26513.1| methicillin resistance mecR1 protein [Staphylococcus aureus T12818] >gi|582638055|gb|EVZ27966.1| methicillin resistance mecR1 protein [Staphylococcus aureus S39411] >gi|582642206|gb|EVZ32055.1| methicillin resistance mecR1 protein [Staphylococcus aureus F22893] >gi|582642381|gb|EVZ32228.1| methicillin resistance mecR1 protein [Staphylococcus aureus F19383] >gi|582651492|gb|EVZ41275.1| methicillin resistance mecR1 protein [Staphylococcus aureus F26088] >gi|582651706|gb|EVZ41482.1| methicillin resistance mecR1 protein [Staphylococcus aureus F22898] >gi|582656128|gb|EVZ45788.1| methicillin resistance mecR1 protein [Staphylococcus aureus F32119] >gi|582656381|gb|EVZ46037.1| methicillin resistance mecR1 protein [Staphylococcus aureus F63154] >gi|582669301|gb|EVZ58761.1| methicillin resistance mecR1 protein [Staphylococcus aureus F74220] >gi|582694204|gb|EVZ83219.1| methicillin resistance mecR1 protein [Staphylococcus aureus H31290] >gi|582698071|gb|EVZ87030.1| methicillin resistance mecR1 protein [Staphylococcus aureus H40575] >gi|582702938|gb|EVZ91848.1| methicillin resistance mecR1 protein [Staphylococcus aureus H40583] >gi|582713926|gb|EWA02560.1| methicillin resistance mecR1 protein [Staphylococcus aureus H61003] >gi|582717948|gb|EWA06519.1| methicillin resistance mecR1 protein [Staphylococcus aureus H64303] >gi|582724546|gb|EWA13045.1| methicillin resistance mecR1 protein [Staphylococcus aureus H70821] >gi|582734511|gb|EWA22566.1| methicillin resistance mecR1 protein [Staphylococcus aureus H77094] >gi|582747135|gb|EWA34969.1| methicillin resistance mecR1 protein [Staphylococcus aureus M31588] >gi|582757422|gb|EWA45131.1| methicillin resistance mecR1 protein [Staphylococcus aureus M65003] >gi|582757892|gb|EWA45541.1| methicillin resistance mecR1 protein [Staphylococcus aureus M68467] >gi|582764378|gb|EWA51904.1| methicillin resistance mecR1 protein [Staphylococcus aureus M71813] >gi|582768867|gb|EWA56344.1| methicillin resistance mecR1 protein [Staphylococcus aureus M74952] >gi|582772073|gb|EWA59528.1| methicillin resistance mecR1 protein [Staphylococcus aureus T30033] >gi|582773670|gb|EWA61118.1| methicillin resistance mecR1 protein [Staphylococcus aureus T26751] >gi|582777788|gb|EWA65154.1| methicillin resistance mecR1 protein [Staphylococcus aureus T33147] >gi|582779573|gb|EWA66909.1| methicillin resistance mecR1 protein [Staphylococcus aureus T39328] >gi|582787598|gb|EWA74806.1| methicillin resistance mecR1 protein [Staphylococcus aureus T62346] >gi|582798551|gb|EWA85566.1| methicillin resistance mecR1 protein [Staphylococcus aureus T69716] >gi|582813407|gb|EWB00107.1| methicillin resistance mecR1 protein [Staphylococcus aureus T76030] >gi|582830189|gb|EWB16541.1| methicillin resistance mecR1 protein [Staphylococcus aureus W12628] >gi|582837614|gb|EWB23917.1| methicillin resistance mecR1 protein [Staphylococcus aureus W15997] >gi|582841631|gb|EWB27802.1| methicillin resistance mecR1 protein [Staphylococcus aureus W21932] >gi|582859557|gb|EWB45324.1| methicillin resistance mecR1 protein [Staphylococcus aureus W55442] >gi|582874795|gb|EWB60179.1| methicillin resistance mecR1 protein [Staphylococcus aureus W85432] >gi|582877839|gb|EWB63199.1| methicillin resistance mecR1 protein [Staphylococcus aureus W85440] >gi|582880711|gb|EWB66006.1| methicillin resistance mecR1 protein [Staphylococcus aureus W88555] >gi|582891436|gb|EWB76134.1| methicillin resistance mecR1 protein [Staphylococcus aureus W31947] >gi|582892011|gb|EWB76693.1| methicillin resistance mecR1 protein [Staphylococcus aureus H12822] >gi|582895172|gb|EWB79857.1| methicillin resistance mecR1 protein [Staphylococcus aureus T59609] >gi|582901406|gb|EWB85980.1| methicillin resistance mecR1 protein [Staphylococcus aureus M16486] >gi|582903334|gb|EWB87864.1| methicillin resistance mecR1 protein [Staphylococcus aureus T66243] >gi|582905615|gb|EWB90119.1| methicillin resistance mecR1 protein [Staphylococcus aureus T66292] >gi|582910973|gb|EWB95417.1| methicillin resistance mecR1 protein [Staphylococcus aureus W12461] >gi|582913513|gb|EWB97939.1| methicillin resistance mecR1 protein [Staphylococcus aureus M80329] >gi|582914462|gb|EWB98870.1| methicillin resistance mecR1 protein [Staphylococcus aureus F46600] >gi|582917957|gb|EWC02321.1| methicillin resistance mecR1 protein [Staphylococcus aureus F55987] >gi|582922080|gb|EWC06400.1| methicillin resistance mecR1 protein [Staphylococcus aureus T74602] >gi|582924960|gb|EWC09228.1| methicillin resistance mecR1 protein [Staphylococcus aureus F86379] >gi|582927178|gb|EWC11420.1| methicillin resistance mecR1 protein [Staphylococcus aureus F27253] >gi|582931880|gb|EWC16065.1| methicillin resistance mecR1 protein [Staphylococcus aureus F27254] >gi|582932565|gb|EWC16733.1| methicillin resistance mecR1 protein [Staphylococcus aureus T72814] >gi|582934215|gb|EWC18370.1| methicillin resistance mecR1 protein [Staphylococcus aureus M44988] >gi|582941201|gb|EWC25299.1| methicillin resistance mecR1 protein [Staphylococcus aureus F12856] >gi|582943253|gb|EWC27336.1| methicillin resistance mecR1 protein [Staphylococcus aureus H37235] >gi|582944211|gb|EWC28280.1| methicillin resistance mecR1 protein [Staphylococcus aureus T23068] >gi|582947925|gb|EWC31965.1| methicillin resistance mecR1 protein [Staphylococcus aureus M24487] >gi|584463101|gb|AHJ05851.1| methicillin resistance protein [Staphylococcus aureus USA300-ISMMS1] >gi|584615028|gb|EWH42701.1| methicillin resistance mecR1 protein [Staphylococcus aureus T60795] >gi|584616140|gb|EWH43800.1| methicillin resistance mecR1 protein [Staphylococcus aureus W39826] >gi|584618406|gb|EWH46045.1| methicillin resistance mecR1 protein [Staphylococcus aureus T54283] >gi|584622914|gb|EWH50505.1| methicillin resistance mecR1 protein [Staphylococcus aureus M13048] >gi|584628433|gb|EWH55990.1| methicillin resistance mecR1 protein [Staphylococcus aureus H85008] >gi|584633308|gb|EWH60850.1| methicillin resistance mecR1 protein [Staphylococcus aureus H81885] >gi|584634760|gb|EWH62297.1| methicillin resistance mecR1 protein [Staphylococcus aureus H81809] >gi|584635157|gb|EWH62683.1| methicillin resistance mecR1 protein [Staphylococcus aureus H81800] >gi|584635523|gb|EWH63044.1| methicillin resistance mecR1 protein [Staphylococcus aureus F50126] >gi|584643155|gb|EWH70644.1| methicillin resistance mecR1 protein [Staphylococcus aureus F50076] >gi|584648591|gb|EWH76061.1| methicillin resistance mecR1 protein [Staphylococcus aureus W92100] >gi|584648901|gb|EWH76370.1| methicillin resistance mecR1 protein [Staphylococcus aureus F36670] >gi|584649927|gb|EWH77383.1| methicillin resistance mecR1 protein [Staphylococcus aureus W92052] >gi|584651539|gb|EWH78984.1| methicillin resistance mecR1 protein [Staphylococcus aureus W85326] >gi|584656512|gb|EWH83937.1| methicillin resistance mecR1 protein [Staphylococcus aureus W75132] >gi|584657747|gb|EWH85161.1| methicillin resistance mecR1 protein [Staphylococcus aureus W64921] >gi|584657755|gb|EWH85168.1| methicillin resistance mecR1 protein [Staphylococcus aureus T37849] >gi|584665473|gb|EWH92852.1| methicillin resistance mecR1 protein [Staphylococcus aureus T30569] >gi|584669255|gb|EWH96596.1| methicillin resistance mecR1 protein [Staphylococcus aureus M49691] >gi|584669349|gb|EWH96688.1| methicillin resistance mecR1 protein [Staphylococcus aureus M53356] >gi|584674994|gb|EWI02288.1| methicillin resistance mecR1 protein [Staphylococcus aureus H58198] >gi|584677339|gb|EWI04611.1| methicillin resistance mecR1 protein [Staphylococcus aureus H58177] >gi|584680525|gb|EWI07781.1| methicillin resistance mecR1 protein [Staphylococcus aureus H51158] >gi|584686626|gb|EWI13853.1| methicillin resistance mecR1 protein [Staphylococcus aureus F77942] >gi|584689529|gb|EWI16731.1| methicillin resistance mecR1 protein [Staphylococcus aureus F26873] >gi|584691187|gb|EWI18384.1| methicillin resistance mecR1 protein [Staphylococcus aureus F23347] >gi|584692917|gb|EWI20104.1| methicillin resistance mecR1 protein [Staphylococcus aureus F23336] >gi|584697095|gb|EWI24271.1| methicillin resistance mecR1 protein [Staphylococcus aureus F20105] >gi|584698289|gb|EWI25437.1| methicillin resistance mecR1 protein [Staphylococcus aureus W50092] >gi|584703353|gb|EWI30470.1| methicillin resistance mecR1 protein [Staphylococcus aureus W46883] >gi|584708393|gb|EWI35484.1| methicillin resistance mecR1 protein [Staphylococcus aureus W36570] >gi|584709170|gb|EWI36256.1| methicillin resistance mecR1 protein [Staphylococcus aureus W36553] >gi|584714468|gb|EWI41501.1| methicillin resistance mecR1 protein [Staphylococcus aureus W33592] >gi|584714546|gb|EWI41577.1| methicillin resistance mecR1 protein [Staphylococcus aureus W33578] >gi|584718668|gb|EWI45659.1| methicillin resistance mecR1 protein [Staphylococcus aureus W33563] >gi|584719925|gb|EWI46896.1| methicillin resistance mecR1 protein [Staphylococcus aureus W23225] >gi|584727107|gb|EWI54017.1| methicillin resistance mecR1 protein [Staphylococcus aureus W23207] >gi|584727527|gb|EWI54431.1| methicillin resistance mecR1 protein [Staphylococcus aureus W23214] >gi|584731305|gb|EWI58156.1| methicillin resistance mecR1 protein [Staphylococcus aureus T64318] >gi|584736975|gb|EWI63760.1| methicillin resistance mecR1 protein [Staphylococcus aureus T57415] >gi|584741568|gb|EWI68296.1| methicillin resistance mecR1 protein [Staphylococcus aureus T54294] >gi|584746919|gb|EWI73607.1| methicillin resistance mecR1 protein [Staphylococcus aureus T54280] >gi|584749661|gb|EWI76333.1| methicillin resistance mecR1 protein [Staphylococcus aureus T51022] >gi|584755276|gb|EWI81902.1| methicillin resistance mecR1 protein [Staphylococcus aureus T44834] >gi|584758241|gb|EWI84846.1| methicillin resistance mecR1 protein [Staphylococcus aureus T51001] >gi|584760931|gb|EWI87499.1| methicillin resistance mecR1 protein [Staphylococcus aureus T44811] >gi|584767673|gb|EWI94155.1| methicillin resistance mecR1 protein [Staphylococcus aureus T44444] >gi|584773533|gb|EWI99941.1| methicillin resistance mecR1 protein [Staphylococcus aureus M91141] >gi|584787699|gb|EWJ13889.1| methicillin resistance mecR1 protein [Staphylococcus aureus M77229] >gi|584791308|gb|EWJ17466.1| methicillin resistance mecR1 protein [Staphylococcus aureus M77225] >gi|584797302|gb|EWJ23416.1| methicillin resistance mecR1 protein [Staphylococcus aureus M20198] >gi|584797350|gb|EWJ23462.1| methicillin resistance mecR1 protein [Staphylococcus aureus M77210] >gi|584798268|gb|EWJ24368.1| methicillin resistance mecR1 protein [Staphylococcus aureus M20180] >gi|584827214|gb|EWJ52946.1| methicillin resistance mecR1 protein [Staphylococcus aureus H84973] >gi|584833530|gb|EWJ59216.1| methicillin resistance mecR1 protein [Staphylococcus aureus H12930] >gi|584858815|gb|EWJ84043.1| methicillin resistance mecR1 protein [Staphylococcus aureus F36699] >gi|584863406|gb|EWJ88578.1| methicillin resistance mecR1 protein [Staphylococcus aureus F36687] >gi|584868886|gb|EWJ93965.1| methicillin resistance mecR1 protein [Staphylococcus aureus W81816] >gi|584882566|gb|EWK07440.1| methicillin resistance mecR1 protein [Staphylococcus aureus W64958] >gi|584891505|gb|EWK16273.1| methicillin resistance mecR1 protein [Staphylococcus aureus T92889] >gi|584908641|gb|EWK33132.1| methicillin resistance mecR1 protein [Staphylococcus aureus T34036] >gi|584911424|gb|EWK35884.1| methicillin resistance mecR1 protein [Staphylococcus aureus T30565] >gi|584916605|gb|EWK40993.1| methicillin resistance mecR1 protein [Staphylococcus aureus T20142] >gi|584931195|gb|EWK55371.1| methicillin resistance mecR1 protein [Staphylococcus aureus T16669] >gi|584931460|gb|EWK55630.1| methicillin resistance mecR1 protein [Staphylococcus aureus T16664] >gi|584938916|gb|EWK63039.1| methicillin resistance mecR1 protein [Staphylococcus aureus S56450] >gi|584938971|gb|EWK63090.1| methicillin resistance mecR1 protein [Staphylococcus aureus M73702] >gi|584943608|gb|EWK67705.1| methicillin resistance mecR1 protein [Staphylococcus aureus M73703] >gi|584947294|gb|EWK71360.1| methicillin resistance mecR1 protein [Staphylococcus aureus M70073] >gi|584953159|gb|EWK77166.1| methicillin resistance mecR1 protein [Staphylococcus aureus M66661] >gi|584958375|gb|EWK82333.1| methicillin resistance mecR1 protein [Staphylococcus aureus M56985] >gi|584959412|gb|EWK83354.1| methicillin resistance mecR1 protein [Staphylococcus aureus M53327] >gi|584965411|gb|EWK89320.1| methicillin resistance mecR1 protein [Staphylococcus aureus M46077] >gi|584970182|gb|EWK94005.1| methicillin resistance mecR1 protein [Staphylococcus aureus H75143] >gi|584975909|gb|EWK99685.1| methicillin resistance mecR1 protein [Staphylococcus aureus H71553] >gi|584976523|gb|EWL00031.1| methicillin resistance mecR1 protein [Staphylococcus aureus H71538] >gi|584994384|gb|EWL17895.1| methicillin resistance mecR1 protein [Staphylococcus aureus H64962] >gi|584996577|gb|EWL20028.1| methicillin resistance mecR1 protein [Staphylococcus aureus H58183] >gi|585004297|gb|EWL27707.1| methicillin resistance mecR1 protein [Staphylococcus aureus H58165] >gi|585005103|gb|EWL28482.1| methicillin resistance mecR1 protein [Staphylococcus aureus H47671] >gi|585011348|gb|EWL34612.1| methicillin resistance mecR1 protein [Staphylococcus aureus F88387] >gi|585026129|gb|EWL49181.1| methicillin resistance mecR1 protein [Staphylococcus aureus F81381] >gi|585044258|gb|EWL67023.1| methicillin resistance mecR1 protein [Staphylococcus aureus F77917] >gi|585048580|gb|EWL71259.1| methicillin resistance mecR1 protein [Staphylococcus aureus F29982] >gi|585049188|gb|EWL71860.1| methicillin resistance mecR1 protein [Staphylococcus aureus F26884] >gi|585057541|gb|EWL80138.1| methicillin resistance mecR1 protein [Staphylococcus aureus F26858] >gi|585068428|gb|EWL90850.1| methicillin resistance mecR1 protein [Staphylococcus aureus F16432] >gi|585075882|gb|EWL98174.1| methicillin resistance mecR1 protein [Staphylococcus aureus W29641] >gi|585080962|gb|EWM03220.1| methicillin resistance mecR1 protein [Staphylococcus aureus AMMC6114] >gi|585081756|gb|EWM04011.1| methicillin resistance mecR1 protein [Staphylococcus aureus UCIM6049] >gi|585942915|gb|EWN53299.1| methicillin resistance mecR1 protein [Staphylococcus aureus M1334] >gi|585947223|gb|EWN57536.1| methicillin resistance mecR1 protein [Staphylococcus aureus M1333] >gi|585954927|gb|EWN65111.1| methicillin resistance mecR1 protein [Staphylococcus aureus M1329] >gi|585973197|gb|EWN83033.1| methicillin resistance mecR1 protein [Staphylococcus aureus M1319] >gi|585977738|gb|EWN87525.1| methicillin resistance mecR1 protein [Staphylococcus aureus M1319] >gi|586000221|gb|EWO09617.1| methicillin resistance mecR1 protein [Staphylococcus aureus M1304] >gi|586012726|gb|EWO21924.1| methicillin resistance mecR1 protein [Staphylococcus aureus M1297] >gi|586012755|gb|EWO21951.1| methicillin resistance mecR1 protein [Staphylococcus aureus M1297] >gi|586025571|gb|EWO34479.1| methicillin resistance mecR1 protein [Staphylococcus aureus M1290] >gi|586031315|gb|EWO40102.1| methicillin resistance mecR1 protein [Staphylococcus aureus M1289] >gi|586065838|gb|EWO73958.1| methicillin resistance mecR1 protein [Staphylococcus aureus M1270] >gi|586065922|gb|EWO74033.1| methicillin resistance mecR1 protein [Staphylococcus aureus M1270] >gi|586076811|gb|EWO84656.1| methicillin resistance mecR1 protein [Staphylococcus aureus M1263] >gi|586076933|gb|EWO84776.1| methicillin resistance mecR1 protein [Staphylococcus aureus M1263] >gi|586088435|gb|EWO96042.1| methicillin resistance mecR1 protein [Staphylococcus aureus M1262] >gi|586111771|gb|EWP18988.1| methicillin resistance mecR1 protein [Staphylococcus aureus M1242] >gi|586256325|gb|EWQ60710.1| methicillin resistance mecR1 protein [Staphylococcus aureus M1153] >gi|586259058|gb|EWQ63374.1| methicillin resistance mecR1 protein [Staphylococcus aureus M1153] >gi|586298295|gb|EWR01798.1| methicillin resistance mecR1 protein [Staphylococcus aureus M1132] >gi|586310400|gb|EWR13711.1| methicillin resistance mecR1 protein [Staphylococcus aureus M1124] >gi|586310646|gb|EWR13946.1| methicillin resistance mecR1 protein [Staphylococcus aureus M1124] >gi|586342229|gb|EWR44235.1| methicillin resistance mecR1 protein [Staphylococcus aureus WMCA6126] >gi|586348966|gb|EWR50959.1| methicillin resistance mecR1 protein [Staphylococcus aureus WAMC6055] >gi|586350010|gb|EWR51979.1| methicillin resistance mecR1 protein [Staphylococcus aureus WMCS6114] >gi|586350434|gb|EWR52402.1| methicillin resistance mecR1 protein [Staphylococcus aureus OCMM6115] >gi|586350858|gb|EWR52825.1| methicillin resistance mecR1 protein [Staphylococcus aureus WMCS6115] >gi|586358332|gb|EWR60274.1| methicillin resistance mecR1 protein [Staphylococcus aureus WMCA6086] >gi|586364710|gb|EWR66617.1| methicillin resistance mecR1 protein [Staphylococcus aureus FVRH6079] >gi|586371887|gb|EWR73748.1| methicillin resistance mecR1 protein [Staphylococcus aureus FVRH6066] >gi|586372340|gb|EWR74200.1| methicillin resistance mecR1 protein [Staphylococcus aureus FVRH6040] >gi|586376764|gb|EWR78611.1| methicillin resistance mecR1 protein [Staphylococcus aureus MISS6131] >gi|586385630|gb|EWR87430.1| methicillin resistance mecR1 protein [Staphylococcus aureus SJOS6145] >gi|586396359|gb|EWR98073.1| methicillin resistance mecR1 protein [Staphylococcus aureus SMMC6014] >gi|586405016|gb|EWS06687.1| methicillin resistance mecR1 protein [Staphylococcus aureus WAMC6049] >gi|586412334|gb|EWS13964.1| methicillin resistance mecR1 protein [Staphylococcus aureus LPIH6008] >gi|586413372|gb|EWS15000.1| methicillin resistance mecR1 protein [Staphylococcus aureus SMMC6016] >gi|586420923|gb|EWS22521.1| methicillin resistance mecR1 protein [Staphylococcus aureus LPIH6004] >gi|586423536|gb|EWS25123.1| methicillin resistance mecR1 protein [Staphylococcus aureus WMCS6047] >gi|586423610|gb|EWS25195.1| methicillin resistance mecR1 protein [Staphylococcus aureus HBHO6050] >gi|586430269|gb|EWS31803.1| methicillin resistance mecR1 protein [Staphylococcus aureus SCOA6009] >gi|586431423|gb|EWS32952.1| methicillin resistance mecR1 protein [Staphylococcus aureus SJUD6085] >gi|586440511|gb|EWS42011.1| methicillin resistance mecR1 protein [Staphylococcus aureus COAS6044] >gi|586441116|gb|EWS42309.1| methicillin resistance mecR1 protein [Staphylococcus aureus LPIH6010] >gi|587023791|gb|EWT08625.1| methicillin resistance mecR1 protein [Staphylococcus aureus T70944] >gi|587027452|gb|EWT12252.1| methicillin resistance mecR1 protein [Staphylococcus aureus T74154] >gi|587034828|gb|EWT19570.1| methicillin resistance mecR1 protein [Staphylococcus aureus T74060] >gi|587038461|gb|EWT23186.1| methicillin resistance mecR1 protein [Staphylococcus aureus T74141] >gi|587040872|gb|EWT25579.1| methicillin resistance mecR1 protein [Staphylococcus aureus H32126] >gi|587041870|gb|EWT26566.1| methicillin resistance mecR1 protein [Staphylococcus aureus F63730] >gi|587043060|gb|EWT27751.1| methicillin resistance mecR1 protein [Staphylococcus aureus M32688] >gi|587045690|gb|EWT30365.1| methicillin resistance mecR1 protein [Staphylococcus aureus W60060] >gi|587048870|gb|EWT33511.1| methicillin resistance mecR1 protein [Staphylococcus aureus H35283] >gi|587054999|gb|EWT39579.1| methicillin resistance mecR1 protein [Staphylococcus aureus W57390] >gi|587057234|gb|EWT41800.1| methicillin resistance mecR1 protein [Staphylococcus aureus W62934] >gi|587068811|gb|EWT53195.1| methicillin resistance mecR1 protein [Staphylococcus aureus W65865] >gi|587070379|gb|EWT54747.1| methicillin resistance mecR1 protein [Staphylococcus aureus H41070] >gi|587075303|gb|EWT59640.1| methicillin resistance mecR1 protein [Staphylococcus aureus H41109] >gi|587075448|gb|EWT59781.1| methicillin resistance mecR1 protein [Staphylococcus aureus F76239] >gi|587077309|gb|EWT61627.1| methicillin resistance mecR1 protein [Staphylococcus aureus H43996] >gi|587083374|gb|EWT67661.1| methicillin resistance mecR1 protein [Staphylococcus aureus W70659] >gi|587083722|gb|EWT67995.1| methicillin resistance mecR1 protein [Staphylococcus aureus H47169] >gi|587090734|gb|EWT74925.1| methicillin resistance mecR1 protein [Staphylococcus aureus F85184] >gi|587097975|gb|EWT82110.1| methicillin resistance mecR1 protein [Staphylococcus aureus F85609] >gi|587101874|gb|EWT85997.1| methicillin resistance mecR1 protein [Staphylococcus aureus F89046] >gi|587102422|gb|EWT86544.1| methicillin resistance mecR1 protein [Staphylococcus aureus F89062] >gi|587105271|gb|EWT89361.1| methicillin resistance mecR1 protein [Staphylococcus aureus F92073] >gi|587106279|gb|EWT90354.1| methicillin resistance mecR1 protein [Staphylococcus aureus F92105_080312] >gi|587113671|gb|EWT97702.1| methicillin resistance mecR1 protein [Staphylococcus aureus F92127] >gi|587114912|gb|EWT98928.1| methicillin resistance mecR1 protein [Staphylococcus aureus F92125] >gi|587115382|gb|EWT99395.1| methicillin resistance mecR1 protein [Staphylococcus aureus F92128] >gi|587121611|gb|EWU05598.1| methicillin resistance mecR1 protein [Staphylococcus aureus H65830] >gi|587124897|gb|EWU08857.1| methicillin resistance mecR1 protein [Staphylococcus aureus H72115] >gi|587128906|gb|EWU12819.1| methicillin resistance mecR1 protein [Staphylococcus aureus M52622] >gi|587130171|gb|EWU14077.1| methicillin resistance mecR1 protein [Staphylococcus aureus T18851] >gi|587135072|gb|EWU18949.1| methicillin resistance mecR1 protein [Staphylococcus aureus T18865] >gi|587137224|gb|EWU21073.1| methicillin resistance mecR1 protein [Staphylococcus aureus T36127] >gi|587139486|gb|EWU23313.1| methicillin resistance mecR1 protein [Staphylococcus aureus T39082] >gi|587143409|gb|EWU27198.1| methicillin resistance mecR1 protein [Staphylococcus aureus W73649] >gi|587149071|gb|EWU32790.1| methicillin resistance mecR1 protein [Staphylococcus aureus W83133] >gi|587151262|gb|EWU34949.1| methicillin resistance mecR1 protein [Staphylococcus aureus W89268] >gi|587157613|gb|EWU41252.1| methicillin resistance mecR1 protein [Staphylococcus aureus F52754] >gi|587165342|gb|EWU48954.1| methicillin resistance mecR1 protein [Staphylococcus aureus F41902] >gi|587168181|gb|EWU51736.1| methicillin resistance mecR1 protein [Staphylococcus aureus M36089] >gi|587168396|gb|EWU51947.1| methicillin resistance mecR1 protein [Staphylococcus aureus F80354] >gi|587176758|gb|EWU60257.1| methicillin resistance mecR1 protein [Staphylococcus aureus T45940] >gi|587182805|gb|EWU66223.1| methicillin resistance mecR1 protein [Staphylococcus aureus M44986] >gi|587187793|gb|EWU71168.1| methicillin resistance mecR1 protein [Staphylococcus aureus M44987] >gi|587189000|gb|EWU72368.1| methicillin resistance mecR1 protein [Staphylococcus aureus F77709] >gi|587195679|gb|EWU79021.1| methicillin resistance mecR1 protein [Staphylococcus aureus F74039] >gi|587196250|gb|EWU79585.1| methicillin resistance mecR1 protein [Staphylococcus aureus F74035] >gi|587198938|gb|EWU82265.1| methicillin resistance mecR1 protein [Staphylococcus aureus H41336] >gi|587202652|gb|EWU85949.1| methicillin resistance mecR1 protein [Staphylococcus aureus F31094] >gi|587208518|gb|EWU91784.1| methicillin resistance mecR1 protein [Staphylococcus aureus F46780] >gi|587214893|gb|EWU98116.1| methicillin resistance mecR1 protein [Staphylococcus aureus F46785] >gi|587216905|gb|EWV00112.1| methicillin resistance mecR1 protein [Staphylococcus aureus F50093] >gi|587223035|gb|EWV06195.1| methicillin resistance mecR1 protein [Staphylococcus aureus F53393] >gi|587226274|gb|EWV09375.1| methicillin resistance mecR1 protein [Staphylococcus aureus H16097] >gi|587236322|gb|EWV19342.1| methicillin resistance mecR1 protein [Staphylococcus aureus H25869] >gi|587240690|gb|EWV23669.1| methicillin resistance mecR1 protein [Staphylococcus aureus T67319] >gi|587251507|gb|EWV34411.1| methicillin resistance mecR1 protein [Staphylococcus aureus W29625] >gi|587252823|gb|EWV35692.1| methicillin resistance mecR1 protein [Staphylococcus aureus W46839] >gi|587253310|gb|EWV36173.1| methicillin resistance mecR1 protein [Staphylococcus aureus W50110] >gi|587259397|gb|EWV42224.1| methicillin resistance mecR1 protein [Staphylococcus aureus F60357] >gi|587264664|gb|EWV47460.1| methicillin resistance mecR1 protein [Staphylococcus aureus F60360] >gi|587269046|gb|EWV51797.1| methicillin resistance mecR1 protein [Staphylococcus aureus F63750] >gi|587271039|gb|EWV53767.1| methicillin resistance mecR1 protein [Staphylococcus aureus F63687] >gi|587275967|gb|EWV58623.1| methicillin resistance mecR1 protein [Staphylococcus aureus M28487] >gi|587279975|gb|EWV62599.1| methicillin resistance mecR1 protein [Staphylococcus aureus M29068] >gi|587282266|gb|EWV64874.1| methicillin resistance mecR1 protein [Staphylococcus aureus M28485] >gi|587289890|gb|EWV72333.1| methicillin resistance mecR1 protein [Staphylococcus aureus H32166] >gi|587298002|gb|EWV80380.1| methicillin resistance mecR1 protein [Staphylococcus aureus F63786] >gi|587301888|gb|EWV84247.1| methicillin resistance mecR1 protein [Staphylococcus aureus F66778] >gi|587302178|gb|EWV84527.1| methicillin resistance mecR1 protein [Staphylococcus aureus M32679] >gi|587307844|gb|EWV90132.1| methicillin resistance mecR1 protein [Staphylococcus aureus T77618] >gi|587324848|gb|EWW06869.1| methicillin resistance mecR1 protein [Staphylococcus aureus W62972] >gi|587336501|gb|EWW18360.1| methicillin resistance mecR1 protein [Staphylococcus aureus F73229] >gi|587339553|gb|EWW21341.1| methicillin resistance mecR1 protein [Staphylococcus aureus M39265] >gi|587347356|gb|EWW29047.1| methicillin resistance mecR1 protein [Staphylococcus aureus W65904] >gi|587353837|gb|EWW35477.1| methicillin resistance mecR1 protein [Staphylococcus aureus H41079] >gi|587361997|gb|EWW43516.1| methicillin resistance mecR1 protein [Staphylococcus aureus T86574] >gi|587367791|gb|EWW49210.1| methicillin resistance mecR1 protein [Staphylococcus aureus H43986] >gi|587371454|gb|EWW52840.1| methicillin resistance mecR1 protein [Staphylococcus aureus H44015] >gi|587375747|gb|EWW57077.1| methicillin resistance mecR1 protein [Staphylococcus aureus T89906] >gi|587380109|gb|EWW61407.1| methicillin resistance mecR1 protein [Staphylococcus aureus M45704] >gi|587385802|gb|EWW67068.1| methicillin resistance mecR1 protein [Staphylococcus aureus W70590] >gi|587390343|gb|EWW71502.1| methicillin resistance mecR1 protein [Staphylococcus aureus W70568] >gi|587394628|gb|EWW75737.1| methicillin resistance mecR1 protein [Staphylococcus aureus M42514] >gi|587400670|gb|EWW81688.1| methicillin resistance mecR1 protein [Staphylococcus aureus F82568] >gi|587406685|gb|EWW87614.1| methicillin resistance mecR1 protein [Staphylococcus aureus M49455] >gi|587408592|gb|EWW89503.1| methicillin resistance mecR1 protein [Staphylococcus aureus F82600] >gi|587415602|gb|EWW96453.1| methicillin resistance mecR1 protein [Staphylococcus aureus M49474] >gi|587416510|gb|EWW97344.1| methicillin resistance mecR1 protein [Staphylococcus aureus H81433] >gi|587422521|gb|EWX03281.1| methicillin resistance mecR1 protein [Staphylococcus aureus H49922] >gi|587433856|gb|EWX14443.1| methicillin resistance mecR1 protein [Staphylococcus aureus F26021] >gi|587445749|gb|EWX26154.1| methicillin resistance mecR1 protein [Staphylococcus aureus F89053] >gi|587446185|gb|EWX26585.1| methicillin resistance mecR1 protein [Staphylococcus aureus F85711] >gi|587450179|gb|EWX30541.1| methicillin resistance mecR1 protein [Staphylococcus aureus F89078] >gi|587453934|gb|EWX34254.1| methicillin resistance mecR1 protein [Staphylococcus aureus F92047] >gi|587462871|gb|EWX43086.1| methicillin resistance mecR1 protein [Staphylococcus aureus H49831] >gi|587468064|gb|EWX48215.1| methicillin resistance mecR1 protein [Staphylococcus aureus H56219] >gi|587474203|gb|EWX54286.1| methicillin resistance mecR1 protein [Staphylococcus aureus H56227] >gi|587474424|gb|EWX54503.1| methicillin resistance mecR1 protein [Staphylococcus aureus H59298] >gi|587480733|gb|EWX60769.1| methicillin resistance mecR1 protein [Staphylococcus aureus H75423] >gi|587481390|gb|EWX61407.1| methicillin resistance mecR1 protein [Staphylococcus aureus H75425] >gi|587482636|gb|EWX62643.1| methicillin resistance mecR1 protein [Staphylococcus aureus H65794] >gi|587490102|gb|EWX70053.1| methicillin resistance mecR1 protein [Staphylococcus aureus M55878] >gi|587493185|gb|EWX73113.1| methicillin resistance mecR1 protein [Staphylococcus aureus M49501] >gi|587496633|gb|EWX76540.1| methicillin resistance mecR1 protein [Staphylococcus aureus M55902] >gi|587498455|gb|EWX78345.1| methicillin resistance mecR1 protein [Staphylococcus aureus M59248] >gi|587501212|gb|EWX81065.1| methicillin resistance mecR1 protein [Staphylococcus aureus M59257] >gi|587506786|gb|EWX86580.1| methicillin resistance mecR1 protein [Staphylococcus aureus M70006] >gi|587514830|gb|EWX94523.1| methicillin resistance mecR1 protein [Staphylococcus aureus T15889] >gi|587518417|gb|EWX98052.1| methicillin resistance mecR1 protein [Staphylococcus aureus T22071_080712] >gi|587520755|gb|EWY00376.1| methicillin resistance mecR1 protein [Staphylococcus aureus T28640] >gi|587526574|gb|EWY06140.1| methicillin resistance mecR1 protein [Staphylococcus aureus T36111] >gi|587531447|gb|EWY10973.1| methicillin resistance mecR1 protein [Staphylococcus aureus W15951] >gi|587536917|gb|EWY16384.1| methicillin resistance mecR1 protein [Staphylococcus aureus W73738] >gi|587539290|gb|EWY18737.1| methicillin resistance mecR1 protein [Staphylococcus aureus W76930] >gi|587542192|gb|EWY21585.1| methicillin resistance mecR1 protein [Staphylococcus aureus W76994_072512] >gi|587544887|gb|EWY24249.1| methicillin resistance mecR1 protein [Staphylococcus aureus W79968] >gi|593025350|gb|EXM41186.1| methicillin resistance mecR1 protein [Staphylococcus aureus DAR5852] >gi|593026111|gb|EXM41903.1| methicillin resistance mecR1 protein [Staphylococcus aureus DAR5814] >gi|593029488|gb|EXM45219.1| methicillin resistance mecR1 protein [Staphylococcus aureus DAR5855] >gi|593035446|gb|EXM51017.1| methicillin resistance mecR1 protein [Staphylococcus aureus DAR116] >gi|593035676|gb|EXM51243.1| methicillin resistance mecR1 protein [Staphylococcus aureus DAR133] >gi|593042725|gb|EXM58163.1| methicillin resistance mecR1 protein [Staphylococcus aureus DAR26] >gi|593046779|gb|EXM62112.1| methicillin resistance mecR1 protein [Staphylococcus aureus DAR5789] >gi|593047829|gb|EXM63135.1| methicillin resistance mecR1 protein [Staphylococcus aureus DAR5790] >gi|593050208|gb|EXM65438.1| methicillin resistance mecR1 protein [Staphylococcus aureus DAR5791] >gi|593054859|gb|EXM69985.1| methicillin resistance mecR1 protein [Staphylococcus aureus DAR5792] >gi|593055894|gb|EXM71003.1| methicillin resistance mecR1 protein [Staphylococcus aureus DAR5793] >gi|593058607|gb|EXM73633.1| methicillin resistance mecR1 protein [Staphylococcus aureus DAR5794] >gi|593062721|gb|EXM77658.1| methicillin resistance mecR1 protein [Staphylococcus aureus DAR5795] >gi|593064105|gb|EXM79013.1| methicillin resistance mecR1 protein [Staphylococcus aureus DAR5796] >gi|593067026|gb|EXM81867.1| methicillin resistance mecR1 protein [Staphylococcus aureus DAR5797] >gi|593072469|gb|EXM87178.1| methicillin resistance mecR1 protein [Staphylococcus aureus DAR5799] >gi|593074061|gb|EXM88714.1| methicillin resistance mecR1 protein [Staphylococcus aureus DAR5798] >gi|593074792|gb|EXM89428.1| methicillin resistance mecR1 protein [Staphylococcus aureus DAR5800] >gi|593079986|gb|EXM94518.1| methicillin resistance mecR1 protein [Staphylococcus aureus DAR5801] >gi|593081000|gb|EXM95518.1| methicillin resistance mecR1 protein [Staphylococcus aureus DAR5802] >gi|593085216|gb|EXM99609.1| methicillin resistance mecR1 protein [Staphylococcus aureus DAR5803] >gi|593087716|gb|EXN01961.1| methicillin resistance mecR1 protein [Staphylococcus aureus DAR5804] >gi|593090323|gb|EXN04464.1| methicillin resistance mecR1 protein [Staphylococcus aureus DAR5805] >gi|593095417|gb|EXN09376.1| methicillin resistance mecR1 protein [Staphylococcus aureus DAR5806] >gi|593096786|gb|EXN10691.1| methicillin resistance mecR1 protein [Staphylococcus aureus DAR5807] >gi|593098780|gb|EXN12575.1| methicillin resistance mecR1 protein [Staphylococcus aureus DAR5808] >gi|593101062|gb|EXN14770.1| methicillin resistance mecR1 protein [Staphylococcus aureus DAR5809] >gi|593105183|gb|EXN18721.1| methicillin resistance mecR1 protein [Staphylococcus aureus DAR5811] >gi|593106873|gb|EXN20346.1| methicillin resistance mecR1 protein [Staphylococcus aureus DAR5812] >gi|593110247|gb|EXN23584.1| methicillin resistance mecR1 protein [Staphylococcus aureus DAR5813] >gi|593113230|gb|EXN26435.1| methicillin resistance mecR1 protein [Staphylococcus aureus DAR5815] >gi|593115386|gb|EXN28528.1| methicillin resistance mecR1 protein [Staphylococcus aureus DAR5816] >gi|593119957|gb|EXN32949.1| methicillin resistance mecR1 protein [Staphylococcus aureus DAR5817] >gi|593121619|gb|EXN34492.1| methicillin resistance mecR1 protein [Staphylococcus aureus DAR5819] >gi|593122685|gb|EXN35512.1| methicillin resistance mecR1 protein [Staphylococcus aureus DAR5820] >gi|593128076|gb|EXN40706.1| methicillin resistance mecR1 protein [Staphylococcus aureus DAR5821] >gi|593129918|gb|EXN42430.1| methicillin resistance mecR1 protein [Staphylococcus aureus DAR5822] >gi|593131113|gb|EXN43563.1| methicillin resistance mecR1 protein [Staphylococcus aureus DAR5823] >gi|593137056|gb|EXN49087.1| methicillin resistance mecR1 protein [Staphylococcus aureus DAR5824] >gi|593137977|gb|EXN50134.1| methicillin resistance mecR1 protein [Staphylococcus aureus DAR5825] >gi|593142169|gb|EXN54138.1| methicillin resistance mecR1 protein [Staphylococcus aureus DAR5826] >gi|593144021|gb|EXN55886.1| methicillin resistance mecR1 protein [Staphylococcus aureus DAR5827] >gi|593145306|gb|EXN57111.1| methicillin resistance mecR1 protein [Staphylococcus aureus DAR5828] >gi|593150951|gb|EXN62556.1| methicillin resistance mecR1 protein [Staphylococcus aureus DAR5829] >gi|593152202|gb|EXN63712.1| methicillin resistance mecR1 protein [Staphylococcus aureus DAR5830] >gi|593154166|gb|EXN65587.1| methicillin resistance mecR1 protein [Staphylococcus aureus DAR5831] >gi|593158611|gb|EXN69865.1| methicillin resistance mecR1 protein [Staphylococcus aureus DAR5832] >gi|593160718|gb|EXN71876.1| methicillin resistance mecR1 protein [Staphylococcus aureus DAR5833] >gi|593163630|gb|EXN74671.1| methicillin resistance mecR1 protein [Staphylococcus aureus DAR5834] >gi|593166744|gb|EXN77657.1| methicillin resistance mecR1 protein [Staphylococcus aureus DAR5835] >gi|593169587|gb|EXN80382.1| methicillin resistance mecR1 protein [Staphylococcus aureus DAR5836] >gi|593172320|gb|EXN83003.1| methicillin resistance mecR1 protein [Staphylococcus aureus DAR5837] >gi|593175083|gb|EXN85641.1| methicillin resistance mecR1 protein [Staphylococcus aureus DAR5838] >gi|593178027|gb|EXN88456.1| methicillin resistance mecR1 protein [Staphylococcus aureus DAR5839] >gi|593180683|gb|EXN90994.1| methicillin resistance mecR1 protein [Staphylococcus aureus DAR5840] >gi|593183636|gb|EXN93814.1| methicillin resistance mecR1 protein [Staphylococcus aureus DAR5841] >gi|593188178|gb|EXN98138.1| methicillin resistance mecR1 protein [Staphylococcus aureus DAR5843] >gi|593188620|gb|EXN98520.1| methicillin resistance mecR1 protein [Staphylococcus aureus DAR5846] >gi|593190293|gb|EXO00075.1| methicillin resistance mecR1 protein [Staphylococcus aureus DAR5845] >gi|593195796|gb|EXO05403.1| methicillin resistance mecR1 protein [Staphylococcus aureus DAR5847] >gi|593199978|gb|EXO09310.1| methicillin resistance mecR1 protein [Staphylococcus aureus DAR5848] >gi|593200047|gb|EXO09372.1| methicillin resistance mecR1 protein [Staphylococcus aureus DAR5849] >gi|593205371|gb|EXO14446.1| methicillin resistance mecR1 protein [Staphylococcus aureus DAR5850] >gi|593206359|gb|EXO15321.1| methicillin resistance mecR1 protein [Staphylococcus aureus DAR5851] >gi|593207422|gb|EXO16327.1| methicillin resistance mecR1 protein [Staphylococcus aureus DAR5853] >gi|593213890|gb|EXO22573.1| methicillin resistance mecR1 protein [Staphylococcus aureus DAR5854] >gi|593215187|gb|EXO23740.1| methicillin resistance mecR1 protein [Staphylococcus aureus DAR5856] >gi|593215523|gb|EXO24058.1| methicillin resistance mecR1 protein [Staphylococcus aureus DAR5857] >gi|593222206|gb|EXO30511.1| methicillin resistance mecR1 protein [Staphylococcus aureus DAR5858] >gi|593224054|gb|EXO32212.1| methicillin resistance mecR1 protein [Staphylococcus aureus DAR5859] >gi|593225699|gb|EXO33799.1| methicillin resistance mecR1 protein [Staphylococcus aureus DAR5861] >gi|593229467|gb|EXO37426.1| methicillin resistance mecR1 protein [Staphylococcus aureus DAR5862] >gi|593232639|gb|EXO40431.1| methicillin resistance mecR1 protein [Staphylococcus aureus DAR5863] >gi|593234555|gb|EXO42268.1| methicillin resistance mecR1 protein [Staphylococcus aureus DAR5864] >gi|593238831|gb|EXO46310.1| methicillin resistance mecR1 protein [Staphylococcus aureus DAR5865] >gi|593270158|gb|EXO68782.1| methicillin resistance mecR1 protein [Staphylococcus aureus W12586] >gi|593276527|gb|EXO75015.1| methicillin resistance mecR1 protein [Staphylococcus aureus T86792] >gi|593284035|gb|EXO82405.1| methicillin resistance mecR1 protein [Staphylococcus aureus T32092] >gi|593284515|gb|EXO82881.1| methicillin resistance mecR1 protein [Staphylococcus aureus T39102] >gi|593285053|gb|EXO83416.1| methicillin resistance mecR1 protein [Staphylococcus aureus T24515] >gi|593287220|gb|EXO85541.1| methicillin resistance mecR1 protein [Staphylococcus aureus T13127] >gi|593291652|gb|EXO89881.1| methicillin resistance mecR1 protein [Staphylococcus aureus T13125] >gi|593294630|gb|EXO92799.1| methicillin resistance mecR1 protein [Staphylococcus aureus T13126] >gi|593296478|gb|EXO94631.1| methicillin resistance mecR1 protein [Staphylococcus aureus M79684] >gi|593299609|gb|EXO97696.1| methicillin resistance mecR1 protein [Staphylococcus aureus H84956] >gi|593301733|gb|EXO99792.1| methicillin resistance mecR1 protein [Staphylococcus aureus H84958] >gi|593304174|gb|EXP02203.1| methicillin resistance mecR1 protein [Staphylococcus aureus H75430] >gi|593306914|gb|EXP04897.1| methicillin resistance mecR1 protein [Staphylococcus aureus H72152] >gi|593307589|gb|EXP05559.1| methicillin resistance mecR1 protein [Staphylococcus aureus H71778] >gi|593313317|gb|EXP11234.1| methicillin resistance mecR1 protein [Staphylococcus aureus H65853] >gi|593314605|gb|EXP12482.1| methicillin resistance mecR1 protein [Staphylococcus aureus H31085] >gi|593316329|gb|EXP14169.1| methicillin resistance mecR1 protein [Staphylococcus aureus F64897] >gi|593321105|gb|EXP18887.1| methicillin resistance mecR1 protein [Staphylococcus aureus F45779] >gi|593323122|gb|EXP20860.1| methicillin resistance mecR1 protein [Staphylococcus aureus F36091] >gi|593341475|gb|EXP33335.1| methicillin resistance mecR1 protein [Staphylococcus aureus W28921] >gi|593344192|gb|EXP35954.1| methicillin resistance mecR1 protein [Staphylococcus aureus W25797] >gi|593364484|gb|EXP55606.1| methicillin resistance mecR1 protein [Staphylococcus aureus W12583] >gi|593368672|gb|EXP59738.1| methicillin resistance mecR1 protein [Staphylococcus aureus W12582] >gi|593373550|gb|EXP64483.1| methicillin resistance mecR1 protein [Staphylococcus aureus T62976] >gi|593375563|gb|EXP66430.1| methicillin resistance mecR1 protein [Staphylococcus aureus T35622] >gi|593383387|gb|EXP74094.1| methicillin resistance mecR1 protein [Staphylococcus aureus T32086] >gi|593386271|gb|EXP76930.1| methicillin resistance mecR1 protein [Staphylococcus aureus M90388] >gi|593387063|gb|EXP77703.1| methicillin resistance mecR1 protein [Staphylococcus aureus M86943] >gi|593389840|gb|EXP80438.1| methicillin resistance mecR1 protein [Staphylococcus aureus M86940] >gi|593392002|gb|EXP82573.1| methicillin resistance mecR1 protein [Staphylococcus aureus M79686] >gi|593396957|gb|EXP87362.1| methicillin resistance mecR1 protein [Staphylococcus aureus M79256] >gi|593402979|gb|EXP93280.1| methicillin resistance mecR1 protein [Staphylococcus aureus M79254] >gi|593404406|gb|EXP94677.1| methicillin resistance mecR1 protein [Staphylococcus aureus M72097] >gi|593405070|gb|EXP95309.1| methicillin resistance mecR1 protein [Staphylococcus aureus M70018] >gi|593409899|gb|EXQ00006.1| methicillin resistance mecR1 protein [Staphylococcus aureus M70017] >gi|593412873|gb|EXQ03007.1| methicillin resistance mecR1 protein [Staphylococcus aureus M67938] >gi|593415337|gb|EXQ05354.1| methicillin resistance mecR1 protein [Staphylococcus aureus M42184] >gi|593422932|gb|EXQ12737.1| methicillin resistance mecR1 protein [Staphylococcus aureus H75421] >gi|593425040|gb|EXQ14810.1| methicillin resistance mecR1 protein [Staphylococcus aureus H84959] >gi|593429524|gb|EXQ19200.1| methicillin resistance mecR1 protein [Staphylococcus aureus H68996] >gi|593435039|gb|EXQ24575.1| methicillin resistance mecR1 protein [Staphylococcus aureus H65883] >gi|593440461|gb|EXQ29885.1| methicillin resistance mecR1 protein [Staphylococcus aureus H65882] >gi|593444284|gb|EXQ33664.1| methicillin resistance mecR1 protein [Staphylococcus aureus H65881] >gi|593444612|gb|EXQ33990.1| methicillin resistance mecR1 protein [Staphylococcus aureus H65878] >gi|593446270|gb|EXQ35591.1| methicillin resistance mecR1 protein [Staphylococcus aureus H31086] >gi|593446783|gb|EXQ36080.1| methicillin resistance mecR1 protein [Staphylococcus aureus H31084] >gi|593453830|gb|EXQ43011.1| methicillin resistance mecR1 protein [Staphylococcus aureus H22656] >gi|593455524|gb|EXQ44666.1| methicillin resistance mecR1 protein [Staphylococcus aureus F64896] >gi|593469472|gb|EXQ58232.1| methicillin resistance mecR1 protein [Staphylococcus aureus F36090] >gi|593470582|gb|EXQ59318.1| methicillin resistance mecR1 protein [Staphylococcus aureus F27252] >gi|593472817|gb|EXQ61463.1| methicillin resistance mecR1 protein [Staphylococcus aureus F26032] >gi|593474829|gb|EXQ63429.1| methicillin resistance mecR1 protein [Staphylococcus aureus F26051] >gi|599576975|gb|EYF09166.1| methicillin resistance mecR1 protein [Staphylococcus aureus F16108] >gi|599587752|gb|EYF19556.1| methicillin resistance mecR1 protein [Staphylococcus aureus F19490] >gi|599596140|gb|EYF27646.1| methicillin resistance mecR1 protein [Staphylococcus aureus H59329] >gi|599598487|gb|EYF29948.1| methicillin resistance mecR1 protein [Staphylococcus aureus M62794] >gi|599604418|gb|EYF35759.1| methicillin resistance mecR1 protein [Staphylococcus aureus M66468] >gi|599604856|gb|EYF36178.1| methicillin resistance mecR1 protein [Staphylococcus aureus T25283] >gi|599610178|gb|EYF41391.1| methicillin resistance mecR1 protein [Staphylococcus aureus T35596] >gi|599615489|gb|EYF46538.1| methicillin resistance mecR1 protein [Staphylococcus aureus W12538] >gi|599637241|gb|EYF67006.1| methicillin resistance mecR1 protein [Staphylococcus aureus F91072] >gi|599642576|gb|EYF72135.1| methicillin resistance mecR1 protein [Staphylococcus aureus F91077] >gi|599643841|gb|EYF73359.1| methicillin resistance mecR1 protein [Staphylococcus aureus M72054] >gi|599652109|gb|EYF81217.1| methicillin resistance mecR1 protein [Staphylococcus aureus T16600] >gi|599658733|gb|EYF87432.1| methicillin resistance mecR1 protein [Staphylococcus aureus W75229] >gi|599663075|gb|EYF91614.1| methicillin resistance mecR1 protein [Staphylococcus aureus W82215] >gi|599681761|gb|EYG09654.1| methicillin resistance mecR1 protein [Staphylococcus aureus F48959] >gi|599685217|gb|EYG13052.1| methicillin resistance mecR1 protein [Staphylococcus aureus F71576] >gi|599687669|gb|EYG15458.1| methicillin resistance mecR1 protein [Staphylococcus aureus F74820] >gi|599694467|gb|EYG22156.1| methicillin resistance mecR1 protein [Staphylococcus aureus H19398] >gi|599700023|gb|EYG27589.1| methicillin resistance mecR1 protein [Staphylococcus aureus H19420] >gi|599704509|gb|EYG32030.1| methicillin resistance mecR1 protein [Staphylococcus aureus H43694] >gi|599708574|gb|EYG36025.1| methicillin resistance mecR1 protein [Staphylococcus aureus H47117] >gi|599709784|gb|EYG37218.1| methicillin resistance mecR1 protein [Staphylococcus aureus M20726] >gi|599713055|gb|EYG40450.1| methicillin resistance mecR1 protein [Staphylococcus aureus M42212] >gi|599719130|gb|EYG46454.1| methicillin resistance mecR1 protein [Staphylococcus aureus M79667] >gi|599719522|gb|EYG46834.1| methicillin resistance mecR1 protein [Staphylococcus aureus M57729] >gi|599726509|gb|EYG53686.1| methicillin resistance mecR1 protein [Staphylococcus aureus T47161] >gi|599730160|gb|EYG57305.1| methicillin resistance mecR1 protein [Staphylococcus aureus T42550] >gi|599732680|gb|EYG59752.1| methicillin resistance mecR1 protein [Staphylococcus aureus W35455] >gi|599735446|gb|EYG62488.1| methicillin resistance mecR1 protein [Staphylococcus aureus W19225] >gi|599737855|gb|EYG64857.1| methicillin resistance mecR1 protein [Staphylococcus aureus W42270] >gi|599744796|gb|EYG71704.1| methicillin resistance mecR1 protein [Staphylococcus aureus F31078] >gi|599747522|gb|EYG74402.1| methicillin resistance mecR1 protein [Staphylococcus aureus W52298] >gi|599751812|gb|EYG78559.1| methicillin resistance mecR1 protein [Staphylococcus aureus F48611] >gi|599752211|gb|EYG78957.1| methicillin resistance mecR1 protein [Staphylococcus aureus F48607] >gi|599756116|gb|EYG82813.1| methicillin resistance mecR1 protein [Staphylococcus aureus H12890] >gi|599758206|gb|EYG84857.1| methicillin resistance mecR1 protein [Staphylococcus aureus F87619] >gi|599760814|gb|EYG87416.1| methicillin resistance mecR1 protein [Staphylococcus aureus H20315] >gi|599763174|gb|EYG89740.1| methicillin resistance mecR1 protein [Staphylococcus aureus H50411] >gi|599767070|gb|EYG93561.1| methicillin resistance mecR1 protein [Staphylococcus aureus M67929_020413] >gi|599770866|gb|EYG97307.1| methicillin resistance mecR1 protein [Staphylococcus aureus M67957] >gi|599779522|gb|EYH05790.1| methicillin resistance mecR1 protein [Staphylococcus aureus W24177] >gi|599782643|gb|EYH08877.1| methicillin resistance mecR1 protein [Staphylococcus aureus T22073] >gi|599783836|gb|EYH10061.1| methicillin resistance mecR1 protein [Staphylococcus aureus W41765] >gi|599788911|gb|EYH15030.1| methicillin resistance mecR1 protein [Staphylococcus aureus W80041] >gi|599792892|gb|EYH18941.1| methicillin resistance mecR1 protein [Staphylococcus aureus W80042] >gi|599794672|gb|EYH20678.1| methicillin resistance mecR1 protein [Staphylococcus aureus F71592] >gi|599796241|gb|EYH22202.1| methicillin resistance mecR1 protein [Staphylococcus aureus F91084] >gi|599813328|gb|EYH38658.1| methicillin resistance mecR1 protein [Staphylococcus aureus W25799] >gi|599995514|gb|EYJ03080.1| methicillin resistance mecR1 protein [Staphylococcus aureus F63712] >gi|599997239|gb|EYJ04717.1| methicillin resistance mecR1 protein [Staphylococcus aureus M32669] >gi|600013165|gb|EYJ19591.1| methicillin resistance mecR1 protein [Staphylococcus aureus H72119] >gi|600019340|gb|EYJ25482.1| methicillin resistance mecR1 protein [Staphylococcus aureus T28653] >gi|600024647|gb|EYJ30611.1| methicillin resistance mecR1 protein [Staphylococcus aureus T35615] >gi|600029599|gb|EYJ35420.1| methicillin resistance mecR1 protein [Staphylococcus aureus F42556] >gi|600046276|gb|EYJ51700.1| methicillin resistance mecR1 protein [Staphylococcus aureus F48950] >gi|600051455|gb|EYJ56743.1| methicillin resistance mecR1 protein [Staphylococcus aureus F80972] >gi|600058146|gb|EYJ63339.1| methicillin resistance mecR1 protein [Staphylococcus aureus H12662] >gi|600069484|gb|EYJ74437.1| methicillin resistance mecR1 protein [Staphylococcus aureus H22637] >gi|600072206|gb|EYJ77130.1| methicillin resistance mecR1 protein [Staphylococcus aureus H43687] >gi|600083824|gb|EYJ88465.1| methicillin resistance mecR1 protein [Staphylococcus aureus H88170] >gi|600094009|gb|EYJ98455.1| methicillin resistance mecR1 protein [Staphylococcus aureus M13099] >gi|600098855|gb|EYK03172.1| methicillin resistance mecR1 protein [Staphylococcus aureus M17033] >gi|600100749|gb|EYK05029.1| methicillin resistance mecR1 protein [Staphylococcus aureus M24416] >gi|600103871|gb|EYK08111.1| methicillin resistance mecR1 protein [Staphylococcus aureus M24418] >gi|600135527|gb|EYK38991.1| methicillin resistance mecR1 protein [Staphylococcus aureus T13128] >gi|600136841|gb|EYK40298.1| methicillin resistance mecR1 protein [Staphylococcus aureus T42547] >gi|600143457|gb|EYK46791.1| methicillin resistance mecR1 protein [Staphylococcus aureus T45839] >gi|600148722|gb|EYK51959.1| methicillin resistance mecR1 protein [Staphylococcus aureus T52642] >gi|600153358|gb|EYK56541.1| methicillin resistance mecR1 protein [Staphylococcus aureus T52649] >gi|600156125|gb|EYK59265.1| methicillin resistance mecR1 protein [Staphylococcus aureus T55950] >gi|600161268|gb|EYK64334.1| methicillin resistance mecR1 protein [Staphylococcus aureus T55954] >gi|600167889|gb|EYK70895.1| methicillin resistance mecR1 protein [Staphylococcus aureus T59618] >gi|600168016|gb|EYK71008.1| methicillin resistance mecR1 protein [Staphylococcus aureus T66632] >gi|600171375|gb|EYK74338.1| methicillin resistance mecR1 protein [Staphylococcus aureus T83543] >gi|600174045|gb|EYK76990.1| methicillin resistance mecR1 protein [Staphylococcus aureus T70161] >gi|600176138|gb|EYK79064.1| methicillin resistance mecR1 protein [Staphylococcus aureus T83563] >gi|600193651|gb|EYK96196.1| methicillin resistance mecR1 protein [Staphylococcus aureus W42255] >gi|600199266|gb|EYL01648.1| methicillin resistance mecR1 protein [Staphylococcus aureus W45750] >gi|600206653|gb|EYL08922.1| methicillin resistance mecR1 protein [Staphylococcus aureus W52294] >gi|600211216|gb|EYL13397.1| methicillin resistance mecR1 protein [Staphylococcus aureus W55536] >gi|600213905|gb|EYL16035.1| methicillin resistance mecR1 protein [Staphylococcus aureus F16533] >gi|600222884|gb|EYL24844.1| methicillin resistance mecR1 protein [Staphylococcus aureus F27233] >gi|600226887|gb|EYL28733.1| methicillin resistance mecR1 protein [Staphylococcus aureus F48420] >gi|600232735|gb|EYL34518.1| methicillin resistance mecR1 protein [Staphylococcus aureus F48422] >gi|600238074|gb|EYL39754.1| methicillin resistance mecR1 protein [Staphylococcus aureus F48603] >gi|600240282|gb|EYL41902.1| methicillin resistance mecR1 protein [Staphylococcus aureus F76253] >gi|600248778|gb|EYL50183.1| methicillin resistance mecR1 protein [Staphylococcus aureus H32175] >gi|600256806|gb|EYL58087.1| methicillin resistance mecR1 protein [Staphylococcus aureus H59325] >gi|600256850|gb|EYL58129.1| methicillin resistance mecR1 protein [Staphylococcus aureus H50403] >gi|600258870|gb|EYL60130.1| methicillin resistance mecR1 protein [Staphylococcus aureus H50387] >gi|600265576|gb|EYL66766.1| methicillin resistance mecR1 protein [Staphylococcus aureus H64570] >gi|600283331|gb|EYL84107.1| methicillin resistance mecR1 protein [Staphylococcus aureus M21126] >gi|600289133|gb|EYL89754.1| methicillin resistance mecR1 protein [Staphylococcus aureus M64056] >gi|600290391|gb|EYL90960.1| methicillin resistance mecR1 protein [Staphylococcus aureus M67953] >gi|600299384|gb|EYL99786.1| methicillin resistance mecR1 protein [Staphylococcus aureus M72095_021113] >gi|600306601|gb|EYM06797.1| methicillin resistance mecR1 protein [Staphylococcus aureus T31892] >gi|600311127|gb|EYM11258.1| methicillin resistance mecR1 protein [Staphylococcus aureus T22074] >gi|600311994|gb|EYM12106.1| methicillin resistance mecR1 protein [Staphylococcus aureus T59813] >gi|600316947|gb|EYM16936.1| methicillin resistance mecR1 protein [Staphylococcus aureus W13012_022013] >gi|600317112|gb|EYM17091.1| methicillin resistance mecR1 protein [Staphylococcus aureus T63897] >gi|600321588|gb|EYM21485.1| methicillin resistance mecR1 protein [Staphylococcus aureus T63898] >gi|600325839|gb|EYM25620.1| methicillin resistance mecR1 protein [Staphylococcus aureus W27852] >gi|600340418|gb|EYM39830.1| methicillin resistance mecR1 protein [Staphylococcus aureus W45421] >gi|600344701|gb|EYM44021.1| methicillin resistance mecR1 protein [Staphylococcus aureus W75262] >gi|600350426|gb|EYM49675.1| methicillin resistance mecR1 protein [Staphylococcus aureus W76995] >gi|600483342|gb|EYM77290.1| methicillin resistance mecR1 protein [Staphylococcus aureus DAR3534] >gi|600491798|gb|EYM85709.1| methicillin resistance mecR1 protein [Staphylococcus aureus DAR3565] >gi|600509125|gb|EYN02914.1| methicillin resistance mecR1 protein [Staphylococcus aureus DAR3581] >gi|600525750|gb|EYN19446.1| methicillin resistance mecR1 protein [Staphylococcus aureus DAR3591] >gi|600559450|gb|EYN52857.1| methicillin resistance mecR1 protein [Staphylococcus aureus DAR3632] >gi|600559487|gb|EYN52892.1| methicillin resistance mecR1 protein [Staphylococcus aureus DAR3629] >gi|600631549|gb|EYO24432.1| methicillin resistance mecR1 protein [Staphylococcus aureus DAR3868] >gi|600656992|gb|EYO49687.1| methicillin resistance mecR1 protein [Staphylococcus aureus DAR3897] >gi|600665977|gb|EYO58603.1| methicillin resistance mecR1 protein [Staphylococcus aureus DAR3918] >gi|600692269|gb|EYO84652.1| methicillin resistance mecR1 protein [Staphylococcus aureus DAR5878] >gi|600696524|gb|EYO88846.1| methicillin resistance mecR1 protein [Staphylococcus aureus DAR5877] >gi|600697729|gb|EYO90028.1| methicillin resistance mecR1 protein [Staphylococcus aureus DAR5875] >gi|600698112|gb|EYO90405.1| methicillin resistance mecR1 protein [Staphylococcus aureus DAR5874] >gi|600699826|gb|EYO92093.1| methicillin resistance mecR1 protein [Staphylococcus aureus DAR5873] >gi|600708806|gb|EYP00966.1| methicillin resistance mecR1 protein [Staphylococcus aureus DAR1065] >gi|600766956|gb|EYP58776.1| methicillin resistance mecR1 protein [Staphylococcus aureus DAR1311] >gi|600859850|gb|EYQ51115.1| methicillin resistance mecR1 protein [Staphylococcus aureus DAR2000] >gi|600878194|gb|EYQ69345.1| methicillin resistance mecR1 protein [Staphylococcus aureus DAR2068] >gi|600883395|gb|EYQ74500.1| methicillin resistance mecR1 protein [Staphylococcus aureus DAR3143] >gi|600888838|gb|EYQ79883.1| methicillin resistance mecR1 protein [Staphylococcus aureus DAR3144] >gi|600888887|gb|EYQ79931.1| methicillin resistance mecR1 protein [Staphylococcus aureus DAR3148] >gi|600894994|gb|EYQ85970.1| methicillin resistance mecR1 protein [Staphylococcus aureus DAR3150] >gi|600898274|gb|EYQ89223.1| methicillin resistance mecR1 protein [Staphylococcus aureus DAR3153] >gi|600899639|gb|EYQ90575.1| methicillin resistance mecR1 protein [Staphylococcus aureus DAR3152] >gi|600906868|gb|EYQ97759.1| methicillin resistance mecR1 protein [Staphylococcus aureus DAR3162] >gi|600908268|gb|EYQ99141.1| methicillin resistance mecR1 protein [Staphylococcus aureus DAR3163] >gi|600919129|gb|EYR09920.1| methicillin resistance mecR1 protein [Staphylococcus aureus DAR3175] >gi|600930564|gb|EYR21277.1| methicillin resistance mecR1 protein [Staphylococcus aureus DAR3179] >gi|600933865|gb|EYR24526.1| methicillin resistance mecR1 protein [Staphylococcus aureus DAR3236] >gi|600933886|gb|EYR24546.1| methicillin resistance mecR1 protein [Staphylococcus aureus DAR5890] >gi|600935090|gb|EYR25739.1| methicillin resistance mecR1 protein [Staphylococcus aureus DAR5889] >gi|600940989|gb|EYR31581.1| methicillin resistance mecR1 protein [Staphylococcus aureus DAR5888] >gi|600945180|gb|EYR35717.1| methicillin resistance mecR1 protein [Staphylococcus aureus DAR5886] >gi|600949160|gb|EYR39652.1| methicillin resistance mecR1 protein [Staphylococcus aureus DAR5887] >gi|600949762|gb|EYR40228.1| methicillin resistance mecR1 protein [Staphylococcus aureus DAR5885] >gi|600952142|gb|EYR42562.1| methicillin resistance mecR1 protein [Staphylococcus aureus DAR5884] >gi|600958331|gb|EYR48708.1| methicillin resistance mecR1 protein [Staphylococcus aureus DAR5881] >gi|600958356|gb|EYR48731.1| methicillin resistance mecR1 protein [Staphylococcus aureus DAR5872] >gi|600962993|gb|EYR53326.1| methicillin resistance mecR1 protein [Staphylococcus aureus DAR5871] >gi|600965487|gb|EYR55792.1| methicillin resistance mecR1 protein [Staphylococcus aureus DAR5870] >gi|600966511|gb|EYR56790.1| methicillin resistance mecR1 protein [Staphylococcus aureus DAR5868] >gi|600970860|gb|EYR61112.1| methicillin resistance mecR1 protein [Staphylococcus aureus DAR5869] >gi|610396930|gb|AHW66856.1| peptidase M48 family protein [Staphylococcus aureus] >gi|610819785|gb|EZI16963.1| peptidase, M56 family [Staphylococcus aureus subsp. aureus CO-41] >gi|610819927|gb|EZI17092.1| peptidase, M56 family [Staphylococcus aureus subsp. aureus CO-49] >gi|612526211|gb|EZR45832.1| methicillin resistance mecR1 protein [Staphylococcus aureus VET1898R] >gi|612536827|gb|EZR55751.1| methicillin resistance mecR1 protein [Staphylococcus aureus VET1869R] >gi|612539383|gb|EZR58191.1| methicillin resistance mecR1 protein [Staphylococcus aureus VET1842R] >gi|612598583|gb|EZS15769.1| methicillin resistance mecR1 protein [Staphylococcus aureus VET0414R] >gi|612625686|gb|EZS42448.1| methicillin resistance mecR1 protein [Staphylococcus aureus VET0306R] >gi|612650244|gb|EZS66677.1| methicillin resistance mecR1 protein [Staphylococcus aureus VET0219R] >gi|612658578|gb|EZS74882.1| methicillin resistance mecR1 protein [Staphylococcus aureus VET0191R] >gi|612684573|gb|EZT00453.1| methicillin resistance mecR1 protein [Staphylococcus aureus VET0125R] >gi|612714660|gb|EZT30015.1| methicillin resistance mecR1 protein [Staphylococcus aureus Tur-5] >gi|612715904|gb|EZT31215.1| methicillin resistance mecR1 protein [Staphylococcus aureus Tur-4] >gi|612716810|gb|EZT32081.1| methicillin resistance mecR1 protein [Staphylococcus aureus S64_POEL] >gi|612733875|gb|EZT48804.1| methicillin resistance mecR1 protein [Staphylococcus aureus GD2010-169] >gi|612750432|gb|EZT65122.1| methicillin resistance mecR1 protein [Staphylococcus aureus 81629] >gi|612751031|gb|EZT65682.1| methicillin resistance mecR1 protein [Staphylococcus aureus 63-D10] >gi|612751460|gb|EZT66097.1| methicillin resistance mecR1 protein [Staphylococcus aureus 53180-1] >gi|612758877|gb|EZT73393.1| methicillin resistance mecR1 protein [Staphylococcus aureus 28(3K2-5)] >gi|612766433|gb|EZT80807.1| methicillin resistance mecR1 protein [Staphylococcus aureus 1484-9] >gi|612770109|gb|EZT84409.1| methicillin resistance mecR1 protein [Staphylococcus aureus 12S00972] >gi|612773426|gb|EZT87639.1| methicillin resistance mecR1 protein [Staphylococcus aureus 1111001578] >gi|612773524|gb|EZT87733.1| methicillin resistance mecR1 protein [Staphylococcus aureus 11S01420] >gi|612776888|gb|EZT91035.1| methicillin resistance mecR1 protein [Staphylococcus aureus 10S00488] >gi|612782129|gb|EZT96196.1| methicillin resistance mecR1 protein [Staphylococcus aureus 09S01694] >gi|612819760|gb|EZU32931.1| methicillin resistance mecR1 protein [Staphylococcus aureus 08142-8] >gi|612820277|gb|EZU33421.1| methicillin resistance mecR1 protein [Staphylococcus aureus 09S00475] >gi|612822033|gb|EZU35151.1| methicillin resistance mecR1 protein [Staphylococcus aureus 08143-5] >gi|612826062|gb|EZU39132.1| methicillin resistance mecR1 protein [Staphylococcus aureus 10S01493] >gi|612827625|gb|EZU40663.1| methicillin resistance mecR1 protein [Staphylococcus aureus 110802495] >gi|612833667|gb|EZU46610.1| methicillin resistance mecR1 protein [Staphylococcus aureus 1110601896] >gi|612847868|gb|EZU60594.1| methicillin resistance mecR1 protein [Staphylococcus aureus 1110807699] >gi|612854331|gb|EZU66937.1| methicillin resistance mecR1 protein [Staphylococcus aureus 1111000175] >gi|612856782|gb|EZU69315.1| methicillin resistance mecR1 protein [Staphylococcus aureus 1111000177] >gi|612857205|gb|EZU69726.1| methicillin resistance mecR1 protein [Staphylococcus aureus 1111100370] >gi|612860304|gb|EZU72760.1| methicillin resistance mecR1 protein [Staphylococcus aureus 1111101949] >gi|612864787|gb|EZU77180.1| methicillin resistance mecR1 protein [Staphylococcus aureus 1111102620] >gi|612870202|gb|EZU82488.1| methicillin resistance mecR1 protein [Staphylococcus aureus 1111203374] >gi|612874352|gb|EZU86558.1| methicillin resistance mecR1 protein [Staphylococcus aureus 1111206270] >gi|612882081|gb|EZU94146.1| methicillin resistance mecR1 protein [Staphylococcus aureus 11S00605] >gi|612882404|gb|EZU94459.1| methicillin resistance mecR1 protein [Staphylococcus aureus 11S00627] >gi|612889203|gb|EZV01165.1| methicillin resistance mecR1 protein [Staphylococcus aureus 11S01415] >gi|612889507|gb|EZV01467.1| methicillin resistance mecR1 protein [Staphylococcus aureus 11S01586] >gi|612902188|gb|EZV13928.1| methicillin resistance mecR1 protein [Staphylococcus aureus 12S00040] >gi|612904643|gb|EZV16332.1| methicillin resistance mecR1 protein [Staphylococcus aureus 12S00881] >gi|612909993|gb|EZV21615.1| methicillin resistance mecR1 protein [Staphylococcus aureus 12S01153] >gi|612910602|gb|EZV22198.1| methicillin resistance mecR1 protein [Staphylococcus aureus 12S01399] >gi|612912586|gb|EZV24134.1| methicillin resistance mecR1 protein [Staphylococcus aureus 12-ST01564] >gi|612916979|gb|EZV28457.1| methicillin resistance mecR1 protein [Staphylococcus aureus 12-ST01988] >gi|612918191|gb|EZV29631.1| methicillin resistance mecR1 protein [Staphylococcus aureus 13-ST00049] >gi|612924942|gb|EZV36271.1| methicillin resistance mecR1 protein [Staphylococcus aureus 150211/pool 1] >gi|612928804|gb|EZV40057.1| methicillin resistance mecR1 protein [Staphylococcus aureus 18439-17] >gi|612936481|gb|EZV47624.1| methicillin resistance mecR1 protein [Staphylococcus aureus 19571] >gi|612945625|gb|EZV56580.1| methicillin resistance mecR1 protein [Staphylococcus aureus 2010-60-6063-29] >gi|612955790|gb|EZV66603.1| methicillin resistance mecR1 protein [Staphylococcus aureus 2010-60-6511-10] >gi|612958475|gb|EZV69221.1| methicillin resistance mecR1 protein [Staphylococcus aureus 2010-60-6511-5] >gi|612960563|gb|EZV71274.1| methicillin resistance mecR1 protein [Staphylococcus aureus 2010-60-7626-19] >gi|612966090|gb|EZV76699.1| methicillin resistance mecR1 protein [Staphylococcus aureus 2011-60-2078-5] >gi|612966796|gb|EZV77365.1| methicillin resistance mecR1 protein [Staphylococcus aureus 2011-60-2256-5] >gi|612974473|gb|EZV84920.1| methicillin resistance mecR1 protein [Staphylococcus aureus 22825] >gi|612977171|gb|EZV87569.1| methicillin resistance mecR1 protein [Staphylococcus aureus 22835] >gi|612980802|gb|EZV91162.1| methicillin resistance mecR1 protein [Staphylococcus aureus 22837] >gi|612982845|gb|EZV93161.1| methicillin resistance mecR1 protein [Staphylococcus aureus 22838] >gi|612983707|gb|EZV94009.1| methicillin resistance mecR1 protein [Staphylococcus aureus 22841] >gi|612989350|gb|EZV99576.1| methicillin resistance mecR1 protein [Staphylococcus aureus 22846] >gi|612989936|gb|EZW00032.1| methicillin resistance mecR1 protein [Staphylococcus aureus 22843] >gi|612994642|gb|EZW04788.1| methicillin resistance mecR1 protein [Staphylococcus aureus 23237] >gi|613008811|gb|EZW18739.1| methicillin resistance mecR1 protein [Staphylococcus aureus 28(18S1K13-24-05)] >gi|613037580|gb|EZW47058.1| methicillin resistance mecR1 protein [Staphylococcus aureus 5670-1] >gi|613041566|gb|EZW50960.1| methicillin resistance mecR1 protein [Staphylococcus aureus 56824-15] >gi|613044279|gb|EZW53628.1| methicillin resistance mecR1 protein [Staphylococcus aureus 56824-2] >gi|613050502|gb|EZW59755.1| methicillin resistance mecR1 protein [Staphylococcus aureus 56824-21] >gi|613056984|gb|EZW66132.1| methicillin resistance mecR1 protein [Staphylococcus aureus 6665-5] >gi|613068403|gb|EZW77348.1| methicillin resistance mecR1 protein [Staphylococcus aureus 81070] >gi|613082450|gb|EZW91152.1| methicillin resistance mecR1 protein [Staphylococcus aureus 87807-12] >gi|613083100|gb|EZW91784.1| methicillin resistance mecR1 protein [Staphylococcus aureus 87807-16] >gi|613085737|gb|EZW94381.1| methicillin resistance mecR1 protein [Staphylococcus aureus 87807-9] >gi|613090618|gb|EZW99189.1| methicillin resistance mecR1 protein [Staphylococcus aureus 88088-1] >gi|613108034|gb|EZX16325.1| methicillin resistance mecR1 protein [Staphylococcus aureus C1673] >gi|613113542|gb|EZX21741.1| methicillin resistance mecR1 protein [Staphylococcus aureus C1842] >gi|613139012|gb|EZX46756.1| methicillin resistance mecR1 protein [Staphylococcus aureus C3672] >gi|613145195|gb|EZX52869.1| methicillin resistance mecR1 protein [Staphylococcus aureus C3865] >gi|613150855|gb|EZX58465.1| methicillin resistance mecR1 protein [Staphylococcus aureus C4155] >gi|613152058|gb|EZX59649.1| methicillin resistance mecR1 protein [Staphylococcus aureus C4668] >gi|613174009|gb|EZX81259.1| methicillin resistance mecR1 protein [Staphylococcus aureus FP_N239] >gi|613179853|gb|EZX87014.1| methicillin resistance mecR1 protein [Staphylococcus aureus FP_N5208 OX] >gi|613188567|gb|EZX95585.1| methicillin resistance mecR1 protein [Staphylococcus aureus GD2010-102] >gi|613197528|gb|EZY04417.1| methicillin resistance mecR1 protein [Staphylococcus aureus GD2010-112] >gi|613199392|gb|EZY06232.1| methicillin resistance mecR1 protein [Staphylococcus aureus GD2010-115] >gi|613205554|gb|EZY12304.1| methicillin resistance mecR1 protein [Staphylococcus aureus GD2010-131] >gi|613212531|gb|EZY19186.1| methicillin resistance mecR1 protein [Staphylococcus aureus GD2010-168] >gi|613214794|gb|EZY21406.1| methicillin resistance mecR1 protein [Staphylococcus aureus GD2010-177] >gi|613219057|gb|EZY25619.1| methicillin resistance mecR1 protein [Staphylococcus aureus M118-B] >gi|613220362|gb|EZY26906.1| methicillin resistance mecR1 protein [Staphylococcus aureus M267-1] >gi|613224340|gb|EZY30832.1| methicillin resistance mecR1 protein [Staphylococcus aureus M357] >gi|613227760|gb|EZY34208.1| methicillin resistance mecR1 protein [Staphylococcus aureus M457-1] >gi|613269779|gb|EZY75511.1| methicillin resistance mecR1 protein [Staphylococcus aureus Rd.3] >gi|613290073|gb|EZY95476.1| methicillin resistance mecR1 protein [Staphylococcus aureus S56_POEL] >gi|613295443|gb|EZZ00731.1| methicillin resistance mecR1 protein [Staphylococcus aureus S69_POEL] >gi|613297895|gb|EZZ03143.1| methicillin resistance mecR1 protein [Staphylococcus aureus SARM C4155] >gi|613306289|gb|EZZ11411.1| methicillin resistance mecR1 protein [Staphylococcus aureus Sau 44] >gi|613314005|gb|EZZ19023.1| methicillin resistance mecR1 protein [Staphylococcus aureus Sau 74] >gi|613317024|gb|EZZ21981.1| methicillin resistance mecR1 protein [Staphylococcus aureus Sau 93] >gi|613320855|gb|EZZ25760.1| methicillin resistance mecR1 protein [Staphylococcus aureus Sau 95] >gi|613321913|gb|EZZ26802.1| methicillin resistance mecR1 protein [Staphylococcus aureus Sau 98] >gi|613331460|gb|EZZ36199.1| methicillin resistance mecR1 protein [Staphylococcus aureus Tur-16] >gi|613344881|gb|EZZ49415.1| methicillin resistance mecR1 protein [Staphylococcus aureus UB 08-172] >gi|613345582|gb|EZZ50104.1| methicillin resistance mecR1 protein [Staphylococcus aureus UB 08-116] >gi|613386309|gb|EZZ90262.1| methicillin resistance mecR1 protein [Staphylococcus aureus VET0057R] >gi|613388517|gb|EZZ92407.1| methicillin resistance mecR1 protein [Staphylococcus aureus VET0059R] >gi|613393653|gb|EZZ97472.1| methicillin resistance mecR1 protein [Staphylococcus aureus VET0060R] >gi|616198439|gb|KAA27221.1| methicillin resistance mecR1 protein [Staphylococcus aureus VET0072R] >gi|616199085|gb|KAA27677.1| methicillin resistance mecR1 protein [Staphylococcus aureus VET0073R] >gi|616235785|gb|KAA55005.1| methicillin resistance mecR1 protein [Staphylococcus aureus VET0088R] >gi|616241813|gb|KAA60885.1| methicillin resistance mecR1 protein [Staphylococcus aureus VET0091R] >gi|616288107|gb|KAB01975.1| methicillin resistance mecR1 protein [Staphylococcus aureus VET0115R] >gi|616292249|gb|KAB06011.1| methicillin resistance mecR1 protein [Staphylococcus aureus VET0116R] >gi|616305594|gb|KAB16989.1| methicillin resistance mecR1 protein [Staphylococcus aureus VET0126R] >gi|616341678|gb|KAB50169.1| methicillin resistance mecR1 protein [Staphylococcus aureus VET0155R] >gi|616352958|gb|KAB61146.1| methicillin resistance mecR1 protein [Staphylococcus aureus VET0164R] >gi|616359170|gb|KAB66034.1| methicillin resistance mecR1 protein [Staphylococcus aureus VET0166R] >gi|616360784|gb|KAB67581.1| methicillin resistance mecR1 protein [Staphylococcus aureus VET0167R] >gi|616383125|gb|KAB89351.1| methicillin resistance mecR1 protein [Staphylococcus aureus VET0188R] >gi|616383429|gb|KAB89627.1| methicillin resistance mecR1 protein [Staphylococcus aureus VET0189R] >gi|616398208|gb|KAC03962.1| methicillin resistance mecR1 protein [Staphylococcus aureus VET0198R] >gi|616412974|gb|KAC18339.1| methicillin resistance mecR1 protein [Staphylococcus aureus VET0215R] >gi|616420206|gb|KAC25308.1| methicillin resistance mecR1 protein [Staphylococcus aureus VET0218R] >gi|616424470|gb|KAC29443.1| methicillin resistance mecR1 protein [Staphylococcus aureus VET0221R] >gi|616429460|gb|KAC34276.1| methicillin resistance mecR1 protein [Staphylococcus aureus VET0224R] >gi|616436234|gb|KAC40887.1| methicillin resistance mecR1 protein [Staphylococcus aureus VET0228R] >gi|616457347|gb|KAC61497.1| methicillin resistance mecR1 protein [Staphylococcus aureus VET0252R] >gi|616458859|gb|KAC62956.1| methicillin resistance mecR1 protein [Staphylococcus aureus VET0253R] >gi|616467237|gb|KAC71065.1| methicillin resistance mecR1 protein [Staphylococcus aureus VET0260R] >gi|616474640|gb|KAC78303.1| methicillin resistance mecR1 protein [Staphylococcus aureus VET0261R] >gi|616478882|gb|KAC82430.1| methicillin resistance mecR1 protein [Staphylococcus aureus VET0263R] >gi|616503094|gb|KAD05984.1| methicillin resistance mecR1 protein [Staphylococcus aureus VET0282R] >gi|616509272|gb|KAD12002.1| methicillin resistance mecR1 protein [Staphylococcus aureus VET0286R] >gi|616533658|gb|KAD35859.1| methicillin resistance mecR1 protein [Staphylococcus aureus VET0296R] >gi|616548460|gb|KAD50210.1| methicillin resistance mecR1 protein [Staphylococcus aureus VET0304R] >gi|616552504|gb|KAD54136.1| methicillin resistance mecR1 protein [Staphylococcus aureus VET0305R] >gi|616553860|gb|KAD55437.1| methicillin resistance mecR1 protein [Staphylococcus aureus VET0307R] >gi|616565250|gb|KAD66539.1| methicillin resistance mecR1 protein [Staphylococcus aureus VET0313R] >gi|616567999|gb|KAD69215.1| methicillin resistance mecR1 protein [Staphylococcus aureus VET0314R] >gi|616575684|gb|KAD76701.1| methicillin resistance mecR1 protein [Staphylococcus aureus VET0316R] >gi|616600314|gb|KAE00567.1| methicillin resistance mecR1 protein [Staphylococcus aureus VET0333R] >gi|616604333|gb|KAE04502.1| methicillin resistance mecR1 protein [Staphylococcus aureus VET0335R] >gi|616636512|gb|KAE35774.1| methicillin resistance mecR1 protein [Staphylococcus aureus VET0366R] >gi|616640656|gb|KAE39811.1| methicillin resistance mecR1 protein [Staphylococcus aureus VET0367R] >gi|616645319|gb|KAE44308.1| methicillin resistance mecR1 protein [Staphylococcus aureus VET0373R] >gi|616650679|gb|KAE49533.1| methicillin resistance mecR1 protein [Staphylococcus aureus VET0376R] >gi|616656623|gb|KAE55269.1| methicillin resistance mecR1 protein [Staphylococcus aureus VET0384R] >gi|616682944|gb|KAE80761.1| methicillin resistance mecR1 protein [Staphylococcus aureus VET0399R] >gi|616684389|gb|KAE82104.1| methicillin resistance mecR1 protein [Staphylococcus aureus VET0402R] >gi|616691575|gb|KAE89094.1| methicillin resistance mecR1 protein [Staphylococcus aureus VET0406R] >gi|616692433|gb|KAE89902.1| methicillin resistance mecR1 protein [Staphylococcus aureus VET0407R] >gi|616707329|gb|KAF04478.1| methicillin resistance mecR1 protein [Staphylococcus aureus VET0413R] >gi|616709389|gb|KAF06426.1| methicillin resistance mecR1 protein [Staphylococcus aureus VET0415R] >gi|616733438|gb|KAF29836.1| methicillin resistance mecR1 protein [Staphylococcus aureus VET0431R] >gi|616754494|gb|KAF50361.1| methicillin resistance mecR1 protein [Staphylococcus aureus VET0443R] >gi|616768688|gb|KAF64125.1| methicillin resistance mecR1 protein [Staphylococcus aureus VET0455R] >gi|616774688|gb|KAF69954.1| methicillin resistance mecR1 protein [Staphylococcus aureus VET0456R] >gi|616786554|gb|KAF81490.1| methicillin resistance mecR1 protein [Staphylococcus aureus VET0464R] >gi|616788025|gb|KAF82910.1| methicillin resistance mecR1 protein [Staphylococcus aureus VET0465R] >gi|616790917|gb|KAF85693.1| methicillin resistance mecR1 protein [Staphylococcus aureus VET0468R] >gi|616801391|gb|KAF95908.1| methicillin resistance mecR1 protein [Staphylococcus aureus VET0481R] >gi|616801499|gb|KAF95993.1| methicillin resistance mecR1 protein [Staphylococcus aureus VET0485R] >gi|616802595|gb|KAF97008.1| methicillin resistance mecR1 protein [Staphylococcus aureus VET0486R] >gi|616809265|gb|KAG03554.1| methicillin resistance mecR1 protein [Staphylococcus aureus VET0488R] >gi|616929553|gb|KAH20212.1| methicillin resistance mecR1 protein [Staphylococcus aureus VET1834R] >gi|616936801|gb|KAH26232.1| methicillin resistance mecR1 protein [Staphylococcus aureus VET1835R] >gi|616937192|gb|KAH26608.1| methicillin resistance mecR1 protein [Staphylococcus aureus VET1838R] >gi|616943708|gb|KAH32947.1| methicillin resistance mecR1 protein [Staphylococcus aureus VET1839R] >gi|616944690|gb|KAH33869.1| methicillin resistance mecR1 protein [Staphylococcus aureus VET1843R] >gi|616965137|gb|KAH53737.1| methicillin resistance mecR1 protein [Staphylococcus aureus VET1852R] >gi|616969706|gb|KAH58181.1| methicillin resistance mecR1 protein [Staphylococcus aureus VET1853R] >gi|616971066|gb|KAH59509.1| methicillin resistance mecR1 protein [Staphylococcus aureus VET1854R] >gi|616976236|gb|KAH64487.1| methicillin resistance mecR1 protein [Staphylococcus aureus VET1855R] >gi|616976331|gb|KAH64574.1| methicillin resistance mecR1 protein [Staphylococcus aureus VET1856R] >gi|616986507|gb|KAH74456.1| methicillin resistance mecR1 protein [Staphylococcus aureus VET1865R] >gi|616987657|gb|KAH75565.1| methicillin resistance mecR1 protein [Staphylococcus aureus VET1866R] >gi|616992078|gb|KAH79896.1| methicillin resistance mecR1 protein [Staphylococcus aureus VET1867R] >gi|616995072|gb|KAH82813.1| methicillin resistance mecR1 protein [Staphylococcus aureus VET1868R] >gi|617008674|gb|KAH95765.1| methicillin resistance mecR1 protein [Staphylococcus aureus VET1875R] >gi|617014766|gb|KAI01561.1| methicillin resistance mecR1 protein [Staphylococcus aureus VET1884R] >gi|617023082|gb|KAI09643.1| methicillin resistance mecR1 protein [Staphylococcus aureus VET1892R] >gi|617032888|gb|KAI19128.1| methicillin resistance mecR1 protein [Staphylococcus aureus VET1899R] >gi|617042113|gb|KAI28213.1| methicillin resistance mecR1 protein [Staphylococcus aureus VET1906R] >gi|617051972|gb|KAI37806.1| methicillin resistance mecR1 protein [Staphylococcus aureus VET1911R] >gi|617053142|gb|KAI38947.1| methicillin resistance mecR1 protein [Staphylococcus aureus VET1912R] >gi|617086408|gb|KAI71457.1| methicillin resistance mecR1 protein [Staphylococcus aureus ZTA10/00045-9HST] >gi|617090675|gb|KAI75641.1| methicillin resistance mecR1 protein [Staphylococcus aureus ZTA10/00058-8HST] >gi|617090835|gb|KAI75790.1| methicillin resistance mecR1 protein [Staphylococcus aureus ZTA10/00047-8HST] >gi|636561311|gb|AHZ97995.1| methicillin resistance protein [Staphylococcus aureus subsp. aureus] >gi|640834573|gb|AIA26623.1| methicillin resistance protein [Staphylococcus aureus] >gi|641275156|emb|CDP56652.1| Regulatory sensor-transducer, BlaR1/MecR1 family [Staphylococcus aureus subsp. aureus] >gi|645281531|gb|KDP47328.1| peptidase, M56 family [Staphylococcus aureus subsp. aureus CO-99] >gi|645303292|gb|KDP67694.1| peptidase, M56 family [Staphylococcus epidermidis VCU111] >gi|667466613|gb|KFA44933.1| peptidase M48 family protein [Staphylococcus aureus] >gi|668688409|gb|KFB80361.1| peptidase, M56 family [Staphylococcus aureus subsp. aureus CO-06] >gi|670938655|gb|AII54610.1| Methicillin resistance regulatory sensor-transducer MecR1 [Staphylococcus aureus subsp. aureus SA268] >gi|675300943|gb|AIL56541.1| methicillin resistance protein [Staphylococcus aureus] >gi|696158529|gb|AIT41802.1| Truncated methicillin resistance protein MecR1 [Staphylococcus aureus subsp. aureus] >gi|721491840|gb|KGY35398.1| methicillin resistance protein [Staphylococcus epidermidis] >gi|743602203|gb|AJC27368.1| methicillin resistance protein [Staphylococcus aureus] >gi|743613026|gb|AJC30213.1| methicillin resistance protein [Staphylococcus aureus] >gi|743615901|gb|AJC33056.1| methicillin resistance protein [Staphylococcus aureus] >gi|743618763|gb|AJC35899.1| methicillin resistance protein [Staphylococcus aureus] >gi|743624680|gb|AJC38745.1| methicillin resistance protein [Staphylococcus aureus] >gi|751815040|gb|KIN24346.1| methicillin resistance protein [Staphylococcus aureus MRSA_CVM43477] >gi|752293603|gb|AJG35242.1| signal transducer protein MecR1 [Staphylococcus aureus] >gi|777211044|emb|CKG75468.1| peptidase M48 family protein [Staphylococcus aureus] >gi|781883863|dbj|BAR07552.1| beta-lactamase regulator protein [Staphylococcus aureus subsp. aureus] >gi|781886828|dbj|BAR10276.1| beta-lactamase regulator protein [Staphylococcus aureus subsp. aureus] >gi|800081150|emb|CEZ62205.1| peptidase M48 family protein [Staphylococcus aureus] >gi|800113201|emb|CFA48162.1| peptidase M48 family protein [Staphylococcus aureus] >gi|800115918|emb|CFA48161.1| peptidase M48 family protein [Staphylococcus aureus] >gi|800119110|emb|CFA50378.1| peptidase M48 family protein [Staphylococcus aureus] >gi|800206893|emb|CFC03033.1| peptidase M48 family protein [Staphylococcus aureus] >gi|800323230|emb|CFD77249.1| peptidase M48 family protein [Staphylococcus aureus] >gi|800329322|emb|CFD99934.1| peptidase M48 family protein [Staphylococcus aureus] >gi|800357383|emb|CFE45942.1| peptidase M48 family protein [Staphylococcus aureus] >gi|800362109|emb|CFE55930.1| peptidase M48 family protein [Staphylococcus aureus] >gi|800365034|emb|CFE62021.1| peptidase M48 family protein [Staphylococcus aureus] >gi|800370343|emb|CFE69704.1| peptidase M48 family protein [Staphylococcus aureus] >gi|800372862|emb|CFE71822.1| peptidase M48 family protein [Staphylococcus aureus] >gi|800376827|emb|CFE60429.1| peptidase M48 family protein [Staphylococcus aureus] >gi|800378286|emb|CFE74538.1| peptidase M48 family protein [Staphylococcus aureus] >gi|800381108|emb|CFE81229.1| peptidase M48 family protein [Staphylococcus aureus] >gi|800385737|emb|CFE71233.1| peptidase M48 family protein [Staphylococcus aureus] >gi|800386527|emb|CFE85384.1| peptidase M48 family protein [Staphylococcus aureus] >gi|800389242|emb|CFE86714.1| peptidase M48 family protein [Staphylococcus aureus] >gi|800391938|emb|CFE87420.1| peptidase M48 family protein [Staphylococcus aureus] >gi|800394663|emb|CFE88618.1| peptidase M48 family protein [Staphylococcus aureus] >gi|800397367|emb|CFE99774.1| peptidase M48 family protein [Staphylococcus aureus] >gi|800400330|emb|CFE97862.1| peptidase M48 family protein [Staphylococcus aureus] >gi|800402934|emb|CFF00463.1| peptidase M48 family protein [Staphylococcus aureus] >gi|800407155|emb|CFE93637.1| peptidase M48 family protein [Staphylococcus aureus] >gi|800408460|emb|CFF01162.1| peptidase M48 family protein [Staphylococcus aureus] >gi|800410907|emb|CFF02571.1| peptidase M48 family protein [Staphylococcus aureus] >gi|800413949|emb|CFF11981.1| peptidase M48 family protein [Staphylococcus aureus] >gi|800417546|emb|CFF08146.1| peptidase M48 family protein [Staphylococcus aureus] >gi|800419016|emb|CFF22121.1| peptidase M48 family protein [Staphylococcus aureus] >gi|800421782|emb|CFF22158.1| peptidase M48 family protein [Staphylococcus aureus] >gi|800424585|emb|CFF22391.1| peptidase M48 family protein [Staphylococcus aureus] >gi|800429843|emb|CFF25056.1| peptidase M48 family protein [Staphylococcus aureus] >gi|800432561|emb|CFF30501.1| peptidase M48 family protein [Staphylococcus aureus] >gi|800435515|emb|CFF33269.1| peptidase M48 family protein [Staphylococcus aureus] >gi|800438232|emb|CFF37020.1| peptidase M48 family protein [Staphylococcus aureus] >gi|800441019|emb|CFF37845.1| peptidase M48 family protein [Staphylococcus aureus] >gi|800444364|emb|CFF39501.1| peptidase M48 family protein [Staphylococcus aureus] >gi|800446486|emb|CFF42292.1| peptidase M48 family protein [Staphylococcus aureus] >gi|800449404|emb|CFF41835.1| peptidase M48 family protein [Staphylococcus aureus] >gi|800453080|emb|CFF45546.1| peptidase M48 family protein [Staphylococcus aureus] >gi|800454527|emb|CFF50940.1| peptidase M48 family protein [Staphylococcus aureus] >gi|800457524|emb|CFF55522.1| peptidase M48 family protein [Staphylococcus aureus] >gi|800460272|emb|CFF57098.1| peptidase M48 family protein [Staphylococcus aureus] >gi|800464668|emb|CFF55561.1| peptidase M48 family protein [Staphylococcus aureus] >gi|800465435|emb|CFF63752.1| peptidase M48 family protein [Staphylococcus aureus] >gi|800468110|emb|CFF66239.1| peptidase M48 family protein [Staphylococcus aureus] >gi|800472093|emb|CFF64250.1| peptidase M48 family protein [Staphylococcus aureus] >gi|800473766|emb|CFF69358.1| peptidase M48 family protein [Staphylococcus aureus] >gi|800477559|emb|CFF70768.1| peptidase M48 family protein [Staphylococcus aureus] >gi|800480814|emb|CFF73652.1| peptidase M48 family protein [Staphylococcus aureus] >gi|800482139|emb|CFF77412.1| peptidase M48 family protein [Staphylococcus aureus] >gi|800486544|emb|CFF91037.1| peptidase M48 family protein [Staphylococcus aureus] >gi|800489974|emb|CFF90356.1| peptidase M48 family protein [Staphylococcus aureus] >gi|800493331|emb|CFF87478.1| peptidase M48 family protein [Staphylococcus aureus] >gi|800494827|emb|CFG01067.1| peptidase M48 family protein [Staphylococcus aureus] >gi|800497451|emb|CFG02473.1| peptidase M48 family protein [Staphylococcus aureus] >gi|800502370|emb|CFG07202.1| peptidase M48 family protein [Staphylococcus aureus] >gi|800545258|emb|CFG42720.1| peptidase M48 family protein [Staphylococcus aureus] >gi|800775117|emb|CFK34498.1| peptidase M48 family protein [Staphylococcus aureus] >gi|800777898|emb|CFK36164.1| peptidase M48 family protein [Staphylococcus aureus] >gi|800789116|emb|CFM08713.1| peptidase M48 family protein [Staphylococcus aureus] >gi|800792767|emb|CFM24803.1| peptidase M48 family protein [Staphylococcus aureus] >gi|800794707|emb|CFM38490.1| peptidase M48 family protein [Staphylococcus aureus] >gi|800798159|emb|CFM42914.1| peptidase M48 family protein [Staphylococcus aureus] >gi|800805573|emb|CFM77294.1| peptidase M48 family protein [Staphylococcus aureus] >gi|800814961|emb|CFN01911.1| peptidase M48 family protein [Staphylococcus aureus] >gi|800822426|emb|CFN57795.1| peptidase M48 family protein [Staphylococcus aureus] >gi|800825609|emb|CFN80167.1| peptidase M48 family protein [Staphylococcus aureus] >gi|800831375|emb|CFO42176.1| peptidase M48 family protein [Staphylococcus aureus] >gi|800842337|emb|CFO57752.1| peptidase M48 family protein [Staphylococcus aureus] >gi|800850472|emb|CFO73719.1| peptidase M48 family protein [Staphylococcus aureus] >gi|800863598|emb|CFO86033.1| peptidase M48 family protein [Staphylococcus aureus] >gi|800865999|emb|CFO93342.1| peptidase M48 family protein [Staphylococcus aureus] >gi|800874114|emb|CFP21213.1| peptidase M48 family protein [Staphylococcus aureus] >gi|801277129|emb|CFC00745.1| peptidase M48 family protein [Staphylococcus aureus] >gi|801409852|emb|CFF21429.1| peptidase M48 family protein [Staphylococcus aureus] >gi|801412669|emb|CFF51316.1| peptidase M48 family protein [Staphylococcus aureus] >gi|801978496|emb|CFO20342.1| peptidase M48 family protein [Staphylococcus aureus] >gi|802522614|emb|CFS29134.1| peptidase M48 family protein [Staphylococcus aureus] >gi|802547568|emb|CFS47031.1| peptidase M48 family protein [Staphylococcus aureus] >gi|802553546|emb|CFS43847.1| peptidase M48 family protein [Staphylococcus aureus] >gi|802560933|emb|CFS48819.1| peptidase M48 family protein [Staphylococcus aureus] >gi|802570854|emb|CFS59848.1| peptidase M48 family protein [Staphylococcus aureus] >gi|802574711|emb|CFS58885.1| peptidase M48 family protein [Staphylococcus aureus] >gi|802579140|emb|CFS63199.1| peptidase M48 family protein [Staphylococcus aureus] >gi|802582161|emb|CFS68487.1| peptidase M48 family protein [Staphylococcus aureus] >gi|802589165|emb|CFS74801.1| peptidase M48 family protein [Staphylococcus aureus] >gi|802593081|emb|CFS76792.1| peptidase M48 family protein [Staphylococcus aureus] >gi|802598233|emb|CFS74272.1| peptidase M48 family protein [Staphylococcus aureus] >gi|802600819|emb|CFS81335.1| peptidase M48 family protein [Staphylococcus aureus] >gi|802604595|emb|CFS82816.1| peptidase M48 family protein [Staphylococcus aureus] >gi|802608093|emb|CFS85319.1| peptidase M48 family protein [Staphylococcus aureus] >gi|802612084|emb|CFS86849.1| peptidase M48 family protein [Staphylococcus aureus] >gi|802805680|emb|CFU00715.1| peptidase M48 family protein [Staphylococcus aureus] >gi|802842417|emb|CFU35736.1| peptidase M48 family protein [Staphylococcus aureus] >gi|802891248|emb|CFU84678.1| peptidase M48 family protein [Staphylococcus aureus] >gi|802938554|emb|CFV36003.1| peptidase M48 family protein [Staphylococcus aureus] >gi|802950436|emb|CFV40696.1| peptidase M48 family protein [Staphylococcus aureus] >gi|802955737|emb|CFV45944.1| peptidase M48 family protein [Staphylococcus aureus] >gi|802957946|emb|CFV52774.1| peptidase M48 family protein [Staphylococcus aureus] >gi|802962767|emb|CFV56689.1| peptidase M48 family protein [Staphylococcus aureus] >gi|802979295|emb|CFV63113.1| peptidase M48 family protein [Staphylococcus aureus] >gi|803038375|emb|CFW02004.1| peptidase M48 family protein [Staphylococcus aureus] >gi|803071390|emb|CFW19527.1| peptidase M48 family protein [Staphylococcus aureus] >gi|803093697|emb|CFW33685.1| peptidase M48 family protein [Staphylococcus aureus] >gi|803143625|emb|CFW65505.1| peptidase M48 family protein [Staphylococcus aureus] >gi|804963299|emb|CRC52467.1| peptidase M48 family protein [Staphylococcus aureus] >gi|804966429|emb|CRC14952.1| peptidase M48 family protein [Staphylococcus aureus] >gi|804968489|emb|CRC64470.1| peptidase M48 family protein [Staphylococcus aureus] >gi|804971260|emb|CRC55721.1| peptidase M48 family protein [Staphylococcus aureus] >gi|804973476|emb|CRC72574.1| peptidase M48 family protein [Staphylococcus aureus] >gi|804976894|emb|CRC38315.1| peptidase M48 family protein [Staphylococcus aureus] >gi|804979973|emb|CRC15013.1| peptidase M48 family protein [Staphylococcus aureus] >gi|804984059|emb|CRC50043.1| peptidase M48 family protein [Staphylococcus aureus] >gi|804988910|emb|CRC61685.1| peptidase M48 family protein [Staphylococcus aureus] >gi|804991279|emb|CRC72973.1| peptidase M48 family protein [Staphylococcus aureus] >gi|804995411|emb|CRC26790.1| peptidase M48 family protein [Staphylococcus aureus] >gi|804997619|emb|CRC48404.1| peptidase M48 family protein [Staphylococcus aureus] >gi|805000268|emb|CRC48107.1| peptidase M48 family protein [Staphylococcus aureus] >gi|805002101|emb|CRC74511.1| peptidase M48 family protein [Staphylococcus aureus] >gi|805005878|emb|CRC39555.1| peptidase M48 family protein [Staphylococcus aureus] >gi|805007894|emb|CRC59395.1| peptidase M48 family protein [Staphylococcus aureus] >gi|805011445|emb|CRC23223.1| peptidase M48 family protein [Staphylococcus aureus] >gi|805014423|emb|CRC32192.1| peptidase M48 family protein [Staphylococcus aureus] >gi|805016146|emb|CRC72882.1| peptidase M48 family protein [Staphylococcus aureus] >gi|805034471|emb|CRC88535.1| peptidase M48 family protein [Staphylococcus aureus] >gi|805036233|emb|CRD05628.1| peptidase M48 family protein [Staphylococcus aureus] >gi|805038962|emb|CRD06097.1| peptidase M48 family protein [Staphylococcus aureus] >gi|805042033|emb|CRD02846.1| peptidase M48 family protein [Staphylococcus aureus] >gi|805044678|emb|CRD07528.1| peptidase M48 family protein [Staphylococcus aureus] >gi|805047192|emb|CRD09488.1| peptidase M48 family protein [Staphylococcus aureus] >gi|805049925|emb|CRD11204.1| peptidase M48 family protein [Staphylococcus aureus] >gi|805053185|emb|CRD07725.1| peptidase M48 family protein [Staphylococcus aureus] >gi|805186986|emb|CRE66157.1| peptidase M48 family protein [Staphylococcus aureus] >gi|805190045|emb|CRE60018.1| peptidase M48 family protein [Staphylococcus aureus] >gi|805223924|emb|CRE83588.1| peptidase M48 family protein [Staphylococcus aureus] >gi|805236593|emb|CRE72819.1| peptidase M48 family protein [Staphylococcus aureus] >gi|808444076|emb|CEK43172.1| peptidase M48 family protein [Staphylococcus aureus] >gi|810968972|emb|CPM44050.1| peptidase M48 family protein [Staphylococcus aureus] >gi|810984875|emb|CPK17274.1| peptidase M48 family protein [Staphylococcus aureus] >gi|810991694|emb|CPI38973.1| peptidase M48 family protein [Staphylococcus aureus] >gi|810992648|emb|CPD50432.1| peptidase M48 family protein [Staphylococcus aureus] >gi|810996574|emb|COY38677.1| peptidase M48 family protein [Staphylococcus aureus] >gi|810998105|emb|CPA72878.1| peptidase M48 family protein [Staphylococcus aureus] >gi|811000725|emb|CPP39817.1| peptidase M48 family protein [Staphylococcus aureus] >gi|811004751|emb|COX41337.1| peptidase M48 family protein [Staphylococcus aureus] >gi|811006090|emb|CPC53541.1| peptidase M48 family protein [Staphylococcus aureus] >gi|811008706|emb|CPB74930.1| peptidase M48 family protein [Staphylococcus aureus] >gi|811012657|emb|COY60568.1| peptidase M48 family protein [Staphylococcus aureus] >gi|811014626|emb|CPD22068.1| peptidase M48 family protein [Staphylococcus aureus] >gi|811018390|emb|COY73915.1| peptidase M48 family protein [Staphylococcus aureus] >gi|811020955|emb|COY39724.1| peptidase M48 family protein [Staphylococcus aureus] >gi|811022253|emb|COX19791.1| peptidase M48 family protein [Staphylococcus aureus] >gi|811024913|emb|CPA34557.1| peptidase M48 family protein [Staphylococcus aureus] >gi|811027956|emb|COX24266.1| peptidase M48 family protein [Staphylococcus aureus] >gi|811030720|emb|CPE58463.1| peptidase M48 family protein [Staphylococcus aureus] >gi|811033118|emb|CPD41584.1| peptidase M48 family protein [Staphylococcus aureus] >gi|811036118|emb|COY23749.1| peptidase M48 family protein [Staphylococcus aureus] >gi|811038434|emb|COY07220.1| peptidase M48 family protein [Staphylococcus aureus] >gi|811041794|emb|CMU02127.1| peptidase M48 family protein [Staphylococcus aureus] >gi|811043875|emb|CPD53888.1| peptidase M48 family protein [Staphylococcus aureus] >gi|811051533|emb|CPB71635.1| peptidase M48 family protein [Staphylococcus aureus] >gi|811054254|emb|COZ69021.1| peptidase M48 family protein [Staphylococcus aureus] >gi|811060191|emb|COW78793.1| peptidase M48 family protein [Staphylococcus aureus] >gi|811062025|emb|COZ50863.1| peptidase M48 family protein [Staphylococcus aureus] >gi|811066260|emb|COX27472.1| peptidase M48 family protein [Staphylococcus aureus] >gi|811068944|emb|COZ60439.1| peptidase M48 family protein [Staphylococcus aureus] >gi|811071159|emb|COX90593.1| peptidase M48 family protein [Staphylococcus aureus] >gi|811074694|emb|CPP23015.1| peptidase M48 family protein [Staphylococcus aureus] >gi|811078422|emb|COY21123.1| peptidase M48 family protein [Staphylococcus aureus] >gi|811081104|emb|CPA53435.1| peptidase M48 family protein [Staphylococcus aureus] >gi|811086695|emb|CPB24848.1| peptidase M48 family protein [Staphylococcus aureus] >gi|811091324|emb|CPO40616.1| peptidase M48 family protein [Staphylococcus aureus] >gi|811100428|emb|CPA57376.1| peptidase M48 family protein [Staphylococcus aureus] >gi|811106958|emb|CPA00099.1| peptidase M48 family protein [Staphylococcus aureus] >gi|811107940|emb|CPA59369.1| peptidase M48 family protein [Staphylococcus aureus] >gi|811112654|emb|COZ56812.1| peptidase M48 family protein [Staphylococcus aureus] >gi|811120129|emb|CPB35696.1| peptidase M48 family protein [Staphylococcus aureus] >gi|811125020|emb|CPD45957.1| peptidase M48 family protein [Staphylococcus aureus] >gi|811127614|emb|COY40098.1| peptidase M48 family protein [Staphylococcus aureus] >gi|811132535|emb|COY79854.1| peptidase M48 family protein [Staphylococcus aureus] >gi|811137132|emb|CPE39945.1| peptidase M48 family protein [Staphylococcus aureus] >gi|811141129|emb|COX78455.1| peptidase M48 family protein [Staphylococcus aureus] >gi|811148325|emb|COX82357.1| peptidase M48 family protein [Staphylococcus aureus] >gi|811151458|emb|COX23889.1| peptidase M48 family protein [Staphylococcus aureus] >gi|811159406|emb|COX25949.1| peptidase M48 family protein [Staphylococcus aureus] >gi|811164713|emb|CPD35419.1| peptidase M48 family protein [Staphylococcus aureus] >gi|811168275|emb|CPB41280.1| peptidase M48 family protein [Staphylococcus aureus] >gi|811172816|emb|CPC36504.1| peptidase M48 family protein [Staphylococcus aureus] >gi|811175508|emb|COZ58897.1| peptidase M48 family protein [Staphylococcus aureus] >gi|811180233|emb|CPD47201.1| peptidase M48 family protein [Staphylococcus aureus] >gi|811185579|emb|CMU27281.1| peptidase M48 family protein [Staphylococcus aureus] >gi|811187829|emb|COX79686.1| peptidase M48 family protein [Staphylococcus aureus] >gi|811192702|emb|CPA09606.1| peptidase M48 family protein [Staphylococcus aureus] >gi|811197436|emb|COZ30296.1| peptidase M48 family protein [Staphylococcus aureus] >gi|811200441|emb|CMU13216.1| peptidase M48 family protein [Staphylococcus aureus] >gi|811206785|emb|CMT58208.1| peptidase M48 family protein [Staphylococcus aureus] >gi|811210143|emb|CPB75197.1| peptidase M48 family protein [Staphylococcus aureus] >gi|816092595|gb|KKJ40057.1| methicillin resistance protein [Staphylococcus aureus MRSN 2761] >gi|816105377|gb|KKJ52699.1| methicillin resistance protein [Staphylococcus aureus MRSN 8613] >gi|816108696|gb|KKJ55971.1| methicillin resistance protein [Staphylococcus aureus MRSN 8611] >gi|827212456|gb|KLM02602.1| methicillin resistance protein [Staphylococcus aureus] >gi|827215524|gb|KLM05971.1| methicillin resistance protein [Staphylococcus aureus] >gi|827232968|gb|KLM23383.1| methicillin resistance protein [Staphylococcus aureus] >gi|827244337|gb|KLM34739.1| methicillin resistance protein [Staphylococcus aureus] >gi|827254887|gb|KLM45261.1| methicillin resistance protein [Staphylococcus aureus] >gi|827282357|gb|KLM72699.1| methicillin resistance protein [Staphylococcus aureus] >gi|827312132|gb|KLN02135.1| methicillin resistance protein [Staphylococcus aureus] >gi|827315935|gb|KLN06216.1| methicillin resistance protein [Staphylococcus aureus] >gi|827319036|gb|KLN09301.1| methicillin resistance protein [Staphylococcus aureus] >gi|827325668|gb|KLN15923.1| methicillin resistance protein [Staphylococcus aureus] >gi|827331349|gb|KLN21595.1| methicillin resistance protein [Staphylococcus aureus] >gi|827334751|gb|KLN24996.1| methicillin resistance protein [Staphylococcus aureus] >gi|827337329|gb|KLN27567.1| methicillin resistance protein [Staphylococcus aureus] >gi|827339257|gb|KLN29493.1| methicillin resistance protein [Staphylococcus aureus] >gi|828444909|gb|AKK57226.1| methicillin resistance protein [Staphylococcus aureus] >gi|828461699|gb|AKK59875.1| methicillin resistance protein [Staphylococcus aureus] >gi|857614878|emb|CRK72611.1| peptidase M48 family protein [Staphylococcus aureus] >gi|857625315|emb|CRK72504.1| peptidase M48 family protein [Staphylococcus aureus] >gi|857636844|emb|CRK73927.1| peptidase M48 family protein [Staphylococcus aureus] >gi|857639754|emb|CRK73152.1| peptidase M48 family protein [Staphylococcus aureus] >gi|857713217|emb|CRK80104.1| peptidase M48 family protein [Staphylococcus aureus] >gi|861799833|gb|KMR14092.1| methicillin resistance protein [Staphylococcus aureus] >gi|861805893|gb|KMR19043.1| methicillin resistance protein [Staphylococcus aureus] >gi|861807660|gb|KMR20474.1| methicillin resistance protein [Staphylococcus aureus] >gi|861808720|gb|KMR21338.1| methicillin resistance protein [Staphylococcus aureus] >gi|861812267|gb|KMR24317.1| methicillin resistance protein [Staphylococcus aureus] >gi|861813791|gb|KMR25683.1| methicillin resistance protein [Staphylococcus aureus] >gi|861817805|gb|KMR29017.1| methicillin resistance protein [Staphylococcus aureus] >gi|861817831|gb|KMR29038.1| methicillin resistance protein [Staphylococcus aureus] >gi|861824294|gb|KMR35080.1| methicillin resistance protein [Staphylococcus aureus] >gi|861828708|gb|KMR39138.1| methicillin resistance protein [Staphylococcus aureus] >gi|861831009|gb|KMR41341.1| methicillin resistance protein [Staphylococcus aureus] >gi|861837445|gb|KMR46864.1| methicillin resistance protein [Staphylococcus aureus] >gi|861838661|gb|KMR47923.1| methicillin resistance protein [Staphylococcus aureus] >gi|861845036|gb|KMR53911.1| methicillin resistance protein [Staphylococcus aureus] >gi|861848550|gb|KMR57091.1| methicillin resistance protein [Staphylococcus aureus] >gi|861851240|gb|KMR59176.1| methicillin resistance protein [Staphylococcus aureus] >gi|861857191|gb|KMR64317.1| methicillin resistance protein [Staphylococcus aureus] >gi|861861561|gb|KMR67905.1| methicillin resistance protein [Staphylococcus aureus] >gi|861864955|gb|KMR70930.1| methicillin resistance protein [Staphylococcus aureus] >gi|861868677|gb|KMR74316.1| methicillin resistance protein [Staphylococcus aureus] >gi|861874959|gb|KMR79651.1| methicillin resistance protein [Staphylococcus aureus] >gi|861875078|gb|KMR79727.1| methicillin resistance protein [Staphylococcus aureus] >gi|861881226|gb|KMR84962.1| methicillin resistance protein [Staphylococcus aureus] >gi|861885243|gb|KMR88352.1| methicillin resistance protein [Staphylococcus aureus] >gi|861887950|gb|KMR90924.1| methicillin resistance protein [Staphylococcus aureus] >gi|861892055|gb|KMR94178.1| methicillin resistance protein [Staphylococcus aureus] >gi|861893438|gb|KMR95496.1| methicillin resistance protein [Staphylococcus aureus] >gi|861898754|gb|KMR99989.1| methicillin resistance protein [Staphylococcus aureus] >gi|861902138|gb|KMS02715.1| methicillin resistance protein [Staphylococcus aureus] >gi|861905190|gb|KMS05441.1| methicillin resistance protein [Staphylococcus aureus] >gi|861911168|gb|KMS10861.1| methicillin resistance protein [Staphylococcus aureus] >gi|861914213|gb|KMS13710.1| methicillin resistance protein [Staphylococcus aureus] >gi|861915443|gb|KMS14836.1| methicillin resistance protein [Staphylococcus aureus] >gi|861921926|gb|KMS21008.1| methicillin resistance protein [Staphylococcus aureus] >gi|861924291|gb|KMS22934.1| methicillin resistance protein [Staphylococcus aureus] >gi|861930346|gb|KMS28495.1| methicillin resistance protein [Staphylococcus aureus] >gi|861933638|gb|KMS31232.1| methicillin resistance protein [Staphylococcus aureus] >gi|861934526|gb|KMS32032.1| methicillin resistance protein [Staphylococcus aureus] >gi|861941329|gb|KMS38334.1| methicillin resistance protein [Staphylococcus aureus] >gi|861944809|gb|KMS41517.1| methicillin resistance protein [Staphylococcus aureus] >gi|861948257|gb|KMS44730.1| methicillin resistance protein [Staphylococcus aureus] >gi|861950286|gb|KMS46461.1| methicillin resistance protein [Staphylococcus aureus] >gi|861953432|gb|KMS49266.1| methicillin resistance protein [Staphylococcus aureus] >gi|887651649|emb|CMT72196.1| peptidase M48 family protein [Staphylococcus aureus] >gi|887654408|emb|CMU12166.1| peptidase M48 family protein [Staphylococcus aureus] >gi|887657095|emb|CMT77715.1| peptidase M48 family protein [Staphylococcus aureus] >gi|887660209|emb|CMT88577.1| peptidase M48 family protein [Staphylococcus aureus] >gi|887663938|emb|CMT28465.1| peptidase M48 family protein [Staphylococcus aureus] >gi|887665938|emb|CMT84198.1| peptidase M48 family protein [Staphylococcus aureus] >gi|887668287|emb|CMT80419.1| peptidase M48 family protein [Staphylococcus aureus] >gi|887671552|emb|CMU09120.1| peptidase M48 family protein [Staphylococcus aureus] >gi|887674581|emb|CMT37977.1| peptidase M48 family protein [Staphylococcus aureus] >gi|887676554|emb|CMU27853.1| peptidase M48 family protein [Staphylococcus aureus] >gi|887679623|emb|CMT55289.1| peptidase M48 family protein [Staphylococcus aureus] >gi|887682018|emb|CMT80581.1| peptidase M48 family protein [Staphylococcus aureus] >gi|887686281|emb|CMT68108.1| peptidase M48 family protein [Staphylococcus aureus] >gi|887687934|emb|CMT99646.1| peptidase M48 family protein [Staphylococcus aureus] >gi|887690314|emb|CMU33429.1| peptidase M48 family protein [Staphylococcus aureus] >gi|887694333|emb|CMT01267.1| peptidase M48 family protein [Staphylococcus aureus] >gi|887695588|emb|CMU51544.1| peptidase M48 family protein [Staphylococcus aureus] >gi|887700224|emb|CMT43288.1| peptidase M48 family protein [Staphylococcus aureus] >gi|896692154|emb|CPJ67055.1| peptidase M48 family protein [Staphylococcus aureus] >gi|896693590|emb|CPD41865.1| peptidase M48 family protein [Staphylococcus aureus] >gi|896695808|emb|CPC59692.1| peptidase M48 family protein [Staphylococcus aureus] >gi|896698683|emb|CPC11389.1| peptidase M48 family protein [Staphylococcus aureus] >gi|896702838|emb|COY48280.1| peptidase M48 family protein [Staphylococcus aureus] >gi|896704682|emb|CPN82199.1| peptidase M48 family protein [Staphylococcus aureus] >gi|896706500|emb|COZ73788.1| peptidase M48 family protein [Staphylococcus aureus] >gi|896709153|emb|COY36331.1| peptidase M48 family protein [Staphylococcus aureus] >gi|896713485|emb|CPC70710.1| peptidase M48 family protein [Staphylococcus aureus] >gi|896715914|emb|CPM25743.1| peptidase M48 family protein [Staphylococcus aureus] >gi|896718622|emb|COZ02769.1| peptidase M48 family protein [Staphylococcus aureus] >gi|896720570|emb|COX86233.1| peptidase M48 family protein [Staphylococcus aureus] >gi|896722611|emb|CPB97749.1| peptidase M48 family protein [Staphylococcus aureus] >gi|896727938|emb|CPD10736.1| peptidase M48 family protein [Staphylococcus aureus] >gi|896732218|emb|COY15004.1| peptidase M48 family protein [Staphylococcus aureus] >gi|896734403|emb|CPA32929.1| peptidase M48 family protein [Staphylococcus aureus] >gi|896735992|emb|COZ64504.1| peptidase M48 family protein [Staphylococcus aureus] >gi|896739226|emb|CPQ75767.1| peptidase M48 family protein [Staphylococcus aureus] >gi|896742667|emb|CPB39122.1| peptidase M48 family protein [Staphylococcus aureus] >gi|896744896|emb|CPP54865.1| peptidase M48 family protein [Staphylococcus aureus] >gi|896747839|emb|COY77448.1| peptidase M48 family protein [Staphylococcus aureus] >gi|896750185|emb|CPO05254.1| peptidase M48 family protein [Staphylococcus aureus] >gi|896752733|emb|CPH81476.1| peptidase M48 family protein [Staphylococcus aureus] >gi|896755592|emb|CPC42312.1| peptidase M48 family protein [Staphylococcus aureus] >gi|896757750|emb|CPM35622.1| peptidase M48 family protein [Staphylococcus aureus] >gi|896761418|emb|CPC81413.1| peptidase M48 family protein [Staphylococcus aureus] >gi|896762982|emb|CPE68011.1| peptidase M48 family protein [Staphylococcus aureus] >gi|896765212|emb|COZ69352.1| peptidase M48 family protein [Staphylococcus aureus] >gi|896774753|emb|CPA53899.1| peptidase M48 family protein [Staphylococcus aureus] >gi|896779258|emb|COW86268.1| peptidase M48 family protein [Staphylococcus aureus] >gi|896781713|emb|CPE25733.1| peptidase M48 family protein [Staphylococcus aureus] >gi|896783478|emb|COY31235.1| peptidase M48 family protein [Staphylococcus aureus] >gi|896787383|emb|CPD58304.1| peptidase M48 family protein [Staphylococcus aureus] >gi|896788510|emb|CPE95758.1| peptidase M48 family protein [Staphylococcus aureus] >gi|896791053|emb|CPE74024.1| peptidase M48 family protein [Staphylococcus aureus] >gi|896795326|emb|CPB45464.1| peptidase M48 family protein [Staphylococcus aureus] >gi|896796814|emb|CPQ37831.1| peptidase M48 family protein [Staphylococcus aureus] >gi|896799067|emb|COY35582.1| peptidase M48 family protein [Staphylococcus aureus] >gi|896803533|emb|CPE26218.1| peptidase M48 family protein [Staphylococcus aureus] >gi|896805320|emb|COY84973.1| peptidase M48 family protein [Staphylococcus aureus] >gi|896807661|emb|CPC10801.1| peptidase M48 family protein [Staphylococcus aureus] >gi|896810682|emb|CPC98612.1| peptidase M48 family protein [Staphylococcus aureus] >gi|896813249|emb|CPE90367.1| peptidase M48 family protein [Staphylococcus aureus] >gi|896815363|emb|CPD53816.1| peptidase M48 family protein [Staphylococcus aureus] >gi|896818003|emb|COX95901.1| peptidase M48 family protein [Staphylococcus aureus] >gi|896822256|emb|COY98093.1| peptidase M48 family protein [Staphylococcus aureus] >gi|896825139|emb|COX96402.1| peptidase M48 family protein [Staphylococcus aureus] >gi|896826111|emb|CPA94942.1| peptidase M48 family protein [Staphylococcus aureus] >gi|896830393|emb|COX36901.1| peptidase M48 family protein [Staphylococcus aureus] >gi|896833064|emb|COY77608.1| peptidase M48 family protein [Staphylococcus aureus] >gi|896834277|emb|COY15080.1| peptidase M48 family protein [Staphylococcus aureus] >gi|896837171|emb|CPA95056.1| peptidase M48 family protein [Staphylococcus aureus] >gi|896839773|emb|CPB77346.1| peptidase M48 family protein [Staphylococcus aureus] >gi|896842773|emb|CPA41591.1| peptidase M48 family protein [Staphylococcus aureus] >gi|896845582|emb|CPK62863.1| peptidase M48 family protein [Staphylococcus aureus] >gi|896847656|emb|CPC24248.1| peptidase M48 family protein [Staphylococcus aureus] >gi|896850819|emb|CPD25621.1| peptidase M48 family protein [Staphylococcus aureus] >gi|896854608|emb|CPB88172.1| peptidase M48 family protein [Staphylococcus aureus] >gi|896857488|emb|COZ97891.1| peptidase M48 family protein [Staphylococcus aureus] >gi|896860251|emb|COY18843.1| peptidase M48 family protein [Staphylococcus aureus] >gi|896861509|emb|CPE85532.1| peptidase M48 family protein [Staphylococcus aureus] >gi|896864217|emb|CPA78889.1| peptidase M48 family protein [Staphylococcus aureus] >gi|896868117|emb|CPA37368.1| peptidase M48 family protein [Staphylococcus aureus] >gi|896869265|emb|CPC69784.1| peptidase M48 family protein [Staphylococcus aureus] >gi|896872335|emb|CPB43173.1| peptidase M48 family protein [Staphylococcus aureus] >gi|896876442|emb|CPD26312.1| peptidase M48 family protein [Staphylococcus aureus] >gi|896877395|emb|CPE77498.1| peptidase M48 family protein [Staphylococcus aureus] >gi|896880169|emb|COZ57728.1| peptidase M48 family protein [Staphylococcus aureus] >gi|896882791|emb|CPE05090.1| peptidase M48 family protein [Staphylococcus aureus] >gi|896885500|emb|CPB31270.1| peptidase M48 family protein [Staphylococcus aureus] >gi|896888482|emb|COZ08354.1| peptidase M48 family protein [Staphylococcus aureus] >gi|896891386|emb|CPB74614.1| peptidase M48 family protein [Staphylococcus aureus] >gi|896895054|emb|CPD34410.1| peptidase M48 family protein [Staphylococcus aureus] >gi|896896480|emb|CPD47758.1| peptidase M48 family protein [Staphylococcus aureus] >gi|896899888|emb|CPI97880.1| peptidase M48 family protein [Staphylococcus aureus] >gi|896902899|emb|CPC21439.1| peptidase M48 family protein [Staphylococcus aureus] >gi|896904496|emb|CPD58693.1| peptidase M48 family protein [Staphylococcus aureus] >gi|896907060|emb|CPA96136.1| peptidase M48 family protein [Staphylococcus aureus] >gi|896910300|emb|CPI75641.1| peptidase M48 family protein [Staphylococcus aureus] >gi|896913860|emb|CPB63583.1| peptidase M48 family protein [Staphylococcus aureus] >gi|896915257|emb|CPA17005.1| peptidase M48 family protein [Staphylococcus aureus] >gi|896918354|emb|CPM37608.1| peptidase M48 family protein [Staphylococcus aureus] >gi|896921696|emb|CPB45837.1| peptidase M48 family protein [Staphylococcus aureus] >gi|896923497|emb|COX68613.1| peptidase M48 family protein [Staphylococcus aureus] >gi|896926917|emb|CPB36436.1| peptidase M48 family protein [Staphylococcus aureus] >gi|896930299|emb|CPC71196.1| peptidase M48 family protein [Staphylococcus aureus] >gi|896931940|emb|CPH91773.1| peptidase M48 family protein [Staphylococcus aureus] >gi|896936003|emb|COY65836.1| peptidase M48 family protein [Staphylococcus aureus] >gi|896937005|emb|CPD65704.1| peptidase M48 family protein [Staphylococcus aureus] >gi|896940651|emb|COZ98781.1| peptidase M48 family protein [Staphylococcus aureus] >gi|896942102|emb|COY09149.1| peptidase M48 family protein [Staphylococcus aureus] >gi|896947693|emb|CPD96061.1| peptidase M48 family protein [Staphylococcus aureus] >gi|896950584|emb|CPA20011.1| peptidase M48 family protein [Staphylococcus aureus] >gi|896953181|emb|COY19273.1| peptidase M48 family protein [Staphylococcus aureus] >gi|896955953|emb|CPD60856.1| peptidase M48 family protein [Staphylococcus aureus] >gi|896959285|emb|COX77762.1| peptidase M48 family protein [Staphylococcus aureus] >gi|896961516|emb|CPD59630.1| peptidase M48 family protein [Staphylococcus aureus] >gi|896964039|emb|CPD44888.1| peptidase M48 family protein [Staphylococcus aureus] >gi|896966926|emb|CPB40841.1| peptidase M48 family protein [Staphylococcus aureus] >gi|896971022|emb|COY85773.1| peptidase M48 family protein [Staphylococcus aureus] >gi|896973070|emb|CPN48186.1| peptidase M48 family protein [Staphylococcus aureus] >gi|896974958|emb|CPC46196.1| peptidase M48 family protein [Staphylococcus aureus] >gi|896977478|emb|CPD49411.1| peptidase M48 family protein [Staphylococcus aureus] >gi|896980193|emb|CPE09970.1| peptidase M48 family protein [Staphylococcus aureus] >gi|896982918|emb|COY07957.1| peptidase M48 family protein [Staphylococcus aureus] >gi|896985616|emb|CPA80938.1| peptidase M48 family protein [Staphylococcus aureus] >gi|896988372|emb|CPA38847.1| peptidase M48 family protein [Staphylococcus aureus] >gi|896991734|emb|CPP38247.1| peptidase M48 family protein [Staphylococcus aureus] >gi|896994105|emb|CPC65950.1| peptidase M48 family protein [Staphylococcus aureus] >gi|896996491|emb|CPA74514.1| peptidase M48 family protein [Staphylococcus aureus] >gi|897000971|emb|COY42174.1| peptidase M48 family protein [Staphylococcus aureus] >gi|897001889|emb|CPE90779.1| peptidase M48 family protein [Staphylococcus aureus] >gi|897004699|emb|CPF07739.1| peptidase M48 family protein [Staphylococcus aureus] >gi|897007328|emb|CPC59586.1| peptidase M48 family protein [Staphylococcus aureus] >gi|897010769|emb|CPA55798.1| peptidase M48 family protein [Staphylococcus aureus] >gi|897012786|emb|COZ74360.1| peptidase M48 family protein [Staphylococcus aureus] >gi|897015484|emb|CPA62678.1| peptidase M48 family protein [Staphylococcus aureus] >gi|897018196|emb|CPC21792.1| peptidase M48 family protein [Staphylococcus aureus] >gi|897020931|emb|CPB48785.1| peptidase M48 family protein [Staphylococcus aureus] >gi|897024068|emb|CPD51122.1| peptidase M48 family protein [Staphylococcus aureus] >gi|897028009|emb|CPE15045.1| peptidase M48 family protein [Staphylococcus aureus] >gi|897029127|emb|CPB39638.1| peptidase M48 family protein [Staphylococcus aureus] >gi|897031841|emb|CPD80897.1| peptidase M48 family protein [Staphylococcus aureus] >gi|897036232|emb|COZ15121.1| peptidase M48 family protein [Staphylococcus aureus] >gi|897038601|emb|CPK73559.1| peptidase M48 family protein [Staphylococcus aureus] >gi|897039968|emb|CPA84878.1| peptidase M48 family protein [Staphylococcus aureus] >gi|897043242|emb|CPB91726.1| peptidase M48 family protein [Staphylococcus aureus] >gi|897045582|emb|CPA19040.1| peptidase M48 family protein [Staphylococcus aureus] >gi|897048148|emb|CPA22443.1| peptidase M48 family protein [Staphylococcus aureus] >gi|897050949|emb|CPE37036.1| peptidase M48 family protein [Staphylococcus aureus] >gi|897054041|emb|CPE90662.1| peptidase M48 family protein [Staphylococcus aureus] >gi|897056362|emb|CPD00635.1| peptidase M48 family protein [Staphylococcus aureus] >gi|897060144|emb|CPB96658.1| peptidase M48 family protein [Staphylococcus aureus] >gi|897061927|emb|CPB94766.1| peptidase M48 family protein [Staphylococcus aureus] >gi|897066386|emb|CPE08169.1| peptidase M48 family protein [Staphylococcus aureus] >gi|897067532|emb|COZ23785.1| peptidase M48 family protein [Staphylococcus aureus] >gi|897070114|emb|CPD38358.1| peptidase M48 family protein [Staphylococcus aureus] >gi|897077346|emb|CPB52673.1| peptidase M48 family protein [Staphylococcus aureus] >gi|897078543|emb|CPE69393.1| peptidase M48 family protein [Staphylococcus aureus] >gi|897081115|emb|CPE42013.1| peptidase M48 family protein [Staphylococcus aureus] >gi|897084480|emb|CPC11270.1| peptidase M48 family protein [Staphylococcus aureus] >gi|897086627|emb|CPC70200.1| peptidase M48 family protein [Staphylococcus aureus] >gi|897089934|emb|CPC86970.1| peptidase M48 family protein [Staphylococcus aureus] >gi|897096891|emb|CPC04032.1| peptidase M48 family protein [Staphylococcus aureus] >gi|897108084|emb|COZ54477.1| peptidase M48 family protein [Staphylococcus aureus] >gi|897110304|emb|CPC07661.1| peptidase M48 family protein [Staphylococcus aureus] >gi|897112936|emb|CPA41245.1| peptidase M48 family protein [Staphylococcus aureus] >gi|897116410|emb|COX97925.1| peptidase M48 family protein [Staphylococcus aureus] >gi|897118547|emb|CPB02044.1| peptidase M48 family protein [Staphylococcus aureus] >gi|897122181|emb|CPO64592.1| peptidase M48 family protein [Staphylococcus aureus] >gi|897124241|emb|CPD28264.1| peptidase M48 family protein [Staphylococcus aureus] >gi|897126637|emb|COY42858.1| peptidase M48 family protein [Staphylococcus aureus] >gi|897129899|emb|COY30375.1| peptidase M48 family protein [Staphylococcus aureus] >gi|897132697|emb|CPE05287.1| peptidase M48 family protein [Staphylococcus aureus] >gi|897135293|emb|COY04531.1| peptidase M48 family protein [Staphylococcus aureus] >gi|897138078|emb|CPD82779.1| peptidase M48 family protein [Staphylococcus aureus] >gi|897140748|emb|CPE08539.1| peptidase M48 family protein [Staphylococcus aureus] >gi|897143217|emb|COY86951.1| peptidase M48 family protein [Staphylococcus aureus] >gi|897147833|emb|CPB17398.1| peptidase M48 family protein [Staphylococcus aureus] >gi|897150547|emb|CPD83890.1| peptidase M48 family protein [Staphylococcus aureus] >gi|897151478|emb|CPA71236.1| peptidase M48 family protein [Staphylococcus aureus] >gi|897154252|emb|CPE57031.1| peptidase M48 family protein [Staphylococcus aureus] >gi|897157049|emb|CPD16651.1| peptidase M48 family protein [Staphylococcus aureus] >gi|897159915|emb|CPA06181.1| peptidase M48 family protein [Staphylococcus aureus] >gi|897162548|emb|CPB57377.1| peptidase M48 family protein [Staphylococcus aureus] >gi|897165453|emb|CPA77096.1| peptidase M48 family protein [Staphylococcus aureus] >gi|897168234|emb|CPB25158.1| peptidase M48 family protein [Staphylococcus aureus] >gi|897172944|emb|CPD89872.1| peptidase M48 family protein [Staphylococcus aureus] >gi|897174994|emb|CPL01383.1| peptidase M48 family protein [Staphylococcus aureus] >gi|897176364|emb|CPB90808.1| peptidase M48 family protein [Staphylococcus aureus] >gi|897179627|emb|COX06889.1| peptidase M48 family protein [Staphylococcus aureus] >gi|897181850|emb|COZ35533.1| peptidase M48 family protein [Staphylococcus aureus] >gi|897186433|emb|COY61916.1| peptidase M48 family protein [Staphylococcus aureus] >gi|897187460|emb|CPA64712.1| peptidase M48 family protein [Staphylococcus aureus] >gi|897190155|emb|COZ54673.1| peptidase M48 family protein [Staphylococcus aureus] >gi|897193421|emb|CPE70155.1| peptidase M48 family protein [Staphylococcus aureus] >gi|897196904|emb|CPD09889.1| peptidase M48 family protein [Staphylococcus aureus] >gi|897200040|emb|CPA97641.1| peptidase M48 family protein [Staphylococcus aureus] >gi|897202380|emb|CPB58556.1| peptidase M48 family protein [Staphylococcus aureus] >gi|897204076|emb|CPA57516.1| peptidase M48 family protein [Staphylococcus aureus] >gi|897208159|emb|COW84082.1| peptidase M48 family protein [Staphylococcus aureus] >gi|897209794|emb|CPA77010.1| peptidase M48 family protein [Staphylococcus aureus] >gi|897212432|emb|CPB67457.1| peptidase M48 family protein [Staphylococcus aureus] >gi|897215188|emb|CPA95473.1| peptidase M48 family protein [Staphylococcus aureus] >gi|897218086|emb|CPD44006.1| peptidase M48 family protein [Staphylococcus aureus] >gi|897221659|emb|CPB02774.1| peptidase M48 family protein [Staphylococcus aureus] >gi|897223464|emb|CPD49850.1| peptidase M48 family protein [Staphylococcus aureus] >gi|897227465|emb|CPA01514.1| peptidase M48 family protein [Staphylococcus aureus] >gi|897229411|emb|CPE70933.1| peptidase M48 family protein [Staphylococcus aureus] >gi|897233476|emb|CPE27839.1| peptidase M48 family protein [Staphylococcus aureus] >gi|897234626|emb|CPE82836.1| peptidase M48 family protein [Staphylococcus aureus] >gi|897238056|emb|CPC05268.1| peptidase M48 family protein [Staphylococcus aureus] >gi|897240208|emb|COY44636.1| peptidase M48 family protein [Staphylococcus aureus] >gi|897243136|emb|COX24043.1| peptidase M48 family protein [Staphylococcus aureus] >gi|897245981|emb|CPE94195.1| peptidase M48 family protein [Staphylococcus aureus] >gi|897249191|emb|CPA81809.1| peptidase M48 family protein [Staphylococcus aureus] >gi|897253412|emb|CPC36198.1| peptidase M48 family protein [Staphylococcus aureus] >gi|897254375|emb|CPC40093.1| peptidase M48 family protein [Staphylococcus aureus] >gi|897257162|emb|COZ67218.1| peptidase M48 family protein [Staphylococcus aureus] >gi|897259885|emb|CPA69997.1| peptidase M48 family protein [Staphylococcus aureus] >gi|897262880|emb|COZ63964.1| peptidase M48 family protein [Staphylococcus aureus] >gi|897265491|emb|CPB97588.1| peptidase M48 family protein [Staphylococcus aureus] >gi|897268374|emb|CPO06451.1| peptidase M48 family protein [Staphylococcus aureus] >gi|897270973|emb|COX24941.1| peptidase M48 family protein [Staphylococcus aureus] >gi|897274095|emb|COX18048.1| peptidase M48 family protein [Staphylococcus aureus] >gi|897276581|emb|CPF05081.1| peptidase M48 family protein [Staphylococcus aureus] >gi|897279431|emb|CPE96971.1| peptidase M48 family protein [Staphylococcus aureus] >gi|897282298|emb|CPA35850.1| peptidase M48 family protein [Staphylococcus aureus] >gi|897285292|emb|COY32796.1| peptidase M48 family protein [Staphylococcus aureus] >gi|897288930|emb|CPC69111.1| peptidase M48 family protein [Staphylococcus aureus] >gi|897290614|emb|COY49565.1| peptidase M48 family protein [Staphylococcus aureus] >gi|897294660|emb|CPQ30476.1| peptidase M48 family protein [Staphylococcus aureus] >gi|897296053|emb|CPM19304.1| peptidase M48 family protein [Staphylococcus aureus] >gi|897298970|emb|CPA68107.1| peptidase M48 family protein [Staphylococcus aureus] >gi|897301922|emb|COZ48637.1| peptidase M48 family protein [Staphylococcus aureus] >gi|897307155|emb|CPJ03069.1| peptidase M48 family protein [Staphylococcus aureus] >gi|897315542|emb|CPJ38806.1| peptidase M48 family protein [Staphylococcus aureus] >gi|897322900|emb|CPQ51836.1| peptidase M48 family protein [Staphylococcus aureus] >gi|897343815|emb|CPM03827.1| peptidase M48 family protein [Staphylococcus aureus] >gi|899751813|gb|AKR45622.1| peptidase M48 family protein [Staphylococcus aureus subsp. aureus] >gi|899757955|gb|AKR51831.1| peptidase M48 family protein [Staphylococcus aureus subsp. aureus] >gi|901966130|emb|COX51779.1| peptidase M48 family protein [Staphylococcus aureus] >gi|901973074|emb|COZ09243.1| peptidase M48 family protein [Staphylococcus aureus] >gi|901987563|emb|CPA98588.1| peptidase M48 family protein [Staphylococcus aureus] >gi|901993277|emb|CPB40561.1| peptidase M48 family protein [Staphylococcus aureus] >gi|901997889|emb|CPB22039.1| peptidase M48 family protein [Staphylococcus aureus] >gi|902002128|emb|CPB27434.1| peptidase M48 family protein [Staphylococcus aureus] >gi|902011756|emb|CPB71105.1| peptidase M48 family protein [Staphylococcus aureus] >gi|902045783|emb|CPD33670.1| peptidase M48 family protein [Staphylococcus aureus] >gi|902068738|emb|CPE29808.1| peptidase M48 family protein [Staphylococcus aureus] >gi|902075454|emb|CPE93056.1| peptidase M48 family protein [Staphylococcus aureus] >gi|902082983|emb|CPH91359.1| peptidase M48 family protein [Staphylococcus aureus] >gi|902092544|emb|CPI81249.1| peptidase M48 family protein [Staphylococcus aureus] >gi|902097584|emb|CPK08806.1| peptidase M48 family protein [Staphylococcus aureus] >gi|902104043|emb|CPL22811.1| peptidase M48 family protein [Staphylococcus aureus] >gi|902108257|emb|CPM38045.1| peptidase M48 family protein [Staphylococcus aureus] >gi|902118772|emb|CPQ35579.1| peptidase M48 family protein [Staphylococcus aureus] >gi|902121664|emb|CPQ60047.1| peptidase M48 family protein [Staphylococcus aureus] >gi|908230116|gb|AKS68095.1| methicillin resistance protein [Staphylococcus schleiferi] >gi|925762381|emb|CUC55292.1| peptidase M48 family protein [Staphylococcus aureus] >gi|925772867|emb|CUF19287.1| peptidase M48 family protein [Staphylococcus aureus] >gi|925781124|emb|CUC54744.1| peptidase M48 family protein [Staphylococcus aureus] >gi|925801094|emb|CUE72907.1| peptidase M48 family protein [Staphylococcus aureus] >gi|925804606|emb|CUG51736.1| peptidase M48 family protein [Staphylococcus aureus] >gi|925809903|emb|CUG38357.1| peptidase M48 family protein [Staphylococcus aureus] >gi|925819374|emb|CUD18393.1| peptidase M48 family protein [Staphylococcus aureus] >gi|925822555|emb|CUH24527.1| peptidase M48 family protein [Staphylococcus aureus] >gi|925829036|emb|CUC73651.1| peptidase M48 family protein [Staphylococcus aureus] >gi|925832009|emb|CUC29276.1| peptidase M48 family protein [Staphylococcus aureus] >gi|925836994|emb|CUE17078.1| peptidase M48 family protein [Staphylococcus aureus] >gi|925842310|emb|CUH10058.1| peptidase M48 family protein [Staphylococcus aureus] >gi|925847088|emb|CUD84217.1| peptidase M48 family protein [Staphylococcus aureus] >gi|925851391|emb|CUE44384.1| peptidase M48 family protein [Staphylococcus aureus] >gi|925857081|emb|CUE34806.1| peptidase M48 family protein [Staphylococcus aureus] >gi|925859371|emb|CUE67622.1| peptidase M48 family protein [Staphylococcus aureus] >gi|925865436|emb|CUC76069.1| peptidase M48 family protein [Staphylococcus aureus] >gi|925868711|emb|CUC70867.1| peptidase M48 family protein [Staphylococcus aureus] >gi|925870112|emb|CUF97250.1| peptidase M48 family protein [Staphylococcus aureus] >gi|925874146|emb|CUF07926.1| peptidase M48 family protein [Staphylococcus aureus] >gi|925878587|emb|CUH28750.1| peptidase M48 family protein [Staphylococcus aureus] >gi|925881032|emb|CUG79968.1| peptidase M48 family protein [Staphylococcus aureus] >gi|925885002|emb|CUG29466.1| peptidase M48 family protein [Staphylococcus aureus] >gi|925887207|emb|CUH12656.1| peptidase M48 family protein [Staphylococcus aureus] >gi|925889903|emb|CUG31252.1| peptidase M48 family protein [Staphylococcus aureus] >gi|925891644|emb|CUD11053.1| peptidase M48 family protein [Staphylococcus aureus] >gi|925896282|emb|CUD70708.1| peptidase M48 family protein [Staphylococcus aureus] >gi|925897140|emb|CUF66159.1| peptidase M48 family protein [Staphylococcus aureus] >gi|925901301|emb|CUE89097.1| peptidase M48 family protein [Staphylococcus aureus] >gi|925903605|emb|CUF20865.1| peptidase M48 family protein [Staphylococcus aureus] >gi|925904822|emb|CUF98423.1| peptidase M48 family protein [Staphylococcus aureus] >gi|925909100|emb|CUF23685.1| peptidase M48 family protein [Staphylococcus aureus] >gi|925911225|emb|CUG39078.1| peptidase M48 family protein [Staphylococcus aureus] >gi|925912873|emb|CUG84902.1| peptidase M48 family protein [Staphylococcus aureus] >gi|925920702|emb|CUH03808.1| peptidase M48 family protein [Staphylococcus aureus] >gi|925921180|emb|CUG01117.1| peptidase M48 family protein [Staphylococcus aureus] >gi|925923908|emb|CUF73170.1| peptidase M48 family protein [Staphylococcus aureus] >gi|925927787|emb|CUD96833.1| peptidase M48 family protein [Staphylococcus aureus] >gi|925930732|emb|CUF19807.1| peptidase M48 family protein [Staphylococcus aureus] >gi|925931862|emb|CUF78600.1| peptidase M48 family protein [Staphylococcus aureus] >gi|925935513|emb|CUF29912.1| peptidase M48 family protein [Staphylococcus aureus] >gi|925937035|emb|CUH32133.1| peptidase M48 family protein [Staphylococcus aureus] >gi|925940027|emb|CUE70276.1| peptidase M48 family protein [Staphylococcus aureus] >gi|925943865|emb|CUF35570.1| peptidase M48 family protein [Staphylococcus aureus] >gi|925945374|emb|CUF69904.1| peptidase M48 family protein [Staphylococcus aureus] >gi|925947698|emb|CUD28000.1| peptidase M48 family protein [Staphylococcus aureus] >gi|925951041|emb|CUG28439.1| peptidase M48 family protein [Staphylococcus aureus] >gi|925953420|emb|CUE59787.1| peptidase M48 family protein [Staphylococcus aureus] >gi|925957308|emb|CUH09903.1| peptidase M48 family protein [Staphylococcus aureus] >gi|925961545|emb|CUF87792.1| peptidase M48 family protein [Staphylococcus aureus] >gi|925964942|emb|CUF65139.1| peptidase M48 family protein [Staphylococcus aureus] >gi|925967615|emb|CUF74296.1| peptidase M48 family protein [Staphylococcus aureus] >gi|925969424|emb|CUF81633.1| peptidase M48 family protein [Staphylococcus aureus] >gi|925973078|emb|CUF25980.1| peptidase M48 family protein [Staphylococcus aureus] >gi|925976225|emb|CUC84586.1| peptidase M48 family protein [Staphylococcus aureus] >gi|925977325|emb|CUF79244.1| peptidase M48 family protein [Staphylococcus aureus] >gi|925979985|emb|CUE56298.1| peptidase M48 family protein [Staphylococcus aureus] >gi|925982667|emb|CUE53428.1| peptidase M48 family protein [Staphylococcus aureus] >gi|925985266|emb|CUD39213.1| peptidase M48 family protein [Staphylococcus aureus] >gi|925989652|emb|CUH13920.1| peptidase M48 family protein [Staphylococcus aureus] >gi|925991794|emb|CUF43851.1| peptidase M48 family protein [Staphylococcus aureus] >gi|925994568|emb|CUD84441.1| peptidase M48 family protein [Staphylococcus aureus] >gi|925996008|emb|CUF82288.1| peptidase M48 family protein [Staphylococcus aureus] >gi|925998983|emb|CUH34623.1| peptidase M48 family protein [Staphylococcus aureus] >gi|926003097|emb|CUG37521.1| peptidase M48 family protein [Staphylococcus aureus] >gi|926004377|emb|CUE60190.1| peptidase M48 family protein [Staphylococcus aureus] >gi|926008108|emb|CUG54815.1| peptidase M48 family protein [Staphylococcus aureus] >gi|926009447|emb|CUF85268.1| peptidase M48 family protein [Staphylococcus aureus] >gi|926012603|emb|CUF71026.1| peptidase M48 family protein [Staphylococcus aureus] >gi|926015154|emb|CUF98750.1| peptidase M48 family protein [Staphylococcus aureus] >gi|926017859|emb|CUD28906.1| peptidase M48 family protein [Staphylococcus aureus] >gi|926020657|emb|CUD04049.1| peptidase M48 family protein [Staphylococcus aureus] >gi|926023377|emb|CUF77319.1| peptidase M48 family protein [Staphylococcus aureus] >gi|926028096|emb|CUD65688.1| peptidase M48 family protein [Staphylococcus aureus] >gi|926028662|emb|CUD10276.1| peptidase M48 family protein [Staphylococcus aureus] >gi|926032646|emb|CUG36828.1| peptidase M48 family protein [Staphylococcus aureus] >gi|926033843|emb|CUG82826.1| peptidase M48 family protein [Staphylococcus aureus] >gi|926039502|emb|CUE44365.1| peptidase M48 family protein [Staphylococcus aureus] >gi|926041915|emb|CUG64590.1| peptidase M48 family protein [Staphylococcus aureus] >gi|926046764|emb|CUD64632.1| peptidase M48 family protein [Staphylococcus aureus] >gi|926048369|emb|CUH21192.1| peptidase M48 family protein [Staphylococcus aureus] >gi|926049995|emb|CUD20302.1| peptidase M48 family protein [Staphylococcus aureus] >gi|926055683|emb|CUD30258.1| peptidase M48 family protein [Staphylococcus aureus] >gi|926059594|emb|CUC51477.1| peptidase M48 family protein [Staphylococcus aureus] >gi|926060826|emb|CUD39324.1| peptidase M48 family protein [Staphylococcus aureus] >gi|926063960|emb|CUE38670.1| peptidase M48 family protein [Staphylococcus aureus] >gi|926068490|emb|CUC37206.1| peptidase M48 family protein [Staphylococcus aureus] >gi|926068957|emb|CUE57583.1| peptidase M48 family protein [Staphylococcus aureus] >gi|926073352|emb|CUG36289.1| peptidase M48 family protein [Staphylococcus aureus] >gi|926075431|emb|CUF43238.1| peptidase M48 family protein [Staphylococcus aureus] >gi|926078861|emb|CUG34934.1| peptidase M48 family protein [Staphylococcus aureus] >gi|926081364|emb|CUC49276.1| peptidase M48 family protein [Staphylococcus aureus] >gi|926084655|emb|CUD58632.1| peptidase M48 family protein [Staphylococcus aureus] >gi|926085831|emb|CUG60987.1| peptidase M48 family protein [Staphylococcus aureus] >gi|926088222|emb|CUF84253.1| peptidase M48 family protein [Staphylococcus aureus] >gi|926091107|emb|CUD31599.1| peptidase M48 family protein [Staphylococcus aureus] >gi|926095782|emb|CUD63302.1| peptidase M48 family protein [Staphylococcus aureus] >gi|926097882|emb|CUE18439.1| peptidase M48 family protein [Staphylococcus aureus] >gi|926101151|emb|CUD55926.1| peptidase M48 family protein [Staphylococcus aureus] >gi|926104269|emb|CUD72912.1| peptidase M48 family protein [Staphylococcus aureus] >gi|926106644|emb|CUE72059.1| peptidase M48 family protein [Staphylococcus aureus] >gi|926109088|emb|CUG57540.1| peptidase M48 family protein [Staphylococcus aureus] >gi|926111492|emb|CUC12041.1| peptidase M48 family protein [Staphylococcus aureus] >gi|926113197|emb|CUF77622.1| peptidase M48 family protein [Staphylococcus aureus] >gi|926116966|emb|CUF37373.1| peptidase M48 family protein [Staphylococcus aureus] >gi|926118217|emb|CUE69990.1| peptidase M48 family protein [Staphylococcus aureus] >gi|926121193|emb|CUH36248.1| peptidase M48 family protein [Staphylococcus aureus] >gi|926127759|emb|CUG60365.1| peptidase M48 family protein [Staphylococcus aureus] >gi|926130814|emb|CUE02181.1| peptidase M48 family protein [Staphylococcus aureus] >gi|926132207|emb|CUH36072.1| peptidase M48 family protein [Staphylococcus aureus] >gi|926137043|emb|CUD62501.1| peptidase M48 family protein [Staphylococcus aureus] >gi|926137896|emb|CUF99560.1| peptidase M48 family protein [Staphylococcus aureus] >gi|926140695|emb|CUD38014.1| peptidase M48 family protein [Staphylococcus aureus] >gi|926143042|emb|CUH36902.1| peptidase M48 family protein [Staphylococcus aureus] >gi|926145755|emb|CUD39864.1| peptidase M48 family protein [Staphylococcus aureus] >gi|926148839|emb|CUE71511.1| peptidase M48 family protein [Staphylococcus aureus] >gi|926151587|emb|CUF67239.1| peptidase M48 family protein [Staphylococcus aureus] >gi|926154322|emb|CUF81256.1| peptidase M48 family protein [Staphylococcus aureus] >gi|926156875|emb|CUD37847.1| peptidase M48 family protein [Staphylococcus aureus] >gi|926159608|emb|CUD40915.1| peptidase M48 family protein [Staphylococcus aureus] >gi|926162317|emb|CUE70622.1| peptidase M48 family protein [Staphylococcus aureus] >gi|926165123|emb|CUG77075.1| peptidase M48 family protein [Staphylococcus aureus] >gi|926168356|emb|CUG82292.1| peptidase M48 family protein [Staphylococcus aureus] >gi|926170681|emb|CUE52222.1| peptidase M48 family protein [Staphylococcus aureus] >gi|926173372|emb|CUD20851.1| peptidase M48 family protein [Staphylococcus aureus] >gi|926177379|emb|CUG56112.1| peptidase M48 family protein [Staphylococcus aureus] >gi|926180633|emb|CUC35222.1| peptidase M48 family protein [Staphylococcus aureus] >gi|926181689|emb|CUH33611.1| peptidase M48 family protein [Staphylococcus aureus] >gi|926186094|emb|CUF41760.1| peptidase M48 family protein [Staphylococcus aureus] >gi|926187531|emb|CUH31053.1| peptidase M48 family protein [Staphylococcus aureus] >gi|926190466|emb|CUF67723.1| peptidase M48 family protein [Staphylococcus aureus] >gi|926193142|emb|CUF64378.1| peptidase M48 family protein [Staphylococcus aureus] >gi|926195888|emb|CUE51935.1| peptidase M48 family protein [Staphylococcus aureus] >gi|926198240|emb|CUE52433.1| peptidase M48 family protein [Staphylococcus aureus] >gi|926202353|emb|CUF54533.1| peptidase M48 family protein [Staphylococcus aureus] >gi|926203722|emb|CUE58490.1| peptidase M48 family protein [Staphylococcus aureus] >gi|926206499|emb|CUE54188.1| peptidase M48 family protein [Staphylococcus aureus] >gi|926209330|emb|CUD37775.1| peptidase M48 family protein [Staphylococcus aureus] >gi|926212209|emb|CUD36897.1| peptidase M48 family protein [Staphylococcus aureus] >gi|926218508|emb|CUC73151.1| peptidase M48 family protein [Staphylococcus aureus] >gi|926222067|emb|CUF19848.1| peptidase M48 family protein [Staphylococcus aureus] >gi|926223457|emb|CUG03153.1| peptidase M48 family protein [Staphylococcus aureus] >gi|926226129|emb|CUF92772.1| peptidase M48 family protein [Staphylococcus aureus] >gi|926228983|emb|CUF84754.1| peptidase M48 family protein [Staphylococcus aureus] >gi|926231802|emb|CUD39969.1| peptidase M48 family protein [Staphylococcus aureus] >gi|929858748|gb|ALF31828.1| methicillin resistance protein [Staphylococcus aureus subsp. aureus] >gi|940820655|gb|KQB65068.1| methicillin resistance protein [Staphylococcus aureus] >gi|940823304|gb|KQB67697.1| methicillin resistance protein [Staphylococcus aureus] >gi|940825306|gb|KQB69676.1| methicillin resistance protein [Staphylococcus aureus] >gi|940832027|gb|KQB76252.1| methicillin resistance protein [Staphylococcus aureus] >gi|941139799|gb|ALK40570.1| methicillin resistance protein [Staphylococcus aureus] >gi|941142994|gb|ALK38002.1| methicillin resistance protein [Staphylococcus aureus] >gi|941146374|gb|ALK35396.1| methicillin resistance protein [Staphylococcus aureus] >gi|955404143|gb|KSA15939.1| methicillin resistance protein [Staphylococcus aureus subsp. aureus] >gi|955405303|gb|KSA17083.1| methicillin resistance protein [Staphylococcus aureus subsp. aureus] >gi|955409639|gb|KSA21385.1| methicillin resistance protein [Staphylococcus aureus subsp. aureus MRSA_S4] >gi|955411549|gb|KSA23281.1| methicillin resistance protein [Staphylococcus aureus subsp. aureus] >gi|955417366|gb|KSA29027.1| methicillin resistance protein [Staphylococcus aureus subsp. aureus] >gi|955419189|gb|KSA30832.1| methicillin resistance protein [Staphylococcus aureus subsp. aureus] >gi|955421791|gb|KSA33403.1| methicillin resistance protein [Staphylococcus aureus subsp. aureus] >gi|955422414|gb|KSA34013.1| methicillin resistance protein [Staphylococcus aureus subsp. aureus] >gi|955422471|gb|KSA34069.1| methicillin resistance protein [Staphylococcus aureus subsp. aureus] >gi|955427210|gb|KSA38767.1| methicillin resistance protein [Staphylococcus aureus subsp. aureus] >gi|955431006|gb|KSA42533.1| methicillin resistance protein [Staphylococcus aureus subsp. aureus] >gi|955436792|gb|KSA48253.1| methicillin resistance protein [Staphylococcus aureus subsp. aureus] >gi|955438448|gb|KSA49887.1| methicillin resistance protein [Staphylococcus aureus subsp. aureus] >gi|955441200|gb|KSA52624.1| methicillin resistance protein [Staphylococcus aureus subsp. aureus] >gi|955443190|gb|KSA54597.1| methicillin resistance protein [Staphylococcus aureus subsp. aureus] >gi|955448208|gb|KSA59573.1| methicillin resistance protein [Staphylococcus aureus subsp. aureus] >gi|955451433|gb|KSA61765.1| methicillin resistance protein [Staphylococcus aureus subsp. aureus] >gi|955454326|gb|KSA64426.1| methicillin resistance protein [Staphylococcus aureus subsp. aureus] >gi|955455336|gb|KSA65431.1| methicillin resistance protein [Staphylococcus aureus subsp. aureus] >gi|955461796|gb|KSA71825.1| methicillin resistance protein [Staphylococcus aureus subsp. aureus] >gi|955462822|gb|KSA72842.1| methicillin resistance protein [Staphylococcus aureus subsp. aureus] >gi|955464684|gb|KSA74696.1| methicillin resistance protein [Staphylococcus aureus subsp. aureus] >gi|955467401|gb|KSA77388.1| methicillin resistance protein [Staphylococcus aureus subsp. aureus] >gi|957479203|gb|KST13120.1| methicillin resistance protein [Staphylococcus aureus MRSA_CVMN27231PS] >gi|957487280|gb|KST20978.1| methicillin resistance protein [Staphylococcus aureus MRSA_CVMN25720PS] >gi|957489334|gb|KST23021.1| methicillin resistance protein [Staphylococcus aureus MRSA_CVMN26035PS] >gi|966086887|gb|KTE94200.1| methicillin resistance protein [Staphylococcus aureus] >gi|966718970|gb|KTG50424.1| methicillin resistance protein [Staphylococcus aureus] >gi|967379013|gb|KTK50529.1| methicillin resistance protein [Staphylococcus epidermidis] >gi|967410023|gb|KTK81269.1| methicillin resistance protein [Staphylococcus aureus] >gi|967438646|gb|KTL09641.1| methicillin resistance protein [Staphylococcus aureus] >gi|967439569|gb|KTL10560.1| methicillin resistance protein [Staphylococcus aureus] >gi|990712121|emb|CXE66891.1| peptidase M48 family protein [Staphylococcus aureus] >gi|990715464|emb|CXE57682.1| peptidase M48 family protein [Staphylococcus aureus] >gi|990717838|emb|CXE55623.1| peptidase M48 family protein [Staphylococcus aureus] >gi|990720833|emb|CXE56788.1| peptidase M48 family protein [Staphylococcus aureus] >gi|990722260|emb|CXF24714.1| peptidase M48 family protein [Staphylococcus aureus] >gi|990725043|emb|CXE56200.1| peptidase M48 family protein [Staphylococcus aureus] >gi|990727156|emb|CXF21485.1| peptidase M48 family protein [Staphylococcus aureus] >gi|990731589|emb|CXE63827.1| peptidase M48 family protein [Staphylococcus aureus] >gi|990732562|emb|CXF15660.1| peptidase M48 family protein [Staphylococcus aureus] >gi|990735901|emb|CXE86164.1| peptidase M48 family protein [Staphylococcus aureus] >gi|990737786|emb|CXD55929.1| peptidase M48 family protein [Staphylococcus aureus] >gi|990740802|emb|CXD90839.1| peptidase M48 family protein [Staphylococcus aureus] >gi|990743627|emb|CXE47773.1| peptidase M48 family protein [Staphylococcus aureus] >gi|990746080|emb|CXE56278.1| peptidase M48 family protein [Staphylococcus aureus] >gi|990748621|emb|CXF20164.1| peptidase M48 family protein [Staphylococcus aureus] >gi|990752866|emb|CXE26712.1| peptidase M48 family protein [Staphylococcus aureus] >gi|990753776|emb|CXD89039.1| peptidase M48 family protein [Staphylococcus aureus] >gi|990756713|emb|CXD33231.1| peptidase M48 family protein [Staphylococcus aureus] >gi|990768852|emb|CXD21722.1| peptidase M48 family protein [Staphylococcus aureus] >gi|990770263|emb|CXE62525.1| peptidase M48 family protein [Staphylococcus aureus] >gi|990772930|emb|CXE86428.1| peptidase M48 family protein [Staphylococcus aureus] >gi|990778094|emb|CXE35781.1| peptidase M48 family protein [Staphylococcus aureus] >gi|990781318|emb|CXD92714.1| peptidase M48 family protein [Staphylococcus aureus] >gi|990786225|emb|CXE67090.1| peptidase M48 family protein [Staphylococcus aureus] >gi|990788993|emb|CXE48642.1| peptidase M48 family protein [Staphylococcus aureus] >gi|990791698|emb|CXD94065.1| peptidase M48 family protein [Staphylococcus aureus] >gi|990794510|emb|CXD89416.1| peptidase M48 family protein [Staphylococcus aureus] >gi|990803163|emb|CXE01558.1| peptidase M48 family protein [Staphylococcus aureus] >gi|990807871|emb|CXF19285.1| peptidase M48 family protein [Staphylococcus aureus] >gi|990814208|emb|CXE38770.1| peptidase M48 family protein [Staphylococcus aureus] >gi|990823180|emb|CXE15571.1| peptidase M48 family protein [Staphylococcus aureus] >gi|990824762|emb|CXD59270.1| peptidase M48 family protein [Staphylococcus aureus] >gi|990837242|emb|CXE26967.1| peptidase M48 family protein [Staphylococcus aureus] >gi|990841522|emb|CXD58671.1| peptidase M48 family protein [Staphylococcus aureus] >gi|990846711|emb|CXD92951.1| peptidase M48 family protein [Staphylococcus aureus] >gi|990854255|emb|CXE70098.1| peptidase M48 family protein [Staphylococcus aureus] >gi|990892993|emb|CXE26832.1| peptidase M48 family protein [Staphylococcus aureus] >gi|990910966|emb|CXD92636.1| peptidase M48 family protein [Staphylococcus aureus] >gi|990928515|emb|CXE73227.1| peptidase M48 family protein [Staphylococcus aureus] >gi|990959075|emb|CXE67576.1| peptidase M48 family protein [Staphylococcus aureus] >gi|990961279|emb|CXE94661.1| peptidase M48 family protein [Staphylococcus aureus] >gi|990979112|emb|CXD55442.1| peptidase M48 family protein [Staphylococcus aureus] >gi|990981898|emb|CXD61889.1| peptidase M48 family protein [Staphylococcus aureus] >gi|990993474|emb|CXD41620.1| peptidase M48 family protein [Staphylococcus aureus] >gi|995292792|emb|CXT77613.1| peptidase M48 family protein [Staphylococcus aureus] >gi|995295178|emb|CXY34275.1| peptidase M48 family protein [Staphylococcus aureus] >gi|995302887|emb|CXV65294.1| peptidase M48 family protein [Staphylococcus aureus] >gi|995305473|emb|CXT98119.1| peptidase M48 family protein [Staphylococcus aureus] >gi|995308496|emb|CXX94120.1| peptidase M48 family protein [Staphylococcus aureus] >gi|995310221|emb|CYB47451.1| peptidase M48 family protein [Staphylococcus aureus] >gi|995316962|emb|CXZ00435.1| peptidase M48 family protein [Staphylococcus aureus] >gi|995321138|emb|CYC86267.1| peptidase M48 family protein [Staphylococcus aureus] >gi|995323466|emb|CYC12014.1| peptidase M48 family protein [Staphylococcus aureus] >gi|995324907|emb|CXQ07496.1| peptidase M48 family protein [Staphylococcus aureus] >gi|995329865|emb|CXV22082.1| peptidase M48 family protein [Staphylococcus aureus] >gi|995338626|emb|CYF17454.1| peptidase M48 family protein [Staphylococcus aureus] >gi|995341321|emb|CXQ36622.1| peptidase M48 family protein [Staphylococcus aureus] >gi|995342818|emb|CYB44424.1| peptidase M48 family protein [Staphylococcus aureus] >gi|995345576|emb|CXX27301.1| peptidase M48 family protein [Staphylococcus aureus] >gi|995347960|emb|CXQ12269.1| peptidase M48 family protein [Staphylococcus aureus] >gi|995350336|emb|CXK80952.1| peptidase M48 family protein [Staphylococcus aureus] >gi|995366951|emb|CXO77314.1| peptidase M48 family protein [Staphylococcus aureus] >gi|995368261|emb|CXS62392.1| peptidase M48 family protein [Staphylococcus aureus] >gi|995371233|emb|CXU33408.1| peptidase M48 family protein [Staphylococcus aureus] >gi|995374899|emb|CXS12717.1| peptidase M48 family protein [Staphylococcus aureus] >gi|995381217|emb|CXM18761.1| peptidase M48 family protein [Staphylococcus aureus] >gi|995387245|emb|CYC39977.1| peptidase M48 family protein [Staphylococcus aureus] >gi|995390172|emb|CXT97601.1| peptidase M48 family protein [Staphylococcus aureus] >gi|995393421|emb|CYF24361.1| peptidase M48 family protein [Staphylococcus aureus] >gi|995394410|emb|CYD86809.1| peptidase M48 family protein [Staphylococcus aureus] >gi|995398070|emb|CXT95360.1| peptidase M48 family protein [Staphylococcus aureus] >gi|995400309|emb|CYF92311.1| peptidase M48 family protein [Staphylococcus aureus] >gi|995402264|emb|CYE41938.1| peptidase M48 family protein [Staphylococcus aureus] >gi|995404752|emb|CYC77110.1| peptidase M48 family protein [Staphylococcus aureus] >gi|995407998|emb|CYF85529.1| peptidase M48 family protein [Staphylococcus aureus] >gi|995409934|emb|CYF38590.1| peptidase M48 family protein [Staphylococcus aureus] >gi|995412520|emb|CXT68854.1| peptidase M48 family protein [Staphylococcus aureus] >gi|995415917|emb|CXW07748.1| peptidase M48 family protein [Staphylococcus aureus] >gi|995417684|emb|CYF22825.1| peptidase M48 family protein [Staphylococcus aureus] >gi|995421387|emb|CXY17504.1| peptidase M48 family protein [Staphylococcus aureus] >gi|995423570|emb|CYF66942.1| peptidase M48 family protein [Staphylococcus aureus] >gi|995428120|emb|CXV87752.1| peptidase M48 family protein [Staphylococcus aureus] >gi|995430947|emb|CXP78209.1| peptidase M48 family protein [Staphylococcus aureus] >gi|995432983|emb|CYE13330.1| peptidase M48 family protein [Staphylococcus aureus] >gi|995436691|emb|CYC01467.1| peptidase M48 family protein [Staphylococcus aureus] >gi|995437896|emb|CYB23841.1| peptidase M48 family protein [Staphylococcus aureus] >gi|995444137|emb|CYB31204.1| peptidase M48 family protein [Staphylococcus aureus] >gi|995446971|emb|CXT47733.1| peptidase M48 family protein [Staphylococcus aureus] >gi|995449620|emb|CYD65671.1| peptidase M48 family protein [Staphylococcus aureus] >gi|995451451|emb|CXV68756.1| peptidase M48 family protein [Staphylococcus aureus] >gi|995453955|emb|CXQ81646.1| peptidase M48 family protein [Staphylococcus aureus] >gi|995456440|emb|CYB22522.1| peptidase M48 family protein [Staphylococcus aureus] >gi|995459654|emb|CXM29690.1| peptidase M48 family protein [Staphylococcus aureus] >gi|995462497|emb|CXK67558.1| peptidase M48 family protein [Staphylococcus aureus] >gi|995464204|emb|CXZ33137.1| peptidase M48 family protein [Staphylococcus aureus] >gi|995467097|emb|CXT14584.1| peptidase M48 family protein [Staphylococcus aureus] >gi|995469912|emb|CXI90703.1| peptidase M48 family protein [Staphylococcus aureus] >gi|995471977|emb|CXN11677.1| peptidase M48 family protein [Staphylococcus aureus] >gi|995474487|emb|CYB54393.1| peptidase M48 family protein [Staphylococcus aureus] >gi|995479831|emb|CXN24924.1| peptidase M48 family protein [Staphylococcus aureus] >gi|995482750|emb|CXR34502.1| peptidase M48 family protein [Staphylococcus aureus] >gi|995487607|emb|CXJ76226.1| peptidase M48 family protein [Staphylococcus aureus] >gi|995490129|emb|CXU80624.1| peptidase M48 family protein [Staphylococcus aureus] >gi|995493031|emb|CXQ72084.1| peptidase M48 family protein [Staphylococcus aureus] >gi|995496707|emb|CYD39133.1| peptidase M48 family protein [Staphylococcus aureus] >gi|995501675|emb|CXL50220.1| peptidase M48 family protein [Staphylococcus aureus] >gi|995503393|emb|CXW31873.1| peptidase M48 family protein [Staphylococcus aureus] >gi|995506092|emb|CXK22418.1| peptidase M48 family protein [Staphylococcus aureus] >gi|995509299|emb|CYB50157.1| peptidase M48 family protein [Staphylococcus aureus] >gi|995511638|emb|CXL57388.1| peptidase M48 family protein [Staphylococcus aureus] >gi|995513493|emb|CXU24272.1| peptidase M48 family protein [Staphylococcus aureus] >gi|995517921|emb|CXZ01252.1| peptidase M48 family protein [Staphylococcus aureus] >gi|995518961|emb|CXU63988.1| peptidase M48 family protein [Staphylococcus aureus] >gi|995526827|emb|CYC72659.1| peptidase M48 family protein [Staphylococcus aureus] >gi|995529419|emb|CYE63697.1| peptidase M48 family protein [Staphylococcus aureus] >gi|995535286|emb|CXN16691.1| peptidase M48 family protein [Staphylococcus aureus] >gi|995537444|emb|CXS42192.1| peptidase M48 family protein [Staphylococcus aureus] >gi|995540677|emb|CXP82001.1| peptidase M48 family protein [Staphylococcus aureus] >gi|995542619|emb|CXQ52210.1| peptidase M48 family protein [Staphylococcus aureus] >gi|995545176|emb|CXU53455.1| peptidase M48 family protein [Staphylococcus aureus] >gi|995547813|emb|CXX71944.1| peptidase M48 family protein [Staphylococcus aureus] >gi|995550310|emb|CXL86725.1| peptidase M48 family protein [Staphylococcus aureus] >gi|995552690|emb|CYD22321.1| peptidase M48 family protein [Staphylococcus aureus] >gi|995555854|emb|CXV29300.1| peptidase M48 family protein [Staphylococcus aureus] >gi|995558228|emb|CYF82984.1| peptidase M48 family protein [Staphylococcus aureus] >gi|995560770|emb|CXM21752.1| peptidase M48 family protein [Staphylococcus aureus] >gi|995563486|emb|CXW80003.1| peptidase M48 family protein [Staphylococcus aureus] >gi|995566017|emb|CXU36210.1| peptidase M48 family protein [Staphylococcus aureus] >gi|995568547|emb|CXL71763.1| peptidase M48 family protein [Staphylococcus aureus] >gi|995571325|emb|CXU02469.1| peptidase M48 family protein [Staphylococcus aureus] >gi|995573950|emb|CXX81529.1| peptidase M48 family protein [Staphylococcus aureus] >gi|995576446|emb|CXO57348.1| peptidase M48 family protein [Staphylococcus aureus] >gi|995580221|emb|CXO49913.1| peptidase M48 family protein [Staphylococcus aureus] >gi|995581853|emb|CYF72190.1| peptidase M48 family protein [Staphylococcus aureus] >gi|995584220|emb|CYB79400.1| peptidase M48 family protein [Staphylococcus aureus] >gi|995586904|emb|CXP19427.1| peptidase M48 family protein [Staphylococcus aureus] >gi|995590731|emb|CXX29051.1| peptidase M48 family protein [Staphylococcus aureus] >gi|995593180|emb|CXX36208.1| peptidase M48 family protein [Staphylococcus aureus] >gi|995595460|emb|CXY28621.1| peptidase M48 family protein [Staphylococcus aureus] >gi|995597512|emb|CXS78830.1| peptidase M48 family protein [Staphylococcus aureus] >gi|995600931|emb|CYD11685.1| peptidase M48 family protein [Staphylococcus aureus] >gi|995602582|emb|CXQ94078.1| peptidase M48 family protein [Staphylococcus aureus] >gi|995605655|emb|CYE90299.1| peptidase M48 family protein [Staphylococcus aureus] >gi|995607995|emb|CYB42543.1| peptidase M48 family protein [Staphylococcus aureus] >gi|995610638|emb|CXN12469.1| peptidase M48 family protein [Staphylococcus aureus] >gi|995614554|emb|CXU47375.1| peptidase M48 family protein [Staphylococcus aureus] >gi|995619100|emb|CXR23350.1| peptidase M48 family protein [Staphylococcus aureus] >gi|995625225|emb|CXV44623.1| peptidase M48 family protein [Staphylococcus aureus] >gi|995627543|emb|CXQ25886.1| peptidase M48 family protein [Staphylococcus aureus] >gi|995630051|emb|CYA89873.1| peptidase M48 family protein [Staphylococcus aureus] >gi|995632059|emb|CXY83642.1| peptidase M48 family protein [Staphylococcus aureus] >gi|995634558|emb|CXL79013.1| peptidase M48 family protein [Staphylococcus aureus] >gi|995637240|emb|CXM87464.1| peptidase M48 family protein [Staphylococcus aureus] >gi|995639649|emb|CXP89511.1| peptidase M48 family protein [Staphylococcus aureus] >gi|995642350|emb|CYF71043.1| peptidase M48 family protein [Staphylococcus aureus] >gi|995644971|emb|CXN05452.1| peptidase M48 family protein [Staphylococcus aureus] >gi|995648344|emb|CXL71882.1| peptidase M48 family protein [Staphylococcus aureus] >gi|995651293|emb|CXQ94575.1| peptidase M48 family protein [Staphylococcus aureus] >gi|995652681|emb|CXY77020.1| peptidase M48 family protein [Staphylococcus aureus] >gi|995655356|emb|CYF44609.1| peptidase M48 family protein [Staphylococcus aureus] >gi|995659026|emb|CXY28918.1| peptidase M48 family protein [Staphylococcus aureus] >gi|995661554|emb|CYB88358.1| peptidase M48 family protein [Staphylococcus aureus] >gi|995664000|emb|CXM98655.1| peptidase M48 family protein [Staphylococcus aureus] >gi|995666721|emb|CXX33772.1| peptidase M48 family protein [Staphylococcus aureus] >gi|995668531|emb|CYD25492.1| peptidase M48 family protein [Staphylococcus aureus] >gi|995671935|emb|CXX61807.1| peptidase M48 family protein [Staphylococcus aureus] >gi|995673991|emb|CXV13948.1| peptidase M48 family protein [Staphylococcus aureus] >gi|995676396|emb|CXN46786.1| peptidase M48 family protein [Staphylococcus aureus] >gi|995678790|emb|CYF48777.1| peptidase M48 family protein [Staphylococcus aureus] >gi|995681616|emb|CXX09096.1| peptidase M48 family protein [Staphylococcus aureus] >gi|995684530|emb|CYA87787.1| peptidase M48 family protein [Staphylococcus aureus] >gi|995686841|emb|CXM31413.1| peptidase M48 family protein [Staphylococcus aureus] >gi|995689481|emb|CYC59199.1| peptidase M48 family protein [Staphylococcus aureus] >gi|995693650|emb|CXY28736.1| peptidase M48 family protein [Staphylococcus aureus] >gi|995694503|emb|CYD95467.1| peptidase M48 family protein [Staphylococcus aureus] >gi|995697342|emb|CYF32609.1| peptidase M48 family protein [Staphylococcus aureus] >gi|995700159|emb|CYB55162.1| peptidase M48 family protein [Staphylococcus aureus] >gi|995702693|emb|CYD88921.1| peptidase M48 family protein [Staphylococcus aureus] >gi|995704706|emb|CXM27208.1| peptidase M48 family protein [Staphylococcus aureus] >gi|995707952|emb|CXP38331.1| peptidase M48 family protein [Staphylococcus aureus] >gi|995710227|emb|CXP41121.1| peptidase M48 family protein [Staphylococcus aureus] >gi|995713360|emb|CXJ83052.1| peptidase M48 family protein [Staphylococcus aureus] >gi|995715772|emb|CYC28344.1| peptidase M48 family protein [Staphylococcus aureus] >gi|995719340|emb|CYE19520.1| peptidase M48 family protein [Staphylococcus aureus] >gi|995720736|emb|CXX45631.1| peptidase M48 family protein [Staphylococcus aureus] >gi|995723595|emb|CXV18308.1| peptidase M48 family protein [Staphylococcus aureus] >gi|995726013|emb|CXK59857.1| peptidase M48 family protein [Staphylococcus aureus] >gi|995729062|emb|CXK73759.1| peptidase M48 family protein [Staphylococcus aureus] >gi|995732666|emb|CXK50146.1| peptidase M48 family protein [Staphylococcus aureus] >gi|995734046|emb|CXJ98456.1| peptidase M48 family protein [Staphylococcus aureus] >gi|995736445|emb|CYB20826.1| peptidase M48 family protein [Staphylococcus aureus] >gi|995739571|emb|CXJ13334.1| peptidase M48 family protein [Staphylococcus aureus] >gi|995742186|emb|CXP14910.1| peptidase M48 family protein [Staphylococcus aureus] >gi|995744344|emb|CXI26684.1| peptidase M48 family protein [Staphylococcus aureus] >gi|995747025|emb|CYD85527.1| peptidase M48 family protein [Staphylococcus aureus] >gi|995749937|emb|CYF47612.1| peptidase M48 family protein [Staphylococcus aureus] >gi|995753420|emb|CYF46253.1| peptidase M48 family protein [Staphylococcus aureus] >gi|995755084|emb|CXK17599.1| peptidase M48 family protein [Staphylococcus aureus] >gi|995757698|emb|CXO96793.1| peptidase M48 family protein [Staphylococcus aureus] >gi|995761136|emb|CYC21864.1| peptidase M48 family protein [Staphylococcus aureus] >gi|995763283|emb|CXJ31760.1| peptidase M48 family protein [Staphylococcus aureus] >gi|995766172|emb|CXY69797.1| peptidase M48 family protein [Staphylococcus aureus] >gi|995768181|emb|CXK83963.1| peptidase M48 family protein [Staphylococcus aureus] >gi|995771038|emb|CYA36027.1| peptidase M48 family protein [Staphylococcus aureus] >gi|995774586|emb|CXY16558.1| peptidase M48 family protein [Staphylococcus aureus] >gi|995776061|emb|CXK72092.1| peptidase M48 family protein [Staphylococcus aureus] >gi|995781482|emb|CXT62040.1| peptidase M48 family protein [Staphylococcus aureus] >gi|995784092|emb|CXT15989.1| peptidase M48 family protein [Staphylococcus aureus] >gi|995786294|emb|CXX65533.1| peptidase M48 family protein [Staphylococcus aureus] >gi|995790434|emb|CYC08840.1| peptidase M48 family protein [Staphylococcus aureus] >gi|995791821|emb|CXQ33678.1| peptidase M48 family protein [Staphylococcus aureus] >gi|995794709|emb|CXY78549.1| peptidase M48 family protein [Staphylococcus aureus] >gi|995797138|emb|CXT62939.1| peptidase M48 family protein [Staphylococcus aureus] >gi|995799787|emb|CXM30879.1| peptidase M48 family protein [Staphylococcus aureus] >gi|995802390|emb|CXM01227.1| peptidase M48 family protein [Staphylococcus aureus] >gi|995805068|emb|CXX11706.1| peptidase M48 family protein [Staphylococcus aureus] >gi|995807734|emb|CXH97493.1| peptidase M48 family protein [Staphylococcus aureus] >gi|995809917|emb|CXZ10198.1| peptidase M48 family protein [Staphylococcus aureus] >gi|995812808|emb|CXO82129.1| peptidase M48 family protein [Staphylococcus aureus] >gi|995815884|emb|CXN72405.1| peptidase M48 family protein [Staphylococcus aureus] >gi|995818217|emb|CYD68764.1| peptidase M48 family protein [Staphylococcus aureus] >gi|995820822|emb|CYF49532.1| peptidase M48 family protein [Staphylococcus aureus] >gi|995823760|emb|CXV91766.1| peptidase M48 family protein [Staphylococcus aureus] >gi|995826255|emb|CYE51787.1| peptidase M48 family protein [Staphylococcus aureus] >gi|995829129|emb|CXI13322.1| peptidase M48 family protein [Staphylococcus aureus] >gi|995831368|emb|CXZ76697.1| peptidase M48 family protein [Staphylococcus aureus] >gi|995833956|emb|CXX65989.1| peptidase M48 family protein [Staphylococcus aureus] >gi|995836684|emb|CXI40819.1| peptidase M48 family protein [Staphylococcus aureus] >gi|995839251|emb|CYA03793.1| peptidase M48 family protein [Staphylococcus aureus] >gi|995844492|emb|CXI08272.1| peptidase M48 family protein [Staphylococcus aureus] >gi|995847354|emb|CXL99005.1| peptidase M48 family protein [Staphylococcus aureus] >gi|995849796|emb|CYE21615.1| peptidase M48 family protein [Staphylococcus aureus] >gi|995852513|emb|CXT02061.1| peptidase M48 family protein [Staphylococcus aureus] >gi|995854973|emb|CYE07002.1| peptidase M48 family protein [Staphylococcus aureus] >gi|995857541|emb|CXO39563.1| peptidase M48 family protein [Staphylococcus aureus] >gi|995860259|emb|CXP43962.1| peptidase M48 family protein [Staphylococcus aureus] >gi|995862809|emb|CYE01683.1| peptidase M48 family protein [Staphylococcus aureus] >gi|995865594|emb|CXY77656.1| peptidase M48 family protein [Staphylococcus aureus] >gi|995868166|emb|CYA70445.1| peptidase M48 family protein [Staphylococcus aureus] >gi|995871029|emb|CXU74049.1| peptidase M48 family protein [Staphylococcus aureus] >gi|995873347|emb|CXM39052.1| peptidase M48 family protein [Staphylococcus aureus] >gi|995875922|emb|CXW81917.1| peptidase M48 family protein [Staphylococcus aureus] >gi|995878745|emb|CYB56518.1| peptidase M48 family protein [Staphylococcus aureus] >gi|996085450|emb|CXH73947.1| peptidase M48 family protein [Staphylococcus aureus] >gi|996088003|emb|CXH81931.1| peptidase M48 family protein [Staphylococcus aureus] >gi|996093182|emb|CXH65825.1| peptidase M48 family protein [Staphylococcus aureus] >gi|996095736|emb|CXI01694.1| peptidase M48 family protein [Staphylococcus aureus] >gi|996102786|emb|CXH20869.1| peptidase M48 family protein [Staphylococcus aureus] >gi|996103904|emb|CXH98484.1| peptidase M48 family protein [Staphylococcus aureus] >gi|996107629|emb|CXH46397.1| peptidase M48 family protein [Staphylococcus aureus] >gi|996109076|emb|CXH99628.1| peptidase M48 family protein [Staphylococcus aureus] >gi|996111990|emb|CXH65402.1| peptidase M48 family protein [Staphylococcus aureus] >gi|996114702|emb|CXH90872.1| peptidase M48 family protein [Staphylococcus aureus] >gi|996120636|emb|CXI05436.1| peptidase M48 family protein [Staphylococcus aureus] >gi|996124013|emb|CXI03057.1| peptidase M48 family protein [Staphylococcus aureus] >gi|996127483|emb|CXI06184.1| peptidase M48 family protein [Staphylococcus aureus] >gi|996134528|emb|CXI01877.1| peptidase M48 family protein [Staphylococcus aureus] >gi|996137078|emb|CXH87546.1| peptidase M48 family protein [Staphylococcus aureus] >gi|996139758|emb|CXH88229.1| peptidase M48 family protein [Staphylococcus aureus] >gi|996142502|emb|CXH84044.1| peptidase M48 family protein [Staphylococcus aureus] >gi|996145209|emb|CXH84977.1| peptidase M48 family protein [Staphylococcus aureus] >gi|996147706|emb|CXI33553.1| peptidase M48 family protein [Staphylococcus aureus] >gi|996150510|emb|CXI11563.1| peptidase M48 family protein [Staphylococcus aureus] >gi|996155898|emb|CXI14417.1| peptidase M48 family protein [Staphylococcus aureus] >gi|996158466|emb|CXI39642.1| peptidase M48 family protein [Staphylococcus aureus] >gi|996164072|emb|CXI26681.1| peptidase M48 family protein [Staphylococcus aureus] >gi|996166784|emb|CXI43307.1| peptidase M48 family protein [Staphylococcus aureus] >gi|996175292|emb|CXI20862.1| peptidase M48 family protein [Staphylococcus aureus] >gi|996177587|emb|CXI27431.1| peptidase M48 family protein [Staphylococcus aureus] >gi|996180229|emb|CXI26094.1| peptidase M48 family protein [Staphylococcus aureus] >gi|996185595|emb|CXI51632.1| peptidase M48 family protein [Staphylococcus aureus] >gi|996193777|emb|CXI42728.1| peptidase M48 family protein [Staphylococcus aureus] >gi|996196442|emb|CXI42217.1| peptidase M48 family protein [Staphylococcus aureus] >gi|996203041|emb|CXI55754.1| peptidase M48 family protein [Staphylococcus aureus] >gi|996204213|emb|CXI82693.1| peptidase M48 family protein [Staphylococcus aureus] >gi|996210049|emb|CXI70376.1| peptidase M48 family protein [Staphylococcus aureus] >gi|996213876|emb|CXI44592.1| peptidase M48 family protein [Staphylococcus aureus] >gi|996215163|emb|CXI78588.1| peptidase M48 family protein [Staphylococcus aureus] >gi|996217764|emb|CXJ06037.1| peptidase M48 family protein [Staphylococcus aureus] >gi|996220532|emb|CXJ05502.1| peptidase M48 family protein [Staphylococcus aureus] >gi|996226026|emb|CXI96792.1| peptidase M48 family protein [Staphylococcus aureus] >gi|996228163|emb|CXJ44352.1| peptidase M48 family protein [Staphylococcus aureus] >gi|996231344|emb|CXI98556.1| peptidase M48 family protein [Staphylococcus aureus] >gi|996237001|emb|CXI95603.1| peptidase M48 family protein [Staphylococcus aureus] >gi|996242389|emb|CXJ00709.1| peptidase M48 family protein [Staphylococcus aureus] >gi|996244985|emb|CXJ07769.1| peptidase M48 family protein [Staphylococcus aureus] >gi|996247307|emb|CXJ50669.1| peptidase M48 family protein [Staphylococcus aureus] >gi|996253267|emb|CXJ35931.1| peptidase M48 family protein [Staphylococcus aureus] >gi|996258420|emb|CXJ46653.1| peptidase M48 family protein [Staphylococcus aureus] >gi|996263904|emb|CXJ36757.1| peptidase M48 family protein [Staphylococcus aureus] >gi|996267073|emb|CXJ36099.1| peptidase M48 family protein [Staphylococcus aureus] >gi|996269890|emb|CXJ43259.1| peptidase M48 family protein [Staphylococcus aureus] >gi|996275081|emb|CXJ56671.1| peptidase M48 family protein [Staphylococcus aureus] >gi|996280470|emb|CXJ62062.1| peptidase M48 family protein [Staphylococcus aureus] >gi|996294582|emb|CXJ68175.1| peptidase M48 family protein [Staphylococcus aureus] >gi|996302454|emb|CXJ74712.1| peptidase M48 family protein [Staphylococcus aureus] >gi|996308621|emb|CXJ46590.1| peptidase M48 family protein [Staphylococcus aureus] >gi|996310376|emb|CXK01615.1| peptidase M48 family protein [Staphylococcus aureus] >gi|996312918|emb|CXK12329.1| peptidase M48 family protein [Staphylococcus aureus] >gi|996315741|emb|CXK39728.1| peptidase M48 family protein [Staphylococcus aureus] >gi|996321182|emb|CXK15603.1| peptidase M48 family protein [Staphylococcus aureus] >gi|996323905|emb|CXK25846.1| peptidase M48 family protein [Staphylococcus aureus] >gi|996326741|emb|CXK34857.1| peptidase M48 family protein [Staphylococcus aureus] >gi|996329171|emb|CXK51048.1| peptidase M48 family protein [Staphylococcus aureus] >gi|996331645|emb|CXK30668.1| peptidase M48 family protein [Staphylococcus aureus] >gi|996334275|emb|CXK30622.1| peptidase M48 family protein [Staphylococcus aureus] >gi|996340085|emb|CXK31564.1| peptidase M48 family protein [Staphylococcus aureus] >gi|996347816|emb|CXK66358.1| peptidase M48 family protein [Staphylococcus aureus] >gi|996353261|emb|CXK75104.1| peptidase M48 family protein [Staphylococcus aureus] >gi|996362363|emb|CXK73249.1| peptidase M48 family protein [Staphylococcus aureus] >gi|996377207|emb|CXK79935.1| peptidase M48 family protein [Staphylococcus aureus] >gi|996407510|emb|CXK75326.1| peptidase M48 family protein [Staphylococcus aureus] >gi|996412839|emb|CXK93536.1| peptidase M48 family protein [Staphylococcus aureus] >gi|996418306|emb|CXL07119.1| peptidase M48 family protein [Staphylococcus aureus] >gi|996423780|emb|CXL06080.1| peptidase M48 family protein [Staphylococcus aureus] >gi|996432114|emb|CXK73053.1| peptidase M48 family protein [Staphylococcus aureus] >gi|996440598|emb|CXK88087.1| peptidase M48 family protein [Staphylococcus aureus] >gi|996442787|emb|CXK96466.1| peptidase M48 family protein [Staphylococcus aureus] >gi|996445532|emb|CXK96359.1| peptidase M48 family protein [Staphylococcus aureus] >gi|996451165|emb|CXK87693.1| peptidase M48 family protein [Staphylococcus aureus] >gi|996456459|emb|CXL64666.1| peptidase M48 family protein [Staphylococcus aureus] >gi|996471402|emb|CXL75915.1| peptidase M48 family protein [Staphylococcus aureus] >gi|996477515|emb|CXL55039.1| peptidase M48 family protein [Staphylococcus aureus] >gi|996479698|emb|CXL84106.1| peptidase M48 family protein [Staphylococcus aureus] >gi|996484921|emb|CXL62124.1| peptidase M48 family protein [Staphylococcus aureus] >gi|996487738|emb|CXL64602.1| peptidase M48 family protein [Staphylococcus aureus] >gi|996490762|emb|CXL83304.1| peptidase M48 family protein [Staphylococcus aureus] >gi|996496063|emb|CXL57255.1| peptidase M48 family protein [Staphylococcus aureus] >gi|996498771|emb|CXL62556.1| peptidase M48 family protein [Staphylococcus aureus] >gi|996509538|emb|CXM15725.1| peptidase M48 family protein [Staphylococcus aureus] >gi|996520742|emb|CXM05620.1| peptidase M48 family protein [Staphylococcus aureus] >gi|996523449|emb|CXM27190.1| peptidase M48 family protein [Staphylococcus aureus] >gi|996528648|emb|CXM19939.1| peptidase M48 family protein [Staphylococcus aureus] >gi|996531760|emb|CXM35636.1| peptidase M48 family protein [Staphylococcus aureus] >gi|996534400|emb|CXM36470.1| peptidase M48 family protein [Staphylococcus aureus] >gi|996537266|emb|CXM29845.1| peptidase M48 family protein [Staphylococcus aureus] >gi|996539568|emb|CXM24993.1| peptidase M48 family protein [Staphylococcus aureus] >gi|996545303|emb|CXM23347.1| peptidase M48 family protein [Staphylococcus aureus] >gi|996547677|emb|CXM77632.1| peptidase M48 family protein [Staphylococcus aureus] >gi|996553332|emb|CXM93132.1| peptidase M48 family protein [Staphylococcus aureus] >gi|996558726|emb|CXM68325.1| peptidase M48 family protein [Staphylococcus aureus] >gi|996569797|emb|CXM88023.1| peptidase M48 family protein [Staphylococcus aureus] >gi|996572454|emb|CXM93774.1| peptidase M48 family protein [Staphylococcus aureus] >gi|996583173|emb|CXM92703.1| peptidase M48 family protein [Staphylococcus aureus] >gi|996590925|emb|CXN01267.1| peptidase M48 family protein [Staphylococcus aureus] >gi|996599306|emb|CXM99835.1| peptidase M48 family protein [Staphylococcus aureus] >gi|996607698|emb|CXN04364.1| peptidase M48 family protein [Staphylococcus aureus] >gi|996617246|emb|CXN02738.1| peptidase M48 family protein [Staphylococcus aureus] >gi|996632420|emb|CXN10228.1| peptidase M48 family protein [Staphylococcus aureus] >gi|996651205|emb|CXN13415.1| peptidase M48 family protein [Staphylococcus aureus] >gi|996655676|emb|CXN43709.1| peptidase M48 family protein [Staphylococcus aureus] >gi|996658605|emb|CXN10493.1| peptidase M48 family protein [Staphylococcus aureus] >gi|996661050|emb|CXN23051.1| peptidase M48 family protein [Staphylococcus aureus] >gi|996663779|emb|CXN24352.1| peptidase M48 family protein [Staphylococcus aureus] >gi|996666396|emb|CXN47762.1| peptidase M48 family protein [Staphylococcus aureus] >gi|996671691|emb|CXN59092.1| peptidase M48 family protein [Staphylococcus aureus] >gi|996674628|emb|CXN48407.1| peptidase M48 family protein [Staphylococcus aureus] >gi|996677126|emb|CXN53468.1| peptidase M48 family protein [Staphylococcus aureus] >gi|996680264|emb|CXN37770.1| peptidase M48 family protein [Staphylococcus aureus] >gi|996682408|emb|CXN43323.1| peptidase M48 family protein [Staphylococcus aureus] >gi|996690755|emb|CXN46060.1| peptidase M48 family protein [Staphylococcus aureus] >gi|996693054|emb|CXN55883.1| peptidase M48 family protein [Staphylococcus aureus] >gi|996695830|emb|CXN89572.1| peptidase M48 family protein [Staphylococcus aureus] >gi|996698643|emb|CXN76740.1| peptidase M48 family protein [Staphylococcus aureus] >gi|996707427|emb|CXN60367.1| peptidase M48 family protein [Staphylococcus aureus] >gi|996709502|emb|CXN99897.1| peptidase M48 family protein [Staphylococcus aureus] >gi|996712471|emb|CXO07419.1| peptidase M48 family protein [Staphylococcus aureus] >gi|996717610|emb|CXN94599.1| peptidase M48 family protein [Staphylococcus aureus] >gi|996721275|emb|CXN87661.1| peptidase M48 family protein [Staphylococcus aureus] >gi|996725834|emb|CXO00476.1| peptidase M48 family protein [Staphylococcus aureus] >gi|996728359|emb|CXO02570.1| peptidase M48 family protein [Staphylococcus aureus] >gi|996733852|emb|CXO35157.1| peptidase M48 family protein [Staphylococcus aureus] >gi|996736886|emb|CXO22383.1| peptidase M48 family protein [Staphylococcus aureus] >gi|996739264|emb|CXO39120.1| peptidase M48 family protein [Staphylococcus aureus] >gi|996741832|emb|CXO42122.1| peptidase M48 family protein [Staphylococcus aureus] >gi|996744557|emb|CXO41598.1| peptidase M48 family protein [Staphylococcus aureus] >gi|996750031|emb|CXO41526.1| peptidase M48 family protein [Staphylococcus aureus] >gi|996752744|emb|CXO26137.1| peptidase M48 family protein [Staphylococcus aureus] >gi|996759265|emb|CXO17216.1| peptidase M48 family protein [Staphylococcus aureus] >gi|996762794|emb|CXO07968.1| peptidase M48 family protein [Staphylococcus aureus] >gi|996765903|emb|CXO15582.1| peptidase M48 family protein [Staphylococcus aureus] >gi|996767975|emb|CXO21661.1| peptidase M48 family protein [Staphylococcus aureus] >gi|996770616|emb|CXO21578.1| peptidase M48 family protein [Staphylococcus aureus] >gi|996773384|emb|CXO42719.1| peptidase M48 family protein [Staphylococcus aureus] >gi|996776294|emb|CXO28910.1| peptidase M48 family protein [Staphylococcus aureus] >gi|996778454|emb|CXO77637.1| peptidase M48 family protein [Staphylococcus aureus] >gi|996781841|emb|CXO27248.1| peptidase M48 family protein [Staphylococcus aureus] >gi|996783944|emb|CXO71644.1| peptidase M48 family protein [Staphylococcus aureus] >gi|996789133|emb|CXO76541.1| peptidase M48 family protein [Staphylococcus aureus] >gi|996791936|emb|CXO70740.1| peptidase M48 family protein [Staphylococcus aureus] >gi|996794595|emb|CXO77723.1| peptidase M48 family protein [Staphylococcus aureus] >gi|996800248|emb|CXP02701.1| peptidase M48 family protein [Staphylococcus aureus] >gi|996802823|emb|CXO86443.1| peptidase M48 family protein [Staphylococcus aureus] >gi|996805884|emb|CXP03149.1| peptidase M48 family protein [Staphylococcus aureus] >gi|996808211|emb|CXP03956.1| peptidase M48 family protein [Staphylococcus aureus] >gi|996810875|emb|CXP00993.1| peptidase M48 family protein [Staphylococcus aureus] >gi|996813803|emb|CXO92513.1| peptidase M48 family protein [Staphylococcus aureus] >gi|996819023|emb|CXP55312.1| peptidase M48 family protein [Staphylococcus aureus] >gi|996826758|emb|CXP86413.1| peptidase M48 family protein [Staphylococcus aureus] >gi|996830080|emb|CXP57441.1| peptidase M48 family protein [Staphylococcus aureus] >gi|996832489|emb|CXP35577.1| peptidase M48 family protein [Staphylococcus aureus] >gi|996835261|emb|CXP32060.1| peptidase M48 family protein [Staphylococcus aureus] >gi|996838098|emb|CXP59235.1| peptidase M48 family protein [Staphylococcus aureus] >gi|996840374|emb|CXP53027.1| peptidase M48 family protein [Staphylococcus aureus] >gi|996843560|emb|CXP59346.1| peptidase M48 family protein [Staphylococcus aureus] >gi|996849781|emb|CXP16602.1| peptidase M48 family protein [Staphylococcus aureus] >gi|996851756|emb|CXP45820.1| peptidase M48 family protein [Staphylococcus aureus] >gi|996854067|emb|CXP69250.1| peptidase M48 family protein [Staphylococcus aureus] >gi|996857265|emb|CXP79763.1| peptidase M48 family protein [Staphylococcus aureus] >gi|996859935|emb|CXP53108.1| peptidase M48 family protein [Staphylococcus aureus] >gi|996861837|emb|CXQ12118.1| peptidase M48 family protein [Staphylococcus aureus] >gi|996865110|emb|CXQ09117.1| peptidase M48 family protein [Staphylococcus aureus] >gi|996867909|emb|CXP64847.1| peptidase M48 family protein [Staphylococcus aureus] >gi|996870644|emb|CXP85577.1| peptidase M48 family protein [Staphylococcus aureus] >gi|996873604|emb|CXP50820.1| peptidase M48 family protein [Staphylococcus aureus] >gi|996876007|emb|CXP86705.1| peptidase M48 family protein [Staphylococcus aureus] >gi|996878320|emb|CXP73979.1| peptidase M48 family protein [Staphylococcus aureus] >gi|996881494|emb|CXP84580.1| peptidase M48 family protein [Staphylococcus aureus] >gi|996883775|emb|CXP72244.1| peptidase M48 family protein [Staphylococcus aureus] >gi|996886150|emb|CXQ17060.1| peptidase M48 family protein [Staphylococcus aureus] >gi|996889442|emb|CXP91402.1| peptidase M48 family protein [Staphylococcus aureus] >gi|996891713|emb|CXP88288.1| peptidase M48 family protein [Staphylococcus aureus] >gi|996897501|emb|CXQ12185.1| peptidase M48 family protein [Staphylococcus aureus] >gi|996900014|emb|CXP94381.1| peptidase M48 family protein [Staphylococcus aureus] >gi|996902178|emb|CXQ17445.1| peptidase M48 family protein [Staphylococcus aureus] >gi|996906115|emb|CXP92449.1| peptidase M48 family protein [Staphylococcus aureus] >gi|996908202|emb|CXQ01241.1| peptidase M48 family protein [Staphylococcus aureus] >gi|996910871|emb|CXQ04273.1| peptidase M48 family protein [Staphylococcus aureus] >gi|996913289|emb|CXQ63294.1| peptidase M48 family protein [Staphylococcus aureus] >gi|996916651|emb|CXQ19156.1| peptidase M48 family protein [Staphylococcus aureus] >gi|996919711|emb|CXQ05912.1| peptidase M48 family protein [Staphylococcus aureus] >gi|996924319|emb|CXQ43345.1| peptidase M48 family protein [Staphylococcus aureus] >gi|996926982|emb|CXQ45231.1| peptidase M48 family protein [Staphylococcus aureus] >gi|996929694|emb|CXQ45935.1| peptidase M48 family protein [Staphylococcus aureus] >gi|996931826|emb|CXR02098.1| peptidase M48 family protein [Staphylococcus aureus] >gi|996937956|emb|CXQ80407.1| peptidase M48 family protein [Staphylococcus aureus] >gi|996944345|emb|CXQ36301.1| peptidase M48 family protein [Staphylococcus aureus] >gi|996946223|emb|CXQ74244.1| peptidase M48 family protein [Staphylococcus aureus] >gi|996951446|emb|CXR22696.1| peptidase M48 family protein [Staphylococcus aureus] >gi|996954300|emb|CXQ66612.1| peptidase M48 family protein [Staphylococcus aureus] >gi|996956668|emb|CXQ78817.1| peptidase M48 family protein [Staphylococcus aureus] >gi|996959828|emb|CXQ66587.1| peptidase M48 family protein [Staphylococcus aureus] >gi|996962325|emb|CXQ81651.1| peptidase M48 family protein [Staphylococcus aureus] >gi|996964845|emb|CXR19762.1| peptidase M48 family protein [Staphylococcus aureus] >gi|996967626|emb|CXR17265.1| peptidase M48 family protein [Staphylococcus aureus] >gi|996970180|emb|CXR26840.1| peptidase M48 family protein [Staphylococcus aureus] >gi|996973111|emb|CXQ96431.1| peptidase M48 family protein [Staphylococcus aureus] >gi|996975882|emb|CXQ96017.1| peptidase M48 family protein [Staphylococcus aureus] >gi|996977884|emb|CXR18696.1| peptidase M48 family protein [Staphylococcus aureus] >gi|996980637|emb|CXR43486.1| peptidase M48 family protein [Staphylococcus aureus] >gi|996983550|emb|CXR41510.1| peptidase M48 family protein [Staphylococcus aureus] >gi|996986074|emb|CXR43342.1| peptidase M48 family protein [Staphylococcus aureus] >gi|996989812|emb|CXQ90577.1| peptidase M48 family protein [Staphylococcus aureus] >gi|996991649|emb|CXR37071.1| peptidase M48 family protein [Staphylococcus aureus] >gi|996994313|emb|CXR12801.1| peptidase M48 family protein [Staphylococcus aureus] >gi|996997033|emb|CXR18667.1| peptidase M48 family protein [Staphylococcus aureus] >gi|996999418|emb|CXR29903.1| peptidase M48 family protein [Staphylococcus aureus] >gi|997002545|emb|CXR15044.1| peptidase M48 family protein [Staphylococcus aureus] >gi|997004790|emb|CXR57514.1| peptidase M48 family protein [Staphylococcus aureus] >gi|997008262|emb|CXR05604.1| peptidase M48 family protein [Staphylococcus aureus] >gi|997010006|emb|CXR66525.1| peptidase M48 family protein [Staphylococcus aureus] >gi|997015803|emb|CXR45954.1| peptidase M48 family protein [Staphylococcus aureus] >gi|997018419|emb|CXR51263.1| peptidase M48 family protein [Staphylococcus aureus] >gi|997020783|emb|CXR62128.1| peptidase M48 family protein [Staphylococcus aureus] >gi|997024336|emb|CXR67737.1| peptidase M48 family protein [Staphylococcus aureus] >gi|997030096|emb|CXR46840.1| peptidase M48 family protein [Staphylococcus aureus] >gi|997032056|emb|CXR95919.1| peptidase M48 family protein [Staphylococcus aureus] >gi|997034733|emb|CXR95710.1| peptidase M48 family protein [Staphylococcus aureus] >gi|997037455|emb|CXS01725.1| peptidase M48 family protein [Staphylococcus aureus] >gi|997040332|emb|CXR94386.1| peptidase M48 family protein [Staphylococcus aureus] >gi|997043005|emb|CXS06596.1| peptidase M48 family protein [Staphylococcus aureus] >gi|997045693|emb|CXS07153.1| peptidase M48 family protein [Staphylococcus aureus] >gi|997048123|emb|CXR90193.1| peptidase M48 family protein [Staphylococcus aureus] >gi|997051006|emb|CXS02632.1| peptidase M48 family protein [Staphylococcus aureus] >gi|997053677|emb|CXS04369.1| peptidase M48 family protein [Staphylococcus aureus] >gi|997056188|emb|CXS25754.1| peptidase M48 family protein [Staphylococcus aureus] >gi|997059051|emb|CXR87329.1| peptidase M48 family protein [Staphylococcus aureus] >gi|997061945|emb|CXS01947.1| peptidase M48 family protein [Staphylococcus aureus] >gi|997064217|emb|CXR96948.1| peptidase M48 family protein [Staphylococcus aureus] >gi|997066403|emb|CXS38623.1| peptidase M48 family protein [Staphylococcus aureus] >gi|997069413|emb|CXS00177.1| peptidase M48 family protein [Staphylococcus aureus] >gi|997072319|emb|CXS16397.1| peptidase M48 family protein [Staphylococcus aureus] >gi|997074986|emb|CXS14262.1| peptidase M48 family protein [Staphylococcus aureus] >gi|997077114|emb|CXS41696.1| peptidase M48 family protein [Staphylococcus aureus] >gi|997081156|emb|CXR66974.1| peptidase M48 family protein [Staphylococcus aureus] >gi|997088809|emb|CXS36132.1| peptidase M48 family protein [Staphylococcus aureus] >gi|997091278|emb|CXS50736.1| peptidase M48 family protein [Staphylococcus aureus] >gi|997093875|emb|CXS32020.1| peptidase M48 family protein [Staphylococcus aureus] >gi|997097067|emb|CXS17483.1| peptidase M48 family protein [Staphylococcus aureus] >gi|997099572|emb|CXS46036.1| peptidase M48 family protein [Staphylococcus aureus] >gi|997104764|emb|CXS58225.1| peptidase M48 family protein [Staphylococcus aureus] >gi|997107664|emb|CXS32629.1| peptidase M48 family protein [Staphylococcus aureus] >gi|997110106|emb|CXS46224.1| peptidase M48 family protein [Staphylococcus aureus] >gi|997114057|emb|CXS83493.1| peptidase M48 family protein [Staphylococcus aureus] >gi|997118130|emb|CXS51210.1| peptidase M48 family protein [Staphylococcus aureus] >gi|997121284|emb|CXS61511.1| peptidase M48 family protein [Staphylococcus aureus] >gi|997123460|emb|CXS56709.1| peptidase M48 family protein [Staphylococcus aureus] >gi|997126432|emb|CXS51857.1| peptidase M48 family protein [Staphylococcus aureus] >gi|997129523|emb|CXS40538.1| peptidase M48 family protein [Staphylococcus aureus] >gi|997131952|emb|CXS53586.1| peptidase M48 family protein [Staphylococcus aureus] >gi|997134539|emb|CXS53548.1| peptidase M48 family protein [Staphylococcus aureus] >gi|997137289|emb|CXS74257.1| peptidase M48 family protein [Staphylococcus aureus] >gi|997140030|emb|CXS71071.1| peptidase M48 family protein [Staphylococcus aureus] >gi|997145468|emb|CXS67221.1| peptidase M48 family protein [Staphylococcus aureus] >gi|997147522|emb|CXS92199.1| peptidase M48 family protein [Staphylococcus aureus] >gi|997150780|emb|CXS93810.1| peptidase M48 family protein [Staphylococcus aureus] >gi|997153071|emb|CXT08488.1| peptidase M48 family protein [Staphylococcus aureus] >gi|997158985|emb|CXT13459.1| peptidase M48 family protein [Staphylococcus aureus] >gi|997161606|emb|CXT47233.1| peptidase M48 family protein [Staphylococcus aureus] >gi|997166920|emb|CXT21799.1| peptidase M48 family protein [Staphylococcus aureus] >gi|997178085|emb|CXT63613.1| peptidase M48 family protein [Staphylococcus aureus] >gi|997180706|emb|CXT37697.1| peptidase M48 family protein [Staphylococcus aureus] >gi|997183431|emb|CXT76715.1| peptidase M48 family protein [Staphylococcus aureus] >gi|997189086|emb|CXT72437.1| peptidase M48 family protein [Staphylococcus aureus] >gi|997194304|emb|CXT88373.1| peptidase M48 family protein [Staphylococcus aureus] >gi|997200013|emb|CXT71752.1| peptidase M48 family protein [Staphylococcus aureus] >gi|997202668|emb|CXT49023.1| peptidase M48 family protein [Staphylococcus aureus] >gi|997206176|emb|CXT24464.1| peptidase M48 family protein [Staphylococcus aureus] >gi|997208028|emb|CXT82466.1| peptidase M48 family protein [Staphylococcus aureus] >gi|997210813|emb|CXT81633.1| peptidase M48 family protein [Staphylococcus aureus] >gi|997213283|emb|CXU18220.1| peptidase M48 family protein [Staphylococcus aureus] >gi|997215813|emb|CXU06509.1| peptidase M48 family protein [Staphylococcus aureus] >gi|997218852|emb|CXT66905.1| peptidase M48 family protein [Staphylococcus aureus] >gi|997221435|emb|CXT76593.1| peptidase M48 family protein [Staphylococcus aureus] >gi|997224199|emb|CXU05411.1| peptidase M48 family protein [Staphylococcus aureus] >gi|997226764|emb|CXT97354.1| peptidase M48 family protein [Staphylococcus aureus] >gi|997229595|emb|CXU26053.1| peptidase M48 family protein [Staphylococcus aureus] >gi|997234795|emb|CXU37130.1| peptidase M48 family protein [Staphylococcus aureus] >gi|997237478|emb|CXU14161.1| peptidase M48 family protein [Staphylococcus aureus] >gi|997240472|emb|CXU35918.1| peptidase M48 family protein [Staphylococcus aureus] >gi|997245818|emb|CXU60134.1| peptidase M48 family protein [Staphylococcus aureus] >gi|997248595|emb|CXU48780.1| peptidase M48 family protein [Staphylococcus aureus] >gi|997251134|emb|CXU64356.1| peptidase M48 family protein [Staphylococcus aureus] >gi|997253975|emb|CXU54340.1| peptidase M48 family protein [Staphylococcus aureus] >gi|997260275|emb|CXU35661.1| peptidase M48 family protein [Staphylococcus aureus] >gi|997262249|emb|CXU50666.1| peptidase M48 family protein [Staphylococcus aureus] >gi|997264649|emb|CXU69179.1| peptidase M48 family protein [Staphylococcus aureus] >gi|997268016|emb|CXU53129.1| peptidase M48 family protein [Staphylococcus aureus] >gi|997269902|emb|CXU64963.1| peptidase M48 family protein [Staphylococcus aureus] >gi|997272603|emb|CXU65993.1| peptidase M48 family protein [Staphylococcus aureus] >gi|997275292|emb|CXU73294.1| peptidase M48 family protein [Staphylococcus aureus] >gi|997280833|emb|CXU94238.1| peptidase M48 family protein [Staphylococcus aureus] >gi|997286158|emb|CXV00345.1| peptidase M48 family protein [Staphylococcus aureus] >gi|997288729|emb|CXU86646.1| peptidase M48 family protein [Staphylococcus aureus] >gi|997302137|emb|CXU96839.1| peptidase M48 family protein [Staphylococcus aureus] >gi|997304789|emb|CXU99738.1| peptidase M48 family protein [Staphylococcus aureus] >gi|997307966|emb|CXV05483.1| peptidase M48 family protein [Staphylococcus aureus] >gi|997313320|emb|CXV60879.1| peptidase M48 family protein [Staphylococcus aureus] >gi|997316054|emb|CXV33907.1| peptidase M48 family protein [Staphylococcus aureus] >gi|997321267|emb|CXV88557.1| peptidase M48 family protein [Staphylococcus aureus] >gi|997323961|emb|CXV71469.1| peptidase M48 family protein [Staphylococcus aureus] >gi|997328124|emb|CXV28588.1| peptidase M48 family protein [Staphylococcus aureus] >gi|997335423|emb|CXV78853.1| peptidase M48 family protein [Staphylococcus aureus] >gi|997337710|emb|CXV96049.1| peptidase M48 family protein [Staphylococcus aureus] >gi|997340181|emb|CXV78586.1| peptidase M48 family protein [Staphylococcus aureus] >gi|997343122|emb|CXW15961.1| peptidase M48 family protein [Staphylococcus aureus] >gi|997345827|emb|CXW20245.1| peptidase M48 family protein [Staphylococcus aureus] >gi|997351433|emb|CXV80795.1| peptidase M48 family protein [Staphylococcus aureus] >gi|997353691|emb|CXV92222.1| peptidase M48 family protein [Staphylococcus aureus] >gi|997356294|emb|CXW21672.1| peptidase M48 family protein [Staphylococcus aureus] >gi|997360401|emb|CXV63423.1| peptidase M48 family protein [Staphylococcus aureus] >gi|997361761|emb|CXW18912.1| peptidase M48 family protein [Staphylococcus aureus] >gi|997364843|emb|CXW04038.1| peptidase M48 family protein [Staphylococcus aureus] >gi|997367413|emb|CXV81059.1| peptidase M48 family protein [Staphylococcus aureus] >gi|997370001|emb|CXV86191.1| peptidase M48 family protein [Staphylococcus aureus] >gi|997372814|emb|CXW14554.1| peptidase M48 family protein [Staphylococcus aureus] >gi|997375237|emb|CXW20816.1| peptidase M48 family protein [Staphylococcus aureus] >gi|997377878|emb|CXW21624.1| peptidase M48 family protein [Staphylococcus aureus] >gi|997381643|emb|CXV70008.1| peptidase M48 family protein [Staphylococcus aureus] >gi|997383308|emb|CXW08969.1| peptidase M48 family protein [Staphylococcus aureus] >gi|997386139|emb|CXW23294.1| peptidase M48 family protein [Staphylococcus aureus] >gi|997388531|emb|CXW41556.1| peptidase M48 family protein [Staphylococcus aureus] >gi|997390980|emb|CXW36217.1| peptidase M48 family protein [Staphylococcus aureus] >gi|997393494|emb|CXW48548.1| peptidase M48 family protein [Staphylococcus aureus] >gi|997396796|emb|CXW36497.1| peptidase M48 family protein [Staphylococcus aureus] >gi|997399428|emb|CXW36428.1| peptidase M48 family protein [Staphylococcus aureus] >gi|997402028|emb|CXW16067.1| peptidase M48 family protein [Staphylococcus aureus] >gi|997404732|emb|CXW42383.1| peptidase M48 family protein [Staphylococcus aureus] >gi|997406795|emb|CXW40138.1| peptidase M48 family protein [Staphylococcus aureus] >gi|997410145|emb|CXW24719.1| peptidase M48 family protein [Staphylococcus aureus] >gi|997423858|emb|CXW87601.1| peptidase M48 family protein [Staphylococcus aureus] >gi|997426295|emb|CXX01284.1| peptidase M48 family protein [Staphylococcus aureus] >gi|997431957|emb|CXX00573.1| peptidase M48 family protein [Staphylococcus aureus] >gi|997434253|emb|CXW86907.1| peptidase M48 family protein [Staphylococcus aureus] >gi|997437255|emb|CXX05091.1| peptidase M48 family protein [Staphylococcus aureus] >gi|997439461|emb|CXX45415.1| peptidase M48 family protein [Staphylococcus aureus] >gi|997442503|emb|CXW79783.1| peptidase M48 family protein [Staphylococcus aureus] >gi|997447743|emb|CXX24284.1| peptidase M48 family protein [Staphylococcus aureus] >gi|997450557|emb|CXW97908.1| peptidase M48 family protein [Staphylococcus aureus] >gi|997453364|emb|CXX33768.1| peptidase M48 family protein [Staphylococcus aureus] >gi|997456104|emb|CXX58209.1| peptidase M48 family protein [Staphylococcus aureus] >gi|997458863|emb|CXX18476.1| peptidase M48 family protein [Staphylococcus aureus] >gi|997461309|emb|CXX66749.1| peptidase M48 family protein [Staphylococcus aureus] >gi|997464140|emb|CXX21681.1| peptidase M48 family protein [Staphylococcus aureus] >gi|997469590|emb|CXX26119.1| peptidase M48 family protein [Staphylococcus aureus] >gi|997472399|emb|CXX66665.1| peptidase M48 family protein [Staphylococcus aureus] >gi|997478741|emb|CXX12264.1| peptidase M48 family protein [Staphylococcus aureus] >gi|997480714|emb|CXX58796.1| peptidase M48 family protein [Staphylococcus aureus] >gi|997482844|emb|CXX51170.1| peptidase M48 family protein [Staphylococcus aureus] >gi|997486088|emb|CXX34192.1| peptidase M48 family protein [Staphylococcus aureus] >gi|997491307|emb|CXX50259.1| peptidase M48 family protein [Staphylococcus aureus] >gi|997496719|emb|CXX55545.1| peptidase M48 family protein [Staphylococcus aureus] >gi|997499661|emb|CXX53787.1| peptidase M48 family protein [Staphylococcus aureus] >gi|997502336|emb|CXX56367.1| peptidase M48 family protein [Staphylococcus aureus] >gi|997504954|emb|CXX61754.1| peptidase M48 family protein [Staphylococcus aureus] >gi|997508999|emb|CXX12995.1| peptidase M48 family protein [Staphylococcus aureus] >gi|997513272|emb|CXX93663.1| peptidase M48 family protein [Staphylococcus aureus] >gi|997516747|emb|CXX53526.1| peptidase M48 family protein [Staphylococcus aureus] >gi|997518277|emb|CXY16924.1| peptidase M48 family protein [Staphylococcus aureus] >gi|997521364|emb|CXY21509.1| peptidase M48 family protein [Staphylococcus aureus] >gi|997523709|emb|CXY37781.1| peptidase M48 family protein [Staphylococcus aureus] >gi|997529323|emb|CXY42049.1| peptidase M48 family protein [Staphylococcus aureus] >gi|997534714|emb|CXY53271.1| peptidase M48 family protein [Staphylococcus aureus] >gi|997537143|emb|CXY43559.1| peptidase M48 family protein [Staphylococcus aureus] >gi|997539910|emb|CXY42853.1| peptidase M48 family protein [Staphylococcus aureus] >gi|997542327|emb|CXY55033.1| peptidase M48 family protein [Staphylococcus aureus] >gi|997545051|emb|CXY56185.1| peptidase M48 family protein [Staphylococcus aureus] >gi|997548450|emb|CXY31269.1| peptidase M48 family protein [Staphylococcus aureus] >gi|997550949|emb|CXY61348.1| peptidase M48 family protein [Staphylococcus aureus] >gi|997553640|emb|CXY53259.1| peptidase M48 family protein [Staphylococcus aureus] >gi|997555875|emb|CXY78365.1| peptidase M48 family protein [Staphylococcus aureus] >gi|997558422|emb|CXY87242.1| peptidase M48 family protein [Staphylococcus aureus] >gi|997561405|emb|CXY54077.1| peptidase M48 family protein [Staphylococcus aureus] >gi|997564179|emb|CXY52139.1| peptidase M48 family protein [Staphylococcus aureus] >gi|997566693|emb|CXY62320.1| peptidase M48 family protein [Staphylococcus aureus] >gi|997572037|emb|CXY71674.1| peptidase M48 family protein [Staphylococcus aureus] >gi|997584309|emb|CXY35889.1| peptidase M48 family protein [Staphylococcus aureus] >gi|997585199|emb|CXZ08454.1| peptidase M48 family protein [Staphylococcus aureus] >gi|997594194|emb|CXY79894.1| peptidase M48 family protein [Staphylococcus aureus] >gi|997597000|emb|CXY76996.1| peptidase M48 family protein [Staphylococcus aureus] >gi|997598949|emb|CXY96950.1| peptidase M48 family protein [Staphylococcus aureus] >gi|997605030|emb|CXZ39186.1| peptidase M48 family protein [Staphylococcus aureus] >gi|997607329|emb|CXZ44593.1| peptidase M48 family protein [Staphylococcus aureus] >gi|997611163|emb|CXZ08986.1| peptidase M48 family protein [Staphylococcus aureus] >gi|997612633|emb|CXZ84249.1| peptidase M48 family protein [Staphylococcus aureus] >gi|997615105|emb|CYA06342.1| peptidase M48 family protein [Staphylococcus aureus] >gi|997618104|emb|CYA04560.1| peptidase M48 family protein [Staphylococcus aureus] >gi|997621010|emb|CXZ82834.1| peptidase M48 family protein [Staphylococcus aureus] >gi|997623972|emb|CXZ81170.1| peptidase M48 family protein [Staphylococcus aureus] >gi|997626398|emb|CXZ92884.1| peptidase M48 family protein [Staphylococcus aureus] >gi|997629321|emb|CXZ54047.1| peptidase M48 family protein [Staphylococcus aureus] >gi|997632209|emb|CXZ46473.1| peptidase M48 family protein [Staphylococcus aureus] >gi|997634560|emb|CXZ91746.1| peptidase M48 family protein [Staphylococcus aureus] >gi|997637234|emb|CXZ70917.1| peptidase M48 family protein [Staphylococcus aureus] >gi|997642777|emb|CXZ61351.1| peptidase M48 family protein [Staphylococcus aureus] >gi|997645417|emb|CXZ96881.1| peptidase M48 family protein [Staphylococcus aureus] >gi|997648122|emb|CXZ75539.1| peptidase M48 family protein [Staphylococcus aureus] >gi|997650646|emb|CYA08834.1| peptidase M48 family protein [Staphylococcus aureus] >gi|997655798|emb|CYA30039.1| peptidase M48 family protein [Staphylococcus aureus] >gi|997658302|emb|CYA36563.1| peptidase M48 family protein [Staphylococcus aureus] >gi|997661839|emb|CXZ69570.1| peptidase M48 family protein [Staphylococcus aureus] >gi|997664072|emb|CYA24655.1| peptidase M48 family protein [Staphylococcus aureus] >gi|997672750|emb|CYA16606.1| peptidase M48 family protein [Staphylococcus aureus] >gi|997674970|emb|CYA13077.1| peptidase M48 family protein [Staphylococcus aureus] >gi|997677915|emb|CYA27097.1| peptidase M48 family protein [Staphylococcus aureus] >gi|997680317|emb|CYA09381.1| peptidase M48 family protein [Staphylococcus aureus] >gi|997682624|emb|CYA47642.1| peptidase M48 family protein [Staphylococcus aureus] >gi|997688037|emb|CYA25910.1| peptidase M48 family protein [Staphylococcus aureus] >gi|997691233|emb|CYA16702.1| peptidase M48 family protein [Staphylococcus aureus] >gi|997693446|emb|CYA32474.1| peptidase M48 family protein [Staphylococcus aureus] >gi|997698933|emb|CYA31114.1| peptidase M48 family protein [Staphylococcus aureus] >gi|997705250|emb|CYA28673.1| peptidase M48 family protein [Staphylococcus aureus] >gi|997707549|emb|CYA48548.1| peptidase M48 family protein [Staphylococcus aureus] >gi|997709763|emb|CYA93442.1| peptidase M48 family protein [Staphylococcus aureus] >gi|997713103|emb|CYA73476.1| peptidase M48 family protein [Staphylococcus aureus] >gi|997715484|emb|CYA97577.1| peptidase M48 family protein [Staphylococcus aureus] >gi|997718569|emb|CYA74903.1| peptidase M48 family protein [Staphylococcus aureus] >gi|997721232|emb|CYA72709.1| peptidase M48 family protein [Staphylococcus aureus] >gi|997723966|emb|CYA59485.1| peptidase M48 family protein [Staphylococcus aureus] >gi|997729133|emb|CYB04270.1| peptidase M48 family protein [Staphylococcus aureus] >gi|997731342|emb|CYB33557.1| peptidase M48 family protein [Staphylococcus aureus] >gi|997734648|emb|CYA79468.1| peptidase M48 family protein [Staphylococcus aureus] >gi|997737439|emb|CYB12160.1| peptidase M48 family protein [Staphylococcus aureus] >gi|997739978|emb|CYB25696.1| peptidase M48 family protein [Staphylococcus aureus] >gi|997742684|emb|CYA95201.1| peptidase M48 family protein [Staphylococcus aureus] >gi|997745356|emb|CYB34059.1| peptidase M48 family protein [Staphylococcus aureus] >gi|997748016|emb|CYB03085.1| peptidase M48 family protein [Staphylococcus aureus] >gi|997750294|emb|CYB60141.1| peptidase M48 family protein [Staphylococcus aureus] >gi|997753002|emb|CYB58653.1| peptidase M48 family protein [Staphylococcus aureus] >gi|997758919|emb|CYB38469.1| peptidase M48 family protein [Staphylococcus aureus] >gi|997762619|emb|CYA75375.1| peptidase M48 family protein [Staphylococcus aureus] >gi|997764212|emb|CYB46136.1| peptidase M48 family protein [Staphylococcus aureus] >gi|997767133|emb|CYB11382.1| peptidase M48 family protein [Staphylococcus aureus] >gi|997769116|emb|CYB68746.1| peptidase M48 family protein [Staphylococcus aureus] >gi|997772229|emb|CYB26537.1| peptidase M48 family protein [Staphylococcus aureus] >gi|997775010|emb|CYB28349.1| peptidase M48 family protein [Staphylococcus aureus] >gi|997779380|emb|CYA69209.1| peptidase M48 family protein [Staphylococcus aureus] >gi|997783039|emb|CYB64306.1| peptidase M48 family protein [Staphylococcus aureus] >gi|997787290|emb|CYA68433.1| peptidase M48 family protein [Staphylococcus aureus] >gi|997788785|emb|CYB56056.1| peptidase M48 family protein [Staphylococcus aureus] >gi|997791154|emb|CYB74428.1| peptidase M48 family protein [Staphylococcus aureus] >gi|997794138|emb|CYB52342.1| peptidase M48 family protein [Staphylococcus aureus] >gi|997798605|emb|CYB25204.1| peptidase M48 family protein [Staphylococcus aureus] >gi|997799485|emb|CYC08653.1| peptidase M48 family protein [Staphylococcus aureus] >gi|997802717|emb|CYB67581.1| peptidase M48 family protein [Staphylococcus aureus] >gi|997813469|emb|CYB50841.1| peptidase M48 family protein [Staphylococcus aureus] >gi|997815630|emb|CYC01721.1| peptidase M48 family protein [Staphylococcus aureus] >gi|997822088|emb|CYB98420.1| peptidase M48 family protein [Staphylococcus aureus] >gi|997825079|emb|CYB72514.1| peptidase M48 family protein [Staphylococcus aureus] >gi|997826509|emb|CYC23426.1| peptidase M48 family protein [Staphylococcus aureus] >gi|997830216|emb|CYB91019.1| peptidase M48 family protein [Staphylococcus aureus] >gi|997833735|emb|CYB83714.1| peptidase M48 family protein [Staphylococcus aureus] >gi|997835092|emb|CYC40501.1| peptidase M48 family protein [Staphylococcus aureus] >gi|997837650|emb|CYC49205.1| peptidase M48 family protein [Staphylococcus aureus] >gi|997841373|emb|CYB96028.1| peptidase M48 family protein [Staphylococcus aureus] >gi|997844327|emb|CYC07852.1| peptidase M48 family protein [Staphylococcus aureus] >gi|997847109|emb|CYC05585.1| peptidase M48 family protein [Staphylococcus aureus] >gi|997849526|emb|CYC21822.1| peptidase M48 family protein [Staphylococcus aureus] >gi|997852215|emb|CYC18944.1| peptidase M48 family protein [Staphylococcus aureus] >gi|997854837|emb|CYC09246.1| peptidase M48 family protein [Staphylococcus aureus] >gi|997856261|emb|CYC57576.1| peptidase M48 family protein [Staphylococcus aureus] >gi|997858898|emb|CYC89357.1| peptidase M48 family protein [Staphylococcus aureus] >gi|997862760|emb|CYC35368.1| peptidase M48 family protein [Staphylococcus aureus] >gi|997865304|emb|CYC45555.1| peptidase M48 family protein [Staphylococcus aureus] >gi|997868382|emb|CYC28891.1| peptidase M48 family protein [Staphylococcus aureus] >gi|997873658|emb|CYC33053.1| peptidase M48 family protein [Staphylococcus aureus] >gi|997878884|emb|CYC68319.1| peptidase M48 family protein [Staphylococcus aureus] >gi|997882204|emb|CYC28153.1| peptidase M48 family protein [Staphylococcus aureus] >gi|997884111|emb|CYC67138.1| peptidase M48 family protein [Staphylococcus aureus] >gi|997886397|emb|CYC87866.1| peptidase M48 family protein [Staphylococcus aureus] >gi|997889248|emb|CYD08287.1| peptidase M48 family protein [Staphylococcus aureus] >gi|997893373|emb|CYC44903.1| peptidase M48 family protein [Staphylococcus aureus] >gi|997896935|emb|CYD31898.1| peptidase M48 family protein [Staphylococcus aureus] >gi|997900146|emb|CYD09715.1| peptidase M48 family protein [Staphylococcus aureus] >gi|997903463|emb|CYC77152.1| peptidase M48 family protein [Staphylococcus aureus] >gi|997905452|emb|CYD20276.1| peptidase M48 family protein [Staphylococcus aureus] >gi|997908120|emb|CYD55591.1| peptidase M48 family protein [Staphylococcus aureus] >gi|997911036|emb|CYD08568.1| peptidase M48 family protein [Staphylococcus aureus] >gi|997913284|emb|CYD46981.1| peptidase M48 family protein [Staphylococcus aureus] >gi|997917937|emb|CYC82039.1| peptidase M48 family protein [Staphylococcus aureus] >gi|997918751|emb|CYD36862.1| peptidase M48 family protein [Staphylococcus aureus] >gi|997921579|emb|CYD34157.1| peptidase M48 family protein [Staphylococcus aureus] >gi|997924049|emb|CYD37625.1| peptidase M48 family protein [Staphylococcus aureus] >gi|997926981|emb|CYD45009.1| peptidase M48 family protein [Staphylococcus aureus] >gi|997932257|emb|CYD41422.1| peptidase M48 family protein [Staphylococcus aureus] >gi|997934673|emb|CYD52675.1| peptidase M48 family protein [Staphylococcus aureus] >gi|997937543|emb|CYD76636.1| peptidase M48 family protein [Staphylococcus aureus] >gi|997940502|emb|CYD90976.1| peptidase M48 family protein [Staphylococcus aureus] >gi|997942815|emb|CYD78324.1| peptidase M48 family protein [Staphylococcus aureus] >gi|997948667|emb|CYD73594.1| peptidase M48 family protein [Staphylococcus aureus] >gi|997951007|emb|CYD78972.1| peptidase M48 family protein [Staphylococcus aureus] >gi|997953257|emb|CYE15060.1| peptidase M48 family protein [Staphylococcus aureus] >gi|997956447|emb|CYD69638.1| peptidase M48 family protein [Staphylococcus aureus] >gi|997959230|emb|CYD79295.1| peptidase M48 family protein [Staphylococcus aureus] >gi|997962148|emb|CYD99636.1| peptidase M48 family protein [Staphylococcus aureus] >gi|997966976|emb|CYE14731.1| peptidase M48 family protein [Staphylococcus aureus] >gi|997969983|emb|CYD76491.1| peptidase M48 family protein [Staphylococcus aureus] >gi|997973792|emb|CYD69779.1| peptidase M48 family protein [Staphylococcus aureus] >gi|997975213|emb|CYE13797.1| peptidase M48 family protein [Staphylococcus aureus] >gi|997978085|emb|CYE38754.1| peptidase M48 family protein [Staphylococcus aureus] >gi|997980811|emb|CYE36008.1| peptidase M48 family protein [Staphylococcus aureus] >gi|997983392|emb|CYE40814.1| peptidase M48 family protein [Staphylococcus aureus] >gi|997986331|emb|CYE15408.1| peptidase M48 family protein [Staphylococcus aureus] >gi|997991678|emb|CYE45015.1| peptidase M48 family protein [Staphylococcus aureus] >gi|997994261|emb|CYE55401.1| peptidase M48 family protein [Staphylococcus aureus] >gi|998000179|emb|CYE48196.1| peptidase M48 family protein [Staphylococcus aureus] >gi|998002828|emb|CYE54758.1| peptidase M48 family protein [Staphylococcus aureus] >gi|998005536|emb|CYE35583.1| peptidase M48 family protein [Staphylococcus aureus] >gi|998008436|emb|CYE32801.1| peptidase M48 family protein [Staphylococcus aureus] >gi|998010878|emb|CYE68266.1| peptidase M48 family protein [Staphylococcus aureus] >gi|998016118|emb|CYE65186.1| peptidase M48 family protein [Staphylococcus aureus] >gi|998018856|emb|CYE60922.1| peptidase M48 family protein [Staphylococcus aureus] >gi|998022539|emb|CYE48814.1| peptidase M48 family protein [Staphylococcus aureus] >gi|998024374|emb|CYE67514.1| peptidase M48 family protein [Staphylococcus aureus] >gi|998027134|emb|CYE79575.1| peptidase M48 family protein [Staphylococcus aureus] >gi|998029649|emb|CYE97618.1| peptidase M48 family protein [Staphylococcus aureus] >gi|998032524|emb|CYE85133.1| peptidase M48 family protein [Staphylococcus aureus] >gi|998035736|emb|CYE71935.1| peptidase M48 family protein [Staphylococcus aureus] >gi|998038144|emb|CYE84618.1| peptidase M48 family protein [Staphylococcus aureus] >gi|998039993|emb|CYF05642.1| peptidase M48 family protein [Staphylococcus aureus] >gi|998042825|emb|CYF03669.1| peptidase M48 family protein [Staphylococcus aureus] >gi|998045604|emb|CYF08715.1| peptidase M48 family protein [Staphylococcus aureus] >gi|998048650|emb|CYE97371.1| peptidase M48 family protein [Staphylococcus aureus] >gi|998051214|emb|CYF00943.1| peptidase M48 family protein [Staphylococcus aureus] >gi|998053934|emb|CYF15851.1| peptidase M48 family protein [Staphylococcus aureus] >gi|998056556|emb|CYF50662.1| peptidase M48 family protein [Staphylococcus aureus] >gi|998059615|emb|CYF17332.1| peptidase M48 family protein [Staphylococcus aureus] >gi|998061848|emb|CYF62748.1| peptidase M48 family protein [Staphylococcus aureus] >gi|998064266|emb|CYF88173.1| peptidase M48 family protein [Staphylococcus aureus] >gi|998066677|emb|CYF98680.1| peptidase M48 family protein [Staphylococcus aureus] >gi|998069991|emb|CYF88187.1| peptidase M48 family protein [Staphylococcus aureus] >gi|998073004|emb|CYF79945.1| peptidase M48 family protein [Staphylococcus aureus] >gi|998079144|emb|CYF37448.1| peptidase M48 family protein [Staphylococcus aureus] >gi|998081165|emb|CYF59738.1| peptidase M48 family protein [Staphylococcus aureus] >gi|998084332|emb|CYF43228.1| peptidase M48 family protein [Staphylococcus aureus] >gi|998087189|emb|CYF60940.1| peptidase M48 family protein [Staphylococcus aureus] >gi|998088603|emb|CYG13866.1| peptidase M48 family protein [Staphylococcus aureus] >gi|998092080|emb|CYF68935.1| peptidase M48 family protein [Staphylococcus aureus] >gi|998097404|emb|CYG06778.1| peptidase M48 family protein [Staphylococcus aureus] >gi|998108256|emb|CYG03430.1| peptidase M48 family protein [Staphylococcus aureus] >gi|998112210|emb|CYF58571.1| peptidase M48 family protein [Staphylococcus aureus] >gi|998113398|emb|CYG19567.1| peptidase M48 family protein [Staphylococcus aureus] >gi|998116837|emb|CYF87931.1| peptidase M48 family protein [Staphylococcus aureus] >gi|998122973|emb|CYF83571.1| peptidase M48 family protein [Staphylococcus aureus] >gi|998124449|emb|CYG03748.1| peptidase M48 family protein [Staphylococcus aureus] >gi|998127351|emb|CYG15133.1| peptidase M48 family protein [Staphylococcus aureus] >gi|998135483|emb|CYG20308.1| peptidase M48 family protein [Staphylococcus aureus] >gi|998138647|emb|CYG15828.1| peptidase M48 family protein [Staphylococcus aureus] >gi|998142161|emb|CYF94293.1| peptidase M48 family protein [Staphylococcus aureus] >gi|998143846|emb|CYG16176.1| peptidase M48 family protein [Staphylococcus aureus] >gi|998145647|emb|CYG39302.1| peptidase M48 family protein [Staphylococcus aureus] >gi|998148685|emb|CYG31828.1| peptidase M48 family protein [Staphylococcus aureus] >gi|998291224|emb|CZE43892.1| peptidase M48 family protein [Staphylococcus aureus] >gi|1003111675|gb|AMO15425.1| methicillin resistance protein [Staphylococcus aureus] >gi|1003114517|gb|AMO18266.1| Regulatory sensor-transducer, BlaR1/MecR1 family [Staphylococcus aureus] >gi|1004328376|gb|AMP35608.1| Regulatory sensor-transducer, BlaR1/MecR1 family [Staphylococcus epidermidis] >gi|1015658276|gb|AMW24634.1| methicillin resistance protein [Staphylococcus haemolyticus] >gi|1019986802|gb|KZK17658.1| methicillin resistance protein [Staphylococcus aureus] >gi|1023009664|gb|KZS35446.1| methicillin resistance protein [Staphylococcus aureus] >gi|1023012365|gb|KZS37990.1| methicillin resistance protein [Staphylococcus aureus] >gi|1025728568|gb|ANC58103.1| signal transducer protein MecR1 [Staphylococcus warneri] >gi|1026849186|gb|OAF04415.1| methicillin resistance protein [Staphylococcus argenteus] >gi|1027082118|gb|OAF72603.1| methicillin resistance protein [Staphylococcus aureus] >gi|1028915525|dbj|BAV01379.1| truncated signal transducer protein MecR1 [Staphylococcus aureus] >gi|1029361583|emb|SAZ60739.1| peptidase M48 family protein [Staphylococcus aureus] >gi|1029403972|emb|SBD30537.1| peptidase M48 family protein [Staphylococcus aureus] >gi|1029463262|emb|SBD28977.1| peptidase M48 family protein [Staphylococcus aureus] >gi|1029519376|emb|SAZ07394.1| peptidase M48 family protein [Staphylococcus aureus] >gi|1029525621|emb|SAO89056.1| peptidase M48 family protein [Staphylococcus aureus] >gi|1029532563|emb|SAZ12650.1| peptidase M48 family protein [Staphylococcus aureus] >gi|1029562061|emb|SAP00796.1| peptidase M48 family protein [Staphylococcus aureus] >gi|1029566815|emb|SBE03587.1| peptidase M48 family protein [Staphylococcus aureus] >gi|1029577613|emb|SAN38708.1| peptidase M48 family protein [Staphylococcus aureus] >gi|1029589484|emb|SAO40879.1| peptidase M48 family protein [Staphylococcus aureus] >gi|1029686938|emb|SBC05728.1| peptidase M48 family protein [Staphylococcus aureus] >gi|1029742403|emb|SAZ73464.1| peptidase M48 family protein [Staphylococcus aureus] >gi|1034748306|gb|OAW01413.1| methicillin resistance protein [Staphylococcus epidermidis] >gi|1034749782|gb|OAW02844.1| methicillin resistance protein [Staphylococcus epidermidis] >gi|1034754455|gb|OAW07379.1| methicillin resistance protein [Staphylococcus epidermidis] >gi|1034755762|gb|OAW08638.1| methicillin resistance protein [Staphylococcus epidermidis] >gi|1034759862|gb|OAW12641.1| methicillin resistance protein [Staphylococcus epidermidis] >gi|1034761971|gb|OAW14693.1| methicillin resistance protein [Staphylococcus epidermidis] >gi|1034762948|gb|OAW15831.1| methicillin resistance protein [Staphylococcus epidermidis] >gi|1034766888|gb|OAW19452.1| methicillin resistance protein [Staphylococcus epidermidis] >gi|1035306421|gb|OAX08732.1| methicillin resistance protein [Staphylococcus epidermidis] >gi|1035309240|gb|OAX11403.1| methicillin resistance protein [Staphylococcus epidermidis] >gi|1035310000|gb|OAX12130.1| methicillin resistance protein [Staphylococcus epidermidis] >gi|1035315790|gb|OAX17673.1| methicillin resistance protein [Staphylococcus epidermidis] >gi|1035322920|gb|OAX24516.1| methicillin resistance protein [Staphylococcus epidermidis] >gi|1035327761|gb|OAX29140.1| methicillin resistance protein [Staphylococcus epidermidis] >gi|1042011893|gb|OBY00033.1| methicillin resistance protein [Staphylococcus aureus subsp. aureus] >gi|1042012012|gb|OBY00146.1| methicillin resistance protein [Staphylococcus aureus subsp. aureus] >gi|1043262029|gb|OBZ50969.1| methicillin resistance protein [Staphylococcus epidermidis] >gi|1045928287|gb|OCI09972.1| methicillin resistance protein [Staphylococcus aureus] >gi|1061049012|gb|AOH62795.1| blaR1 peptidase M56 family protein [Staphylococcus aureus subsp. aureus] >gi|1061052256|gb|AOH66036.1| blaR1 peptidase M56 family protein [Staphylococcus aureus subsp. aureus] >gi|1061054082|gb|AOH67860.1| blaR1 peptidase M56 family protein [Staphylococcus aureus subsp. aureus] >gi|1069074942|gb|OEH28133.1| blaR1 peptidase M56 family protein [Staphylococcus aureus subsp. aureus] >gi|1069080621|gb|OEH33765.1| blaR1 peptidase M56 family protein [Staphylococcus aureus subsp. aureus] >gi|1072381617|emb|SCR22077.1| peptidase M48 family protein [Staphylococcus aureus] >gi|1072386208|emb|SCR89049.1| peptidase M48 family protein [Staphylococcus aureus] >gi|1072406803|emb|SCR26831.1| peptidase M48 family protein [Staphylococcus aureus] >gi|1072442768|emb|SCR31589.1| peptidase M48 family protein [Staphylococcus aureus] >gi|1072483260|emb|SCR57317.1| peptidase M48 family protein [Staphylococcus aureus] >gi|1072509747|emb|SCR74795.1| peptidase M48 family protein [Staphylococcus aureus] >gi|1072511480|emb|SCR72425.1| peptidase M48 family protein [Staphylococcus aureus] >gi|1072516784|emb|SCS79837.1| peptidase M48 family protein [Staphylococcus aureus] >gi|1072530474|emb|SCR38590.1| peptidase M48 family protein [Staphylococcus aureus] >gi|1072532242|emb|SCR93877.1| peptidase M48 family protein [Staphylococcus aureus] >gi|1072538234|emb|SCR42737.1| peptidase M48 family protein [Staphylococcus aureus] >gi|1072579920|emb|SCR37176.1| peptidase M48 family protein [Staphylococcus aureus] >gi|1072591308|emb|SCR37268.1| peptidase M48 family protein [Staphylococcus aureus] >gi|1072596315|emb|SCR64256.1| peptidase M48 family protein [Staphylococcus aureus] >gi|1072698337|emb|SCS25861.1| peptidase M48 family protein [Staphylococcus aureus] >gi|1072701100|emb|SCT09518.1| peptidase M48 family protein [Staphylococcus aureus] >gi|1072703883|emb|SCR75412.1| peptidase M48 family protein [Staphylococcus aureus] >gi|1072706681|emb|SCS41850.1| peptidase M48 family protein [Staphylococcus aureus] >gi|1072709526|emb|SCR80850.1| peptidase M48 family protein [Staphylococcus aureus] >gi|1072712400|emb|SCR75281.1| peptidase M48 family protein [Staphylococcus aureus] >gi|1072719630|emb|SCU14170.1| peptidase M48 family protein [Staphylococcus aureus] >gi|1078537416|gb|OFC58377.1| methicillin resistance protein [Staphylococcus aureus] >gi|1080162383|gb|OFJ60301.1| methicillin resistance protein [Staphylococcus sp. HMSC073C02] >gi|1080240058|gb|OFK34479.1| methicillin resistance protein [Staphylococcus sp. HMSC055H04] >gi|1080393635|gb|OFL80593.1| methicillin resistance protein [Staphylococcus sp. HMSC075A04] >gi|1080544471|gb|OFN24488.1| methicillin resistance protein [Staphylococcus sp. HMSC072H03] >gi|1080911987|gb|OFQ72935.1| methicillin resistance protein [Staphylococcus sp. HMSC073E10] >gi|1081107054|gb|OFS56638.1| methicillin resistance protein [Staphylococcus sp. HMSC034G11] >gi|1090904660|gb|OHO46844.1| methicillin resistance protein [Staphylococcus sp. HMSC035D11] >gi|1090937087|gb|OHO77031.1| methicillin resistance protein [Staphylococcus sp. HMSC055G07] >gi|1090971807|gb|OHP10334.1| methicillin resistance protein [Staphylococcus sp. HMSC058E12] >gi|1090987911|gb|OHP25630.1| methicillin resistance protein [Staphylococcus sp. HMSC060D12] >gi|1091105506|gb|OHQ37990.1| methicillin resistance protein [Staphylococcus sp. HMSC069E07] >gi|1091257430|gb|OHR81311.1| methicillin resistance protein [Staphylococcus sp. HMSC34D01] >gi|1091285595|gb|OHS07669.1| methicillin resistance protein [Staphylococcus sp. HMSC36D12] >gi|1091295347|gb|OHS16908.1| methicillin resistance protein [Staphylococcus sp. HMSC36G04] >gi|1091300459|gb|OHS21821.1| methicillin resistance protein [Staphylococcus sp. HMSC57A07] >gi|1091308102|gb|OHS29065.1| methicillin resistance protein [Staphylococcus sp. HMSC57B03] >gi|1091309630|gb|OHS30515.1| methicillin resistance protein [Staphylococcus sp. HMSC58A02] >gi|1091322422|gb|OHS42726.1| methicillin resistance protein [Staphylococcus sp. HMSC64F10] >gi|1091331347|gb|OHS51213.1| methicillin resistance protein [Staphylococcus sp. HMSC66A04] >gi|1091334045|gb|OHS53742.1| methicillin resistance protein [Staphylococcus sp. HMSC66C11] >gi|1091353554|gb|OHS72443.1| methicillin resistance protein [Staphylococcus sp. HMSC74D05] >gi|1092576026|gb|OHW14450.1| methicillin resistance protein [Staphylococcus aureus] >gi|1092577634|gb|OHW15991.1| methicillin resistance protein [Staphylococcus aureus] >gi|1092583120|gb|OHW21225.1| methicillin resistance protein [Staphylococcus aureus] >gi|1102949714|gb|APD03015.1| methicillin resistance protein [Staphylococcus aureus] >gi|1113685449|gb|OJZ43243.1| methicillin resistance protein [Staphylococcus aureus] >gi|1113692757|gb|OJZ50343.1| methicillin resistance protein [Staphylococcus aureus] >gi|1113694002|gb|OJZ51578.1| methicillin resistance protein [Staphylococcus aureus] >gi|1113695882|gb|OJZ53378.1| methicillin resistance protein [Staphylococcus aureus] >gi|1114651984|emb|SIM46511.1| Methicillin resistance mecR1 protein [Staphylococcus aureus subsp. aureus] >gi|1133373656|gb|APW49488.1| methicillin resistance protein [Staphylococcus aureus subsp. aureus] >gi|1134931885|gb|OMK04531.1| Regulatory sensor-transducer, BlaR1/MecR1 family [Staphylococcus aureus M1057] >gi|1141960838|gb|AQD19694.1| beta-lactam sensor/signal transducer MecR1 [Staphylococcus aureus] >gi|1147725428|gb|AQQ94375.1| methicillin resistance protein [Staphylococcus aureus] >gi|1147728372|gb|AQQ82640.1| methicillin resistance protein [Staphylococcus aureus] >gi|1147731302|gb|AQQ85567.1| methicillin resistance protein [Staphylococcus aureus] >gi|1147737177|gb|AQQ91436.1| methicillin resistance protein [Staphylococcus aureus] >gi|1147743066|gb|AQR00280.1| methicillin resistance protein [Staphylococcus aureus] >gi|1147746008|gb|AQR03219.1| methicillin resistance protein [Staphylococcus aureus] >gi|1147752331|gb|AQR06165.1| methicillin resistance protein [Staphylococcus aureus] >gi|1147755275|gb|AQR09104.1| methicillin resistance protein [Staphylococcus aureus] >gi|1147758219|gb|AQR12043.1| methicillin resistance protein [Staphylococcus aureus] >gi|1147761163|gb|AQR14982.1| methicillin resistance protein [Staphylococcus aureus] >gi|1147766983|gb|AQR20797.1| methicillin resistance protein [Staphylococcus aureus] >gi|1147769932|gb|AQR23743.1| methicillin resistance protein [Staphylococcus aureus] >gi|1147772921|gb|AQR26727.1| methicillin resistance protein [Staphylococcus aureus] >gi|1147775870|gb|AQR29673.1| methicillin resistance protein [Staphylococcus aureus] >gi|1147778819|gb|AQR32619.1| methicillin resistance protein [Staphylococcus aureus] >gi|1147781768|gb|AQR35565.1| methicillin resistance protein [Staphylococcus aureus] >gi|1147784717|gb|AQR38511.1| methicillin resistance protein [Staphylococcus aureus] >gi|1147790602|gb|AQR44390.1| methicillin resistance protein [Staphylococcus aureus] >gi|1147793541|gb|AQR47326.1| methicillin resistance protein [Staphylococcus aureus] >gi|1147796480|gb|AQR50262.1| methicillin resistance protein [Staphylococcus aureus] >gi|1149675375|gb|AQT24256.1| Regulatory sensor-transducer, BlaR1/MecR1 family [Staphylococcus aureus]\n",
      "gi|686242292|ref|WP_031833498.1| beta-lactam sensor/signal transducer MecR1 [Staphylococcus aureus] >gi|587296202|gb|EWV78585.1| methicillin resistance mecR1 protein [Staphylococcus aureus H32181] >gi|587526411|gb|EWY05980.1| methicillin resistance mecR1 protein [Staphylococcus aureus T39093] >gi|600179416|gb|EYK82273.1| methicillin resistance mecR1 protein [Staphylococcus aureus T86825]\n",
      "gi|686153537|ref|WP_031786005.1| beta-lactam sensor/signal transducer MecR1 [Staphylococcus aureus] >gi|587105093|gb|EWT89190.1| methicillin resistance mecR1 protein [Staphylococcus aureus F89073] >gi|587347482|gb|EWW29171.1| methicillin resistance mecR1 protein [Staphylococcus aureus W65910] >gi|600225721|gb|EYL27609.1| methicillin resistance mecR1 protein [Staphylococcus aureus F38211]\n",
      "gi|1006154862|ref|WP_061734249.1| methicillin resistance protein [Staphylococcus aureus] >gi|997283509|emb|CXU72991.1| peptidase M48 family protein [Staphylococcus aureus]\n",
      "gi|686372902|ref|WP_031896639.1| beta-lactam sensor/signal transducer MecR1 [Staphylococcus aureus] >gi|584619291|gb|EWH46914.1| methicillin resistance mecR1 protein [Staphylococcus aureus M16597] >gi|599671065|gb|EYF99359.1| methicillin resistance mecR1 protein [Staphylococcus aureus W85837] >gi|600164710|gb|EYK67728.1| methicillin resistance mecR1 protein [Staphylococcus aureus T66622]\n",
      "gi|1007098615|ref|WP_061843744.1| methicillin resistance protein [Staphylococcus aureus] >gi|996493927|emb|CXL64247.1| peptidase M48 family protein [Staphylococcus aureus]\n",
      "gi|686294529|ref|WP_031862944.1| beta-lactam sensor/signal transducer MecR1 [Staphylococcus aureus] >gi|584743177|gb|EWI69892.1| methicillin resistance mecR1 protein [Staphylococcus aureus T57397] >gi|599694249|gb|EYG21950.1| methicillin resistance mecR1 protein [Staphylococcus aureus H15899] >gi|599991670|gb|EYI99503.1| methicillin resistance mecR1 protein [Staphylococcus aureus W53395] >gi|600354970|gb|EYM52175.1| methicillin resistance mecR1 protein [Staphylococcus aureus W82228]\n",
      "gi|1151327495|ref|WP_078097495.1| methicillin resistance protein, partial [Staphylococcus aureus] >gi|599656308|gb|EYF85142.1| methicillin resistance mecR1 protein, partial [Staphylococcus aureus T16619] >gi|599995600|gb|EYJ03161.1| methicillin resistance mecR1 protein, partial [Staphylococcus aureus M32567]\n",
      "gi|1035786133|ref|WP_064593738.1| methicillin resistance protein [Staphylococcus epidermidis] >gi|1034748786|gb|OAW01865.1| methicillin resistance protein [Staphylococcus epidermidis]\n",
      "gi|916175797|ref|WP_050962563.1| beta-lactam sensor/signal transducer MecR1 [Staphylococcus aureus] >gi|811119068|emb|COY58993.1| peptidase M48 family protein [Staphylococcus aureus] >gi|897073969|emb|CPD54244.1| peptidase M48 family protein [Staphylococcus aureus] >gi|1147734232|gb|AQQ88494.1| methicillin resistance protein [Staphylococcus aureus] >gi|1147740121|gb|AQQ97314.1| methicillin resistance protein [Staphylococcus aureus] >gi|1147764037|gb|AQR17854.1| methicillin resistance protein [Staphylococcus aureus] >gi|1147787657|gb|AQR41448.1| methicillin resistance protein [Staphylococcus aureus]\n",
      "gi|486400357|ref|WP_001606121.1| beta-lactam sensor/signal transducer MecR1 [Staphylococcus aureus] >gi|477966795|gb|ENL80093.1| methicillin resistance mecR1 protein [Staphylococcus aureus M1007]\n",
      "gi|686443932|ref|WP_031925325.1| beta-lactam sensor/signal transducer MecR1 [Staphylococcus aureus] >gi|580938885|gb|EVJ59758.1| methicillin resistance protein MecR1 [Staphylococcus aureus WAMC6086]\n",
      "gi|916171491|ref|WP_050961838.1| beta-lactam sensor/signal transducer MecR1 [Staphylococcus aureus] >gi|896946428|emb|CPO19081.1| peptidase M48 family protein [Staphylococcus aureus]\n",
      "gi|835287302|ref|WP_047436217.1| beta-lactam sensor/signal transducer MecR1 [Staphylococcus argenteus] >gi|678258341|emb|CDR64429.1| peptidase M48 family protein [Staphylococcus argenteus]\n",
      "gi|686437264|ref|WP_031922911.1| beta-lactam sensor/signal transducer MecR1 [Staphylococcus aureus] >gi|582208087|gb|EVV05738.1| methicillin resistance protein MecR1 [Staphylococcus aureus W41918]\n",
      "gi|1006744542|ref|WP_061823138.1| methicillin resistance protein [Staphylococcus aureus] >gi|996207121|emb|CXJ02015.1| peptidase M48 family protein [Staphylococcus aureus]\n",
      "gi|1093473432|ref|WP_070849368.1| methicillin resistance protein [Staphylococcus sp. HMSC056D08] >gi|1091220714|gb|OHR46876.1| methicillin resistance protein [Staphylococcus sp. HMSC056D08]\n",
      "gi|515743002|ref|WP_017175602.1| BlaR1 family beta-lactam sensor/signal transducer [Staphylococcus hominis]\n",
      "gi|686172175|ref|WP_031796024.1| beta-lactam sensor/signal transducer MecR1 [Staphylococcus aureus] >gi|579607259|gb|EUW52872.1| methicillin resistance protein MecR1 [Staphylococcus aureus M0286]\n",
      "gi|486342075|ref|WP_001587825.1| beta-lactam sensor/signal transducer MecR1 [Staphylococcus aureus] >gi|477839936|gb|ENK54293.1| methicillin resistance mecR1 protein [Staphylococcus aureus M0531] >gi|996297164|emb|CXJ69136.1| peptidase M48 family protein [Staphylococcus aureus]\n",
      "gi|183014121|dbj|BAG24378.1| signal transducer protein [Staphylococcus saprophyticus subsp. saprophyticus] >gi|322366568|gb|ADM43472.2| signal transducer protein [Staphylococcus cohnii]\n",
      "gi|1092746595|ref|WP_070672740.1| methicillin resistance protein [Staphylococcus sp. HMSC072E01] >gi|1080846254|gb|OFQ10258.1| methicillin resistance protein [Staphylococcus sp. HMSC072E01]\n",
      "gi|1006814444|ref|WP_061824589.1| beta-lactam sensor/signal transducer MecR1 [Staphylococcus aureus] >gi|991024308|emb|CXE25655.1| Methicillin resistance regulatory sensor-transducer MecR1 [Staphylococcus aureus]\n",
      "gi|920556640|ref|WP_053000968.1| beta-lactam sensor/signal transducer MecR1 [Staphylococcus aureus]\n",
      "gi|488435257|ref|WP_002504642.1| MULTISPECIES: BlaR1 family beta-lactam sensor/signal transducer [Staphylococcus] >gi|394289801|gb|EJE33672.1| putative regulatory protein blaR1 [Staphylococcus epidermidis NIH04008] >gi|1081084241|gb|OFS35247.1| methicillin resistance protein [Staphylococcus sp. HMSC055A10]\n"
     ]
    }
   ],
   "source": [
    "def filterBlastResults(maxEvalue, minIdentity, rec, sequence):\n",
    "    sequenceSize = len(sequence)\n",
    "    res = []\n",
    "    for alignment in rec.alignments:\n",
    "        goodAlignment = True\n",
    "        for hsp in alignment.hsps:\n",
    "            evalue = hsp.expect\n",
    "            ident = float(hsp.identities)/sequenceSize\n",
    "            goodHSP = (evalue <= maxEvalue) and (ident >= minIdentity)\n",
    "            goodAlignment = goodAlignment and goodHSP\n",
    "        if goodAlignment:\n",
    "            res.append(alignment)\n",
    "    return res\n",
    "\n",
    "filtered = filterBlastResults(0.1, 0, rec, protein)\n",
    "for f in filtered:\n",
    "    print f.title"
   ]
  }
 ],
 "metadata": {
  "celltoolbar": "Slideshow",
  "kernelspec": {
   "display_name": "Python 2",
   "language": "python",
   "name": "python2"
  },
  "language_info": {
   "codemirror_mode": {
    "name": "ipython",
    "version": 2
   },
   "file_extension": ".py",
   "mimetype": "text/x-python",
   "name": "python",
   "nbconvert_exporter": "python",
   "pygments_lexer": "ipython2",
   "version": "2.7.13"
  },
  "nbpresent": {
   "slides": {
    "0fbcbe0e-f832-4eef-8ca3-c1e73f93b82d": {
     "id": "0fbcbe0e-f832-4eef-8ca3-c1e73f93b82d",
     "layout": "grid",
     "prev": "2a9c4a3e-52d4-4723-8e75-25d2c9d0c680",
     "regions": {
      "64f8dabf-f66e-4e8f-9018-b3d9b04c025c": {
       "attrs": {
        "height": 1,
        "pad": 0.01,
        "width": 1,
        "x": 0,
        "y": 0
       },
       "content": {
        "cell": "f64b99e3-c806-4368-a85b-cffac79e6c67",
        "part": "whole"
       },
       "id": "64f8dabf-f66e-4e8f-9018-b3d9b04c025c"
      }
     }
    },
    "2a9c4a3e-52d4-4723-8e75-25d2c9d0c680": {
     "id": "2a9c4a3e-52d4-4723-8e75-25d2c9d0c680",
     "prev": null,
     "regions": {
      "17e3d2ff-42ae-4fdd-a2c1-97fee3bd209a": {
       "attrs": {
        "height": 1,
        "width": 1,
        "x": 0,
        "y": 0
       },
       "content": {
        "cell": "fea982d2-190e-461e-a876-4a2a825b421c",
        "part": "whole"
       },
       "id": "17e3d2ff-42ae-4fdd-a2c1-97fee3bd209a"
      }
     }
    }
   },
   "themes": {
    "default": "e04c4d55-3f2e-4116-a6b0-8196a13f3acd",
    "theme": {
     "2821e28d-221e-4b66-9759-3d880ecb0360": {
      "id": "2821e28d-221e-4b66-9759-3d880ecb0360",
      "palette": {
       "19cc588f-0593-49c9-9f4b-e4d7cc113b1c": {
        "id": "19cc588f-0593-49c9-9f4b-e4d7cc113b1c",
        "rgb": [
         252,
         252,
         252
        ]
       },
       "31af15d2-7e15-44c5-ab5e-e04b16a89eff": {
        "id": "31af15d2-7e15-44c5-ab5e-e04b16a89eff",
        "rgb": [
         68,
         68,
         68
        ]
       },
       "50f92c45-a630-455b-aec3-788680ec7410": {
        "id": "50f92c45-a630-455b-aec3-788680ec7410",
        "rgb": [
         155,
         177,
         192
        ]
       },
       "c5cc3653-2ee1-402a-aba2-7caae1da4f6c": {
        "id": "c5cc3653-2ee1-402a-aba2-7caae1da4f6c",
        "rgb": [
         43,
         126,
         184
        ]
       },
       "efa7f048-9acb-414c-8b04-a26811511a21": {
        "id": "efa7f048-9acb-414c-8b04-a26811511a21",
        "rgb": [
         25.118061674008803,
         73.60176211453744,
         107.4819383259912
        ]
       }
      },
      "rules": {
       "blockquote": {
        "color": "50f92c45-a630-455b-aec3-788680ec7410"
       },
       "code": {
        "font-family": "Anonymous Pro"
       },
       "h1": {
        "color": "c5cc3653-2ee1-402a-aba2-7caae1da4f6c",
        "font-family": "Lato",
        "font-size": 8
       },
       "h2": {
        "color": "c5cc3653-2ee1-402a-aba2-7caae1da4f6c",
        "font-family": "Lato",
        "font-size": 6
       },
       "h3": {
        "color": "50f92c45-a630-455b-aec3-788680ec7410",
        "font-family": "Lato",
        "font-size": 5.5
       },
       "h4": {
        "color": "c5cc3653-2ee1-402a-aba2-7caae1da4f6c",
        "font-family": "Lato",
        "font-size": 5
       },
       "h5": {
        "font-family": "Lato"
       },
       "h6": {
        "font-family": "Lato"
       },
       "h7": {
        "font-family": "Lato"
       },
       "pre": {
        "font-family": "Anonymous Pro",
        "font-size": 4
       }
      },
      "text-base": {
       "font-family": "Merriweather",
       "font-size": 4
      }
     },
     "c31421a5-a77c-4178-bfe4-2cca01391220": {
      "backgrounds": {
       "backgroundColor": {
        "background-color": "backgroundColor",
        "id": "backgroundColor"
       }
      },
      "id": "c31421a5-a77c-4178-bfe4-2cca01391220",
      "palette": {
       "backgroundColor": {
        "id": "backgroundColor",
        "rgb": [
         0,
         43,
         54
        ]
       },
       "headingColor": {
        "id": "headingColor",
        "rgb": [
         238,
         232,
         213
        ]
       },
       "linkColor": {
        "id": "linkColor",
        "rgb": [
         38,
         139,
         210
        ]
       },
       "mainColor": {
        "id": "mainColor",
        "rgb": [
         147,
         161,
         161
        ]
       }
      },
      "rules": {
       "a": {
        "color": "linkColor"
       },
       "h1": {
        "color": "headingColor",
        "font-family": "Oswald",
        "font-size": 7
       },
       "h2": {
        "color": "headingColor",
        "font-family": "Oswald",
        "font-size": 5
       },
       "h3": {
        "color": "headingColor",
        "font-family": "Oswald",
        "font-size": 3.75
       },
       "h4": {
        "color": "headingColor",
        "font-family": "Oswald",
        "font-size": 3
       },
       "h5": {
        "color": "headingColor",
        "font-family": "Oswald"
       },
       "h6": {
        "color": "headingColor",
        "font-family": "Oswald"
       },
       "h7": {
        "color": "headingColor",
        "font-family": "Oswald"
       },
       "li": {
        "color": "mainColor",
        "font-family": "Lato",
        "font-size": 5
       },
       "p": {
        "color": "mainColor",
        "font-family": "Lato",
        "font-size": 5
       }
      },
      "text-base": {
       "color": "mainColor",
       "font-family": "Lato",
       "font-size": 5
      }
     },
     "e04c4d55-3f2e-4116-a6b0-8196a13f3acd": {
      "backgrounds": {
       "backgroundColor": {
        "background-color": "backgroundColor",
        "id": "backgroundColor"
       }
      },
      "id": "e04c4d55-3f2e-4116-a6b0-8196a13f3acd",
      "palette": {
       "backgroundColor": {
        "id": "backgroundColor",
        "rgb": [
         240,
         241,
         235
        ]
       },
       "headingColor": {
        "id": "headingColor",
        "rgb": [
         56,
         61,
         61
        ]
       },
       "linkColor": {
        "id": "linkColor",
        "rgb": [
         81,
         72,
         61
        ]
       },
       "mainColor": {
        "id": "mainColor",
        "rgb": [
         0,
         0,
         0
        ]
       }
      },
      "rules": {
       "a": {
        "color": "linkColor"
       },
       "h1": {
        "color": "headingColor",
        "font-family": "EB Garamond",
        "font-size": 7
       },
       "h2": {
        "color": "headingColor",
        "font-family": "EB Garamond",
        "font-size": 5
       },
       "h3": {
        "color": "headingColor",
        "font-family": "EB Garamond",
        "font-size": 3.75
       },
       "h4": {
        "color": "headingColor",
        "font-family": "EB Garamond",
        "font-size": 3
       },
       "h5": {
        "color": "headingColor",
        "font-family": "EB Garamond"
       },
       "h6": {
        "color": "headingColor",
        "font-family": "EB Garamond"
       },
       "h7": {
        "color": "headingColor",
        "font-family": "EB Garamond"
       },
       "li": {
        "color": "mainColor",
        "font-family": "EB Garamond",
        "font-size": 5
       },
       "p": {
        "color": "mainColor",
        "font-family": "EB Garamond",
        "font-size": 5
       }
      },
      "text-base": {
       "color": "mainColor",
       "font-family": "EB Garamond",
       "font-size": 5
      }
     },
     "f8f2b7e6-4d04-473a-a3bb-387c1be55f71": {
      "id": "f8f2b7e6-4d04-473a-a3bb-387c1be55f71",
      "palette": {
       "19cc588f-0593-49c9-9f4b-e4d7cc113b1c": {
        "id": "19cc588f-0593-49c9-9f4b-e4d7cc113b1c",
        "rgb": [
         252,
         252,
         252
        ]
       },
       "31af15d2-7e15-44c5-ab5e-e04b16a89eff": {
        "id": "31af15d2-7e15-44c5-ab5e-e04b16a89eff",
        "rgb": [
         68,
         68,
         68
        ]
       },
       "50f92c45-a630-455b-aec3-788680ec7410": {
        "id": "50f92c45-a630-455b-aec3-788680ec7410",
        "rgb": [
         155,
         177,
         192
        ]
       },
       "c5cc3653-2ee1-402a-aba2-7caae1da4f6c": {
        "id": "c5cc3653-2ee1-402a-aba2-7caae1da4f6c",
        "rgb": [
         43,
         126,
         184
        ]
       },
       "efa7f048-9acb-414c-8b04-a26811511a21": {
        "id": "efa7f048-9acb-414c-8b04-a26811511a21",
        "rgb": [
         25.118061674008803,
         73.60176211453744,
         107.4819383259912
        ]
       }
      },
      "rules": {
       "blockquote": {
        "color": "50f92c45-a630-455b-aec3-788680ec7410"
       },
       "code": {
        "font-family": "Anonymous Pro"
       },
       "h1": {
        "color": "c5cc3653-2ee1-402a-aba2-7caae1da4f6c",
        "font-family": "Lato",
        "font-size": 8
       },
       "h2": {
        "color": "c5cc3653-2ee1-402a-aba2-7caae1da4f6c",
        "font-family": "Lato",
        "font-size": 6
       },
       "h3": {
        "color": "50f92c45-a630-455b-aec3-788680ec7410",
        "font-family": "Lato",
        "font-size": 5.5
       },
       "h4": {
        "color": "c5cc3653-2ee1-402a-aba2-7caae1da4f6c",
        "font-family": "Lato",
        "font-size": 5
       },
       "h5": {
        "font-family": "Lato"
       },
       "h6": {
        "font-family": "Lato"
       },
       "h7": {
        "font-family": "Lato"
       },
       "pre": {
        "font-family": "Anonymous Pro",
        "font-size": 4
       }
      },
      "text-base": {
       "font-family": "Merriweather",
       "font-size": 4
      }
     }
    }
   }
  }
 },
 "nbformat": 4,
 "nbformat_minor": 2
}
